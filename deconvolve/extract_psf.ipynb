{
 "cells": [
  {
   "cell_type": "code",
   "execution_count": 1,
   "id": "e71bc77d-b9fb-4c22-b95a-b915c0b145fe",
   "metadata": {},
   "outputs": [],
   "source": [
    "import numpy as np\n",
    "import cupy as cp\n",
    "import h5py\n",
    "import os"
   ]
  },
  {
   "cell_type": "code",
   "execution_count": 2,
   "id": "72686c23-5133-44b0-8e28-cb6f55010003",
   "metadata": {},
   "outputs": [
    {
     "ename": "NameError",
     "evalue": "name 'glob' is not defined",
     "output_type": "error",
     "traceback": [
      "\u001b[0;31m---------------------------------------------------------------------------\u001b[0m",
      "\u001b[0;31mNameError\u001b[0m                                 Traceback (most recent call last)",
      "Cell \u001b[0;32mIn[2], line 7\u001b[0m\n\u001b[1;32m      4\u001b[0m includes \u001b[38;5;241m=\u001b[39m [\u001b[38;5;124m'\u001b[39m\u001b[38;5;124mPSF\u001b[39m\u001b[38;5;124m'\u001b[39m] \n\u001b[1;32m      5\u001b[0m excludes \u001b[38;5;241m=\u001b[39m []\n\u001b[0;32m----> 7\u001b[0m recs \u001b[38;5;241m=\u001b[39m [os\u001b[38;5;241m.\u001b[39mpath\u001b[38;5;241m.\u001b[39mbasename(rec) \u001b[38;5;28;01mfor\u001b[39;00m rec \u001b[38;5;129;01min\u001b[39;00m \u001b[38;5;28msorted\u001b[39m(\u001b[43mglob\u001b[49m\u001b[38;5;241m.\u001b[39mglob(os\u001b[38;5;241m.\u001b[39mpath\u001b[38;5;241m.\u001b[39mexpanduser(os\u001b[38;5;241m.\u001b[39mpath\u001b[38;5;241m.\u001b[39mjoin(pn_rec, \u001b[38;5;124m'\u001b[39m\u001b[38;5;124m*\u001b[39m\u001b[38;5;124m'\u001b[39m))), reverse\u001b[38;5;241m=\u001b[39m\u001b[38;5;28;01mTrue\u001b[39;00m) \u001b[38;5;28;01mif\u001b[39;00m os\u001b[38;5;241m.\u001b[39mpath\u001b[38;5;241m.\u001b[39mexists(os\u001b[38;5;241m.\u001b[39mpath\u001b[38;5;241m.\u001b[39mjoin(pn_rec, rec, \u001b[38;5;124m'\u001b[39m\u001b[38;5;124mdata.h5\u001b[39m\u001b[38;5;124m'\u001b[39m))]\n\u001b[1;32m      8\u001b[0m recs \u001b[38;5;241m=\u001b[39m [rec \u001b[38;5;28;01mfor\u001b[39;00m rec \u001b[38;5;129;01min\u001b[39;00m recs \u001b[38;5;28;01mif\u001b[39;00m \u001b[38;5;28mall\u001b[39m([s \u001b[38;5;129;01min\u001b[39;00m rec \u001b[38;5;28;01mfor\u001b[39;00m s \u001b[38;5;129;01min\u001b[39;00m includes]) \u001b[38;5;129;01mand\u001b[39;00m \u001b[38;5;129;01mnot\u001b[39;00m \u001b[38;5;28many\u001b[39m([s \u001b[38;5;129;01min\u001b[39;00m rec \u001b[38;5;28;01mfor\u001b[39;00m s \u001b[38;5;129;01min\u001b[39;00m excludes])]\n\u001b[1;32m      9\u001b[0m \u001b[38;5;28mprint\u001b[39m(\u001b[38;5;124m'\u001b[39m\u001b[38;5;130;01m\\n\u001b[39;00m\u001b[38;5;124m'\u001b[39m\u001b[38;5;241m.\u001b[39mjoin(recs))\n",
      "\u001b[0;31mNameError\u001b[0m: name 'glob' is not defined"
     ]
    }
   ],
   "source": [
    "pn_rec = '~/hpc-rw/opm2021/recordings'\n",
    "pn_out = '~/hpc-rw/opm2021/results'\n",
    "url_home = '/home/lubo12/'\n",
    "includes = ['PSF'] \n",
    "excludes = []\n",
    "\n",
    "recs = [os.path.basename(rec) for rec in sorted(glob.glob(os.path.expanduser(os.path.join(pn_rec, '*'))), reverse=True) if os.path.exists(os.path.join(pn_rec, rec, 'data.h5'))]\n",
    "recs = [rec for rec in recs if all([s in rec for s in includes]) and not any([s in rec for s in excludes])]\n",
    "print('\\n'.join(recs))"
   ]
  },
  {
   "cell_type": "code",
   "execution_count": 13,
   "id": "840a5b78-896f-4ac4-b06f-49d3c6281d3b",
   "metadata": {},
   "outputs": [
    {
     "name": "stdout",
     "output_type": "stream",
     "text": [
      "Fixed YAML written to ../fixed_environment.yml\n"
     ]
    }
   ],
   "source": [
    "import re\n",
    "input_file = '../environment.yml'\n",
    "output_file = '../fixed_environment.yml'\n",
    "\n",
    "# Read the file using latin1 to bypass encoding issues\n",
    "with open(input_file, 'r', encoding='latin1') as f:\n",
    "    lines = f.readlines()\n",
    "\n",
    "fixed_lines = []\n",
    "for line in lines:\n",
    "    # Clean up dependency lines (lines starting with '- ')\n",
    "    if line.strip().startswith('-'):\n",
    "        print(line.strip() + \"\\n\")\n",
    "        fixed_lines.append(line.strip() + '\\n')\n",
    "    else:\n",
    "        fixed_lines.append(line)\n",
    "\n",
    "# Write the cleaned file using utf-8\n",
    "with open(output_file, 'w', encoding='latin1') as f:\n",
    "    f.writelines(fixed_lines)\n",
    "\n",
    "print(f\"Fixed YAML written to {output_file}\")\n"
   ]
  },
  {
   "cell_type": "code",
   "execution_count": null,
   "id": "ffc4fab3-125f-4c92-984c-45fdd9de78a5",
   "metadata": {},
   "outputs": [],
   "source": []
  }
 ],
 "metadata": {
  "kernelspec": {
   "display_name": "Python [conda env:.conda-opm2]",
   "language": "python",
   "name": "conda-env-.conda-opm2-py"
  },
  "language_info": {
   "codemirror_mode": {
    "name": "ipython",
    "version": 3
   },
   "file_extension": ".py",
   "mimetype": "text/x-python",
   "name": "python",
   "nbconvert_exporter": "python",
   "pygments_lexer": "ipython3",
   "version": "3.9.18"
  }
 },
 "nbformat": 4,
 "nbformat_minor": 5
}
