{
 "cells": [
  {
   "cell_type": "code",
   "execution_count": 21,
   "id": "2459d59e-5d5d-4963-8c8b-0fa3ee2b5433",
   "metadata": {},
   "outputs": [],
   "source": [
    "from generate_psf import fit_gaussian, weighted_linear_fit\n",
    "import numpy as np\n",
    "import cupy as cp\n",
    "import os\n",
    "import glob\n",
    "import skimage\n",
    "import scipy\n",
    "from skimage.filters.rank import threshold\n",
    "from tqdm.auto import tqdm\n",
    "import cv2\n",
    "from i_o import Paths\n",
    "import json\n",
    "from daio.h5 import lazyh5\n",
    "import importlib\n",
    "import h5py\n",
    "cmap = \"gray\""
   ]
  },
  {
   "cell_type": "code",
   "execution_count": null,
   "id": "4b88dd80-0a57-41dd-b825-6bdc5d6f7982",
   "metadata": {},
   "outputs": [],
   "source": [
    "# pn_psf = r\"Y:/hpc/r/lfm2025/psfs\"\n",
    "pn_psfs = r\"~/hpc-rw/lfm/psfs\"\n",
    "includes = ['']\n",
    "excludes = []\n",
    "\n",
    "recs = [os.path.basename(rec) for rec in sorted(glob.glob(os.path.expanduser(os.path.join(pn_psfs, '*'))), reverse=True) if os.path.exists(os.path.join(pn_psfs, rec, 'psf.h5'))]\n",
    "recs = [rec for rec in recs if all([s in rec for s in includes]) and not any([s in rec for s in excludes])]\n",
    "print('\\n'.join(recs))"
   ]
  },
  {
   "cell_type": "code",
   "execution_count": null,
   "id": "dc612783-24d1-416b-afa6-42a85d9cfe83",
   "metadata": {},
   "outputs": [],
   "source": [
    "# pn_rec = r\"Y:/hpc/r/lfm2025/recordings\"\n",
    "pn_rec = r\"~/hpc-r/lfm2025/recordings\"\n",
    "includes = ['']\n",
    "excludes = []\n",
    "\n",
    "recs = [os.path.basename(rec) for rec in sorted(glob.glob(os.path.expanduser(os.path.join(pn_rec, '*'))), reverse=True) if os.path.exists(os.path.join(pn_rec, rec, 'data.h5'))]\n",
    "recs = [rec for rec in recs if all([s in rec for s in includes]) and not any([s in rec for s in excludes])]\n",
    "print('\\n'.join(recs))"
   ]
  },
  {
   "cell_type": "code",
   "execution_count": null,
   "id": "1e9af76a-f06a-4284-a4ac-c4c32a9b971e",
   "metadata": {},
   "outputs": [],
   "source": [
    "pn_bg = r\"~/hpc-rw/lfm/bg\"\n",
    "for file in pathlib.Path(os.path.expanduser(pn_bg)).iterdir():\n",
    "    if file.is_file():\n",
    "        print(file.name)"
   ]
  },
  {
   "cell_type": "code",
   "execution_count": 5,
   "id": "8ae259ba-11d0-4c08-8dce-519d3b672fcc",
   "metadata": {},
   "outputs": [],
   "source": [
    "pn_psfs = r\"~/hpc-rw/lfm/psfs\"\n",
    "pn_rec = r\"~/hpc-r/lfm2025/recordings\"\n",
    "pn_bg = r\"~/hpc-rw/lfm/bg\"\n",
    "url_home = r\"/home/lubo12/\"\n",
    "pn_out = r\"~/hpc-rw/lfm/results\"\n",
    "\n",
    "dataset_name = \"20250701_1605_LB_ZF_v552_f6_40fps_1\"\n",
    "psf_name = \"20250701_1216_PSF_LB_noap_1\"\n",
    "bg_name = \"20250701_1651_LB_bg_40fps.npy\"\n",
    "\n",
    "paths = Paths(dataset_name=dataset_name,\n",
    "              psf_name = psf_name,\n",
    "              bg_name=bg_name,\n",
    "              pn_bg= pn_bg,\n",
    "              pn_rec = pn_rec,\n",
    "              pn_psfs=pn_psfs,\n",
    "              pn_out=pn_out,\n",
    "              url_home=url_home,\n",
    "              )"
   ]
  },
  {
   "cell_type": "code",
   "execution_count": null,
   "id": "beea9f3d-e4c3-4078-817c-0d80d5498208",
   "metadata": {},
   "outputs": [],
   "source": [
    "import video\n",
    "importlib.reload(video)\n",
    "from video import create_projection_image, recording_to_video, img_to_overlay_preview, recording_to_overlay_preview"
   ]
  },
  {
   "cell_type": "code",
   "execution_count": 10,
   "id": "ca2d3480-89b1-4d43-9d22-ae53c68094fc",
   "metadata": {},
   "outputs": [
    {
     "data": {
      "application/vnd.jupyter.widget-view+json": {
       "model_id": "c95f7db5e52548fda370e5d2760257d5",
       "version_major": 2,
       "version_minor": 0
      },
      "text/plain": [
       "Creating video:   0%|          | 0/4020 [00:00<?, ?it/s]"
      ]
     },
     "metadata": {},
     "output_type": "display_data"
    },
    {
     "name": "stderr",
     "output_type": "stream",
     "text": [
      "Exception ignored in: <function AVWriter.__del__ at 0x14dc968aed40>\n",
      "Traceback (most recent call last):\n",
      "  File \"/home/lubo12/LFM/imaging/video.py\", line 59, in __del__\n",
      "    self.close()\n",
      "  File \"/home/lubo12/LFM/imaging/video.py\", line 53, in close\n",
      "    for packet in self.stream.encode():\n",
      "                  ^^^^^^^^^^^^^^^^^^^^\n",
      "  File \"av/video/stream.pyx\", line 23, in av.video.stream.VideoStream.encode\n",
      "  File \"av/video/stream.pyx\", line 32, in av.video.stream.VideoStream.encode\n",
      "  File \"av/codec/context.pyx\", line 399, in av.codec.context.CodecContext.encode\n",
      "  File \"av/codec/context.pyx\", line 319, in _send_frame_and_recv\n",
      "  File \"av/error.pyx\", line 428, in av.error.err_check\n",
      "av.error.EOFError: [Errno 541478725] End of file\n"
     ]
    }
   ],
   "source": [
    "import video\n",
    "importlib.reload(video)\n",
    "from video import recording_to_video\n",
    "video_fn = recording_to_video(paths, fps=40, vmax=100, absolute_limits=False)"
   ]
  },
  {
   "cell_type": "code",
   "execution_count": null,
   "id": "024cd6dd-3bc4-4a58-8aec-1230e4b194fd",
   "metadata": {},
   "outputs": [],
   "source": []
  },
  {
   "cell_type": "code",
   "execution_count": null,
   "id": "a1fb6ff8-0fbc-4bed-95cd-22f965d0bc2f",
   "metadata": {},
   "outputs": [],
   "source": []
  }
 ],
 "metadata": {
  "kernelspec": {
   "display_name": "Python [conda env:.conda-lfm1]",
   "language": "python",
   "name": "conda-env-.conda-lfm1-py"
  },
  "language_info": {
   "codemirror_mode": {
    "name": "ipython",
    "version": 3
   },
   "file_extension": ".py",
   "mimetype": "text/x-python",
   "name": "python",
   "nbconvert_exporter": "python",
   "pygments_lexer": "ipython3",
   "version": "3.12.8"
  }
 },
 "nbformat": 4,
 "nbformat_minor": 5
}
