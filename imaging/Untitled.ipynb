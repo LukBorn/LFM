{
 "cells": [
  {
   "cell_type": "code",
   "execution_count": 2,
   "id": "2459d59e-5d5d-4963-8c8b-0fa3ee2b5433",
   "metadata": {},
   "outputs": [],
   "source": [
    "from generate_psf import fit_gaussian, weighted_linear_fit\n",
    "import numpy as np\n",
    "import cupy as cp\n",
    "import os\n",
    "import glob\n",
    "import skimage\n",
    "import scipy\n",
    "from skimage.filters.rank import threshold\n",
    "from tqdm.auto import tqdm\n",
    "import cv2\n",
    "from i_o import Paths\n",
    "import json\n",
    "from daio.h5 import lazyh5\n",
    "import importlib\n",
    "import h5py\n",
    "cmap = \"gray\""
   ]
  },
  {
   "cell_type": "code",
   "execution_count": 2,
   "id": "4b88dd80-0a57-41dd-b825-6bdc5d6f7982",
   "metadata": {},
   "outputs": [
    {
     "name": "stdout",
     "output_type": "stream",
     "text": [
      "20250701_1216_PSF_LB_noap_1\n",
      "20250610_1636_PSF_LB_30k_wo_coverslip_1\n",
      "20250530_1330_PSF_LB_redFB_1-30K_dim_isolated\n",
      "20250509_1646_PSF_LB_redFB_1_30K_wo_coverslip_1\n",
      "20250425_1320_PSF_LB_redFB_1-10000_2d_without_coverslip_3\n"
     ]
    }
   ],
   "source": [
    "# pn_psf = r\"Y:/hpc/r/lfm2025/psfs\"\n",
    "pn_psfs = r\"~/hpc-rw/lfm/psfs\"\n",
    "includes = ['']\n",
    "excludes = []\n",
    "\n",
    "recs = [os.path.basename(rec) for rec in sorted(glob.glob(os.path.expanduser(os.path.join(pn_psfs, '*'))), reverse=True) if os.path.exists(os.path.join(pn_psfs, rec, 'psf.h5'))]\n",
    "recs = [rec for rec in recs if all([s in rec for s in includes]) and not any([s in rec for s in excludes])]\n",
    "print('\\n'.join(recs))"
   ]
  },
  {
   "cell_type": "code",
   "execution_count": 3,
   "id": "dc612783-24d1-416b-afa6-42a85d9cfe83",
   "metadata": {},
   "outputs": [
    {
     "name": "stdout",
     "output_type": "stream",
     "text": [
      "20250701_1654_LB_bg_2fps\n",
      "20250701_1651_LB_bg_40fps\n",
      "20250701_1649_LB_bg_80fps\n",
      "20250701_1638_LB_ZF_v552_f7_40fps_tail\n",
      "20250701_1636_LB_ZF_v552_f7_80fps_tail\n",
      "20250701_1633_LB_ZF_v552_f7_80fps_3\n",
      "20250701_1630_LB_ZF_v552_f7_80fps_2\n",
      "20250701_1628_LB_ZF_v552_f7_80fps_1\n",
      "20250701_1625_LB_ZF_v552_f7_40fps_2\n",
      "20250701_1622_LB_ZF_v552_f7_40fps_1\n",
      "20250701_1613_LB_ZF_v552_f6_80fps_2\n",
      "20250701_1610_LB_ZF_v552_f6_80fps_1\n",
      "20250701_1607_LB_ZF_v552_f6_40fps_2\n",
      "20250701_1605_LB_ZF_v552_f6_40fps_1\n",
      "20250701_1602_LB_ZF_v552_f6_40fps_tail2\n",
      "20250701_1600_LB_ZF_v552_f6_40fps_tail\n",
      "20250701_1547_LB_ZF_v552_f5_80fps_2\n",
      "20250701_1544_LB_ZF_v552_f5_80fps_1\n",
      "20250701_1541_LB_ZF_v552_f5_40fps_2\n",
      "20250701_1538_LB_ZF_v552_f5_40fps_1\n",
      "20250701_1522_LB_ZF_v552_f4_80fps_1\n",
      "20250701_1520_LB_ZF_v552_f4_40fps_2\n",
      "20250701_1516_LB_ZF_v552_f4_40fps_1\n",
      "20250701_1503_LB_ZF_v552_f3_80fps_1\n",
      "20250701_1501_LB_ZF_v552_f3_40fps_2\n",
      "20250701_1458_LB_ZF_v552_f3_40fps_1\n",
      "20250701_1444_LB_ZF_v552_f2_80fps_1\n",
      "20250701_1441_LB_ZF_v552_f2_40fps_3\n",
      "20250701_1438_LB_ZF_v552_f2_40fps_2\n",
      "20250701_1435_LB_ZF_v552_f2_40fps_1\n",
      "20250701_1409_LB_ZF_v552_f1_80fps_1\n",
      "20250701_1403_LB_ZF_v552_f1_40fps_4\n",
      "20250701_1401_LB_ZF_v552_f1_40fps_3\n",
      "20250701_1358_LB_ZF_v552_f1_40fps_2\n",
      "20250611_1508_LB_80fps_100laser_bg\n",
      "20250611_1508_LB_40fps_100laser_bg\n",
      "20250610_1904_LB_30k_wo_coverslip_1_bg\n",
      "20250602_1753_LB_bg_200s\n",
      "20250602_1749_LB_bg_100s\n",
      "20250602_1635_LB_200um_lines\n",
      "20250602_1630_LB_500um_lines\n",
      "20250602_1629_LB_400um_lines\n",
      "20250514_1648_LB_ZF552_f5_5_comp_40fps_16bit\n",
      "20250514_1643_FB_ZF552_f5_4_uncomp_40fps_noap\n",
      "20250514_1639_FB_ZF552_f5_3_comp_80fps_noap\n",
      "20250514_1635_LF_ZF552_f4_1_comp_40fps\n",
      "20250514_1632_LF_ZF552_f4_1_uncomp_80fps\n",
      "20250514_1605_LF_ZF552_f3_2_comp_40fps\n",
      "20250514_1602_LF_ZF552_f3_1_uncomp_80fps\n",
      "20250514_1548_LF_ZF552_f2_2_comp_40fps\n",
      "20250514_1546_LF_ZF552_f2_1_uncomp_80fps\n",
      "20250514_1522_LF_ZF552_f1_6_uncomp_40fps_noap\n",
      "20250514_1520_LF_ZF552_f1_5_uncomp_80fps_noap\n",
      "20250514_1515_LF_ZF552_f1_4_uncomp_40fps\n",
      "20250514_1513_LF_ZF552_f1_3_uncomp_80fps\n",
      "20250514_1511_LF_ZF552_f1_2_comp_40fps\n",
      "20250514_1508_LF_ZF552_f1_1_comp\n",
      "20250513_1518_LB_ZF5pf_552_f1_3\n",
      "20250513_1515_LB_ZF5pf_552_f1_2\n",
      "20250513_1513_LB_ZF5pf_552_f1_1\n",
      "20250513_1351_LB_redFB_1-1k_3d_with_movement\n",
      "20250512_1954_LB_redFB_1-1k_3d_with movement_80fps\n",
      "20250512_1951_LB_redFB_1-1k_3d_with movement\n",
      "20250512_1949_LB_redFB_1-1k_3d_1\n",
      "20250512_1946_LB_redFB_1-1k_3d\n"
     ]
    }
   ],
   "source": [
    "# pn_rec = r\"Y:/hpc/r/lfm2025/recordings\"\n",
    "pn_rec = r\"~/hpc-r/lfm2025/recordings\"\n",
    "includes = ['']\n",
    "excludes = []\n",
    "\n",
    "recs = [os.path.basename(rec) for rec in sorted(glob.glob(os.path.expanduser(os.path.join(pn_rec, '*'))), reverse=True) if os.path.exists(os.path.join(pn_rec, rec, 'data.h5'))]\n",
    "recs = [rec for rec in recs if all([s in rec for s in includes]) and not any([s in rec for s in excludes])]\n",
    "print('\\n'.join(recs))"
   ]
  },
  {
   "cell_type": "code",
   "execution_count": 3,
   "id": "8ae259ba-11d0-4c08-8dce-519d3b672fcc",
   "metadata": {},
   "outputs": [],
   "source": [
    "pn_psfs = r\"~/hpc-rw/lfm/psfs\"\n",
    "pn_rec = r\"~/hpc-r/lfm2025/recordings\"\n",
    "pn_bg = r\"~/hpc-rw/lfm/bg\"\n",
    "url_home = r\"/home/lubo12/\"\n",
    "pn_out = r\"~/hpc-rw/lfm/results\"\n",
    "\n",
    "dataset_name = \"20250701_1501_LB_ZF_v552_f3_40fps_2\"\n",
    "psf_name = \"20250701_1216_PSF_LB_noap_1\"\n",
    "bg_name = \"20250701_1651_LB_bg_40fps.npy\"\n",
    "\n",
    "import i_o\n",
    "importlib.reload(i_o)\n",
    "from i_o import Paths\n",
    "\n",
    "paths = Paths(dataset_name=dataset_name,\n",
    "              psf_name = psf_name,\n",
    "              bg_name=bg_name,\n",
    "              pn_bg= pn_bg,\n",
    "              pn_rec = pn_rec,\n",
    "              pn_psfs=pn_psfs,\n",
    "              pn_out=pn_out,\n",
    "              url_home=url_home,\n",
    "              )"
   ]
  },
  {
   "cell_type": "code",
   "execution_count": 5,
   "id": "beea9f3d-e4c3-4078-817c-0d80d5498208",
   "metadata": {},
   "outputs": [
    {
     "data": {
      "text/plain": [
       "(2048, 2048)"
      ]
     },
     "execution_count": 5,
     "metadata": {},
     "output_type": "execute_result"
    }
   ],
   "source": [
    "from i_o import VolumeReader\n",
    "reader = VolumeReader(paths.raw, \"data\")\n",
    "reader.get_next()[1].shape"
   ]
  },
  {
   "cell_type": "code",
   "execution_count": 8,
   "id": "ca2d3480-89b1-4d43-9d22-ae53c68094fc",
   "metadata": {},
   "outputs": [
    {
     "data": {
      "text/plain": [
       "'/home/lubo12/hpc-rw/lfm/results/20250701_1501_LB_ZF_v552_f3_40fps_2/deconvolved1.h5'"
      ]
     },
     "execution_count": 8,
     "metadata": {},
     "output_type": "execute_result"
    }
   ],
   "source": [
    "paths.deconvolved[:-3]+\"1.h5\""
   ]
  },
  {
   "cell_type": "code",
   "execution_count": 21,
   "id": "024cd6dd-3bc4-4a58-8aec-1230e4b194fd",
   "metadata": {},
   "outputs": [
    {
     "data": {
      "application/vnd.jupyter.widget-view+json": {
       "model_id": "485ac38f0d704406ad2ae58f50d8fc32",
       "version_major": 2,
       "version_minor": 0
      },
      "text/plain": [
       "  0%|          | 0/4020 [00:00<?, ?it/s]"
      ]
     },
     "metadata": {},
     "output_type": "display_data"
    }
   ],
   "source": [
    "with h5py.File(paths.deconvolved[:-3]+\"1.h5\", \"w\") as f:\n",
    "    f[\"losses\"] = old[\"losses\"]\n",
    "    f[\"n_iter\"] = old[\"n_iter\"]\n",
    "    f[\"processed_indeces\"] = old[\"processed_indices\"]\n",
    "    with h5py.File(paths.deconvolved, \"r\") as ff:\n",
    "        shape = ff[\"data\"].shape\n",
    "        f.create_dataset(\"data\", shape= (shape[0], shape[1], crop[1]-crop[0], crop[3]-crop[2]))\n",
    "        for i in tqdm(range(shape[0])):\n",
    "            f[\"data\"][i, :, :,:] = ff[\"data\"][i,:,crop[0]:crop[1],crop[2]:crop[3]]"
   ]
  },
  {
   "cell_type": "code",
   "execution_count": 9,
   "id": "a1fb6ff8-0fbc-4bed-95cd-22f965d0bc2f",
   "metadata": {},
   "outputs": [
    {
     "data": {
      "application/json": {
       "test_dict": {
        "a": 1,
        "b": 2,
        "c": {
         "d": 3,
         "e": 4
        }
       }
      },
      "text/plain": [
       "<IPython.core.display.JSON object>"
      ]
     },
     "metadata": {
      "application/json": {
       "expanded": false,
       "root": "test.h5"
      }
     },
     "output_type": "display_data"
    }
   ],
   "source": [
    "import importlib\n",
    "import i_o\n",
    "importlib.reload(i_o)\n",
    "from i_o import AsyncH5Writer\n",
    "from daio.h5 import lazyh5\n",
    "\n",
    "writer = AsyncH5Writer(\"test.h5\")\n",
    "test_dict = {\"a\": 1, \"b\": 2, 'c': {\"d\": 3, 'e': 4}}\n",
    "writer.write_meta(\"test_dict\", test_dict)\n",
    "\n",
    "lazyh5(\"test.h5\")"
   ]
  },
  {
   "cell_type": "code",
   "execution_count": 11,
   "id": "710ceb80-808b-4358-9623-0de1f564a6ff",
   "metadata": {},
   "outputs": [
    {
     "name": "stdout",
     "output_type": "stream",
     "text": [
      "<KeysViewHDF5 ['d', 'e']>\n"
     ]
    }
   ],
   "source": [
    "import h5py\n",
    "with h5py.File(\"test.h5\", \"r\") as f:\n",
    "    print(f[\"test_dict\"][\"c\"].keys())"
   ]
  },
  {
   "cell_type": "code",
   "execution_count": null,
   "id": "1f9fe566",
   "metadata": {},
   "outputs": [],
   "source": []
  }
 ],
 "metadata": {
  "kernelspec": {
   "display_name": "Python [conda env:.conda-lfm1]",
   "language": "python",
   "name": "conda-env-.conda-lfm1-py"
  },
  "language_info": {
   "codemirror_mode": {
    "name": "ipython",
    "version": 3
   },
   "file_extension": ".py",
   "mimetype": "text/x-python",
   "name": "python",
   "nbconvert_exporter": "python",
   "pygments_lexer": "ipython3",
   "version": "3.12.8"
  }
 },
 "nbformat": 4,
 "nbformat_minor": 5
}
