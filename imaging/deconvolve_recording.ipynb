{
  "cells": [
    {
      "cell_type": "code",
      "execution_count": null,
      "id": "f0b23baf",
      "metadata": {},
      "outputs": [],
      "source": [
        "import os\n",
        "home = os.getcwd()\n",
        "os.chdir(home + \"/LFM/imaging\")\n"
      ]
    },
    {
      "cell_type": "code",
      "execution_count": null,
      "id": "b1fb47df",
      "metadata": {},
      "outputs": [],
      "source": [
        "import os\n",
        "os.getcwd()"
      ]
    },
    {
      "cell_type": "code",
      "execution_count": null,
      "id": "515ebce7-e696-492d-b826-9c464ebef29f",
      "metadata": {},
      "outputs": [],
      "source": [
        "from reconstruction import reconstruct_vols_from_imgs\n",
        "from i_o import Paths\n",
        "import numpy as np\n",
        "import cupy as cp\n",
        "import matplotlib.pyplot as plt\n",
        "from tqdm.auto import tqdm\n",
        "import os, glob, h5py\n",
        "import importlib, pathlib\n",
        "from daio.h5 import lazyh5\n",
        "from video import create_projection_image, recording_to_overlay_preview, showvid, get_lenses\n",
        "\n",
        "cmap = \"gray\""
      ]
    },
    {
      "cell_type": "code",
      "execution_count": null,
      "id": "0600659f",
      "metadata": {},
      "outputs": [],
      "source": [
        "# pn_rec = r\"Y:/hpc/r/lfm2025/recordings\"\n",
        "pn_rec = r\"~/hpc-r/lfm2025/recordings\"\n",
        "includes = ['']\n",
        "excludes = [\"bg\"]\n",
        "\n",
        "recs = [os.path.basename(rec) for rec in sorted(glob.glob(os.path.expanduser(os.path.join(pn_rec, '*'))), reverse=True) if os.path.exists(os.path.join(pn_rec, rec, 'data.h5'))]\n",
        "recs = [rec for rec in recs if all([s in rec for s in includes]) and not any([s in rec for s in excludes])]\n",
        "print('\\n'.join(recs))"
      ]
    },
    {
      "cell_type": "code",
      "execution_count": null,
      "id": "3be9cb3b",
      "metadata": {},
      "outputs": [],
      "source": [
        "# pn_psf = r\"Y:/hpc/r/lfm2025/psfs\"\n",
        "pn_psfs = r\"~/hpc-rw/lfm/psfs\"\n",
        "includes = ['']\n",
        "excludes = []\n",
        "\n",
        "recs = [os.path.basename(rec) for rec in sorted(glob.glob(os.path.expanduser(os.path.join(pn_psfs, '*'))), reverse=True) if os.path.exists(os.path.join(pn_psfs, rec, 'psf.h5'))]\n",
        "recs = [rec for rec in recs if all([s in rec for s in includes]) and not any([s in rec for s in excludes])]\n",
        "print('\\n'.join(recs))"
      ]
    },
    {
      "cell_type": "code",
      "execution_count": null,
      "id": "cb0e9199-bcde-4386-9986-e008251bb2be",
      "metadata": {},
      "outputs": [],
      "source": [
        "pn_bg = r\"~/hpc-rw/lfm/bg\"\n",
        "for file in pathlib.Path(os.path.expanduser(pn_bg)).iterdir():\n",
        "    if file.is_file():\n",
        "        print(file.name)"
      ]
    },
    {
      "cell_type": "code",
      "execution_count": null,
      "id": "c516ebe5",
      "metadata": {},
      "outputs": [],
      "source": [
        "pn_psfs = r\"~/hpc-rw/lfm/psfs\"\n",
        "pn_rec = r\"~/hpc-r/lfm2025/recordings\"\n",
        "pn_bg = r\"~/hpc-rw/lfm/bg\"\n",
        "url_home = r\"/home/lubo12/\"\n",
        "pn_out = r\"~/hpc-rw/lfm/results\"\n",
        "\n",
        "dataset_name = \"20250701_1605_LB_ZF_v552_f6_40fps_1\"\n",
        "psf_name = \"20250701_1216_PSF_LB_noap_1\"\n",
        "bg_name = \"20250701_1651_LB_bg_40fps.npy\"\n",
        "\n",
        "paths = Paths(dataset_name=dataset_name,\n",
        "              psf_name = psf_name,\n",
        "              bg_name=bg_name,\n",
        "              pn_bg= pn_bg,\n",
        "              pn_rec = pn_rec,\n",
        "              pn_psfs=pn_psfs,\n",
        "              pn_out=pn_out,\n",
        "              url_home=url_home,\n",
        "              )"
      ]
    },
    {
      "cell_type": "code",
      "execution_count": null,
      "id": "ce1a1ffd-53c5-4855-b7f8-eded24cb6e71",
      "metadata": {},
      "outputs": [],
      "source": [
        "psf_f = lazyh5(paths.psf)\n",
        "crop = np.array(psf_f[\"crop\"])\n",
        "mask = np.array(psf_f[\"circle_mask\"][crop[0]:crop[1],crop[2]:crop[3]])\n",
        "psf = np.array(psf_f[\"psf\"])\n",
        "zpos=np.array(psf_f[\"z_positions\"])\n",
        "\n",
        "print(psf.shape)\n",
        "\n",
        "fig, ax = plt.subplots(1,1,figsize = (7,7))\n",
        "ax.imshow(create_projection_image(psf, scalebar=200,zpos=zpos, text= \"raw PSF\", text_size=4), cmap='gray')\n",
        "# ax[1].imshow(create_projection_image(psf[\"psf\"]-bg,np.max,pad=10), cmap='binary')"
      ]
    },
    {
      "cell_type": "code",
      "execution_count": null,
      "id": "d47dc790-961f-47d7-99d3-584fb4b3bab5",
      "metadata": {
        "collapsed": true,
        "jupyter": {
          "outputs_hidden": true,
          "source_hidden": true
        },
        "scrolled": true
      },
      "outputs": [],
      "source": [
        "print(og_crop, og_crop[1]-og_crop[0],og_crop[3]-og_crop[2])\n",
        "better_crop = os.path.expanduser(os.path.join(pn_psfs, \"20250509_1646_PSF_LB_redFB_1_30K_wo_coverslip_1\",\"psf.h5\"))\n",
        "with h5py.File(better_crop,\"r\") as f:\n",
        "    crop = list(f[\"crop\"])\n",
        "    og_mask=np.array(f[\"circle_mask\"])\n",
        "print(crop, crop[1]-crop[0],crop[3]-crop[2])\n",
        "plt.imshow(og_mask[crop[0]:crop[1],crop[2]:crop[3]])\n"
      ]
    },
    {
      "cell_type": "code",
      "execution_count": null,
      "id": "6df3787b-2e68-4f5f-bd43-6413bd61f295",
      "metadata": {
        "collapsed": true,
        "jupyter": {
          "outputs_hidden": true,
          "source_hidden": true
        }
      },
      "outputs": [],
      "source": [
        "crop[0]=crop[0]-1\n",
        "crop[2]=crop[2]-1\n",
        "print(crop, crop[1]-crop[0],crop[3]-crop[2])\n",
        "mask = og_mask[crop[0]:crop[1],crop[2]:crop[3]]"
      ]
    },
    {
      "cell_type": "code",
      "execution_count": null,
      "id": "b373946f-d41a-41b0-855c-1f13e682b984",
      "metadata": {},
      "outputs": [],
      "source": [
        "vmax=100\n",
        "\n",
        "fig, ax = plt.subplots(1,2,figsize = (14,7))\n",
        "bg = lazyh5(paths.bg)[\"data\"][crop[0]:crop[1],crop[2]:crop[3]]\n",
        "data = lazyh5(paths.raw)\n",
        "ims = data[\"data\"][25:50,crop[0]:crop[1],crop[2]:crop[3]]\n",
        "im = ims[0]\n",
        "\n",
        "ax[0].imshow(im, cmap = \"gray\",vmax=vmax)\n",
        "ax[1].imshow((im-bg)*mask, cmap=\"gray\",vmax=vmax)\n",
        "print(dataset_name)"
      ]
    },
    {
      "cell_type": "code",
      "execution_count": null,
      "id": "0178be85-46ae-48e9-a87e-cdd9cc98ecc7",
      "metadata": {},
      "outputs": [],
      "source": [
        "cx, cy, radii, masks = get_lenses(og_mask, radius_range=np.arange(525,535))"
      ]
    },
    {
      "cell_type": "code",
      "execution_count": null,
      "id": "d6275020-86ff-41d6-b3a3-ee24a9375876",
      "metadata": {
        "jupyter": {
          "source_hidden": true
        }
      },
      "outputs": [],
      "source": [
        "cx=np.array(psf_f[\"ml_cx\"])\n",
        "cy=np.array(psf_f[\"ml_cy\"])\n",
        "radii=np.array(psf_f[\"ml_radii\"])\n",
        "masks=np.array(psf_f[\"ml_masks\"])\n"
      ]
    },
    {
      "cell_type": "code",
      "execution_count": null,
      "id": "f25e87b5-4340-4062-8864-125c4fabe256",
      "metadata": {
        "jupyter": {
          "source_hidden": true
        }
      },
      "outputs": [],
      "source": [
        "import video\n",
        "importlib.reload(video)\n",
        "from video import recording_to_overlay_preview, get_lenses, img_to_overlay_preview, showvid, get_projection_image\n",
        "fn_vid, fn_file ,fn_dff_vid, fn_dff_file = recording_to_overlay_preview(paths,\n",
        "                                                      cx,cy,padxy=300,masks=masks, \n",
        "                                                      fps=40, \n",
        "                                                      avg_method=\"median\", median_avg_window =40, \n",
        "                                                      dff=True,\n",
        "                                                      vmin=0,vmax=100,absolute_limits=False)\n",
        "showvid(fn_vid)"
      ]
    },
    {
      "cell_type": "code",
      "execution_count": null,
      "id": "843d34fd-5bbc-44b5-b0d3-5efe80e08574",
      "metadata": {},
      "outputs": [],
      "source": [
        "import reconstruction\n",
        "importlib.reload(reconstruction)\n",
        "from reconstruction import reconstruct_vols_from_imgs\n",
        "img_idx = [25,26,1]\n",
        "# print(f\"PSF zspacing: {np.abs(np.diff(psf[\"z_positions\"][::2])).mean()*1000} um\")\n",
        "objs, mips, losses, kwargs = reconstruct_vols_from_imgs(paths,\n",
        "                                                        img_idx=img_idx,\n",
        "                                                        crop = crop,\n",
        "                                                        roi_size=550,\n",
        "                                                        loss_threshold=0,\n",
        "                                                        reuse_prev_vol = False,\n",
        "                                                        psf_downsample = [40,-30,1],\n",
        "                                                        OTF_normalize=True,\n",
        "                                                        OTF_clip=False,\n",
        "                                                        img_subtract_bg=True,\n",
        "                                                        img_mask=True,\n",
        "                                                        plot_decon=True,\n",
        "                                                        fully_batched=False,\n",
        "                                                        vmin=0,\n",
        "                                                        vmax=50,\n",
        "                                                        absolute_limits=False\n",
        "                                                        )\n",
        "fig,ax = plt.subplots(1,1,figsize=(10,10))\n",
        "ax.imshow(mips[0,-1,:,:],cmap=\"gray\")"
      ]
    },
    {
      "cell_type": "code",
      "execution_count": null,
      "id": "9942cb7e-b7d1-4234-991e-b59466cc45ca",
      "metadata": {},
      "outputs": [],
      "source": [
        "frame = 0\n",
        "\n",
        "vmin=0\n",
        "vmax=5\n",
        "absolute_limits=False\n",
        "_zpos = zpos[kwargs[\"psf_downsample\"][0]:kwargs[\"psf_downsample\"][1]:kwargs[\"psf_downsample\"][2]] if kwargs[\"psf_downsample\"] is not None else zpos\n",
        "\n",
        "\n",
        "fig, ax = plt.subplots(1,1,figsize=(14,14))\n",
        "ax.imshow(create_projection_image(objs[0], vmin=vmin, vmax=vmax, absolute_limits=absolute_limits, zpos = _zpos, scalebar=200, text = f\"f{np.arange(*img_idx)[frame]}\",),cmap = \"gray\")\n",
        "\n",
        "title = f\"f{np.arange(*img_idx)[frame]}_roi{kwargs[\"roi_size\"]}_img{\"-bg\" if kwargs[\"img_subtract_bg\"] else \"\"}{\"_masked\"if kwargs[\"img_mask\"] else \"\"}_vmin{vmin}_vmax{vmax}{\"_al\" if absolute_limits else \"\"}\"\n",
        "otf_name = f\"OTF_{paths.psf_name}_pad{kwargs[\"xy_pad\"]}{\"_clip\" if kwargs[\"OTF_clip\"] else \"\"}{\"_norm\" if kwargs[\"OTF_normalize\"] else \"\"}{f'_dwn{kwargs[\"psf_downsample\"]}' if kwargs[\"psf_downsample\"] is not None else ''}\"\n",
        "\n",
        "ax.set_title(paths.dataset_name+\"_\"+title +\"\\n\"+otf_name)\n",
        "os.mkdir(os.path.join(paths.pn_outrec,\"testmip\")) if not os.path.exists(os.path.join(paths.pn_outrec,\"testmip\")) else None\n",
        "fig.savefig(os.path.join(paths.pn_outrec,\"testmip\",f\"{title}_{otf_name}.png\"))"
      ]
    },
    {
      "cell_type": "code",
      "execution_count": null,
      "id": "465de416-79d4-4a09-8763-516d783d3374",
      "metadata": {},
      "outputs": [],
      "source": [
        "kwargs[\"write_mip_video\"]=False\n",
        "kwargs"
      ]
    },
    {
      "cell_type": "code",
      "execution_count": null,
      "id": "1c57c81c-2177-40ae-9fab-5fc275cfc073",
      "metadata": {},
      "outputs": [],
      "source": [
        "import slurm\n",
        "importlib.reload(slurm)\n",
        "from slurm import PythonExecutorSLURM\n",
        "import reconstruction\n",
        "importlib.reload(reconstruction)\n",
        "from reconstruction import reconstruct_vols_from_imgs_parallel\n",
        "# kwargs, save_fn, vid_fn = reconstruct_vols_from_imgs_parallel(paths,img_idx=(3020,3025,1),write_mip_video=True,**kwargs)\n",
        "# print(save_fn,\"\\n\",vid_fn)\n"
      ]
    },
    {
      "cell_type": "code",
      "execution_count": null,
      "id": "edb89b80-5398-4943-a211-2dda629c6d7f",
      "metadata": {},
      "outputs": [],
      "source": [
        "email = 'lukas.born@charite.de' \n",
        "#cmd_prefix = ['ssh', 'lubo12@s-sc-frontend1'] # if outside HPC (add your user name), otherwise: \n",
        "cmd_prefix = [] #if inside HPC\n",
        "from slurm import PythonExecutorSLURM\n",
        "slex = PythonExecutorSLURM(job_path=paths.pn_outrec, job_name='deconv'+paths.dataset_name, conda_env='lfm1',\n",
        "                                     time=\"0-12:00\", partition=\"pgpu\", gres=\"gpu:4\", cpus_per_task=16,mem='128G',ntasks=1,nodes=1,exclude=\"s-sc-pgpu03\",\n",
        "                                     cmd_prefix=cmd_prefix, mail_user=email, mail_type='ALL,TIME_LIMIT_90')"
      ]
    },
    {
      "cell_type": "code",
      "execution_count": null,
      "id": "0a4eb132-6a2e-4cce-a5ab-81a1b5ff614c",
      "metadata": {},
      "outputs": [],
      "source": [
        "job_id = slex.submit(reconstruct_vols_from_imgs_parallel, paths, **kwargs)"
      ]
    },
    {
      "cell_type": "code",
      "execution_count": null,
      "id": "e6983a96-12a7-46bb-aa36-1e13120d56d0",
      "metadata": {},
      "outputs": [],
      "source": [
        "result = lazyh5(paths.deconvolved)\n",
        "result"
      ]
    },
    {
      "cell_type": "code",
      "execution_count": null,
      "id": "16354a8f-5466-4e1c-ba1a-6ff57c738312",
      "metadata": {},
      "outputs": [],
      "source": [
        "result.deconvolution_params[\"OTF\"]"
      ]
    },
    {
      "cell_type": "code",
      "execution_count": null,
      "id": "11632c03-ca91-42e5-9cc4-1689c8b7f838",
      "metadata": {},
      "outputs": [],
      "source": [
        "import video\n",
        "importlib.reload(video)\n",
        "from video import recording_to_video\n",
        "video_fn = recording_to_video(paths, fps=40, vmax=100, absolute_limits=False)"
      ]
    },
    {
      "cell_type": "code",
      "execution_count": null,
      "id": "0ecac0f6-29e5-49a9-a4dc-115611ecf297",
      "metadata": {},
      "outputs": [],
      "source": []
    }
  ],
  "metadata": {
    "kernelspec": {
      "display_name": "Python [conda env:.conda-lfm1]",
      "language": "python",
      "name": "conda-env-.conda-lfm1-py"
    },
    "language_info": {
      "codemirror_mode": {
        "name": "ipython",
        "version": 3
      },
      "file_extension": ".py",
      "mimetype": "text/x-python",
      "name": "python",
      "nbconvert_exporter": "python",
      "pygments_lexer": "ipython3",
      "version": "3.12.8"
    }
  },
  "nbformat": 4,
  "nbformat_minor": 5
}