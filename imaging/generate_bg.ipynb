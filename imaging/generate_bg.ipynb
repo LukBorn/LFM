{
 "cells": [
  {
   "cell_type": "code",
   "execution_count": 9,
   "id": "7f296580-3662-43ce-ae19-e7d914a7ffed",
   "metadata": {},
   "outputs": [],
   "source": [
    "import numpy as np\n",
    "import cupy as cp\n",
    "import matplotlib.pyplot as plt\n",
    "from daio.h5 import lazyh5\n",
    "import os, pathlib, glob\n",
    "import json\n",
    "import h5py\n",
    "cmap = \"gray\""
   ]
  },
  {
   "cell_type": "code",
   "execution_count": 10,
   "id": "b9bf05f1-06c7-4487-8b31-4066142d8171",
   "metadata": {},
   "outputs": [
    {
     "name": "stdout",
     "output_type": "stream",
     "text": [
      "20250819_1730_LB_25x_75fps_bg\n",
      "20250819_1316_LB_5fps_bg\n",
      "20250815_1938_LBKK_backfill_25x_zf5499i_1_40fps_bg\n",
      "20250815_1938_LBKK_backfill_25x_zf5499i_1_20fps_bg\n",
      "20250815_1937_LBKK_backfill_25x_zf5499i_1_10fps_bg\n",
      "20250814_1646_LB_40fps_bg\n",
      "20250814_1645_LB_80fps_bg\n",
      "20250813_1730_psf_3fps_bg\n",
      "20250813_1729_psf_4fps_bg\n",
      "20250813_1721_psf_2fps_bg\n",
      "20250731_1837_LB_25x_bg_40fps_eyemask\n",
      "20250731_1654_LB_redFB_25x_2_bg\n",
      "20250730_1553_LB_25x_5fps_bg\n",
      "20250729_1605_LB_DC8_5dpf_backfill_bg_2\n",
      "20250729_1603_LB_DC8_5dpf_backfill_bg\n",
      "20250729_1600_LB_DC8_5dpf_backfill_bg_2fps\n",
      "20250729_1233_LB_DC4_5dpf_backfill_bg_2fps\n",
      "20250729_1229_LB_DC4_5dpf_backfill_bg_40fps\n",
      "20250729_1200_LB_DC1_5dpf_backfill_bg_wap_40fps\n",
      "20250729_1158_LB_DC1_5dpf_backfill_bg_wap_5fps\n",
      "20250729_1146_LB_DC1_5dpf_backfill_1_bg\n",
      "20250701_1654_LB_bg_2fps\n",
      "20250701_1651_LB_bg_40fps\n",
      "20250701_1649_LB_bg_80fps\n",
      "20250611_1508_LB_80fps_100laser_bg\n",
      "20250611_1508_LB_40fps_100laser_bg\n",
      "20250610_1904_LB_30k_wo_coverslip_1_bg\n",
      "20250602_1753_LB_bg_200s\n",
      "20250602_1749_LB_bg_100s\n"
     ]
    }
   ],
   "source": [
    "# pn_rec = r\"Y:/hpc/r/lfm2025/recordings\"\n",
    "pn_rec = r\"~/hpc-r/lfm2025/recordings\"\n",
    "includes = ['bg']\n",
    "excludes = []\n",
    "\n",
    "recs = [os.path.basename(rec) for rec in sorted(glob.glob(os.path.expanduser(os.path.join(pn_rec, '*'))), reverse=True) if os.path.exists(os.path.join(pn_rec, rec, 'data.h5'))]\n",
    "recs = [rec for rec in recs if all([s in rec for s in includes]) and not any([s in rec for s in excludes])]\n",
    "print('\\n'.join(recs))"
   ]
  },
  {
   "cell_type": "code",
   "execution_count": 11,
   "id": "c66d3900-ec1a-4557-9ee0-5ccc562091c5",
   "metadata": {},
   "outputs": [],
   "source": [
    "dataset_name = \"20250819_1730_LB_25x_75fps_bg\"\n",
    "url_home = \"/home/lubo12/\"\n",
    "pn_out = \"~/hpc-rw/lfm/bg\"\n",
    "\n"
   ]
  },
  {
   "cell_type": "code",
   "execution_count": 12,
   "id": "eeb81a0f-b616-459e-8bc6-c5ef5dedac32",
   "metadata": {},
   "outputs": [],
   "source": [
    "fn = str(pathlib.Path(pn_rec, dataset_name).expanduser())\n",
    "bg = lazyh5(os.path.join(fn, 'data.h5'))\n",
    "fps = json.load(open(os.path.join(fn, 'meta.json')))[\"acquisition\"][\"fps\"]\n",
    "led_pwr = json.load(open(os.path.join(fn, 'meta.json')))[\"acquisition\"][\"led_percent\"]\n"
   ]
  },
  {
   "cell_type": "code",
   "execution_count": 13,
   "id": "a3950716-ffba-4276-89f9-800354bec4cf",
   "metadata": {},
   "outputs": [
    {
     "name": "stdout",
     "output_type": "stream",
     "text": [
      "Processing 770 frames in chunks of 31\n"
     ]
    },
    {
     "data": {
      "application/vnd.jupyter.widget-view+json": {
       "model_id": "edbe1f29f8f34d1db09fef2e469df7a0",
       "version_major": 2,
       "version_minor": 0
      },
      "text/plain": [
       "Calculating running mean:   0%|          | 0/25 [00:00<?, ?it/s]"
      ]
     },
     "metadata": {},
     "output_type": "display_data"
    },
    {
     "data": {
      "text/plain": [
       "<matplotlib.image.AxesImage at 0x14bf63e322d0>"
      ]
     },
     "execution_count": 13,
     "metadata": {},
     "output_type": "execute_result"
    },
    {
     "data": {
      "image/png": "[encoded data removed]",
      "text/plain": [
       "<Figure size 640x480 with 1 Axes>"
      ]
     },
     "metadata": {},
     "output_type": "display_data"
    }
   ],
   "source": [
    "from util import calculate_running_mean\n",
    "bg_mean = calculate_running_mean(bg[\"data\"], dtype = cp.float64)\n",
    "plt.imshow(bg_mean, cmap = \"gray\")"
   ]
  },
  {
   "cell_type": "code",
   "execution_count": 14,
   "id": "e0b35e20-93a3-40f6-848c-f91bc90ad95d",
   "metadata": {},
   "outputs": [],
   "source": [
    "np.save(os.path.expanduser(os.path.join(pn_out,dataset_name))+\".npy\",bg_mean)"
   ]
  },
  {
   "cell_type": "code",
   "execution_count": 15,
   "id": "88d6d39d-5283-4970-badc-004fcb47912e",
   "metadata": {},
   "outputs": [],
   "source": [
    "with h5py.File(os.path.expanduser(os.path.join(pn_out,dataset_name))+\".h5\", \"w\") as f:\n",
    "    f[\"data\"] = bg_mean\n",
    "    f[\"fps\"] = fps\n",
    "    f[\"led_percent\"] = led_pwr"
   ]
  },
  {
   "cell_type": "code",
   "execution_count": null,
   "id": "a275b649-0160-4e25-a4a7-290a012dd7c9",
   "metadata": {},
   "outputs": [],
   "source": []
  },
  {
   "cell_type": "code",
   "execution_count": null,
   "id": "9456dfa7-c3a2-42af-82f1-5c0ee600ae07",
   "metadata": {},
   "outputs": [],
   "source": []
  }
 ],
 "metadata": {
  "kernelspec": {
   "display_name": "Python [conda env:.conda-lfm1]",
   "language": "python",
   "name": "conda-env-.conda-lfm1-py"
  },
  "language_info": {
   "codemirror_mode": {
    "name": "ipython",
    "version": 3
   },
   "file_extension": ".py",
   "mimetype": "text/x-python",
   "name": "python",
   "nbconvert_exporter": "python",
   "pygments_lexer": "ipython3",
   "version": "3.12.8"
  }
 },
 "nbformat": 4,
 "nbformat_minor": 5
}
