{
 "cells": [
  {
   "cell_type": "code",
   "execution_count": 7,
   "id": "7f296580-3662-43ce-ae19-e7d914a7ffed",
   "metadata": {},
   "outputs": [],
   "source": [
    "import numpy as np\n",
    "import cupy as cp\n",
    "import matplotlib.pyplot as plt\n",
    "from daio.h5 import lazyh5\n",
    "import os, pathlib, glob\n",
    "\n",
    "cmap = \"gray\""
   ]
  },
  {
   "cell_type": "code",
   "execution_count": 8,
   "id": "b9bf05f1-06c7-4487-8b31-4066142d8171",
   "metadata": {},
   "outputs": [
    {
     "name": "stdout",
     "output_type": "stream",
     "text": [
      "20250611_1508_LB_80fps_100laser_bg\n",
      "20250611_1508_LB_40fps_100laser_bg\n",
      "20250610_1904_LB_30k_wo_coverslip_1_bg\n",
      "20250602_1753_LB_bg_200s\n",
      "20250602_1749_LB_bg_100s\n",
      "20250602_1635_LB_200um_lines\n",
      "20250602_1630_LB_500um_lines\n",
      "20250602_1629_LB_400um_lines\n",
      "20250514_1648_LB_ZF552_f5_5_comp_40fps_16bit\n",
      "20250514_1643_FB_ZF552_f5_4_uncomp_40fps_noap\n",
      "20250514_1639_FB_ZF552_f5_3_comp_80fps_noap\n",
      "20250514_1635_LF_ZF552_f4_1_comp_40fps\n",
      "20250514_1632_LF_ZF552_f4_1_uncomp_80fps\n",
      "20250514_1605_LF_ZF552_f3_2_comp_40fps\n",
      "20250514_1602_LF_ZF552_f3_1_uncomp_80fps\n",
      "20250514_1548_LF_ZF552_f2_2_comp_40fps\n",
      "20250514_1546_LF_ZF552_f2_1_uncomp_80fps\n",
      "20250514_1522_LF_ZF552_f1_6_uncomp_40fps_noap\n",
      "20250514_1520_LF_ZF552_f1_5_uncomp_80fps_noap\n",
      "20250514_1515_LF_ZF552_f1_4_uncomp_40fps\n",
      "20250514_1513_LF_ZF552_f1_3_uncomp_80fps\n",
      "20250514_1511_LF_ZF552_f1_2_comp_40fps\n",
      "20250514_1508_LF_ZF552_f1_1_comp\n",
      "20250513_1518_LB_ZF5pf_552_f1_3\n",
      "20250513_1515_LB_ZF5pf_552_f1_2\n",
      "20250513_1513_LB_ZF5pf_552_f1_1\n",
      "20250513_1351_LB_redFB_1-1k_3d_with_movement\n",
      "20250512_1954_LB_redFB_1-1k_3d_with movement_80fps\n",
      "20250512_1951_LB_redFB_1-1k_3d_with movement\n",
      "20250512_1949_LB_redFB_1-1k_3d_1\n",
      "20250512_1946_LB_redFB_1-1k_3d\n"
     ]
    }
   ],
   "source": [
    "# pn_rec = r\"Y:/hpc/r/lfm2025/recordings\"\n",
    "pn_rec = r\"~/hpc-r/lfm2025/recordings\"\n",
    "includes = ['']\n",
    "excludes = []\n",
    "\n",
    "recs = [os.path.basename(rec) for rec in sorted(glob.glob(os.path.expanduser(os.path.join(pn_rec, '*'))), reverse=True) if os.path.exists(os.path.join(pn_rec, rec, 'data.h5'))]\n",
    "recs = [rec for rec in recs if all([s in rec for s in includes]) and not any([s in rec for s in excludes])]\n",
    "print('\\n'.join(recs))"
   ]
  },
  {
   "cell_type": "code",
   "execution_count": 13,
   "id": "c66d3900-ec1a-4557-9ee0-5ccc562091c5",
   "metadata": {},
   "outputs": [],
   "source": [
    "dataset_name = \"20250611_1508_LB_40fps_100laser_bg\"\n",
    "url_home = \"/home/lubo12/\"\n",
    "pn_out = \"~/hpc-rw/lfm/bg\"\n",
    "\n"
   ]
  },
  {
   "cell_type": "code",
   "execution_count": 14,
   "id": "eeb81a0f-b616-459e-8bc6-c5ef5dedac32",
   "metadata": {},
   "outputs": [],
   "source": [
    "bg = lazyh5(os.path.join(str(pathlib.Path(pn_rec, dataset_name).expanduser()), 'data.h5'))"
   ]
  },
  {
   "cell_type": "code",
   "execution_count": 15,
   "id": "a3950716-ffba-4276-89f9-800354bec4cf",
   "metadata": {},
   "outputs": [
    {
     "data": {
      "text/plain": [
       "<matplotlib.image.AxesImage at 0x1462bd7b6e10>"
      ]
     },
     "execution_count": 15,
     "metadata": {},
     "output_type": "execute_result"
    },
    {
     "data": {
      "image/png": "[encoded data removed]",
      "text/plain": [
       "<Figure size 640x480 with 1 Axes>"
      ]
     },
     "metadata": {},
     "output_type": "display_data"
    }
   ],
   "source": [
    "bg_mean = cp.asarray(bg[\"data\"]).mean(axis=0, dtype = cp.float64).get()\n",
    "plt.imshow(bg_mean, cmap = \"gray\")"
   ]
  },
  {
   "cell_type": "code",
   "execution_count": 16,
   "id": "e0b35e20-93a3-40f6-848c-f91bc90ad95d",
   "metadata": {},
   "outputs": [],
   "source": [
    "np.save(os.path.expanduser(os.path.join(pn_out,dataset_name))+\".npy\",bg_mean)"
   ]
  },
  {
   "cell_type": "code",
   "execution_count": null,
   "id": "88d6d39d-5283-4970-badc-004fcb47912e",
   "metadata": {},
   "outputs": [],
   "source": []
  },
  {
   "cell_type": "code",
   "execution_count": null,
   "id": "a275b649-0160-4e25-a4a7-290a012dd7c9",
   "metadata": {},
   "outputs": [],
   "source": []
  }
 ],
 "metadata": {
  "kernelspec": {
   "display_name": "Python [conda env:.conda-lfm1]",
   "language": "python",
   "name": "conda-env-.conda-lfm1-py"
  },
  "language_info": {
   "codemirror_mode": {
    "name": "ipython",
    "version": 3
   },
   "file_extension": ".py",
   "mimetype": "text/x-python",
   "name": "python",
   "nbconvert_exporter": "python",
   "pygments_lexer": "ipython3",
   "version": "3.12.8"
  }
 },
 "nbformat": 4,
 "nbformat_minor": 5
}
