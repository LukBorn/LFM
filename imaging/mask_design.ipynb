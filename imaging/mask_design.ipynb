{
 "cells": [
  {
   "cell_type": "code",
   "execution_count": 1,
   "id": "c755af8c-d70e-4bb0-be0f-7ed6cbe2f888",
   "metadata": {},
   "outputs": [],
   "source": [
    "%matplotlib widget\n"
   ]
  },
  {
   "cell_type": "code",
   "execution_count": 2,
   "id": "2efff466-ac76-477e-8bf8-93bde7dde8d0",
   "metadata": {},
   "outputs": [],
   "source": [
    "from i_o import Paths\n",
    "import numpy as np\n",
    "import cupy as cp\n",
    "import matplotlib.pyplot as plt\n",
    "from tqdm.auto import tqdm\n",
    "import os, glob, h5py\n",
    "import importlib, pathlib\n",
    "from daio.h5 import lazyh5\n",
    "from IPython.display import JSON\n",
    "import pandas as pd"
   ]
  },
  {
   "cell_type": "code",
   "execution_count": 7,
   "id": "e748d2cd-afb9-46e8-8d2d-e5077cf6ca93",
   "metadata": {},
   "outputs": [],
   "source": [
    "pn_psfs = r\"~/hpc-rw/lfm/psfs\"\n",
    "pn_rec = r\"~/hpc-r/lfm2025/recordings\"\n",
    "pn_bg = r\"~/hpc-rw/lfm/bg\"\n",
    "url_home = r\"/home/lubo12/\"\n",
    "pn_out = r\"~/hpc-rw/lfm/results\"\n",
    "\n",
    "dataset_name = \"20250701_1358_LB_ZF_v552_f1_40fps_2\"\n",
    "psf_name = \"20250701_1216_PSF_LB_noap_1\"\n",
    "bg_name = \"20250701_1651_LB_bg_40fps.npy\"\n",
    "# bg_name = \"20250701_1649_LB_bg_80fps.npy\"\n",
    "\n",
    "import i_o\n",
    "importlib.reload(i_o)\n",
    "from i_o import Paths\n",
    "\n",
    "paths = Paths(dataset_name=dataset_name,\n",
    "              psf_name = psf_name,\n",
    "              bg_name=bg_name,\n",
    "              pn_bg= pn_bg,\n",
    "              pn_rec = pn_rec,\n",
    "              pn_psfs=pn_psfs,\n",
    "              pn_out=pn_out,\n",
    "              url_home=url_home,\n",
    "              )"
   ]
  },
  {
   "cell_type": "code",
   "execution_count": 4,
   "id": "caeb27c0-51ac-4068-a932-3d88cf10a555",
   "metadata": {
    "collapsed": true,
    "jupyter": {
     "outputs_hidden": true,
     "source_hidden": true
    }
   },
   "outputs": [
    {
     "ename": "FileNotFoundError",
     "evalue": "[Errno 2] No such file or directory: 'test_ref_vol.npy'",
     "output_type": "error",
     "traceback": [
      "\u001b[0;31m---------------------------------------------------------------------------\u001b[0m",
      "\u001b[0;31mFileNotFoundError\u001b[0m                         Traceback (most recent call last)",
      "Cell \u001b[0;32mIn[4], line 14\u001b[0m\n\u001b[1;32m     11\u001b[0m mask_every \u001b[38;5;241m=\u001b[39m \u001b[38;5;241m5\u001b[39m  \u001b[38;5;66;03m# Draw mask every nth slice\u001b[39;00m\n\u001b[1;32m     12\u001b[0m \u001b[38;5;66;03m# -----------------------\u001b[39;00m\n\u001b[0;32m---> 14\u001b[0m volume \u001b[38;5;241m=\u001b[39m \u001b[43mnp\u001b[49m\u001b[38;5;241;43m.\u001b[39;49m\u001b[43mload\u001b[49m\u001b[43m(\u001b[49m\u001b[38;5;124;43m\"\u001b[39;49m\u001b[38;5;124;43mtest_ref_vol.npy\u001b[39;49m\u001b[38;5;124;43m\"\u001b[39;49m\u001b[43m)\u001b[49m\u001b[38;5;241m.\u001b[39mtranspose(\u001b[38;5;241m0\u001b[39m,\u001b[38;5;241m2\u001b[39m,\u001b[38;5;241m1\u001b[39m)\n\u001b[1;32m     15\u001b[0m nz, ny, nx \u001b[38;5;241m=\u001b[39m volume\u001b[38;5;241m.\u001b[39mshape\n\u001b[1;32m     17\u001b[0m \u001b[38;5;28;01mif\u001b[39;00m vmin \u001b[38;5;129;01mis\u001b[39;00m \u001b[38;5;28;01mNone\u001b[39;00m:\n",
      "File \u001b[0;32m~/.conda/envs/lfm1/lib/python3.12/site-packages/numpy/lib/npyio.py:427\u001b[0m, in \u001b[0;36mload\u001b[0;34m(file, mmap_mode, allow_pickle, fix_imports, encoding, max_header_size)\u001b[0m\n\u001b[1;32m    425\u001b[0m     own_fid \u001b[38;5;241m=\u001b[39m \u001b[38;5;28;01mFalse\u001b[39;00m\n\u001b[1;32m    426\u001b[0m \u001b[38;5;28;01melse\u001b[39;00m:\n\u001b[0;32m--> 427\u001b[0m     fid \u001b[38;5;241m=\u001b[39m stack\u001b[38;5;241m.\u001b[39menter_context(\u001b[38;5;28;43mopen\u001b[39;49m\u001b[43m(\u001b[49m\u001b[43mos_fspath\u001b[49m\u001b[43m(\u001b[49m\u001b[43mfile\u001b[49m\u001b[43m)\u001b[49m\u001b[43m,\u001b[49m\u001b[43m \u001b[49m\u001b[38;5;124;43m\"\u001b[39;49m\u001b[38;5;124;43mrb\u001b[39;49m\u001b[38;5;124;43m\"\u001b[39;49m\u001b[43m)\u001b[49m)\n\u001b[1;32m    428\u001b[0m     own_fid \u001b[38;5;241m=\u001b[39m \u001b[38;5;28;01mTrue\u001b[39;00m\n\u001b[1;32m    430\u001b[0m \u001b[38;5;66;03m# Code to distinguish from NumPy binary files and pickles.\u001b[39;00m\n",
      "\u001b[0;31mFileNotFoundError\u001b[0m: [Errno 2] No such file or directory: 'test_ref_vol.npy'"
     ]
    }
   ],
   "source": [
    "%matplotlib widget\n",
    "import matplotlib.pyplot as plt\n",
    "import numpy as np\n",
    "from skimage.draw import polygon as skpolygon\n",
    "from ipywidgets import IntSlider, VBox, Button\n",
    "\n",
    "# ---- User settings ----\n",
    "vmin = 0  # Set to None for auto, or a number for manual\n",
    "vmax = 7  # Set to None for auto, or a number for manual\n",
    "figsize = (16, 8)\n",
    "mask_every = 5  # Draw mask every nth slice\n",
    "# -----------------------\n",
    "\n",
    "volume = np.load(\"test_ref_vol.npy\").transpose(0,2,1)\n",
    "nz, ny, nx = volume.shape\n",
    "\n",
    "if vmin is None:\n",
    "    vmin = float(np.min(volume))\n",
    "if vmax is None:\n",
    "    vmax = float(np.max(volume))\n",
    "\n",
    "fig, ax_orig = plt.subplots(1, 1, figsize=figsize)\n",
    "maskable_slices = list(range(0, nz, mask_every))\n",
    "current_idx = 0\n",
    "current_z = maskable_slices[current_idx]\n",
    "im_orig = ax_orig.imshow(volume[current_z], cmap='gray', vmin=vmin, vmax=vmax)\n",
    "ax_orig.set_title(\"Draw 2D Mask (double-click to add, drag to move, right-click to delete)\")\n",
    "\n",
    "# Store 2D polygons for every nth slice: {z: [(y, x), ...]}\n",
    "if 'masks_2d' not in locals() or not isinstance(masks_2d, dict):\n",
    "    masks_2d = {}\n",
    "points_2d = []  # Current slice points [(y, x), ...]\n",
    "point_artists = []\n",
    "polygon_artist = None\n",
    "dragging_idx = None\n",
    "last_event_was_double = False\n",
    "\n",
    "def redraw():\n",
    "    global polygon_artist\n",
    "    for artist in point_artists:\n",
    "        artist.remove()\n",
    "    point_artists.clear()\n",
    "    if polygon_artist is not None:\n",
    "        polygon_artist.remove()\n",
    "        polygon_artist = None\n",
    "    for y, x in points_2d:\n",
    "        artist, = ax_orig.plot(x, y, 'ro', picker=5)\n",
    "        point_artists.append(artist)\n",
    "    if len(points_2d) > 2:\n",
    "        poly = np.array(points_2d)\n",
    "        # Draw with (x, y) order for matplotlib\n",
    "        polygon_artist = plt.Polygon(np.column_stack([poly[:,1], poly[:,0]]), closed=True, fill=False, edgecolor='lime', linewidth=2)\n",
    "        ax_orig.add_patch(polygon_artist)\n",
    "    im_orig.set_data(volume[current_z])\n",
    "    fig.canvas.draw_idle()\n",
    "\n",
    "def get_closest_point(y, x, threshold=10):\n",
    "    if not points_2d:\n",
    "        return None\n",
    "    arr = np.array(points_2d)\n",
    "    dists = np.hypot(arr[:,0] - y, arr[:,1] - x)\n",
    "    idx = np.argmin(dists)\n",
    "    if dists[idx] < threshold:\n",
    "        return idx\n",
    "    return None\n",
    "\n",
    "def on_press(event):\n",
    "    global dragging_idx, last_event_was_double\n",
    "    if event.inaxes != ax_orig:\n",
    "        return\n",
    "    x, y = event.xdata, event.ydata\n",
    "    if event.button == 1:\n",
    "        if last_event_was_double:\n",
    "            last_event_was_double = False\n",
    "            return\n",
    "        idx = get_closest_point(y, x)\n",
    "        if idx is not None:\n",
    "            dragging_idx = idx\n",
    "    elif event.button == 3:\n",
    "        idx = get_closest_point(y, x)\n",
    "        if idx is not None:\n",
    "            points_2d.pop(idx)\n",
    "            redraw()\n",
    "\n",
    "def on_release(event):\n",
    "    global dragging_idx\n",
    "    dragging_idx = None\n",
    "\n",
    "def on_motion(event):\n",
    "    if dragging_idx is None or event.inaxes != ax_orig:\n",
    "        return\n",
    "    x, y = event.xdata, event.ydata\n",
    "    points_2d[dragging_idx] = (y, x)\n",
    "    redraw()\n",
    "\n",
    "def on_double_click(event):\n",
    "    global last_event_was_double\n",
    "    if event.inaxes != ax_orig or event.button != 1:\n",
    "        return\n",
    "    x, y = event.xdata, event.ydata\n",
    "    points_2d.append((y, x))\n",
    "    last_event_was_double = True\n",
    "    redraw()\n",
    "\n",
    "def on_slice_change(change):\n",
    "    global current_idx, current_z, points_2d\n",
    "    # Save current points\n",
    "    masks_2d[current_z] = points_2d.copy()\n",
    "    # Change slice\n",
    "    current_idx = change['new']\n",
    "    current_z = maskable_slices[current_idx]\n",
    "    points_2d[:] = masks_2d.get(current_z, []).copy()\n",
    "    redraw()\n",
    "\n",
    "fig.canvas.mpl_connect('button_press_event', on_press)\n",
    "fig.canvas.mpl_connect('button_release_event', on_release)\n",
    "fig.canvas.mpl_connect('motion_notify_event', on_motion)\n",
    "fig.canvas.mpl_connect('button_press_event', lambda e: on_double_click(e) if e.dblclick else None)\n",
    "\n",
    "slider = IntSlider(value=0, min=0, max=len(maskable_slices)-1, step=1, description='z (mask)')\n",
    "slider.observe(on_slice_change, names='value')\n",
    "\n",
    "# Initialize first slice\n",
    "points_2d = masks_2d.get(current_z, []).copy()\n",
    "redraw()\n",
    "\n",
    "VBox([slider, fig.canvas])"
   ]
  },
  {
   "cell_type": "code",
   "execution_count": 73,
   "id": "68320298-c199-40b9-a1ac-82789171677f",
   "metadata": {
    "collapsed": true,
    "jupyter": {
     "outputs_hidden": true,
     "source_hidden": true
    }
   },
   "outputs": [
    {
     "data": {
      "application/vnd.jupyter.widget-view+json": {
       "model_id": "33eb5a15628e406e96320d8ad34c6be9",
       "version_major": 2,
       "version_minor": 1
      },
      "text/plain": [
       "OrthoViewsWidget(coords=[72, 112, 384], sar=[1.0, 1.0, 1.0], src=['data:video/mp4;base64,AAAAIGZ0eXBpc29tAAACA…"
      ]
     },
     "execution_count": 73,
     "metadata": {},
     "output_type": "execute_result"
    }
   ],
   "source": [
    "import numpy as np\n",
    "from skimage.draw import polygon as skpolygon\n",
    "from scipy.ndimage import distance_transform_edt\n",
    "\n",
    "mask_3d = np.zeros_like(volume, dtype=bool)\n",
    "mask_slices = sorted([z for z in masks_2d if len(masks_2d[z]) > 0])\n",
    "if mask_slices:\n",
    "    # Create binary masks for each annotated slice\n",
    "    binary_masks = {}\n",
    "    for z in mask_slices:\n",
    "        pts = masks_2d[z]\n",
    "        mask = np.zeros((ny, nx), dtype=bool)\n",
    "        if len(pts) == 1:\n",
    "            y, x = np.round(pts[0]).astype(int)\n",
    "            if 0 <= y < ny and 0 <= x < nx:\n",
    "                mask[y, x] = True\n",
    "        elif len(pts) > 2:\n",
    "            poly = np.array(pts)\n",
    "            rr, cc = skpolygon(poly[:,0], poly[:,1], (ny, nx))\n",
    "            mask[rr, cc] = True\n",
    "        binary_masks[z] = mask\n",
    "\n",
    "    # Compute signed distance transforms for each mask\n",
    "    dt = {}\n",
    "    for z in mask_slices:\n",
    "        mask = binary_masks[z]\n",
    "        dt[z] = distance_transform_edt(mask) - distance_transform_edt(~mask)\n",
    "\n",
    "    # Interpolate distance transforms for all slices\n",
    "    dt_stack = np.zeros((nz, ny, nx), dtype=np.float32)\n",
    "    for z in range(nz):\n",
    "        # Find the two nearest annotated slices\n",
    "        if z <= mask_slices[0]:\n",
    "            dt_stack[z] = dt[mask_slices[0]]\n",
    "        elif z >= mask_slices[-1]:\n",
    "            dt_stack[z] = dt[mask_slices[-1]]\n",
    "        else:\n",
    "            # Find z0 < z < z1\n",
    "            for i in range(len(mask_slices)-1):\n",
    "                z0, z1 = mask_slices[i], mask_slices[i+1]\n",
    "                if z0 <= z <= z1:\n",
    "                    alpha = (z - z0) / (z1 - z0) if z1 != z0 else 0\n",
    "                    dt_stack[z] = (1-alpha)*dt[z0] + alpha*dt[z1]\n",
    "                    break\n",
    "    # Threshold to get the mask\n",
    "    mask_3d = dt_stack > 0\n",
    "\n",
    "mask\n",
    "\n",
    "vol = np.load(\"test_ref_vol.npy\").transpose(0,2,1)\n",
    "vol *= mask_3d\n",
    "vol = get_clipped_array(vol, vmin = 0, vmax=5, absolute_limits=True).get()\n",
    "OrthoViewsWidget(vol)"
   ]
  },
  {
   "cell_type": "code",
   "execution_count": 79,
   "id": "9b1a26a9-fa75-4b1f-9ce7-4b27ff94cfc0",
   "metadata": {},
   "outputs": [],
   "source": [
    "with h5py.File(paths.reg_mask, \"w\") as f:\n",
    "    f.create_dataset(\"mask_3d\", data=mask_3d)\n",
    "    g = f.create_group(\"masks_2d\")\n",
    "    for k, v in masks_2d.items():\n",
    "        arr = np.array(v, dtype=np.float32).reshape(-1, 2)  # shape (N, 2) or (0, 2)\n",
    "        g.create_dataset(str(k), data=arr)\n",
    "    f.attrs[\"mask_every\"] = 5"
   ]
  },
  {
   "cell_type": "code",
   "execution_count": 10,
   "id": "e699d946-d9b7-4d22-881d-b62ace60200f",
   "metadata": {},
   "outputs": [
    {
     "data": {
      "application/json": {
       "cov_tau": 100,
       "crop": "<(4,) int64>",
       "r_threshold": 0.8,
       "recipe_path": "/home/lubo12/hpc-rw/lfm/results/20250701_1358_LB_ZF_v552_f1_40fps_2/reg_recipe.yaml",
       "ref_vol": "<(145, 800, 270) float32>",
       "vid_params": "{\"write_video\": true, \"write_dff_video\": true, \"fps\": 30, \"vid\": {\"vmax\": 20, \"vmin\": 0, \"absolute_limits\": true}, \"dff\": {\"vmax\": 10, \"vmin\": -10, \"absolute_limits\": true, \"tau\": 10}, \"zpos\": null, \"scalebar\": 200, \"transpose\": true}"
      },
      "text/plain": [
       "<IPython.core.display.JSON object>"
      ]
     },
     "metadata": {
      "application/json": {
       "expanded": false,
       "root": "/home/lubo12/hpc-rw/lfm/results/20250701_1358_LB_ZF_v552_f1_40fps_2/reg_recipe.h5"
      }
     },
     "output_type": "display_data"
    }
   ],
   "source": [
    "volume = lazyh5(paths.reg_recipe)[\"ref_vol\"]\n"
   ]
  },
  {
   "cell_type": "code",
   "execution_count": 13,
   "id": "32847745-d995-41f1-aac0-896c0c01f847",
   "metadata": {},
   "outputs": [
    {
     "data": {
      "application/vnd.jupyter.widget-view+json": {
       "model_id": "e42a39d3eb1e49e4967c8bae224a55f9",
       "version_major": 2,
       "version_minor": 1
      },
      "text/plain": [
       "OrthoViewsWidget(coords=[72, 128, 400], sar=[1.0, 1.0, 1.0], src=['data:video/mp4;base64,AAAAIGZ0eXBpc29tAAACA…"
      ]
     },
     "execution_count": 13,
     "metadata": {},
     "output_type": "execute_result"
    }
   ],
   "source": [
    "import numpy as np\n",
    "from video import get_clipped_array\n",
    "from opm_img.orthoviews import OrthoViewsWidget\n",
    "\n",
    "\n",
    "volume = lazyh5(paths.reg_recipe)[\"ref_vol\"].transpose(0,2,1)\n",
    "\n",
    "#volume = np.load(\"test_ref_vol.npy\").transpose(0,2,1)\n",
    "volume = get_clipped_array(volume, vmin = 0, vmax=5, absolute_limits=True).get()\n",
    "OrthoViewsWidget(volume)\n"
   ]
  },
  {
   "cell_type": "code",
   "execution_count": 31,
   "id": "84c16748-0a75-4ddd-a3e7-6cc095dbb006",
   "metadata": {},
   "outputs": [
    {
     "data": {
      "application/vnd.jupyter.widget-view+json": {
       "model_id": "c54d6f8bf47546c98892f31c685a5620",
       "version_major": 2,
       "version_minor": 0
      },
      "text/plain": [
       "VBox(children=(HBox(children=(IntSlider(value=0, description='z (mask)', max=20), Button(button_style='success…"
      ]
     },
     "execution_count": 31,
     "metadata": {},
     "output_type": "execute_result"
    }
   ],
   "source": [
    "import widgets\n",
    "importlib.reload(widgets)\n",
    "from widgets import get_mask_widget, ortho_views_widget\n",
    "\n",
    "get_mask_widget(volume, paths.reg_mask, vmin=0, vmax=100, figsize=(16,5), mask_every=7, sigma=2.0)"
   ]
  },
  {
   "cell_type": "code",
   "execution_count": 34,
   "id": "c2a66f47-e04a-416a-9a97-34b0f8d89a6c",
   "metadata": {},
   "outputs": [],
   "source": [
    "mask = lazyh5(paths.reg_mask)[\"mask_3d\"].transpose(0,2,1)\n",
    "with h5py.File(paths.reg_mask, \"w\") as f:\n",
    "    f[\"mask_3d\"] = mask"
   ]
  },
  {
   "cell_type": "code",
   "execution_count": 28,
   "id": "52c6d38f-c6a1-42ea-877b-c6f9a9498038",
   "metadata": {},
   "outputs": [
    {
     "data": {
      "application/vnd.jupyter.widget-view+json": {
       "model_id": "8d95571831b143ef83a0c62285453335",
       "version_major": 2,
       "version_minor": 1
      },
      "text/plain": [
       "OrthoViewsWidget(coords=[72, 128, 400], sar=[1.0, 1.0, 1.0], src=['data:video/mp4;base64,AAAAIGZ0eXBpc29tAAACA…"
      ]
     },
     "execution_count": 28,
     "metadata": {},
     "output_type": "execute_result"
    }
   ],
   "source": [
    "\n",
    "mask = lazyh5(paths.reg_mask)[\"mask_3d\"].transpose(0,2,1)\n",
    "masked = get_clipped_array(volume*mask[:,10:-10,20:-30], vmax = 100, absolute_limits=True).get()\n",
    "OrthoViewsWidget(masked)"
   ]
  },
  {
   "cell_type": "code",
   "execution_count": 69,
   "id": "4ee4d8f9-9d91-4996-bde6-3cf8a4a733ee",
   "metadata": {},
   "outputs": [
    {
     "name": "stdout",
     "output_type": "stream",
     "text": [
      "0 b'[]'\n",
      "10 b'[]'\n",
      "100 b'[(151.77746975806454, 500.62096774193554)]'\n",
      "115 b'[]'\n",
      "120 b'[]'\n",
      "125 b'[]'\n",
      "135 b'[]'\n",
      "140 b'[]'\n",
      "15 b'[]'\n",
      "150 b'[]'\n",
      "20 b'[]'\n",
      "25 b'[]'\n",
      "30 b'[]'\n",
      "35 b'[]'\n",
      "40 b'[]'\n",
      "5 b'[]'\n",
      "50 b'[]'\n",
      "55 b'[(144.32585685483872, 503.72580645161287)]'\n",
      "60 b'[]'\n",
      "65 b'[(91.54359879032262, 468.9516129032258), (106.4468245967742, 423.62096774193554), (131.90650201612905, 377.0483870967742), (210.7694052419355, 432.93548387096774), (171.0274697580645, 554.0241935483871)]'\n",
      "70 b'[]'\n",
      "75 b'[]'\n",
      "80 b'[]'\n",
      "90 b'[(101.47908266129036, 470.19354838709677), (188.41456653225808, 404.99193548387103), (142.46295362903228, 575.1370967741937)]'\n",
      "95 b'[]'\n"
     ]
    },
    {
     "data": {
      "text/plain": [
       "array(b'[(91.54359879032262, 468.9516129032258), (106.4468245967742, 423.62096774193554), (131.90650201612905, 377.0483870967742), (210.7694052419355, 432.93548387096774), (171.0274697580645, 554.0241935483871)]',\n",
       "      dtype=object)"
      ]
     },
     "execution_count": 69,
     "metadata": {},
     "output_type": "execute_result"
    }
   ],
   "source": [
    "import h5py\n",
    "with h5py.File(\"test.h5\", \"r\") as f:\n",
    "    for k, v in f[\"masks_2d\"].items():\n",
    "        arr =  np.array(v)\n",
    "        print(int(k),arr)\n",
    "        if arr.size==0:\n",
    "            print(\"empty\")\n",
    "    test = np.array(f[\"masks_2d\"][\"65\"])\n",
    "test"
   ]
  },
  {
   "cell_type": "code",
   "execution_count": 68,
   "id": "c4acf6ba-867e-4a39-9edb-4e422b833ce9",
   "metadata": {},
   "outputs": [
    {
     "data": {
      "text/plain": [
       "array(b'[(91.54359879032262, 468.9516129032258), (106.4468245967742, 423.62096774193554), (131.90650201612905, 377.0483870967742), (210.7694052419355, 432.93548387096774), (171.0274697580645, 554.0241935483871)]',\n",
       "      dtype=object)"
      ]
     },
     "execution_count": 68,
     "metadata": {},
     "output_type": "execute_result"
    }
   ],
   "source": [
    "from IPython.display import Video, display\n",
    "\n",
    "display(Video(filename, embed=True, width=600, html_attributes=\"controls loop\"))\n"
   ]
  },
  {
   "cell_type": "code",
   "execution_count": null,
   "id": "d4f11c4f-6e29-4fd2-b154-60ce4601e5e6",
   "metadata": {},
   "outputs": [],
   "source": []
  }
 ],
 "metadata": {
  "kernelspec": {
   "display_name": "Python [conda env:.conda-lfm1]",
   "language": "python",
   "name": "conda-env-.conda-lfm1-py"
  },
  "language_info": {
   "codemirror_mode": {
    "name": "ipython",
    "version": 3
   },
   "file_extension": ".py",
   "mimetype": "text/x-python",
   "name": "python",
   "nbconvert_exporter": "python",
   "pygments_lexer": "ipython3",
   "version": "3.12.8"
  }
 },
 "nbformat": 4,
 "nbformat_minor": 5
}
