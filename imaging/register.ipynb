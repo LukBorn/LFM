{
 "cells": [
  {
   "cell_type": "code",
   "execution_count": 3,
   "id": "1711b02c-3bd2-4a39-a7f7-39e98c2eeac5",
   "metadata": {},
   "outputs": [
    {
     "name": "stderr",
     "output_type": "stream",
     "text": [
      "/home/lubo12/.conda/envs/lfm1/lib/python3.12/site-packages/cupyx/jit/_interface.py:173: FutureWarning: cupyx.jit.rawkernel is experimental. The interface can change in the future.\n",
      "  cupy._util.experimental('cupyx.jit.rawkernel')\n"
     ]
    }
   ],
   "source": [
    "from i_o import Paths\n",
    "import numpy as np\n",
    "import cupy as cp\n",
    "import matplotlib.pyplot as plt\n",
    "from tqdm.auto import tqdm\n",
    "import os, glob, h5py\n",
    "import importlib, pathlib\n",
    "from daio.h5 import lazyh5\n",
    "from video import create_projection_image, showvid\n",
    "import warpfield\n",
    "from IPython.display import JSON"
   ]
  },
  {
   "cell_type": "code",
   "execution_count": 4,
   "id": "29f6663d-5781-4b71-9479-e625c640ccd0",
   "metadata": {},
   "outputs": [
    {
     "name": "stdout",
     "output_type": "stream",
     "text": [
      "20250701_1625_LB_ZF_v552_f7_40fps_2\n",
      "20250701_1622_LB_ZF_v552_f7_40fps_1\n",
      "20250701_1605_LB_ZF_v552_f6_40fps_1\n",
      "20250701_1538_LB_ZF_v552_f5_40fps_1\n",
      "20250514_1635_LF_ZF552_f4_1_comp_40fps\n",
      "20250514_1515_LF_ZF552_f1_4_uncomp_40fps\n",
      "20250513_1351_LB_redFB_1-1k_3d_with_movement\n"
     ]
    }
   ],
   "source": [
    "pn_out = r\"~/hpc-rw/lfm/results\"\n",
    "includes = ['']\n",
    "excludes = []\n",
    "\n",
    "recs = [os.path.basename(rec) for rec in sorted(glob.glob(os.path.expanduser(os.path.join(pn_out, '*'))), reverse=True) if os.path.exists(os.path.join(pn_out, rec, 'deconvolved.h5'))]\n",
    "recs = [rec for rec in recs if all([s in rec for s in includes]) and not any([s in rec for s in excludes])]\n",
    "print('\\n'.join(recs))"
   ]
  },
  {
   "cell_type": "code",
   "execution_count": 5,
   "id": "7bd0c3c1-36af-4b48-ac78-c3d3a9d453de",
   "metadata": {},
   "outputs": [],
   "source": [
    "pn_psfs = r\"~/hpc-rw/lfm/psfs\"\n",
    "pn_rec = r\"~/hpc-r/lfm2025/recordings\"\n",
    "pn_bg = r\"~/hpc-rw/lfm/bg\"\n",
    "url_home = r\"/home/lubo12/\"\n",
    "pn_out = r\"~/hpc-rw/lfm/results\"\n",
    "\n",
    "dataset_name = \"20250701_1605_LB_ZF_v552_f6_40fps_1\"\n",
    "psf_name = \"20250701_1216_PSF_LB_noap_1\"\n",
    "bg_name = \"20250701_1651_LB_bg_40fps.npy\"\n",
    "\n",
    "paths = Paths(dataset_name=dataset_name,\n",
    "              psf_name = psf_name,\n",
    "              bg_name=bg_name,\n",
    "              pn_bg= pn_bg,\n",
    "              pn_rec = pn_rec,\n",
    "              pn_psfs=pn_psfs,\n",
    "              pn_out=pn_out,\n",
    "              url_home=url_home,\n",
    "              )"
   ]
  },
  {
   "cell_type": "code",
   "execution_count": 6,
   "id": "4e31cfea",
   "metadata": {},
   "outputs": [],
   "source": [
    "#generate default registration recipe\n",
    "recipe = warpfield.Recipe.from_yaml('default.yml')"
   ]
  },
  {
   "cell_type": "markdown",
   "id": "7c53228e-5a9d-4f38-ba78-e1494f6a01ca",
   "metadata": {},
   "source": [
    "### Generate reference volume from recording"
   ]
  },
  {
   "cell_type": "code",
   "execution_count": 13,
   "id": "fda3678e-067b-4012-a4fc-4dea9415e747",
   "metadata": {},
   "outputs": [],
   "source": [
    "import register, i_o\n",
    "importlib.reload(register)\n",
    "from register import generate_reference_volume, refine_reference_volume\n",
    "importlib.reload(i_o)\n",
    "from i_o import volume_reader"
   ]
  },
  {
   "cell_type": "code",
   "execution_count": 16,
   "id": "09443302-25f1-418e-a2d9-0ffff2b494d5",
   "metadata": {},
   "outputs": [],
   "source": [
    "reader = volume_reader(paths.deconvolved, \"data\", np.arange(0,10,1))"
   ]
  },
  {
   "cell_type": "code",
   "execution_count": 22,
   "id": "6e1ffb99-6523-46cc-ad32-fd353cf65e40",
   "metadata": {},
   "outputs": [
    {
     "ename": "AttributeError",
     "evalue": "'Dataset' object has no attribute 'append'",
     "output_type": "error",
     "traceback": [
      "\u001b[0;31m---------------------------------------------------------------------------\u001b[0m",
      "\u001b[0;31mAttributeError\u001b[0m                            Traceback (most recent call last)",
      "Cell \u001b[0;32mIn[22], line 3\u001b[0m\n\u001b[1;32m      1\u001b[0m \u001b[38;5;28;01mwith\u001b[39;00m h5py\u001b[38;5;241m.\u001b[39mFile(\u001b[38;5;124m\"\u001b[39m\u001b[38;5;124mtest.h5\u001b[39m\u001b[38;5;124m\"\u001b[39m, \u001b[38;5;124m\"\u001b[39m\u001b[38;5;124mw\u001b[39m\u001b[38;5;124m\"\u001b[39m) \u001b[38;5;28;01mas\u001b[39;00m f:\n\u001b[1;32m      2\u001b[0m     f\u001b[38;5;241m.\u001b[39mcreate_dataset(\u001b[38;5;124m'\u001b[39m\u001b[38;5;124mprocessed_indices\u001b[39m\u001b[38;5;124m'\u001b[39m, shape\u001b[38;5;241m=\u001b[39m(\u001b[38;5;241m0\u001b[39m,), dtype\u001b[38;5;241m=\u001b[39m\u001b[38;5;28mbool\u001b[39m, maxshape\u001b[38;5;241m=\u001b[39m(\u001b[38;5;28;01mNone\u001b[39;00m,))\n\u001b[0;32m----> 3\u001b[0m     \u001b[43mf\u001b[49m\u001b[43m[\u001b[49m\u001b[38;5;124;43m\"\u001b[39;49m\u001b[38;5;124;43mprocessed_indices\u001b[39;49m\u001b[38;5;124;43m\"\u001b[39;49m\u001b[43m]\u001b[49m\u001b[38;5;241;43m.\u001b[39;49m\u001b[43mappend\u001b[49m(\u001b[38;5;28;01mTrue\u001b[39;00m)\n",
      "\u001b[0;31mAttributeError\u001b[0m: 'Dataset' object has no attribute 'append'"
     ]
    }
   ],
   "source": []
  },
  {
   "cell_type": "code",
   "execution_count": 23,
   "id": "fc6222df-b61e-464f-9027-54b766635bb7",
   "metadata": {},
   "outputs": [
    {
     "data": {
      "application/json": {
       "processed_indices": "<(0,) bool>"
      },
      "text/plain": [
       "<IPython.core.display.JSON object>"
      ]
     },
     "metadata": {
      "application/json": {
       "expanded": false,
       "root": "test.h5"
      }
     },
     "output_type": "display_data"
    }
   ],
   "source": [
    "lazyh5(\"test.h5\")"
   ]
  },
  {
   "cell_type": "code",
   "execution_count": null,
   "id": "2ff8583b-9793-414b-b9f9-76e19696b982",
   "metadata": {},
   "outputs": [],
   "source": [
    "#inspect theindexes to use for generating the refenrence - should be very little movement\n",
    "ref_idx = [0,100,1]\n",
    "ref_vol_unreg, video_fn = reference_volume(paths,\n",
    "                                              ref_idx,\n",
    "                                              vmax=100,\n",
    "                                              vmin=0,\n",
    "                                              absolute_limits=False)\n",
    "\n",
    "showvid(video_fn)"
   ]
  },
  {
   "cell_type": "code",
   "execution_count": null,
   "id": "52ab1ecf-f030-42a9-82ee-0c477fd1cab6",
   "metadata": {},
   "outputs": [],
   "source": [
    "plt.imshow(create_projection_image(ref_vol_unreg, vmax=100, vmin=0, absolute_limits=False)"
   ]
  },
  {
   "cell_type": "code",
   "execution_count": null,
   "id": "082c9ca6-9f62-4f15-a4f6-48b9256a98ae",
   "metadata": {},
   "outputs": [],
   "source": [
    "#refine reference volume by registering every volume to the average and then averaging again\n",
    "def register_reference(vol, ref_vol, register_recipe):\n",
    "    return warpfield.register(vol, ref_vol, register_recipe)\n",
    "\n",
    "\n",
    "ref_vol, video_fn = reference_volume(paths,\n",
    "                                      ref_idx,\n",
    "                                     preprocess = register_reference\n",
    "                                      vmax=100,\n",
    "                                      vmin=0,\n",
    "                                      absolute_limits=False,\n",
    "                                    register_recipe=register_recipe,\n",
    "                                    ref_vol=\n",
    "                                      )\n",
    "\n",
    "showvid(video_fn)"
   ]
  },
  {
   "cell_type": "code",
   "execution_count": null,
   "id": "94ef760d-d9c0-4eee-b781-32b137359d18",
   "metadata": {},
   "outputs": [],
   "source": [
    "#adjust registration params"
   ]
  },
  {
   "cell_type": "markdown",
   "id": "99d7e43a",
   "metadata": {},
   "source": [
    "### Test mini registration"
   ]
  },
  {
   "cell_type": "code",
   "execution_count": null,
   "id": "abd067dc-9848-4e05-a3a4-2fa46c28a79f",
   "metadata": {},
   "outputs": [],
   "source": []
  }
 ],
 "metadata": {
  "kernelspec": {
   "display_name": "Python [conda env:.conda-lfm1]",
   "language": "python",
   "name": "conda-env-.conda-lfm1-py"
  },
  "language_info": {
   "codemirror_mode": {
    "name": "ipython",
    "version": 3
   },
   "file_extension": ".py",
   "mimetype": "text/x-python",
   "name": "python",
   "nbconvert_exporter": "python",
   "pygments_lexer": "ipython3",
   "version": "3.12.8"
  }
 },
 "nbformat": 4,
 "nbformat_minor": 5
}
