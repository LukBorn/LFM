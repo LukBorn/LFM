{
 "cells": [
  {
   "cell_type": "markdown",
   "id": "9c7430f2-6fca-4be3-9051-2c7c09f9e0d5",
   "metadata": {},
   "source": [
    "this was super hacky, basicallythere was some mismatch between the onset times and the quite obvious responses\n",
    "\n",
    "So i extracted the real onset times from a different recording where i attatched the LED to the objective holder and then triggered it with the stimulus DAQ \n",
    "\n",
    "sorry i dont want to clean this up properly"
   ]
  },
  {
   "cell_type": "code",
   "execution_count": 2,
   "id": "6efb1d40-0911-4af3-8f7c-27fc220ce5ad",
   "metadata": {},
   "outputs": [],
   "source": [
    "%matplotlib widget\n",
    "import numpy as np\n",
    "from daio.h5 import lazyh5\n",
    "import h5py, os, glob\n",
    "import matplotlib.pyplot as plt\n"
   ]
  },
  {
   "cell_type": "code",
   "execution_count": 10,
   "id": "05ff07b7-bd3a-4715-bf36-f8578d873bbc",
   "metadata": {},
   "outputs": [],
   "source": [
    "stim_path = os.path.expanduser(\"~/hpc-rw/stimulus_assembly.h5\")"
   ]
  },
  {
   "cell_type": "code",
   "execution_count": 11,
   "id": "8f3b1088-235d-4729-8172-ed9fd6711f0e",
   "metadata": {},
   "outputs": [
    {
     "data": {
      "application/json": {
       "assembly_info": {
        "assembly_duration": 141,
        "assembly_info": {
         "0": {
          "label": "silence",
          "offset": 1,
          "onset": 0,
          "specification": {
           "conditioning": {
            "mode": "Skip"
           },
           "label": "Silence",
           "onset": 0.1,
           "targeting": {
            "mode": "SingleSpeakerVolts"
           },
           "total_duration": 1,
           "type": "silence"
          },
          "stimulus_period_onset": 0
         },
         "1": {
          "label": "silence",
          "offset": 2,
          "onset": 1,
          "specification": {
           "conditioning": {
            "mode": "Skip"
           },
           "label": "Silence",
           "onset": 0.1,
           "targeting": {
            "mode": "SingleSpeakerVolts"
           },
           "total_duration": 1,
           "type": "silence"
          },
          "stimulus_period_onset": 1
         },
         "10": {
          "label": "1pulse_1200Hz",
          "offset": 10.1,
          "onset": 10.1,
          "specification": {
           "center_frequency": 1200,
           "conditioning": {
            "mode": "Skip"
           },
           "intensity": 4,
           "label": "1pulse_1200Hz",
           "npulses": 1,
           "onset": 0.1,
           "rate": 100,
           "targeting": {
            "mode": "SingleSpeakerVolts"
           },
           "total_duration": 1,
           "type": "pulse_sequence"
          },
          "stimulus_period_onset": 10
         },
         "100": {
          "label": "silence",
          "offset": 101,
          "onset": 100,
          "specification": {
           "conditioning": {
            "mode": "Skip"
           },
           "label": "Silence",
           "onset": 0.1,
           "targeting": {
            "mode": "SingleSpeakerVolts"
           },
           "total_duration": 1,
           "type": "silence"
          },
          "stimulus_period_onset": 100
         },
         "101": {
          "label": "sin_800Hz",
          "offset": 101.9,
          "onset": 101.1,
          "specification": {
           "conditioning": {
            "mode": "Skip"
           },
           "duration": 0.8,
           "frequency": 800,
           "intensity": 0.8,
           "label": "sin_800Hz",
           "onset": 0.1,
           "targeting": {
            "mode": "SingleSpeakerVolts"
           },
           "total_duration": 1,
           "type": "puretone"
          },
          "stimulus_period_onset": 101
         },
         "102": {
          "label": "silence",
          "offset": 103,
          "onset": 102,
          "specification": {
           "conditioning": {
            "mode": "Skip"
           },
           "label": "Silence",
           "onset": 0.1,
           "targeting": {
            "mode": "SingleSpeakerVolts"
           },
           "total_duration": 1,
           "type": "silence"
          },
          "stimulus_period_onset": 102
         },
         "103": {
          "label": "1pulse_1200Hz",
          "offset": 103.1,
          "onset": 103.1,
          "specification": {
           "center_frequency": 1200,
           "conditioning": {
            "mode": "Skip"
           },
           "intensity": 4,
           "label": "1pulse_1200Hz",
           "npulses": 1,
           "onset": 0.1,
           "rate": 100,
           "targeting": {
            "mode": "SingleSpeakerVolts"
           },
           "total_duration": 1,
           "type": "pulse_sequence"
          },
          "stimulus_period_onset": 103
         },
         "104": {
          "label": "silence",
          "offset": 105,
          "onset": 104,
          "specification": {
           "conditioning": {
            "mode": "Skip"
           },
           "label": "Silence",
           "onset": 0.1,
           "targeting": {
            "mode": "SingleSpeakerVolts"
           },
           "total_duration": 1,
           "type": "silence"
          },
          "stimulus_period_onset": 104
         },
         "105": {
          "label": "1pulse_1200Hz",
          "offset": 105.1,
          "onset": 105.1,
          "specification": {
           "center_frequency": 1200,
           "conditioning": {
            "mode": "Skip"
           },
           "intensity": 4,
           "label": "1pulse_1200Hz",
           "npulses": 1,
           "onset": 0.1,
           "rate": 100,
           "targeting": {
            "mode": "SingleSpeakerVolts"
           },
           "total_duration": 1,
           "type": "pulse_sequence"
          },
          "stimulus_period_onset": 105
         },
         "106": {
          "label": "silence",
          "offset": 107,
          "onset": 106,
          "specification": {
           "conditioning": {
            "mode": "Skip"
           },
           "label": "Silence",
           "onset": 0.1,
           "targeting": {
            "mode": "SingleSpeakerVolts"
           },
           "total_duration": 1,
           "type": "silence"
          },
          "stimulus_period_onset": 106
         },
         "107": {
          "label": "sin_2400Hz",
          "offset": 107.9,
          "onset": 107.1,
          "specification": {
           "conditioning": {
            "mode": "Skip"
           },
           "duration": 0.8,
           "frequency": 2400,
           "intensity": 0.8,
           "label": "sin_2400Hz",
           "onset": 0.1,
           "targeting": {
            "mode": "SingleSpeakerVolts"
           },
           "total_duration": 1,
           "type": "puretone"
          },
          "stimulus_period_onset": 107
         },
         "108": {
          "label": "silence",
          "offset": 109,
          "onset": 108,
          "specification": {
           "conditioning": {
            "mode": "Skip"
           },
           "label": "Silence",
           "onset": 0.1,
           "targeting": {
            "mode": "SingleSpeakerVolts"
           },
           "total_duration": 1,
           "type": "silence"
          },
          "stimulus_period_onset": 108
         },
         "109": {
          "label": "sin_1200Hz",
          "offset": 109.9,
          "onset": 109.1,
          "specification": {
           "conditioning": {
            "mode": "Skip"
           },
           "duration": 0.8,
           "frequency": 1200,
           "intensity": 0.8,
           "label": "sin_1200Hz",
           "onset": 0.1,
           "targeting": {
            "mode": "SingleSpeakerVolts"
           },
           "total_duration": 1,
           "type": "puretone"
          },
          "stimulus_period_onset": 109
         },
         "11": {
          "label": "silence",
          "offset": 12,
          "onset": 11,
          "specification": {
           "conditioning": {
            "mode": "Skip"
           },
           "label": "Silence",
           "onset": 0.1,
           "targeting": {
            "mode": "SingleSpeakerVolts"
           },
           "total_duration": 1,
           "type": "silence"
          },
          "stimulus_period_onset": 11
         },
         "110": {
          "label": "silence",
          "offset": 111,
          "onset": 110,
          "specification": {
           "conditioning": {
            "mode": "Skip"
           },
           "label": "Silence",
           "onset": 0.1,
           "targeting": {
            "mode": "SingleSpeakerVolts"
           },
           "total_duration": 1,
           "type": "silence"
          },
          "stimulus_period_onset": 110
         },
         "111": {
          "label": "silence",
          "offset": 112,
          "onset": 111,
          "specification": {
           "conditioning": {
            "mode": "Skip"
           },
           "label": "Silence",
           "onset": 0.1,
           "targeting": {
            "mode": "SingleSpeakerVolts"
           },
           "total_duration": 1,
           "type": "silence"
          },
          "stimulus_period_onset": 111
         },
         "112": {
          "label": "silence",
          "offset": 113,
          "onset": 112,
          "specification": {
           "conditioning": {
            "mode": "Skip"
           },
           "label": "Silence",
           "onset": 0.1,
           "targeting": {
            "mode": "SingleSpeakerVolts"
           },
           "total_duration": 1,
           "type": "silence"
          },
          "stimulus_period_onset": 112
         },
         "113": {
          "label": "silence",
          "offset": 114,
          "onset": 113,
          "specification": {
           "conditioning": {
            "mode": "Skip"
           },
           "label": "Silence",
           "onset": 0.1,
           "targeting": {
            "mode": "SingleSpeakerVolts"
           },
           "total_duration": 1,
           "type": "silence"
          },
          "stimulus_period_onset": 113
         },
         "114": {
          "label": "1pulse_1200Hz",
          "offset": 114.1,
          "onset": 114.1,
          "specification": {
           "center_frequency": 1200,
           "conditioning": {
            "mode": "Skip"
           },
           "intensity": 4,
           "label": "1pulse_1200Hz",
           "npulses": 1,
           "onset": 0.1,
           "rate": 100,
           "targeting": {
            "mode": "SingleSpeakerVolts"
           },
           "total_duration": 1,
           "type": "pulse_sequence"
          },
          "stimulus_period_onset": 114
         },
         "115": {
          "label": "silence",
          "offset": 116,
          "onset": 115,
          "specification": {
           "conditioning": {
            "mode": "Skip"
           },
           "label": "Silence",
           "onset": 0.1,
           "targeting": {
            "mode": "SingleSpeakerVolts"
           },
           "total_duration": 1,
           "type": "silence"
          },
          "stimulus_period_onset": 115
         },
         "116": {
          "label": "sin_2400Hz",
          "offset": 116.9,
          "onset": 116.1,
          "specification": {
           "conditioning": {
            "mode": "Skip"
           },
           "duration": 0.8,
           "frequency": 2400,
           "intensity": 0.8,
           "label": "sin_2400Hz",
           "onset": 0.1,
           "targeting": {
            "mode": "SingleSpeakerVolts"
           },
           "total_duration": 1,
           "type": "puretone"
          },
          "stimulus_period_onset": 116
         },
         "117": {
          "label": "silence",
          "offset": 118,
          "onset": 117,
          "specification": {
           "conditioning": {
            "mode": "Skip"
           },
           "label": "Silence",
           "onset": 0.1,
           "targeting": {
            "mode": "SingleSpeakerVolts"
           },
           "total_duration": 1,
           "type": "silence"
          },
          "stimulus_period_onset": 117
         },
         "118": {
          "label": "1pulse_1200Hz",
          "offset": 118.1,
          "onset": 118.1,
          "specification": {
           "center_frequency": 1200,
           "conditioning": {
            "mode": "Skip"
           },
           "intensity": 4,
           "label": "1pulse_1200Hz",
           "npulses": 1,
           "onset": 0.1,
           "rate": 100,
           "targeting": {
            "mode": "SingleSpeakerVolts"
           },
           "total_duration": 1,
           "type": "pulse_sequence"
          },
          "stimulus_period_onset": 118
         },
         "119": {
          "label": "silence",
          "offset": 120,
          "onset": 119,
          "specification": {
           "conditioning": {
            "mode": "Skip"
           },
           "label": "Silence",
           "onset": 0.1,
           "targeting": {
            "mode": "SingleSpeakerVolts"
           },
           "total_duration": 1,
           "type": "silence"
          },
          "stimulus_period_onset": 119
         },
         "12": {
          "label": "1pulse_1200Hz",
          "offset": 12.1,
          "onset": 12.1,
          "specification": {
           "center_frequency": 1200,
           "conditioning": {
            "mode": "Skip"
           },
           "intensity": 4,
           "label": "1pulse_1200Hz",
           "npulses": 1,
           "onset": 0.1,
           "rate": 100,
           "targeting": {
            "mode": "SingleSpeakerVolts"
           },
           "total_duration": 1,
           "type": "pulse_sequence"
          },
          "stimulus_period_onset": 12
         },
         "120": {
          "label": "sin_800Hz",
          "offset": 120.9,
          "onset": 120.1,
          "specification": {
           "conditioning": {
            "mode": "Skip"
           },
           "duration": 0.8,
           "frequency": 800,
           "intensity": 0.8,
           "label": "sin_800Hz",
           "onset": 0.1,
           "targeting": {
            "mode": "SingleSpeakerVolts"
           },
           "total_duration": 1,
           "type": "puretone"
          },
          "stimulus_period_onset": 120
         },
         "121": {
          "label": "silence",
          "offset": 122,
          "onset": 121,
          "specification": {
           "conditioning": {
            "mode": "Skip"
           },
           "label": "Silence",
           "onset": 0.1,
           "targeting": {
            "mode": "SingleSpeakerVolts"
           },
           "total_duration": 1,
           "type": "silence"
          },
          "stimulus_period_onset": 121
         },
         "122": {
          "label": "sin_1200Hz",
          "offset": 122.9,
          "onset": 122.1,
          "specification": {
           "conditioning": {
            "mode": "Skip"
           },
           "duration": 0.8,
           "frequency": 1200,
           "intensity": 0.8,
           "label": "sin_1200Hz",
           "onset": 0.1,
           "targeting": {
            "mode": "SingleSpeakerVolts"
           },
           "total_duration": 1,
           "type": "puretone"
          },
          "stimulus_period_onset": 122
         },
         "123": {
          "label": "silence",
          "offset": 124,
          "onset": 123,
          "specification": {
           "conditioning": {
            "mode": "Skip"
           },
           "label": "Silence",
           "onset": 0.1,
           "targeting": {
            "mode": "SingleSpeakerVolts"
           },
           "total_duration": 1,
           "type": "silence"
          },
          "stimulus_period_onset": 123
         },
         "124": {
          "label": "silence",
          "offset": 125,
          "onset": 124,
          "specification": {
           "conditioning": {
            "mode": "Skip"
           },
           "label": "Silence",
           "onset": 0.1,
           "targeting": {
            "mode": "SingleSpeakerVolts"
           },
           "total_duration": 1,
           "type": "silence"
          },
          "stimulus_period_onset": 124
         },
         "125": {
          "label": "silence",
          "offset": 126,
          "onset": 125,
          "specification": {
           "conditioning": {
            "mode": "Skip"
           },
           "label": "Silence",
           "onset": 0.1,
           "targeting": {
            "mode": "SingleSpeakerVolts"
           },
           "total_duration": 1,
           "type": "silence"
          },
          "stimulus_period_onset": 125
         },
         "126": {
          "label": "silence",
          "offset": 127,
          "onset": 126,
          "specification": {
           "conditioning": {
            "mode": "Skip"
           },
           "label": "Silence",
           "onset": 0.1,
           "targeting": {
            "mode": "SingleSpeakerVolts"
           },
           "total_duration": 1,
           "type": "silence"
          },
          "stimulus_period_onset": 126
         },
         "127": {
          "label": "sin_800Hz",
          "offset": 127.9,
          "onset": 127.1,
          "specification": {
           "conditioning": {
            "mode": "Skip"
           },
           "duration": 0.8,
           "frequency": 800,
           "intensity": 0.8,
           "label": "sin_800Hz",
           "onset": 0.1,
           "targeting": {
            "mode": "SingleSpeakerVolts"
           },
           "total_duration": 1,
           "type": "puretone"
          },
          "stimulus_period_onset": 127
         },
         "128": {
          "label": "silence",
          "offset": 129,
          "onset": 128,
          "specification": {
           "conditioning": {
            "mode": "Skip"
           },
           "label": "Silence",
           "onset": 0.1,
           "targeting": {
            "mode": "SingleSpeakerVolts"
           },
           "total_duration": 1,
           "type": "silence"
          },
          "stimulus_period_onset": 128
         },
         "129": {
          "label": "1pulse_1200Hz",
          "offset": 129.1,
          "onset": 129.1,
          "specification": {
           "center_frequency": 1200,
           "conditioning": {
            "mode": "Skip"
           },
           "intensity": 4,
           "label": "1pulse_1200Hz",
           "npulses": 1,
           "onset": 0.1,
           "rate": 100,
           "targeting": {
            "mode": "SingleSpeakerVolts"
           },
           "total_duration": 1,
           "type": "pulse_sequence"
          },
          "stimulus_period_onset": 129
         },
         "13": {
          "label": "silence",
          "offset": 14,
          "onset": 13,
          "specification": {
           "conditioning": {
            "mode": "Skip"
           },
           "label": "Silence",
           "onset": 0.1,
           "targeting": {
            "mode": "SingleSpeakerVolts"
           },
           "total_duration": 1,
           "type": "silence"
          },
          "stimulus_period_onset": 13
         },
         "130": {
          "label": "silence",
          "offset": 131,
          "onset": 130,
          "specification": {
           "conditioning": {
            "mode": "Skip"
           },
           "label": "Silence",
           "onset": 0.1,
           "targeting": {
            "mode": "SingleSpeakerVolts"
           },
           "total_duration": 1,
           "type": "silence"
          },
          "stimulus_period_onset": 130
         },
         "131": {
          "label": "sin_1200Hz",
          "offset": 131.9,
          "onset": 131.1,
          "specification": {
           "conditioning": {
            "mode": "Skip"
           },
           "duration": 0.8,
           "frequency": 1200,
           "intensity": 0.8,
           "label": "sin_1200Hz",
           "onset": 0.1,
           "targeting": {
            "mode": "SingleSpeakerVolts"
           },
           "total_duration": 1,
           "type": "puretone"
          },
          "stimulus_period_onset": 131
         },
         "132": {
          "label": "silence",
          "offset": 133,
          "onset": 132,
          "specification": {
           "conditioning": {
            "mode": "Skip"
           },
           "label": "Silence",
           "onset": 0.1,
           "targeting": {
            "mode": "SingleSpeakerVolts"
           },
           "total_duration": 1,
           "type": "silence"
          },
          "stimulus_period_onset": 132
         },
         "133": {
          "label": "sin_2400Hz",
          "offset": 133.9,
          "onset": 133.1,
          "specification": {
           "conditioning": {
            "mode": "Skip"
           },
           "duration": 0.8,
           "frequency": 2400,
           "intensity": 0.8,
           "label": "sin_2400Hz",
           "onset": 0.1,
           "targeting": {
            "mode": "SingleSpeakerVolts"
           },
           "total_duration": 1,
           "type": "puretone"
          },
          "stimulus_period_onset": 133
         },
         "134": {
          "label": "silence",
          "offset": 135,
          "onset": 134,
          "specification": {
           "conditioning": {
            "mode": "Skip"
           },
           "label": "Silence",
           "onset": 0.1,
           "targeting": {
            "mode": "SingleSpeakerVolts"
           },
           "total_duration": 1,
           "type": "silence"
          },
          "stimulus_period_onset": 134
         },
         "135": {
          "label": "1pulse_1200Hz",
          "offset": 135.1,
          "onset": 135.1,
          "specification": {
           "center_frequency": 1200,
           "conditioning": {
            "mode": "Skip"
           },
           "intensity": 4,
           "label": "1pulse_1200Hz",
           "npulses": 1,
           "onset": 0.1,
           "rate": 100,
           "targeting": {
            "mode": "SingleSpeakerVolts"
           },
           "total_duration": 1,
           "type": "pulse_sequence"
          },
          "stimulus_period_onset": 135
         },
         "136": {
          "label": "silence",
          "offset": 137,
          "onset": 136,
          "specification": {
           "conditioning": {
            "mode": "Skip"
           },
           "label": "Silence",
           "onset": 0.1,
           "targeting": {
            "mode": "SingleSpeakerVolts"
           },
           "total_duration": 1,
           "type": "silence"
          },
          "stimulus_period_onset": 136
         },
         "137": {
          "label": "silence",
          "offset": 138,
          "onset": 137,
          "specification": {
           "conditioning": {
            "mode": "Skip"
           },
           "label": "Silence",
           "onset": 0.1,
           "targeting": {
            "mode": "SingleSpeakerVolts"
           },
           "total_duration": 1,
           "type": "silence"
          },
          "stimulus_period_onset": 137
         },
         "138": {
          "label": "silence",
          "offset": 139,
          "onset": 138,
          "specification": {
           "conditioning": {
            "mode": "Skip"
           },
           "label": "Silence",
           "onset": 0.1,
           "targeting": {
            "mode": "SingleSpeakerVolts"
           },
           "total_duration": 1,
           "type": "silence"
          },
          "stimulus_period_onset": 138
         },
         "139": {
          "label": "silence",
          "offset": 140,
          "onset": 139,
          "specification": {
           "conditioning": {
            "mode": "Skip"
           },
           "label": "Silence",
           "onset": 0.1,
           "targeting": {
            "mode": "SingleSpeakerVolts"
           },
           "total_duration": 1,
           "type": "silence"
          },
          "stimulus_period_onset": 139
         },
         "14": {
          "label": "sin_800Hz",
          "offset": 14.9,
          "onset": 14.1,
          "specification": {
           "conditioning": {
            "mode": "Skip"
           },
           "duration": 0.8,
           "frequency": 800,
           "intensity": 0.8,
           "label": "sin_800Hz",
           "onset": 0.1,
           "targeting": {
            "mode": "SingleSpeakerVolts"
           },
           "total_duration": 1,
           "type": "puretone"
          },
          "stimulus_period_onset": 14
         },
         "140": {
          "label": "silence",
          "offset": 141,
          "onset": 140,
          "specification": {
           "conditioning": {
            "mode": "Skip"
           },
           "label": "Silence",
           "onset": 0.1,
           "targeting": {
            "mode": "SingleSpeakerVolts"
           },
           "total_duration": 1,
           "type": "silence"
          },
          "stimulus_period_onset": 140
         },
         "15": {
          "label": "silence",
          "offset": 16,
          "onset": 15,
          "specification": {
           "conditioning": {
            "mode": "Skip"
           },
           "label": "Silence",
           "onset": 0.1,
           "targeting": {
            "mode": "SingleSpeakerVolts"
           },
           "total_duration": 1,
           "type": "silence"
          },
          "stimulus_period_onset": 15
         },
         "16": {
          "label": "sin_2400Hz",
          "offset": 16.9,
          "onset": 16.1,
          "specification": {
           "conditioning": {
            "mode": "Skip"
           },
           "duration": 0.8,
           "frequency": 2400,
           "intensity": 0.8,
           "label": "sin_2400Hz",
           "onset": 0.1,
           "targeting": {
            "mode": "SingleSpeakerVolts"
           },
           "total_duration": 1,
           "type": "puretone"
          },
          "stimulus_period_onset": 16
         },
         "17": {
          "label": "silence",
          "offset": 18,
          "onset": 17,
          "specification": {
           "conditioning": {
            "mode": "Skip"
           },
           "label": "Silence",
           "onset": 0.1,
           "targeting": {
            "mode": "SingleSpeakerVolts"
           },
           "total_duration": 1,
           "type": "silence"
          },
          "stimulus_period_onset": 17
         },
         "18": {
          "label": "sin_1200Hz",
          "offset": 18.9,
          "onset": 18.1,
          "specification": {
           "conditioning": {
            "mode": "Skip"
           },
           "duration": 0.8,
           "frequency": 1200,
           "intensity": 0.8,
           "label": "sin_1200Hz",
           "onset": 0.1,
           "targeting": {
            "mode": "SingleSpeakerVolts"
           },
           "total_duration": 1,
           "type": "puretone"
          },
          "stimulus_period_onset": 18
         },
         "19": {
          "label": "silence",
          "offset": 20,
          "onset": 19,
          "specification": {
           "conditioning": {
            "mode": "Skip"
           },
           "label": "Silence",
           "onset": 0.1,
           "targeting": {
            "mode": "SingleSpeakerVolts"
           },
           "total_duration": 1,
           "type": "silence"
          },
          "stimulus_period_onset": 19
         },
         "2": {
          "label": "silence",
          "offset": 3,
          "onset": 2,
          "specification": {
           "conditioning": {
            "mode": "Skip"
           },
           "label": "Silence",
           "onset": 0.1,
           "targeting": {
            "mode": "SingleSpeakerVolts"
           },
           "total_duration": 1,
           "type": "silence"
          },
          "stimulus_period_onset": 2
         },
         "20": {
          "label": "silence",
          "offset": 21,
          "onset": 20,
          "specification": {
           "conditioning": {
            "mode": "Skip"
           },
           "label": "Silence",
           "onset": 0.1,
           "targeting": {
            "mode": "SingleSpeakerVolts"
           },
           "total_duration": 1,
           "type": "silence"
          },
          "stimulus_period_onset": 20
         },
         "21": {
          "label": "silence",
          "offset": 22,
          "onset": 21,
          "specification": {
           "conditioning": {
            "mode": "Skip"
           },
           "label": "Silence",
           "onset": 0.1,
           "targeting": {
            "mode": "SingleSpeakerVolts"
           },
           "total_duration": 1,
           "type": "silence"
          },
          "stimulus_period_onset": 21
         },
         "22": {
          "label": "silence",
          "offset": 23,
          "onset": 22,
          "specification": {
           "conditioning": {
            "mode": "Skip"
           },
           "label": "Silence",
           "onset": 0.1,
           "targeting": {
            "mode": "SingleSpeakerVolts"
           },
           "total_duration": 1,
           "type": "silence"
          },
          "stimulus_period_onset": 22
         },
         "23": {
          "label": "1pulse_1200Hz",
          "offset": 23.1,
          "onset": 23.1,
          "specification": {
           "center_frequency": 1200,
           "conditioning": {
            "mode": "Skip"
           },
           "intensity": 4,
           "label": "1pulse_1200Hz",
           "npulses": 1,
           "onset": 0.1,
           "rate": 100,
           "targeting": {
            "mode": "SingleSpeakerVolts"
           },
           "total_duration": 1,
           "type": "pulse_sequence"
          },
          "stimulus_period_onset": 23
         },
         "24": {
          "label": "silence",
          "offset": 25,
          "onset": 24,
          "specification": {
           "conditioning": {
            "mode": "Skip"
           },
           "label": "Silence",
           "onset": 0.1,
           "targeting": {
            "mode": "SingleSpeakerVolts"
           },
           "total_duration": 1,
           "type": "silence"
          },
          "stimulus_period_onset": 24
         },
         "25": {
          "label": "1pulse_1200Hz",
          "offset": 25.1,
          "onset": 25.1,
          "specification": {
           "center_frequency": 1200,
           "conditioning": {
            "mode": "Skip"
           },
           "intensity": 4,
           "label": "1pulse_1200Hz",
           "npulses": 1,
           "onset": 0.1,
           "rate": 100,
           "targeting": {
            "mode": "SingleSpeakerVolts"
           },
           "total_duration": 1,
           "type": "pulse_sequence"
          },
          "stimulus_period_onset": 25
         },
         "26": {
          "label": "silence",
          "offset": 27,
          "onset": 26,
          "specification": {
           "conditioning": {
            "mode": "Skip"
           },
           "label": "Silence",
           "onset": 0.1,
           "targeting": {
            "mode": "SingleSpeakerVolts"
           },
           "total_duration": 1,
           "type": "silence"
          },
          "stimulus_period_onset": 26
         },
         "27": {
          "label": "sin_1200Hz",
          "offset": 27.9,
          "onset": 27.1,
          "specification": {
           "conditioning": {
            "mode": "Skip"
           },
           "duration": 0.8,
           "frequency": 1200,
           "intensity": 0.8,
           "label": "sin_1200Hz",
           "onset": 0.1,
           "targeting": {
            "mode": "SingleSpeakerVolts"
           },
           "total_duration": 1,
           "type": "puretone"
          },
          "stimulus_period_onset": 27
         },
         "28": {
          "label": "silence",
          "offset": 29,
          "onset": 28,
          "specification": {
           "conditioning": {
            "mode": "Skip"
           },
           "label": "Silence",
           "onset": 0.1,
           "targeting": {
            "mode": "SingleSpeakerVolts"
           },
           "total_duration": 1,
           "type": "silence"
          },
          "stimulus_period_onset": 28
         },
         "29": {
          "label": "sin_800Hz",
          "offset": 29.9,
          "onset": 29.1,
          "specification": {
           "conditioning": {
            "mode": "Skip"
           },
           "duration": 0.8,
           "frequency": 800,
           "intensity": 0.8,
           "label": "sin_800Hz",
           "onset": 0.1,
           "targeting": {
            "mode": "SingleSpeakerVolts"
           },
           "total_duration": 1,
           "type": "puretone"
          },
          "stimulus_period_onset": 29
         },
         "3": {
          "label": "silence",
          "offset": 4,
          "onset": 3,
          "specification": {
           "conditioning": {
            "mode": "Skip"
           },
           "label": "Silence",
           "onset": 0.1,
           "targeting": {
            "mode": "SingleSpeakerVolts"
           },
           "total_duration": 1,
           "type": "silence"
          },
          "stimulus_period_onset": 3
         },
         "30": {
          "label": "silence",
          "offset": 31,
          "onset": 30,
          "specification": {
           "conditioning": {
            "mode": "Skip"
           },
           "label": "Silence",
           "onset": 0.1,
           "targeting": {
            "mode": "SingleSpeakerVolts"
           },
           "total_duration": 1,
           "type": "silence"
          },
          "stimulus_period_onset": 30
         },
         "31": {
          "label": "sin_2400Hz",
          "offset": 31.9,
          "onset": 31.1,
          "specification": {
           "conditioning": {
            "mode": "Skip"
           },
           "duration": 0.8,
           "frequency": 2400,
           "intensity": 0.8,
           "label": "sin_2400Hz",
           "onset": 0.1,
           "targeting": {
            "mode": "SingleSpeakerVolts"
           },
           "total_duration": 1,
           "type": "puretone"
          },
          "stimulus_period_onset": 31
         },
         "32": {
          "label": "silence",
          "offset": 33,
          "onset": 32,
          "specification": {
           "conditioning": {
            "mode": "Skip"
           },
           "label": "Silence",
           "onset": 0.1,
           "targeting": {
            "mode": "SingleSpeakerVolts"
           },
           "total_duration": 1,
           "type": "silence"
          },
          "stimulus_period_onset": 32
         },
         "33": {
          "label": "silence",
          "offset": 34,
          "onset": 33,
          "specification": {
           "conditioning": {
            "mode": "Skip"
           },
           "label": "Silence",
           "onset": 0.1,
           "targeting": {
            "mode": "SingleSpeakerVolts"
           },
           "total_duration": 1,
           "type": "silence"
          },
          "stimulus_period_onset": 33
         },
         "34": {
          "label": "silence",
          "offset": 35,
          "onset": 34,
          "specification": {
           "conditioning": {
            "mode": "Skip"
           },
           "label": "Silence",
           "onset": 0.1,
           "targeting": {
            "mode": "SingleSpeakerVolts"
           },
           "total_duration": 1,
           "type": "silence"
          },
          "stimulus_period_onset": 34
         },
         "35": {
          "label": "silence",
          "offset": 36,
          "onset": 35,
          "specification": {
           "conditioning": {
            "mode": "Skip"
           },
           "label": "Silence",
           "onset": 0.1,
           "targeting": {
            "mode": "SingleSpeakerVolts"
           },
           "total_duration": 1,
           "type": "silence"
          },
          "stimulus_period_onset": 35
         },
         "36": {
          "label": "1pulse_1200Hz",
          "offset": 36.1,
          "onset": 36.1,
          "specification": {
           "center_frequency": 1200,
           "conditioning": {
            "mode": "Skip"
           },
           "intensity": 4,
           "label": "1pulse_1200Hz",
           "npulses": 1,
           "onset": 0.1,
           "rate": 100,
           "targeting": {
            "mode": "SingleSpeakerVolts"
           },
           "total_duration": 1,
           "type": "pulse_sequence"
          },
          "stimulus_period_onset": 36
         },
         "37": {
          "label": "silence",
          "offset": 38,
          "onset": 37,
          "specification": {
           "conditioning": {
            "mode": "Skip"
           },
           "label": "Silence",
           "onset": 0.1,
           "targeting": {
            "mode": "SingleSpeakerVolts"
           },
           "total_duration": 1,
           "type": "silence"
          },
          "stimulus_period_onset": 37
         },
         "38": {
          "label": "sin_800Hz",
          "offset": 38.9,
          "onset": 38.1,
          "specification": {
           "conditioning": {
            "mode": "Skip"
           },
           "duration": 0.8,
           "frequency": 800,
           "intensity": 0.8,
           "label": "sin_800Hz",
           "onset": 0.1,
           "targeting": {
            "mode": "SingleSpeakerVolts"
           },
           "total_duration": 1,
           "type": "puretone"
          },
          "stimulus_period_onset": 38
         },
         "39": {
          "label": "silence",
          "offset": 40,
          "onset": 39,
          "specification": {
           "conditioning": {
            "mode": "Skip"
           },
           "label": "Silence",
           "onset": 0.1,
           "targeting": {
            "mode": "SingleSpeakerVolts"
           },
           "total_duration": 1,
           "type": "silence"
          },
          "stimulus_period_onset": 39
         },
         "4": {
          "label": "silence",
          "offset": 5,
          "onset": 4,
          "specification": {
           "conditioning": {
            "mode": "Skip"
           },
           "label": "Silence",
           "onset": 0.1,
           "targeting": {
            "mode": "SingleSpeakerVolts"
           },
           "total_duration": 1,
           "type": "silence"
          },
          "stimulus_period_onset": 4
         },
         "40": {
          "label": "sin_1200Hz",
          "offset": 40.9,
          "onset": 40.1,
          "specification": {
           "conditioning": {
            "mode": "Skip"
           },
           "duration": 0.8,
           "frequency": 1200,
           "intensity": 0.8,
           "label": "sin_1200Hz",
           "onset": 0.1,
           "targeting": {
            "mode": "SingleSpeakerVolts"
           },
           "total_duration": 1,
           "type": "puretone"
          },
          "stimulus_period_onset": 40
         },
         "41": {
          "label": "silence",
          "offset": 42,
          "onset": 41,
          "specification": {
           "conditioning": {
            "mode": "Skip"
           },
           "label": "Silence",
           "onset": 0.1,
           "targeting": {
            "mode": "SingleSpeakerVolts"
           },
           "total_duration": 1,
           "type": "silence"
          },
          "stimulus_period_onset": 41
         },
         "42": {
          "label": "sin_2400Hz",
          "offset": 42.9,
          "onset": 42.1,
          "specification": {
           "conditioning": {
            "mode": "Skip"
           },
           "duration": 0.8,
           "frequency": 2400,
           "intensity": 0.8,
           "label": "sin_2400Hz",
           "onset": 0.1,
           "targeting": {
            "mode": "SingleSpeakerVolts"
           },
           "total_duration": 1,
           "type": "puretone"
          },
          "stimulus_period_onset": 42
         },
         "43": {
          "label": "silence",
          "offset": 44,
          "onset": 43,
          "specification": {
           "conditioning": {
            "mode": "Skip"
           },
           "label": "Silence",
           "onset": 0.1,
           "targeting": {
            "mode": "SingleSpeakerVolts"
           },
           "total_duration": 1,
           "type": "silence"
          },
          "stimulus_period_onset": 43
         },
         "44": {
          "label": "1pulse_1200Hz",
          "offset": 44.1,
          "onset": 44.1,
          "specification": {
           "center_frequency": 1200,
           "conditioning": {
            "mode": "Skip"
           },
           "intensity": 4,
           "label": "1pulse_1200Hz",
           "npulses": 1,
           "onset": 0.1,
           "rate": 100,
           "targeting": {
            "mode": "SingleSpeakerVolts"
           },
           "total_duration": 1,
           "type": "pulse_sequence"
          },
          "stimulus_period_onset": 44
         },
         "45": {
          "label": "silence",
          "offset": 46,
          "onset": 45,
          "specification": {
           "conditioning": {
            "mode": "Skip"
           },
           "label": "Silence",
           "onset": 0.1,
           "targeting": {
            "mode": "SingleSpeakerVolts"
           },
           "total_duration": 1,
           "type": "silence"
          },
          "stimulus_period_onset": 45
         },
         "46": {
          "label": "silence",
          "offset": 47,
          "onset": 46,
          "specification": {
           "conditioning": {
            "mode": "Skip"
           },
           "label": "Silence",
           "onset": 0.1,
           "targeting": {
            "mode": "SingleSpeakerVolts"
           },
           "total_duration": 1,
           "type": "silence"
          },
          "stimulus_period_onset": 46
         },
         "47": {
          "label": "silence",
          "offset": 48,
          "onset": 47,
          "specification": {
           "conditioning": {
            "mode": "Skip"
           },
           "label": "Silence",
           "onset": 0.1,
           "targeting": {
            "mode": "SingleSpeakerVolts"
           },
           "total_duration": 1,
           "type": "silence"
          },
          "stimulus_period_onset": 47
         },
         "48": {
          "label": "silence",
          "offset": 49,
          "onset": 48,
          "specification": {
           "conditioning": {
            "mode": "Skip"
           },
           "label": "Silence",
           "onset": 0.1,
           "targeting": {
            "mode": "SingleSpeakerVolts"
           },
           "total_duration": 1,
           "type": "silence"
          },
          "stimulus_period_onset": 48
         },
         "49": {
          "label": "sin_800Hz",
          "offset": 49.9,
          "onset": 49.1,
          "specification": {
           "conditioning": {
            "mode": "Skip"
           },
           "duration": 0.8,
           "frequency": 800,
           "intensity": 0.8,
           "label": "sin_800Hz",
           "onset": 0.1,
           "targeting": {
            "mode": "SingleSpeakerVolts"
           },
           "total_duration": 1,
           "type": "puretone"
          },
          "stimulus_period_onset": 49
         },
         "5": {
          "label": "silence",
          "offset": 6,
          "onset": 5,
          "specification": {
           "conditioning": {
            "mode": "Skip"
           },
           "label": "Silence",
           "onset": 0.1,
           "targeting": {
            "mode": "SingleSpeakerVolts"
           },
           "total_duration": 1,
           "type": "silence"
          },
          "stimulus_period_onset": 5
         },
         "50": {
          "label": "silence",
          "offset": 51,
          "onset": 50,
          "specification": {
           "conditioning": {
            "mode": "Skip"
           },
           "label": "Silence",
           "onset": 0.1,
           "targeting": {
            "mode": "SingleSpeakerVolts"
           },
           "total_duration": 1,
           "type": "silence"
          },
          "stimulus_period_onset": 50
         },
         "51": {
          "label": "1pulse_1200Hz",
          "offset": 51.1,
          "onset": 51.1,
          "specification": {
           "center_frequency": 1200,
           "conditioning": {
            "mode": "Skip"
           },
           "intensity": 4,
           "label": "1pulse_1200Hz",
           "npulses": 1,
           "onset": 0.1,
           "rate": 100,
           "targeting": {
            "mode": "SingleSpeakerVolts"
           },
           "total_duration": 1,
           "type": "pulse_sequence"
          },
          "stimulus_period_onset": 51
         },
         "52": {
          "label": "silence",
          "offset": 53,
          "onset": 52,
          "specification": {
           "conditioning": {
            "mode": "Skip"
           },
           "label": "Silence",
           "onset": 0.1,
           "targeting": {
            "mode": "SingleSpeakerVolts"
           },
           "total_duration": 1,
           "type": "silence"
          },
          "stimulus_period_onset": 52
         },
         "53": {
          "label": "1pulse_1200Hz",
          "offset": 53.1,
          "onset": 53.1,
          "specification": {
           "center_frequency": 1200,
           "conditioning": {
            "mode": "Skip"
           },
           "intensity": 4,
           "label": "1pulse_1200Hz",
           "npulses": 1,
           "onset": 0.1,
           "rate": 100,
           "targeting": {
            "mode": "SingleSpeakerVolts"
           },
           "total_duration": 1,
           "type": "pulse_sequence"
          },
          "stimulus_period_onset": 53
         },
         "54": {
          "label": "silence",
          "offset": 55,
          "onset": 54,
          "specification": {
           "conditioning": {
            "mode": "Skip"
           },
           "label": "Silence",
           "onset": 0.1,
           "targeting": {
            "mode": "SingleSpeakerVolts"
           },
           "total_duration": 1,
           "type": "silence"
          },
          "stimulus_period_onset": 54
         },
         "55": {
          "label": "sin_1200Hz",
          "offset": 55.9,
          "onset": 55.1,
          "specification": {
           "conditioning": {
            "mode": "Skip"
           },
           "duration": 0.8,
           "frequency": 1200,
           "intensity": 0.8,
           "label": "sin_1200Hz",
           "onset": 0.1,
           "targeting": {
            "mode": "SingleSpeakerVolts"
           },
           "total_duration": 1,
           "type": "puretone"
          },
          "stimulus_period_onset": 55
         },
         "56": {
          "label": "silence",
          "offset": 57,
          "onset": 56,
          "specification": {
           "conditioning": {
            "mode": "Skip"
           },
           "label": "Silence",
           "onset": 0.1,
           "targeting": {
            "mode": "SingleSpeakerVolts"
           },
           "total_duration": 1,
           "type": "silence"
          },
          "stimulus_period_onset": 56
         },
         "57": {
          "label": "sin_2400Hz",
          "offset": 57.9,
          "onset": 57.1,
          "specification": {
           "conditioning": {
            "mode": "Skip"
           },
           "duration": 0.8,
           "frequency": 2400,
           "intensity": 0.8,
           "label": "sin_2400Hz",
           "onset": 0.1,
           "targeting": {
            "mode": "SingleSpeakerVolts"
           },
           "total_duration": 1,
           "type": "puretone"
          },
          "stimulus_period_onset": 57
         },
         "58": {
          "label": "silence",
          "offset": 59,
          "onset": 58,
          "specification": {
           "conditioning": {
            "mode": "Skip"
           },
           "label": "Silence",
           "onset": 0.1,
           "targeting": {
            "mode": "SingleSpeakerVolts"
           },
           "total_duration": 1,
           "type": "silence"
          },
          "stimulus_period_onset": 58
         },
         "59": {
          "label": "silence",
          "offset": 60,
          "onset": 59,
          "specification": {
           "conditioning": {
            "mode": "Skip"
           },
           "label": "Silence",
           "onset": 0.1,
           "targeting": {
            "mode": "SingleSpeakerVolts"
           },
           "total_duration": 1,
           "type": "silence"
          },
          "stimulus_period_onset": 59
         },
         "6": {
          "label": "silence",
          "offset": 7,
          "onset": 6,
          "specification": {
           "conditioning": {
            "mode": "Skip"
           },
           "label": "Silence",
           "onset": 0.1,
           "targeting": {
            "mode": "SingleSpeakerVolts"
           },
           "total_duration": 1,
           "type": "silence"
          },
          "stimulus_period_onset": 6
         },
         "60": {
          "label": "silence",
          "offset": 61,
          "onset": 60,
          "specification": {
           "conditioning": {
            "mode": "Skip"
           },
           "label": "Silence",
           "onset": 0.1,
           "targeting": {
            "mode": "SingleSpeakerVolts"
           },
           "total_duration": 1,
           "type": "silence"
          },
          "stimulus_period_onset": 60
         },
         "61": {
          "label": "silence",
          "offset": 62,
          "onset": 61,
          "specification": {
           "conditioning": {
            "mode": "Skip"
           },
           "label": "Silence",
           "onset": 0.1,
           "targeting": {
            "mode": "SingleSpeakerVolts"
           },
           "total_duration": 1,
           "type": "silence"
          },
          "stimulus_period_onset": 61
         },
         "62": {
          "label": "1pulse_1200Hz",
          "offset": 62.1,
          "onset": 62.1,
          "specification": {
           "center_frequency": 1200,
           "conditioning": {
            "mode": "Skip"
           },
           "intensity": 4,
           "label": "1pulse_1200Hz",
           "npulses": 1,
           "onset": 0.1,
           "rate": 100,
           "targeting": {
            "mode": "SingleSpeakerVolts"
           },
           "total_duration": 1,
           "type": "pulse_sequence"
          },
          "stimulus_period_onset": 62
         },
         "63": {
          "label": "silence",
          "offset": 64,
          "onset": 63,
          "specification": {
           "conditioning": {
            "mode": "Skip"
           },
           "label": "Silence",
           "onset": 0.1,
           "targeting": {
            "mode": "SingleSpeakerVolts"
           },
           "total_duration": 1,
           "type": "silence"
          },
          "stimulus_period_onset": 63
         },
         "64": {
          "label": "1pulse_1200Hz",
          "offset": 64.1,
          "onset": 64.1,
          "specification": {
           "center_frequency": 1200,
           "conditioning": {
            "mode": "Skip"
           },
           "intensity": 4,
           "label": "1pulse_1200Hz",
           "npulses": 1,
           "onset": 0.1,
           "rate": 100,
           "targeting": {
            "mode": "SingleSpeakerVolts"
           },
           "total_duration": 1,
           "type": "pulse_sequence"
          },
          "stimulus_period_onset": 64
         },
         "65": {
          "label": "silence",
          "offset": 66,
          "onset": 65,
          "specification": {
           "conditioning": {
            "mode": "Skip"
           },
           "label": "Silence",
           "onset": 0.1,
           "targeting": {
            "mode": "SingleSpeakerVolts"
           },
           "total_duration": 1,
           "type": "silence"
          },
          "stimulus_period_onset": 65
         },
         "66": {
          "label": "sin_800Hz",
          "offset": 66.9,
          "onset": 66.1,
          "specification": {
           "conditioning": {
            "mode": "Skip"
           },
           "duration": 0.8,
           "frequency": 800,
           "intensity": 0.8,
           "label": "sin_800Hz",
           "onset": 0.1,
           "targeting": {
            "mode": "SingleSpeakerVolts"
           },
           "total_duration": 1,
           "type": "puretone"
          },
          "stimulus_period_onset": 66
         },
         "67": {
          "label": "silence",
          "offset": 68,
          "onset": 67,
          "specification": {
           "conditioning": {
            "mode": "Skip"
           },
           "label": "Silence",
           "onset": 0.1,
           "targeting": {
            "mode": "SingleSpeakerVolts"
           },
           "total_duration": 1,
           "type": "silence"
          },
          "stimulus_period_onset": 67
         },
         "68": {
          "label": "sin_2400Hz",
          "offset": 68.9,
          "onset": 68.1,
          "specification": {
           "conditioning": {
            "mode": "Skip"
           },
           "duration": 0.8,
           "frequency": 2400,
           "intensity": 0.8,
           "label": "sin_2400Hz",
           "onset": 0.1,
           "targeting": {
            "mode": "SingleSpeakerVolts"
           },
           "total_duration": 1,
           "type": "puretone"
          },
          "stimulus_period_onset": 68
         },
         "69": {
          "label": "silence",
          "offset": 70,
          "onset": 69,
          "specification": {
           "conditioning": {
            "mode": "Skip"
           },
           "label": "Silence",
           "onset": 0.1,
           "targeting": {
            "mode": "SingleSpeakerVolts"
           },
           "total_duration": 1,
           "type": "silence"
          },
          "stimulus_period_onset": 69
         },
         "7": {
          "label": "silence",
          "offset": 8,
          "onset": 7,
          "specification": {
           "conditioning": {
            "mode": "Skip"
           },
           "label": "Silence",
           "onset": 0.1,
           "targeting": {
            "mode": "SingleSpeakerVolts"
           },
           "total_duration": 1,
           "type": "silence"
          },
          "stimulus_period_onset": 7
         },
         "70": {
          "label": "sin_1200Hz",
          "offset": 70.9,
          "onset": 70.1,
          "specification": {
           "conditioning": {
            "mode": "Skip"
           },
           "duration": 0.8,
           "frequency": 1200,
           "intensity": 0.8,
           "label": "sin_1200Hz",
           "onset": 0.1,
           "targeting": {
            "mode": "SingleSpeakerVolts"
           },
           "total_duration": 1,
           "type": "puretone"
          },
          "stimulus_period_onset": 70
         },
         "71": {
          "label": "silence",
          "offset": 72,
          "onset": 71,
          "specification": {
           "conditioning": {
            "mode": "Skip"
           },
           "label": "Silence",
           "onset": 0.1,
           "targeting": {
            "mode": "SingleSpeakerVolts"
           },
           "total_duration": 1,
           "type": "silence"
          },
          "stimulus_period_onset": 71
         },
         "72": {
          "label": "silence",
          "offset": 73,
          "onset": 72,
          "specification": {
           "conditioning": {
            "mode": "Skip"
           },
           "label": "Silence",
           "onset": 0.1,
           "targeting": {
            "mode": "SingleSpeakerVolts"
           },
           "total_duration": 1,
           "type": "silence"
          },
          "stimulus_period_onset": 72
         },
         "73": {
          "label": "silence",
          "offset": 74,
          "onset": 73,
          "specification": {
           "conditioning": {
            "mode": "Skip"
           },
           "label": "Silence",
           "onset": 0.1,
           "targeting": {
            "mode": "SingleSpeakerVolts"
           },
           "total_duration": 1,
           "type": "silence"
          },
          "stimulus_period_onset": 73
         },
         "74": {
          "label": "silence",
          "offset": 75,
          "onset": 74,
          "specification": {
           "conditioning": {
            "mode": "Skip"
           },
           "label": "Silence",
           "onset": 0.1,
           "targeting": {
            "mode": "SingleSpeakerVolts"
           },
           "total_duration": 1,
           "type": "silence"
          },
          "stimulus_period_onset": 74
         },
         "75": {
          "label": "sin_800Hz",
          "offset": 75.9,
          "onset": 75.1,
          "specification": {
           "conditioning": {
            "mode": "Skip"
           },
           "duration": 0.8,
           "frequency": 800,
           "intensity": 0.8,
           "label": "sin_800Hz",
           "onset": 0.1,
           "targeting": {
            "mode": "SingleSpeakerVolts"
           },
           "total_duration": 1,
           "type": "puretone"
          },
          "stimulus_period_onset": 75
         },
         "76": {
          "label": "silence",
          "offset": 77,
          "onset": 76,
          "specification": {
           "conditioning": {
            "mode": "Skip"
           },
           "label": "Silence",
           "onset": 0.1,
           "targeting": {
            "mode": "SingleSpeakerVolts"
           },
           "total_duration": 1,
           "type": "silence"
          },
          "stimulus_period_onset": 76
         },
         "77": {
          "label": "1pulse_1200Hz",
          "offset": 77.1,
          "onset": 77.1,
          "specification": {
           "center_frequency": 1200,
           "conditioning": {
            "mode": "Skip"
           },
           "intensity": 4,
           "label": "1pulse_1200Hz",
           "npulses": 1,
           "onset": 0.1,
           "rate": 100,
           "targeting": {
            "mode": "SingleSpeakerVolts"
           },
           "total_duration": 1,
           "type": "pulse_sequence"
          },
          "stimulus_period_onset": 77
         },
         "78": {
          "label": "silence",
          "offset": 79,
          "onset": 78,
          "specification": {
           "conditioning": {
            "mode": "Skip"
           },
           "label": "Silence",
           "onset": 0.1,
           "targeting": {
            "mode": "SingleSpeakerVolts"
           },
           "total_duration": 1,
           "type": "silence"
          },
          "stimulus_period_onset": 78
         },
         "79": {
          "label": "1pulse_1200Hz",
          "offset": 79.1,
          "onset": 79.1,
          "specification": {
           "center_frequency": 1200,
           "conditioning": {
            "mode": "Skip"
           },
           "intensity": 4,
           "label": "1pulse_1200Hz",
           "npulses": 1,
           "onset": 0.1,
           "rate": 100,
           "targeting": {
            "mode": "SingleSpeakerVolts"
           },
           "total_duration": 1,
           "type": "pulse_sequence"
          },
          "stimulus_period_onset": 79
         },
         "8": {
          "label": "silence",
          "offset": 9,
          "onset": 8,
          "specification": {
           "conditioning": {
            "mode": "Skip"
           },
           "label": "Silence",
           "onset": 0.1,
           "targeting": {
            "mode": "SingleSpeakerVolts"
           },
           "total_duration": 1,
           "type": "silence"
          },
          "stimulus_period_onset": 8
         },
         "80": {
          "label": "silence",
          "offset": 81,
          "onset": 80,
          "specification": {
           "conditioning": {
            "mode": "Skip"
           },
           "label": "Silence",
           "onset": 0.1,
           "targeting": {
            "mode": "SingleSpeakerVolts"
           },
           "total_duration": 1,
           "type": "silence"
          },
          "stimulus_period_onset": 80
         },
         "81": {
          "label": "sin_2400Hz",
          "offset": 81.9,
          "onset": 81.1,
          "specification": {
           "conditioning": {
            "mode": "Skip"
           },
           "duration": 0.8,
           "frequency": 2400,
           "intensity": 0.8,
           "label": "sin_2400Hz",
           "onset": 0.1,
           "targeting": {
            "mode": "SingleSpeakerVolts"
           },
           "total_duration": 1,
           "type": "puretone"
          },
          "stimulus_period_onset": 81
         },
         "82": {
          "label": "silence",
          "offset": 83,
          "onset": 82,
          "specification": {
           "conditioning": {
            "mode": "Skip"
           },
           "label": "Silence",
           "onset": 0.1,
           "targeting": {
            "mode": "SingleSpeakerVolts"
           },
           "total_duration": 1,
           "type": "silence"
          },
          "stimulus_period_onset": 82
         },
         "83": {
          "label": "sin_1200Hz",
          "offset": 83.9,
          "onset": 83.1,
          "specification": {
           "conditioning": {
            "mode": "Skip"
           },
           "duration": 0.8,
           "frequency": 1200,
           "intensity": 0.8,
           "label": "sin_1200Hz",
           "onset": 0.1,
           "targeting": {
            "mode": "SingleSpeakerVolts"
           },
           "total_duration": 1,
           "type": "puretone"
          },
          "stimulus_period_onset": 83
         },
         "84": {
          "label": "silence",
          "offset": 85,
          "onset": 84,
          "specification": {
           "conditioning": {
            "mode": "Skip"
           },
           "label": "Silence",
           "onset": 0.1,
           "targeting": {
            "mode": "SingleSpeakerVolts"
           },
           "total_duration": 1,
           "type": "silence"
          },
          "stimulus_period_onset": 84
         },
         "85": {
          "label": "silence",
          "offset": 86,
          "onset": 85,
          "specification": {
           "conditioning": {
            "mode": "Skip"
           },
           "label": "Silence",
           "onset": 0.1,
           "targeting": {
            "mode": "SingleSpeakerVolts"
           },
           "total_duration": 1,
           "type": "silence"
          },
          "stimulus_period_onset": 85
         },
         "86": {
          "label": "silence",
          "offset": 87,
          "onset": 86,
          "specification": {
           "conditioning": {
            "mode": "Skip"
           },
           "label": "Silence",
           "onset": 0.1,
           "targeting": {
            "mode": "SingleSpeakerVolts"
           },
           "total_duration": 1,
           "type": "silence"
          },
          "stimulus_period_onset": 86
         },
         "87": {
          "label": "silence",
          "offset": 88,
          "onset": 87,
          "specification": {
           "conditioning": {
            "mode": "Skip"
           },
           "label": "Silence",
           "onset": 0.1,
           "targeting": {
            "mode": "SingleSpeakerVolts"
           },
           "total_duration": 1,
           "type": "silence"
          },
          "stimulus_period_onset": 87
         },
         "88": {
          "label": "sin_2400Hz",
          "offset": 88.9,
          "onset": 88.1,
          "specification": {
           "conditioning": {
            "mode": "Skip"
           },
           "duration": 0.8,
           "frequency": 2400,
           "intensity": 0.8,
           "label": "sin_2400Hz",
           "onset": 0.1,
           "targeting": {
            "mode": "SingleSpeakerVolts"
           },
           "total_duration": 1,
           "type": "puretone"
          },
          "stimulus_period_onset": 88
         },
         "89": {
          "label": "silence",
          "offset": 90,
          "onset": 89,
          "specification": {
           "conditioning": {
            "mode": "Skip"
           },
           "label": "Silence",
           "onset": 0.1,
           "targeting": {
            "mode": "SingleSpeakerVolts"
           },
           "total_duration": 1,
           "type": "silence"
          },
          "stimulus_period_onset": 89
         },
         "9": {
          "label": "silence",
          "offset": 10,
          "onset": 9,
          "specification": {
           "conditioning": {
            "mode": "Skip"
           },
           "label": "Silence",
           "onset": 0.1,
           "targeting": {
            "mode": "SingleSpeakerVolts"
           },
           "total_duration": 1,
           "type": "silence"
          },
          "stimulus_period_onset": 9
         },
         "90": {
          "label": "sin_800Hz",
          "offset": 90.9,
          "onset": 90.1,
          "specification": {
           "conditioning": {
            "mode": "Skip"
           },
           "duration": 0.8,
           "frequency": 800,
           "intensity": 0.8,
           "label": "sin_800Hz",
           "onset": 0.1,
           "targeting": {
            "mode": "SingleSpeakerVolts"
           },
           "total_duration": 1,
           "type": "puretone"
          },
          "stimulus_period_onset": 90
         },
         "91": {
          "label": "silence",
          "offset": 92,
          "onset": 91,
          "specification": {
           "conditioning": {
            "mode": "Skip"
           },
           "label": "Silence",
           "onset": 0.1,
           "targeting": {
            "mode": "SingleSpeakerVolts"
           },
           "total_duration": 1,
           "type": "silence"
          },
          "stimulus_period_onset": 91
         },
         "92": {
          "label": "1pulse_1200Hz",
          "offset": 92.1,
          "onset": 92.1,
          "specification": {
           "center_frequency": 1200,
           "conditioning": {
            "mode": "Skip"
           },
           "intensity": 4,
           "label": "1pulse_1200Hz",
           "npulses": 1,
           "onset": 0.1,
           "rate": 100,
           "targeting": {
            "mode": "SingleSpeakerVolts"
           },
           "total_duration": 1,
           "type": "pulse_sequence"
          },
          "stimulus_period_onset": 92
         },
         "93": {
          "label": "silence",
          "offset": 94,
          "onset": 93,
          "specification": {
           "conditioning": {
            "mode": "Skip"
           },
           "label": "Silence",
           "onset": 0.1,
           "targeting": {
            "mode": "SingleSpeakerVolts"
           },
           "total_duration": 1,
           "type": "silence"
          },
          "stimulus_period_onset": 93
         },
         "94": {
          "label": "sin_1200Hz",
          "offset": 94.9,
          "onset": 94.1,
          "specification": {
           "conditioning": {
            "mode": "Skip"
           },
           "duration": 0.8,
           "frequency": 1200,
           "intensity": 0.8,
           "label": "sin_1200Hz",
           "onset": 0.1,
           "targeting": {
            "mode": "SingleSpeakerVolts"
           },
           "total_duration": 1,
           "type": "puretone"
          },
          "stimulus_period_onset": 94
         },
         "95": {
          "label": "silence",
          "offset": 96,
          "onset": 95,
          "specification": {
           "conditioning": {
            "mode": "Skip"
           },
           "label": "Silence",
           "onset": 0.1,
           "targeting": {
            "mode": "SingleSpeakerVolts"
           },
           "total_duration": 1,
           "type": "silence"
          },
          "stimulus_period_onset": 95
         },
         "96": {
          "label": "1pulse_1200Hz",
          "offset": 96.1,
          "onset": 96.1,
          "specification": {
           "center_frequency": 1200,
           "conditioning": {
            "mode": "Skip"
           },
           "intensity": 4,
           "label": "1pulse_1200Hz",
           "npulses": 1,
           "onset": 0.1,
           "rate": 100,
           "targeting": {
            "mode": "SingleSpeakerVolts"
           },
           "total_duration": 1,
           "type": "pulse_sequence"
          },
          "stimulus_period_onset": 96
         },
         "97": {
          "label": "silence",
          "offset": 98,
          "onset": 97,
          "specification": {
           "conditioning": {
            "mode": "Skip"
           },
           "label": "Silence",
           "onset": 0.1,
           "targeting": {
            "mode": "SingleSpeakerVolts"
           },
           "total_duration": 1,
           "type": "silence"
          },
          "stimulus_period_onset": 97
         },
         "98": {
          "label": "silence",
          "offset": 99,
          "onset": 98,
          "specification": {
           "conditioning": {
            "mode": "Skip"
           },
           "label": "Silence",
           "onset": 0.1,
           "targeting": {
            "mode": "SingleSpeakerVolts"
           },
           "total_duration": 1,
           "type": "silence"
          },
          "stimulus_period_onset": 98
         },
         "99": {
          "label": "silence",
          "offset": 100,
          "onset": 99,
          "specification": {
           "conditioning": {
            "mode": "Skip"
           },
           "label": "Silence",
           "onset": 0.1,
           "targeting": {
            "mode": "SingleSpeakerVolts"
           },
           "total_duration": 1,
           "type": "silence"
          },
          "stimulus_period_onset": 99
         }
        },
        "fuse_stimuli": true,
        "stimulus_sequence_order": {
         "0": 0,
         "1": 0,
         "10": 2,
         "100": 0,
         "101": 4,
         "102": 0,
         "103": 1,
         "104": 0,
         "105": 2,
         "106": 0,
         "107": 5,
         "108": 0,
         "109": 3,
         "11": 0,
         "110": 0,
         "111": 0,
         "112": 0,
         "113": 0,
         "114": 2,
         "115": 0,
         "116": 5,
         "117": 0,
         "118": 1,
         "119": 0,
         "12": 1,
         "120": 4,
         "121": 0,
         "122": 3,
         "123": 0,
         "124": 0,
         "125": 0,
         "126": 0,
         "127": 4,
         "128": 0,
         "129": 2,
         "13": 0,
         "130": 0,
         "131": 3,
         "132": 0,
         "133": 5,
         "134": 0,
         "135": 1,
         "136": 0,
         "137": 0,
         "138": 0,
         "139": 0,
         "14": 4,
         "140": 0,
         "15": 0,
         "16": 5,
         "17": 0,
         "18": 3,
         "19": 0,
         "2": 0,
         "20": 0,
         "21": 0,
         "22": 0,
         "23": 2,
         "24": 0,
         "25": 1,
         "26": 0,
         "27": 3,
         "28": 0,
         "29": 4,
         "3": 0,
         "30": 0,
         "31": 5,
         "32": 0,
         "33": 0,
         "34": 0,
         "35": 0,
         "36": 2,
         "37": 0,
         "38": 4,
         "39": 0,
         "4": 0,
         "40": 3,
         "41": 0,
         "42": 5,
         "43": 0,
         "44": 1,
         "45": 0,
         "46": 0,
         "47": 0,
         "48": 0,
         "49": 4,
         "5": 0,
         "50": 0,
         "51": 1,
         "52": 0,
         "53": 2,
         "54": 0,
         "55": 3,
         "56": 0,
         "57": 5,
         "58": 0,
         "59": 0,
         "6": 0,
         "60": 0,
         "61": 0,
         "62": 2,
         "63": 0,
         "64": 1,
         "65": 0,
         "66": 4,
         "67": 0,
         "68": 5,
         "69": 0,
         "7": 0,
         "70": 3,
         "71": 0,
         "72": 0,
         "73": 0,
         "74": 0,
         "75": 4,
         "76": 0,
         "77": 1,
         "78": 0,
         "79": 2,
         "8": 0,
         "80": 0,
         "81": 5,
         "82": 0,
         "83": 3,
         "84": 0,
         "85": 0,
         "86": 0,
         "87": 0,
         "88": 5,
         "89": 0,
         "9": 0,
         "90": 4,
         "91": 0,
         "92": 1,
         "93": 0,
         "94": 3,
         "95": 0,
         "96": 2,
         "97": 0,
         "98": 0,
         "99": 0
        }
       },
       "metadata": {
        "0": {
         "inlet_offsetx": 51200,
         "inlet_onsetx": 0,
         "label": "silence",
         "offset": 1,
         "onset": 0,
         "params": {
          "conditioning": {
           "mode": "Skip",
           "reverb_period": 0.08
          },
          "label": "Silence",
          "onset": 0.1,
          "path": "C:\\Users\\jlab\\Repos\\2021_acoustic_stimulus_api\\stimuli\\stimset_LB_zf2",
          "plot": true,
          "reverb_period": 0.08,
          "samplerate": 51200,
          "show": false,
          "targeting": {
           "mode": "SingleSpeakerVolts"
          },
          "total_duration": 1,
          "type": "silence",
          "xlims": {
           "0": {
            "0": 0,
            "1": 0.99998046875
           },
           "1": {
            "0": -0.020000000000000004,
            "1": 1.1800000000000002
           }
          }
         },
         "stimulus_period_onset": 0,
         "stimulus_type": "silence"
        },
        "1": {
         "inlet_offsetx": 51200,
         "inlet_onsetx": 0,
         "label": "silence",
         "offset": 2,
         "onset": 1,
         "params": {
          "conditioning": {
           "mode": "Skip",
           "reverb_period": 0.08
          },
          "label": "Silence",
          "onset": 0.1,
          "path": "C:\\Users\\jlab\\Repos\\2021_acoustic_stimulus_api\\stimuli\\stimset_LB_zf2",
          "plot": true,
          "reverb_period": 0.08,
          "samplerate": 51200,
          "show": false,
          "targeting": {
           "mode": "SingleSpeakerVolts"
          },
          "total_duration": 1,
          "type": "silence",
          "xlims": {
           "0": {
            "0": 0,
            "1": 0.99998046875
           },
           "1": {
            "0": -0.020000000000000004,
            "1": 1.1800000000000002
           }
          }
         },
         "stimulus_period_onset": 1,
         "stimulus_type": "silence"
        },
        "10": {
         "inlet_offsetx": 9216,
         "inlet_onsetx": 1024,
         "label": "1pulse_1200Hz",
         "offset": 10.1,
         "onset": 10.1,
         "params": {
          "center_frequency": 1200,
          "conditioning": {
           "mode": "Skip",
           "reverb_period": 0.08
          },
          "duration": 0,
          "intensity": 4,
          "label": "1pulse_1200Hz",
          "npulses": 1,
          "onset": 0.1,
          "path": "C:\\Users\\jlab\\Repos\\2021_acoustic_stimulus_api\\stimuli\\stimset_LB_zf2",
          "plot": true,
          "pulse_inverted": false,
          "rate": 100,
          "reverb_period": 0.08,
          "samplerate": 51200,
          "show": false,
          "targeting": {
           "mode": "SingleSpeakerVolts"
          },
          "total_duration": 1,
          "type": "pulse_sequence",
          "xlims": {
           "0": {
            "0": 0,
            "1": 0.15998046875
           },
           "1": {
            "0": -0.020000000000000004,
            "1": 0.18
           },
           "2": {
            "0": 0.08,
            "1": 0.1
           },
           "3": {
            "0": 0.08,
            "1": 0.08833333333333333
           }
          }
         },
         "pulse_indeces": {
          "0": 5120
         },
         "stimulus_period_onset": 10
        },
        "100": {
         "inlet_offsetx": 51200,
         "inlet_onsetx": 0,
         "label": "silence",
         "offset": 101,
         "onset": 100,
         "params": {
          "conditioning": {
           "mode": "Skip",
           "reverb_period": 0.08
          },
          "label": "Silence",
          "onset": 0.1,
          "path": "C:\\Users\\jlab\\Repos\\2021_acoustic_stimulus_api\\stimuli\\stimset_LB_zf2",
          "plot": true,
          "reverb_period": 0.08,
          "samplerate": 51200,
          "show": false,
          "targeting": {
           "mode": "SingleSpeakerVolts"
          },
          "total_duration": 1,
          "type": "silence",
          "xlims": {
           "0": {
            "0": 0,
            "1": 0.99998046875
           },
           "1": {
            "0": -0.020000000000000004,
            "1": 1.1800000000000002
           }
          }
         },
         "stimulus_period_onset": 100,
         "stimulus_type": "silence"
        },
        "101": {
         "inlet_offsetx": 50176,
         "inlet_onsetx": 1024,
         "label": "sin_800Hz",
         "offset": 101.9,
         "onset": 101.1,
         "params": {
          "conditioning": {
           "mode": "Skip",
           "reverb_period": 0.08
          },
          "duration": 0.8,
          "frequency": 800,
          "intensity": 0.8,
          "label": "sin_800Hz",
          "onset": 0.1,
          "path": "C:\\Users\\jlab\\Repos\\2021_acoustic_stimulus_api\\stimuli\\stimset_LB_zf2",
          "plot": true,
          "ramp_duration": 0.02,
          "reverb_period": 0.08,
          "samplerate": 51200,
          "show": false,
          "targeting": {
           "mode": "SingleSpeakerVolts"
          },
          "total_duration": 1,
          "type": "puretone",
          "xlims": {
           "0": {
            "0": 0,
            "1": 0.95998046875
           },
           "1": {
            "0": -0.020000000000000004,
            "1": 0.98
           },
           "2": {
            "0": 0.1075,
            "1": 0.88
           },
           "3": {
            "0": 0.815,
            "1": 0.88
           },
           "4": {
            "0": 0.08,
            "1": 0.1325
           }
          }
         },
         "stimulus_period_onset": 101
        },
        "102": {
         "inlet_offsetx": 51200,
         "inlet_onsetx": 0,
         "label": "silence",
         "offset": 103,
         "onset": 102,
         "params": {
          "conditioning": {
           "mode": "Skip",
           "reverb_period": 0.08
          },
          "label": "Silence",
          "onset": 0.1,
          "path": "C:\\Users\\jlab\\Repos\\2021_acoustic_stimulus_api\\stimuli\\stimset_LB_zf2",
          "plot": true,
          "reverb_period": 0.08,
          "samplerate": 51200,
          "show": false,
          "targeting": {
           "mode": "SingleSpeakerVolts"
          },
          "total_duration": 1,
          "type": "silence",
          "xlims": {
           "0": {
            "0": 0,
            "1": 0.99998046875
           },
           "1": {
            "0": -0.020000000000000004,
            "1": 1.1800000000000002
           }
          }
         },
         "stimulus_period_onset": 102,
         "stimulus_type": "silence"
        },
        "103": {
         "inlet_offsetx": 9216,
         "inlet_onsetx": 1024,
         "label": "1pulse_1200Hz",
         "offset": 103.1,
         "onset": 103.1,
         "params": {
          "center_frequency": 1200,
          "conditioning": {
           "mode": "Skip",
           "reverb_period": 0.08
          },
          "duration": 0,
          "intensity": 4,
          "label": "1pulse_1200Hz",
          "npulses": 1,
          "onset": 0.1,
          "path": "C:\\Users\\jlab\\Repos\\2021_acoustic_stimulus_api\\stimuli\\stimset_LB_zf2",
          "plot": true,
          "pulse_inverted": false,
          "rate": 100,
          "reverb_period": 0.08,
          "samplerate": 51200,
          "show": false,
          "targeting": {
           "mode": "SingleSpeakerVolts"
          },
          "total_duration": 1,
          "type": "pulse_sequence",
          "xlims": {
           "0": {
            "0": 0,
            "1": 0.15998046875
           },
           "1": {
            "0": -0.020000000000000004,
            "1": 0.18
           },
           "2": {
            "0": 0.08,
            "1": 0.1
           },
           "3": {
            "0": 0.08,
            "1": 0.08833333333333333
           }
          }
         },
         "pulse_indeces": {
          "0": 5120
         },
         "stimulus_period_onset": 103
        },
        "104": {
         "inlet_offsetx": 51200,
         "inlet_onsetx": 0,
         "label": "silence",
         "offset": 105,
         "onset": 104,
         "params": {
          "conditioning": {
           "mode": "Skip",
           "reverb_period": 0.08
          },
          "label": "Silence",
          "onset": 0.1,
          "path": "C:\\Users\\jlab\\Repos\\2021_acoustic_stimulus_api\\stimuli\\stimset_LB_zf2",
          "plot": true,
          "reverb_period": 0.08,
          "samplerate": 51200,
          "show": false,
          "targeting": {
           "mode": "SingleSpeakerVolts"
          },
          "total_duration": 1,
          "type": "silence",
          "xlims": {
           "0": {
            "0": 0,
            "1": 0.99998046875
           },
           "1": {
            "0": -0.020000000000000004,
            "1": 1.1800000000000002
           }
          }
         },
         "stimulus_period_onset": 104,
         "stimulus_type": "silence"
        },
        "105": {
         "inlet_offsetx": 9216,
         "inlet_onsetx": 1024,
         "label": "1pulse_1200Hz",
         "offset": 105.1,
         "onset": 105.1,
         "params": {
          "center_frequency": 1200,
          "conditioning": {
           "mode": "Skip",
           "reverb_period": 0.08
          },
          "duration": 0,
          "intensity": 4,
          "label": "1pulse_1200Hz",
          "npulses": 1,
          "onset": 0.1,
          "path": "C:\\Users\\jlab\\Repos\\2021_acoustic_stimulus_api\\stimuli\\stimset_LB_zf2",
          "plot": true,
          "pulse_inverted": false,
          "rate": 100,
          "reverb_period": 0.08,
          "samplerate": 51200,
          "show": false,
          "targeting": {
           "mode": "SingleSpeakerVolts"
          },
          "total_duration": 1,
          "type": "pulse_sequence",
          "xlims": {
           "0": {
            "0": 0,
            "1": 0.15998046875
           },
           "1": {
            "0": -0.020000000000000004,
            "1": 0.18
           },
           "2": {
            "0": 0.08,
            "1": 0.1
           },
           "3": {
            "0": 0.08,
            "1": 0.08833333333333333
           }
          }
         },
         "pulse_indeces": {
          "0": 5120
         },
         "stimulus_period_onset": 105
        },
        "106": {
         "inlet_offsetx": 51200,
         "inlet_onsetx": 0,
         "label": "silence",
         "offset": 107,
         "onset": 106,
         "params": {
          "conditioning": {
           "mode": "Skip",
           "reverb_period": 0.08
          },
          "label": "Silence",
          "onset": 0.1,
          "path": "C:\\Users\\jlab\\Repos\\2021_acoustic_stimulus_api\\stimuli\\stimset_LB_zf2",
          "plot": true,
          "reverb_period": 0.08,
          "samplerate": 51200,
          "show": false,
          "targeting": {
           "mode": "SingleSpeakerVolts"
          },
          "total_duration": 1,
          "type": "silence",
          "xlims": {
           "0": {
            "0": 0,
            "1": 0.99998046875
           },
           "1": {
            "0": -0.020000000000000004,
            "1": 1.1800000000000002
           }
          }
         },
         "stimulus_period_onset": 106,
         "stimulus_type": "silence"
        },
        "107": {
         "inlet_offsetx": 50176,
         "inlet_onsetx": 1024,
         "label": "sin_2400Hz",
         "offset": 107.9,
         "onset": 107.1,
         "params": {
          "conditioning": {
           "mode": "Skip",
           "reverb_period": 0.08
          },
          "duration": 0.8,
          "frequency": 2400,
          "intensity": 0.8,
          "label": "sin_2400Hz",
          "onset": 0.1,
          "path": "C:\\Users\\jlab\\Repos\\2021_acoustic_stimulus_api\\stimuli\\stimset_LB_zf2",
          "plot": true,
          "ramp_duration": 0.02,
          "reverb_period": 0.08,
          "samplerate": 51200,
          "show": false,
          "targeting": {
           "mode": "SingleSpeakerVolts"
          },
          "total_duration": 1,
          "type": "puretone",
          "xlims": {
           "0": {
            "0": 0,
            "1": 0.95998046875
           },
           "1": {
            "0": -0.020000000000000004,
            "1": 0.98
           },
           "2": {
            "0": 0.11583333333333333,
            "1": 0.88
           },
           "3": {
            "0": 0.8316666666666667,
            "1": 0.88
           },
           "4": {
            "0": 0.08,
            "1": 0.12416666666666666
           }
          }
         },
         "stimulus_period_onset": 107
        },
        "108": {
         "inlet_offsetx": 51200,
         "inlet_onsetx": 0,
         "label": "silence",
         "offset": 109,
         "onset": 108,
         "params": {
          "conditioning": {
           "mode": "Skip",
           "reverb_period": 0.08
          },
          "label": "Silence",
          "onset": 0.1,
          "path": "C:\\Users\\jlab\\Repos\\2021_acoustic_stimulus_api\\stimuli\\stimset_LB_zf2",
          "plot": true,
          "reverb_period": 0.08,
          "samplerate": 51200,
          "show": false,
          "targeting": {
           "mode": "SingleSpeakerVolts"
          },
          "total_duration": 1,
          "type": "silence",
          "xlims": {
           "0": {
            "0": 0,
            "1": 0.99998046875
           },
           "1": {
            "0": -0.020000000000000004,
            "1": 1.1800000000000002
           }
          }
         },
         "stimulus_period_onset": 108,
         "stimulus_type": "silence"
        },
        "109": {
         "inlet_offsetx": 50176,
         "inlet_onsetx": 1024,
         "label": "sin_1200Hz",
         "offset": 109.9,
         "onset": 109.1,
         "params": {
          "conditioning": {
           "mode": "Skip",
           "reverb_period": 0.08
          },
          "duration": 0.8,
          "frequency": 1200,
          "intensity": 0.8,
          "label": "sin_1200Hz",
          "onset": 0.1,
          "path": "C:\\Users\\jlab\\Repos\\2021_acoustic_stimulus_api\\stimuli\\stimset_LB_zf2",
          "plot": true,
          "ramp_duration": 0.02,
          "reverb_period": 0.08,
          "samplerate": 51200,
          "show": false,
          "targeting": {
           "mode": "SingleSpeakerVolts"
          },
          "total_duration": 1,
          "type": "puretone",
          "xlims": {
           "0": {
            "0": 0,
            "1": 0.95998046875
           },
           "1": {
            "0": -0.020000000000000004,
            "1": 0.98
           },
           "2": {
            "0": 0.11166666666666666,
            "1": 0.88
           },
           "3": {
            "0": 0.8233333333333334,
            "1": 0.88
           },
           "4": {
            "0": 0.08,
            "1": 0.12833333333333333
           }
          }
         },
         "stimulus_period_onset": 109
        },
        "11": {
         "inlet_offsetx": 51200,
         "inlet_onsetx": 0,
         "label": "silence",
         "offset": 12,
         "onset": 11,
         "params": {
          "conditioning": {
           "mode": "Skip",
           "reverb_period": 0.08
          },
          "label": "Silence",
          "onset": 0.1,
          "path": "C:\\Users\\jlab\\Repos\\2021_acoustic_stimulus_api\\stimuli\\stimset_LB_zf2",
          "plot": true,
          "reverb_period": 0.08,
          "samplerate": 51200,
          "show": false,
          "targeting": {
           "mode": "SingleSpeakerVolts"
          },
          "total_duration": 1,
          "type": "silence",
          "xlims": {
           "0": {
            "0": 0,
            "1": 0.99998046875
           },
           "1": {
            "0": -0.020000000000000004,
            "1": 1.1800000000000002
           }
          }
         },
         "stimulus_period_onset": 11,
         "stimulus_type": "silence"
        },
        "110": {
         "inlet_offsetx": 51200,
         "inlet_onsetx": 0,
         "label": "silence",
         "offset": 111,
         "onset": 110,
         "params": {
          "conditioning": {
           "mode": "Skip",
           "reverb_period": 0.08
          },
          "label": "Silence",
          "onset": 0.1,
          "path": "C:\\Users\\jlab\\Repos\\2021_acoustic_stimulus_api\\stimuli\\stimset_LB_zf2",
          "plot": true,
          "reverb_period": 0.08,
          "samplerate": 51200,
          "show": false,
          "targeting": {
           "mode": "SingleSpeakerVolts"
          },
          "total_duration": 1,
          "type": "silence",
          "xlims": {
           "0": {
            "0": 0,
            "1": 0.99998046875
           },
           "1": {
            "0": -0.020000000000000004,
            "1": 1.1800000000000002
           }
          }
         },
         "stimulus_period_onset": 110,
         "stimulus_type": "silence"
        },
        "111": {
         "inlet_offsetx": 51200,
         "inlet_onsetx": 0,
         "label": "silence",
         "offset": 112,
         "onset": 111,
         "params": {
          "conditioning": {
           "mode": "Skip",
           "reverb_period": 0.08
          },
          "label": "Silence",
          "onset": 0.1,
          "path": "C:\\Users\\jlab\\Repos\\2021_acoustic_stimulus_api\\stimuli\\stimset_LB_zf2",
          "plot": true,
          "reverb_period": 0.08,
          "samplerate": 51200,
          "show": false,
          "targeting": {
           "mode": "SingleSpeakerVolts"
          },
          "total_duration": 1,
          "type": "silence",
          "xlims": {
           "0": {
            "0": 0,
            "1": 0.99998046875
           },
           "1": {
            "0": -0.020000000000000004,
            "1": 1.1800000000000002
           }
          }
         },
         "stimulus_period_onset": 111,
         "stimulus_type": "silence"
        },
        "112": {
         "inlet_offsetx": 51200,
         "inlet_onsetx": 0,
         "label": "silence",
         "offset": 113,
         "onset": 112,
         "params": {
          "conditioning": {
           "mode": "Skip",
           "reverb_period": 0.08
          },
          "label": "Silence",
          "onset": 0.1,
          "path": "C:\\Users\\jlab\\Repos\\2021_acoustic_stimulus_api\\stimuli\\stimset_LB_zf2",
          "plot": true,
          "reverb_period": 0.08,
          "samplerate": 51200,
          "show": false,
          "targeting": {
           "mode": "SingleSpeakerVolts"
          },
          "total_duration": 1,
          "type": "silence",
          "xlims": {
           "0": {
            "0": 0,
            "1": 0.99998046875
           },
           "1": {
            "0": -0.020000000000000004,
            "1": 1.1800000000000002
           }
          }
         },
         "stimulus_period_onset": 112,
         "stimulus_type": "silence"
        },
        "113": {
         "inlet_offsetx": 51200,
         "inlet_onsetx": 0,
         "label": "silence",
         "offset": 114,
         "onset": 113,
         "params": {
          "conditioning": {
           "mode": "Skip",
           "reverb_period": 0.08
          },
          "label": "Silence",
          "onset": 0.1,
          "path": "C:\\Users\\jlab\\Repos\\2021_acoustic_stimulus_api\\stimuli\\stimset_LB_zf2",
          "plot": true,
          "reverb_period": 0.08,
          "samplerate": 51200,
          "show": false,
          "targeting": {
           "mode": "SingleSpeakerVolts"
          },
          "total_duration": 1,
          "type": "silence",
          "xlims": {
           "0": {
            "0": 0,
            "1": 0.99998046875
           },
           "1": {
            "0": -0.020000000000000004,
            "1": 1.1800000000000002
           }
          }
         },
         "stimulus_period_onset": 113,
         "stimulus_type": "silence"
        },
        "114": {
         "inlet_offsetx": 9216,
         "inlet_onsetx": 1024,
         "label": "1pulse_1200Hz",
         "offset": 114.1,
         "onset": 114.1,
         "params": {
          "center_frequency": 1200,
          "conditioning": {
           "mode": "Skip",
           "reverb_period": 0.08
          },
          "duration": 0,
          "intensity": 4,
          "label": "1pulse_1200Hz",
          "npulses": 1,
          "onset": 0.1,
          "path": "C:\\Users\\jlab\\Repos\\2021_acoustic_stimulus_api\\stimuli\\stimset_LB_zf2",
          "plot": true,
          "pulse_inverted": false,
          "rate": 100,
          "reverb_period": 0.08,
          "samplerate": 51200,
          "show": false,
          "targeting": {
           "mode": "SingleSpeakerVolts"
          },
          "total_duration": 1,
          "type": "pulse_sequence",
          "xlims": {
           "0": {
            "0": 0,
            "1": 0.15998046875
           },
           "1": {
            "0": -0.020000000000000004,
            "1": 0.18
           },
           "2": {
            "0": 0.08,
            "1": 0.1
           },
           "3": {
            "0": 0.08,
            "1": 0.08833333333333333
           }
          }
         },
         "pulse_indeces": {
          "0": 5120
         },
         "stimulus_period_onset": 114
        },
        "115": {
         "inlet_offsetx": 51200,
         "inlet_onsetx": 0,
         "label": "silence",
         "offset": 116,
         "onset": 115,
         "params": {
          "conditioning": {
           "mode": "Skip",
           "reverb_period": 0.08
          },
          "label": "Silence",
          "onset": 0.1,
          "path": "C:\\Users\\jlab\\Repos\\2021_acoustic_stimulus_api\\stimuli\\stimset_LB_zf2",
          "plot": true,
          "reverb_period": 0.08,
          "samplerate": 51200,
          "show": false,
          "targeting": {
           "mode": "SingleSpeakerVolts"
          },
          "total_duration": 1,
          "type": "silence",
          "xlims": {
           "0": {
            "0": 0,
            "1": 0.99998046875
           },
           "1": {
            "0": -0.020000000000000004,
            "1": 1.1800000000000002
           }
          }
         },
         "stimulus_period_onset": 115,
         "stimulus_type": "silence"
        },
        "116": {
         "inlet_offsetx": 50176,
         "inlet_onsetx": 1024,
         "label": "sin_2400Hz",
         "offset": 116.9,
         "onset": 116.1,
         "params": {
          "conditioning": {
           "mode": "Skip",
           "reverb_period": 0.08
          },
          "duration": 0.8,
          "frequency": 2400,
          "intensity": 0.8,
          "label": "sin_2400Hz",
          "onset": 0.1,
          "path": "C:\\Users\\jlab\\Repos\\2021_acoustic_stimulus_api\\stimuli\\stimset_LB_zf2",
          "plot": true,
          "ramp_duration": 0.02,
          "reverb_period": 0.08,
          "samplerate": 51200,
          "show": false,
          "targeting": {
           "mode": "SingleSpeakerVolts"
          },
          "total_duration": 1,
          "type": "puretone",
          "xlims": {
           "0": {
            "0": 0,
            "1": 0.95998046875
           },
           "1": {
            "0": -0.020000000000000004,
            "1": 0.98
           },
           "2": {
            "0": 0.11583333333333333,
            "1": 0.88
           },
           "3": {
            "0": 0.8316666666666667,
            "1": 0.88
           },
           "4": {
            "0": 0.08,
            "1": 0.12416666666666666
           }
          }
         },
         "stimulus_period_onset": 116
        },
        "117": {
         "inlet_offsetx": 51200,
         "inlet_onsetx": 0,
         "label": "silence",
         "offset": 118,
         "onset": 117,
         "params": {
          "conditioning": {
           "mode": "Skip",
           "reverb_period": 0.08
          },
          "label": "Silence",
          "onset": 0.1,
          "path": "C:\\Users\\jlab\\Repos\\2021_acoustic_stimulus_api\\stimuli\\stimset_LB_zf2",
          "plot": true,
          "reverb_period": 0.08,
          "samplerate": 51200,
          "show": false,
          "targeting": {
           "mode": "SingleSpeakerVolts"
          },
          "total_duration": 1,
          "type": "silence",
          "xlims": {
           "0": {
            "0": 0,
            "1": 0.99998046875
           },
           "1": {
            "0": -0.020000000000000004,
            "1": 1.1800000000000002
           }
          }
         },
         "stimulus_period_onset": 117,
         "stimulus_type": "silence"
        },
        "118": {
         "inlet_offsetx": 9216,
         "inlet_onsetx": 1024,
         "label": "1pulse_1200Hz",
         "offset": 118.1,
         "onset": 118.1,
         "params": {
          "center_frequency": 1200,
          "conditioning": {
           "mode": "Skip",
           "reverb_period": 0.08
          },
          "duration": 0,
          "intensity": 4,
          "label": "1pulse_1200Hz",
          "npulses": 1,
          "onset": 0.1,
          "path": "C:\\Users\\jlab\\Repos\\2021_acoustic_stimulus_api\\stimuli\\stimset_LB_zf2",
          "plot": true,
          "pulse_inverted": false,
          "rate": 100,
          "reverb_period": 0.08,
          "samplerate": 51200,
          "show": false,
          "targeting": {
           "mode": "SingleSpeakerVolts"
          },
          "total_duration": 1,
          "type": "pulse_sequence",
          "xlims": {
           "0": {
            "0": 0,
            "1": 0.15998046875
           },
           "1": {
            "0": -0.020000000000000004,
            "1": 0.18
           },
           "2": {
            "0": 0.08,
            "1": 0.1
           },
           "3": {
            "0": 0.08,
            "1": 0.08833333333333333
           }
          }
         },
         "pulse_indeces": {
          "0": 5120
         },
         "stimulus_period_onset": 118
        },
        "119": {
         "inlet_offsetx": 51200,
         "inlet_onsetx": 0,
         "label": "silence",
         "offset": 120,
         "onset": 119,
         "params": {
          "conditioning": {
           "mode": "Skip",
           "reverb_period": 0.08
          },
          "label": "Silence",
          "onset": 0.1,
          "path": "C:\\Users\\jlab\\Repos\\2021_acoustic_stimulus_api\\stimuli\\stimset_LB_zf2",
          "plot": true,
          "reverb_period": 0.08,
          "samplerate": 51200,
          "show": false,
          "targeting": {
           "mode": "SingleSpeakerVolts"
          },
          "total_duration": 1,
          "type": "silence",
          "xlims": {
           "0": {
            "0": 0,
            "1": 0.99998046875
           },
           "1": {
            "0": -0.020000000000000004,
            "1": 1.1800000000000002
           }
          }
         },
         "stimulus_period_onset": 119,
         "stimulus_type": "silence"
        },
        "12": {
         "inlet_offsetx": 9216,
         "inlet_onsetx": 1024,
         "label": "1pulse_1200Hz",
         "offset": 12.1,
         "onset": 12.1,
         "params": {
          "center_frequency": 1200,
          "conditioning": {
           "mode": "Skip",
           "reverb_period": 0.08
          },
          "duration": 0,
          "intensity": 4,
          "label": "1pulse_1200Hz",
          "npulses": 1,
          "onset": 0.1,
          "path": "C:\\Users\\jlab\\Repos\\2021_acoustic_stimulus_api\\stimuli\\stimset_LB_zf2",
          "plot": true,
          "pulse_inverted": false,
          "rate": 100,
          "reverb_period": 0.08,
          "samplerate": 51200,
          "show": false,
          "targeting": {
           "mode": "SingleSpeakerVolts"
          },
          "total_duration": 1,
          "type": "pulse_sequence",
          "xlims": {
           "0": {
            "0": 0,
            "1": 0.15998046875
           },
           "1": {
            "0": -0.020000000000000004,
            "1": 0.18
           },
           "2": {
            "0": 0.08,
            "1": 0.1
           },
           "3": {
            "0": 0.08,
            "1": 0.08833333333333333
           }
          }
         },
         "pulse_indeces": {
          "0": 5120
         },
         "stimulus_period_onset": 12
        },
        "120": {
         "inlet_offsetx": 50176,
         "inlet_onsetx": 1024,
         "label": "sin_800Hz",
         "offset": 120.9,
         "onset": 120.1,
         "params": {
          "conditioning": {
           "mode": "Skip",
           "reverb_period": 0.08
          },
          "duration": 0.8,
          "frequency": 800,
          "intensity": 0.8,
          "label": "sin_800Hz",
          "onset": 0.1,
          "path": "C:\\Users\\jlab\\Repos\\2021_acoustic_stimulus_api\\stimuli\\stimset_LB_zf2",
          "plot": true,
          "ramp_duration": 0.02,
          "reverb_period": 0.08,
          "samplerate": 51200,
          "show": false,
          "targeting": {
           "mode": "SingleSpeakerVolts"
          },
          "total_duration": 1,
          "type": "puretone",
          "xlims": {
           "0": {
            "0": 0,
            "1": 0.95998046875
           },
           "1": {
            "0": -0.020000000000000004,
            "1": 0.98
           },
           "2": {
            "0": 0.1075,
            "1": 0.88
           },
           "3": {
            "0": 0.815,
            "1": 0.88
           },
           "4": {
            "0": 0.08,
            "1": 0.1325
           }
          }
         },
         "stimulus_period_onset": 120
        },
        "121": {
         "inlet_offsetx": 51200,
         "inlet_onsetx": 0,
         "label": "silence",
         "offset": 122,
         "onset": 121,
         "params": {
          "conditioning": {
           "mode": "Skip",
           "reverb_period": 0.08
          },
          "label": "Silence",
          "onset": 0.1,
          "path": "C:\\Users\\jlab\\Repos\\2021_acoustic_stimulus_api\\stimuli\\stimset_LB_zf2",
          "plot": true,
          "reverb_period": 0.08,
          "samplerate": 51200,
          "show": false,
          "targeting": {
           "mode": "SingleSpeakerVolts"
          },
          "total_duration": 1,
          "type": "silence",
          "xlims": {
           "0": {
            "0": 0,
            "1": 0.99998046875
           },
           "1": {
            "0": -0.020000000000000004,
            "1": 1.1800000000000002
           }
          }
         },
         "stimulus_period_onset": 121,
         "stimulus_type": "silence"
        },
        "122": {
         "inlet_offsetx": 50176,
         "inlet_onsetx": 1024,
         "label": "sin_1200Hz",
         "offset": 122.9,
         "onset": 122.1,
         "params": {
          "conditioning": {
           "mode": "Skip",
           "reverb_period": 0.08
          },
          "duration": 0.8,
          "frequency": 1200,
          "intensity": 0.8,
          "label": "sin_1200Hz",
          "onset": 0.1,
          "path": "C:\\Users\\jlab\\Repos\\2021_acoustic_stimulus_api\\stimuli\\stimset_LB_zf2",
          "plot": true,
          "ramp_duration": 0.02,
          "reverb_period": 0.08,
          "samplerate": 51200,
          "show": false,
          "targeting": {
           "mode": "SingleSpeakerVolts"
          },
          "total_duration": 1,
          "type": "puretone",
          "xlims": {
           "0": {
            "0": 0,
            "1": 0.95998046875
           },
           "1": {
            "0": -0.020000000000000004,
            "1": 0.98
           },
           "2": {
            "0": 0.11166666666666666,
            "1": 0.88
           },
           "3": {
            "0": 0.8233333333333334,
            "1": 0.88
           },
           "4": {
            "0": 0.08,
            "1": 0.12833333333333333
           }
          }
         },
         "stimulus_period_onset": 122
        },
        "123": {
         "inlet_offsetx": 51200,
         "inlet_onsetx": 0,
         "label": "silence",
         "offset": 124,
         "onset": 123,
         "params": {
          "conditioning": {
           "mode": "Skip",
           "reverb_period": 0.08
          },
          "label": "Silence",
          "onset": 0.1,
          "path": "C:\\Users\\jlab\\Repos\\2021_acoustic_stimulus_api\\stimuli\\stimset_LB_zf2",
          "plot": true,
          "reverb_period": 0.08,
          "samplerate": 51200,
          "show": false,
          "targeting": {
           "mode": "SingleSpeakerVolts"
          },
          "total_duration": 1,
          "type": "silence",
          "xlims": {
           "0": {
            "0": 0,
            "1": 0.99998046875
           },
           "1": {
            "0": -0.020000000000000004,
            "1": 1.1800000000000002
           }
          }
         },
         "stimulus_period_onset": 123,
         "stimulus_type": "silence"
        },
        "124": {
         "inlet_offsetx": 51200,
         "inlet_onsetx": 0,
         "label": "silence",
         "offset": 125,
         "onset": 124,
         "params": {
          "conditioning": {
           "mode": "Skip",
           "reverb_period": 0.08
          },
          "label": "Silence",
          "onset": 0.1,
          "path": "C:\\Users\\jlab\\Repos\\2021_acoustic_stimulus_api\\stimuli\\stimset_LB_zf2",
          "plot": true,
          "reverb_period": 0.08,
          "samplerate": 51200,
          "show": false,
          "targeting": {
           "mode": "SingleSpeakerVolts"
          },
          "total_duration": 1,
          "type": "silence",
          "xlims": {
           "0": {
            "0": 0,
            "1": 0.99998046875
           },
           "1": {
            "0": -0.020000000000000004,
            "1": 1.1800000000000002
           }
          }
         },
         "stimulus_period_onset": 124,
         "stimulus_type": "silence"
        },
        "125": {
         "inlet_offsetx": 51200,
         "inlet_onsetx": 0,
         "label": "silence",
         "offset": 126,
         "onset": 125,
         "params": {
          "conditioning": {
           "mode": "Skip",
           "reverb_period": 0.08
          },
          "label": "Silence",
          "onset": 0.1,
          "path": "C:\\Users\\jlab\\Repos\\2021_acoustic_stimulus_api\\stimuli\\stimset_LB_zf2",
          "plot": true,
          "reverb_period": 0.08,
          "samplerate": 51200,
          "show": false,
          "targeting": {
           "mode": "SingleSpeakerVolts"
          },
          "total_duration": 1,
          "type": "silence",
          "xlims": {
           "0": {
            "0": 0,
            "1": 0.99998046875
           },
           "1": {
            "0": -0.020000000000000004,
            "1": 1.1800000000000002
           }
          }
         },
         "stimulus_period_onset": 125,
         "stimulus_type": "silence"
        },
        "126": {
         "inlet_offsetx": 51200,
         "inlet_onsetx": 0,
         "label": "silence",
         "offset": 127,
         "onset": 126,
         "params": {
          "conditioning": {
           "mode": "Skip",
           "reverb_period": 0.08
          },
          "label": "Silence",
          "onset": 0.1,
          "path": "C:\\Users\\jlab\\Repos\\2021_acoustic_stimulus_api\\stimuli\\stimset_LB_zf2",
          "plot": true,
          "reverb_period": 0.08,
          "samplerate": 51200,
          "show": false,
          "targeting": {
           "mode": "SingleSpeakerVolts"
          },
          "total_duration": 1,
          "type": "silence",
          "xlims": {
           "0": {
            "0": 0,
            "1": 0.99998046875
           },
           "1": {
            "0": -0.020000000000000004,
            "1": 1.1800000000000002
           }
          }
         },
         "stimulus_period_onset": 126,
         "stimulus_type": "silence"
        },
        "127": {
         "inlet_offsetx": 50176,
         "inlet_onsetx": 1024,
         "label": "sin_800Hz",
         "offset": 127.9,
         "onset": 127.1,
         "params": {
          "conditioning": {
           "mode": "Skip",
           "reverb_period": 0.08
          },
          "duration": 0.8,
          "frequency": 800,
          "intensity": 0.8,
          "label": "sin_800Hz",
          "onset": 0.1,
          "path": "C:\\Users\\jlab\\Repos\\2021_acoustic_stimulus_api\\stimuli\\stimset_LB_zf2",
          "plot": true,
          "ramp_duration": 0.02,
          "reverb_period": 0.08,
          "samplerate": 51200,
          "show": false,
          "targeting": {
           "mode": "SingleSpeakerVolts"
          },
          "total_duration": 1,
          "type": "puretone",
          "xlims": {
           "0": {
            "0": 0,
            "1": 0.95998046875
           },
           "1": {
            "0": -0.020000000000000004,
            "1": 0.98
           },
           "2": {
            "0": 0.1075,
            "1": 0.88
           },
           "3": {
            "0": 0.815,
            "1": 0.88
           },
           "4": {
            "0": 0.08,
            "1": 0.1325
           }
          }
         },
         "stimulus_period_onset": 127
        },
        "128": {
         "inlet_offsetx": 51200,
         "inlet_onsetx": 0,
         "label": "silence",
         "offset": 129,
         "onset": 128,
         "params": {
          "conditioning": {
           "mode": "Skip",
           "reverb_period": 0.08
          },
          "label": "Silence",
          "onset": 0.1,
          "path": "C:\\Users\\jlab\\Repos\\2021_acoustic_stimulus_api\\stimuli\\stimset_LB_zf2",
          "plot": true,
          "reverb_period": 0.08,
          "samplerate": 51200,
          "show": false,
          "targeting": {
           "mode": "SingleSpeakerVolts"
          },
          "total_duration": 1,
          "type": "silence",
          "xlims": {
           "0": {
            "0": 0,
            "1": 0.99998046875
           },
           "1": {
            "0": -0.020000000000000004,
            "1": 1.1800000000000002
           }
          }
         },
         "stimulus_period_onset": 128,
         "stimulus_type": "silence"
        },
        "129": {
         "inlet_offsetx": 9216,
         "inlet_onsetx": 1024,
         "label": "1pulse_1200Hz",
         "offset": 129.1,
         "onset": 129.1,
         "params": {
          "center_frequency": 1200,
          "conditioning": {
           "mode": "Skip",
           "reverb_period": 0.08
          },
          "duration": 0,
          "intensity": 4,
          "label": "1pulse_1200Hz",
          "npulses": 1,
          "onset": 0.1,
          "path": "C:\\Users\\jlab\\Repos\\2021_acoustic_stimulus_api\\stimuli\\stimset_LB_zf2",
          "plot": true,
          "pulse_inverted": false,
          "rate": 100,
          "reverb_period": 0.08,
          "samplerate": 51200,
          "show": false,
          "targeting": {
           "mode": "SingleSpeakerVolts"
          },
          "total_duration": 1,
          "type": "pulse_sequence",
          "xlims": {
           "0": {
            "0": 0,
            "1": 0.15998046875
           },
           "1": {
            "0": -0.020000000000000004,
            "1": 0.18
           },
           "2": {
            "0": 0.08,
            "1": 0.1
           },
           "3": {
            "0": 0.08,
            "1": 0.08833333333333333
           }
          }
         },
         "pulse_indeces": {
          "0": 5120
         },
         "stimulus_period_onset": 129
        },
        "13": {
         "inlet_offsetx": 51200,
         "inlet_onsetx": 0,
         "label": "silence",
         "offset": 14,
         "onset": 13,
         "params": {
          "conditioning": {
           "mode": "Skip",
           "reverb_period": 0.08
          },
          "label": "Silence",
          "onset": 0.1,
          "path": "C:\\Users\\jlab\\Repos\\2021_acoustic_stimulus_api\\stimuli\\stimset_LB_zf2",
          "plot": true,
          "reverb_period": 0.08,
          "samplerate": 51200,
          "show": false,
          "targeting": {
           "mode": "SingleSpeakerVolts"
          },
          "total_duration": 1,
          "type": "silence",
          "xlims": {
           "0": {
            "0": 0,
            "1": 0.99998046875
           },
           "1": {
            "0": -0.020000000000000004,
            "1": 1.1800000000000002
           }
          }
         },
         "stimulus_period_onset": 13,
         "stimulus_type": "silence"
        },
        "130": {
         "inlet_offsetx": 51200,
         "inlet_onsetx": 0,
         "label": "silence",
         "offset": 131,
         "onset": 130,
         "params": {
          "conditioning": {
           "mode": "Skip",
           "reverb_period": 0.08
          },
          "label": "Silence",
          "onset": 0.1,
          "path": "C:\\Users\\jlab\\Repos\\2021_acoustic_stimulus_api\\stimuli\\stimset_LB_zf2",
          "plot": true,
          "reverb_period": 0.08,
          "samplerate": 51200,
          "show": false,
          "targeting": {
           "mode": "SingleSpeakerVolts"
          },
          "total_duration": 1,
          "type": "silence",
          "xlims": {
           "0": {
            "0": 0,
            "1": 0.99998046875
           },
           "1": {
            "0": -0.020000000000000004,
            "1": 1.1800000000000002
           }
          }
         },
         "stimulus_period_onset": 130,
         "stimulus_type": "silence"
        },
        "131": {
         "inlet_offsetx": 50176,
         "inlet_onsetx": 1024,
         "label": "sin_1200Hz",
         "offset": 131.9,
         "onset": 131.1,
         "params": {
          "conditioning": {
           "mode": "Skip",
           "reverb_period": 0.08
          },
          "duration": 0.8,
          "frequency": 1200,
          "intensity": 0.8,
          "label": "sin_1200Hz",
          "onset": 0.1,
          "path": "C:\\Users\\jlab\\Repos\\2021_acoustic_stimulus_api\\stimuli\\stimset_LB_zf2",
          "plot": true,
          "ramp_duration": 0.02,
          "reverb_period": 0.08,
          "samplerate": 51200,
          "show": false,
          "targeting": {
           "mode": "SingleSpeakerVolts"
          },
          "total_duration": 1,
          "type": "puretone",
          "xlims": {
           "0": {
            "0": 0,
            "1": 0.95998046875
           },
           "1": {
            "0": -0.020000000000000004,
            "1": 0.98
           },
           "2": {
            "0": 0.11166666666666666,
            "1": 0.88
           },
           "3": {
            "0": 0.8233333333333334,
            "1": 0.88
           },
           "4": {
            "0": 0.08,
            "1": 0.12833333333333333
           }
          }
         },
         "stimulus_period_onset": 131
        },
        "132": {
         "inlet_offsetx": 51200,
         "inlet_onsetx": 0,
         "label": "silence",
         "offset": 133,
         "onset": 132,
         "params": {
          "conditioning": {
           "mode": "Skip",
           "reverb_period": 0.08
          },
          "label": "Silence",
          "onset": 0.1,
          "path": "C:\\Users\\jlab\\Repos\\2021_acoustic_stimulus_api\\stimuli\\stimset_LB_zf2",
          "plot": true,
          "reverb_period": 0.08,
          "samplerate": 51200,
          "show": false,
          "targeting": {
           "mode": "SingleSpeakerVolts"
          },
          "total_duration": 1,
          "type": "silence",
          "xlims": {
           "0": {
            "0": 0,
            "1": 0.99998046875
           },
           "1": {
            "0": -0.020000000000000004,
            "1": 1.1800000000000002
           }
          }
         },
         "stimulus_period_onset": 132,
         "stimulus_type": "silence"
        },
        "133": {
         "inlet_offsetx": 50176,
         "inlet_onsetx": 1024,
         "label": "sin_2400Hz",
         "offset": 133.9,
         "onset": 133.1,
         "params": {
          "conditioning": {
           "mode": "Skip",
           "reverb_period": 0.08
          },
          "duration": 0.8,
          "frequency": 2400,
          "intensity": 0.8,
          "label": "sin_2400Hz",
          "onset": 0.1,
          "path": "C:\\Users\\jlab\\Repos\\2021_acoustic_stimulus_api\\stimuli\\stimset_LB_zf2",
          "plot": true,
          "ramp_duration": 0.02,
          "reverb_period": 0.08,
          "samplerate": 51200,
          "show": false,
          "targeting": {
           "mode": "SingleSpeakerVolts"
          },
          "total_duration": 1,
          "type": "puretone",
          "xlims": {
           "0": {
            "0": 0,
            "1": 0.95998046875
           },
           "1": {
            "0": -0.020000000000000004,
            "1": 0.98
           },
           "2": {
            "0": 0.11583333333333333,
            "1": 0.88
           },
           "3": {
            "0": 0.8316666666666667,
            "1": 0.88
           },
           "4": {
            "0": 0.08,
            "1": 0.12416666666666666
           }
          }
         },
         "stimulus_period_onset": 133
        },
        "134": {
         "inlet_offsetx": 51200,
         "inlet_onsetx": 0,
         "label": "silence",
         "offset": 135,
         "onset": 134,
         "params": {
          "conditioning": {
           "mode": "Skip",
           "reverb_period": 0.08
          },
          "label": "Silence",
          "onset": 0.1,
          "path": "C:\\Users\\jlab\\Repos\\2021_acoustic_stimulus_api\\stimuli\\stimset_LB_zf2",
          "plot": true,
          "reverb_period": 0.08,
          "samplerate": 51200,
          "show": false,
          "targeting": {
           "mode": "SingleSpeakerVolts"
          },
          "total_duration": 1,
          "type": "silence",
          "xlims": {
           "0": {
            "0": 0,
            "1": 0.99998046875
           },
           "1": {
            "0": -0.020000000000000004,
            "1": 1.1800000000000002
           }
          }
         },
         "stimulus_period_onset": 134,
         "stimulus_type": "silence"
        },
        "135": {
         "inlet_offsetx": 9216,
         "inlet_onsetx": 1024,
         "label": "1pulse_1200Hz",
         "offset": 135.1,
         "onset": 135.1,
         "params": {
          "center_frequency": 1200,
          "conditioning": {
           "mode": "Skip",
           "reverb_period": 0.08
          },
          "duration": 0,
          "intensity": 4,
          "label": "1pulse_1200Hz",
          "npulses": 1,
          "onset": 0.1,
          "path": "C:\\Users\\jlab\\Repos\\2021_acoustic_stimulus_api\\stimuli\\stimset_LB_zf2",
          "plot": true,
          "pulse_inverted": false,
          "rate": 100,
          "reverb_period": 0.08,
          "samplerate": 51200,
          "show": false,
          "targeting": {
           "mode": "SingleSpeakerVolts"
          },
          "total_duration": 1,
          "type": "pulse_sequence",
          "xlims": {
           "0": {
            "0": 0,
            "1": 0.15998046875
           },
           "1": {
            "0": -0.020000000000000004,
            "1": 0.18
           },
           "2": {
            "0": 0.08,
            "1": 0.1
           },
           "3": {
            "0": 0.08,
            "1": 0.08833333333333333
           }
          }
         },
         "pulse_indeces": {
          "0": 5120
         },
         "stimulus_period_onset": 135
        },
        "136": {
         "inlet_offsetx": 51200,
         "inlet_onsetx": 0,
         "label": "silence",
         "offset": 137,
         "onset": 136,
         "params": {
          "conditioning": {
           "mode": "Skip",
           "reverb_period": 0.08
          },
          "label": "Silence",
          "onset": 0.1,
          "path": "C:\\Users\\jlab\\Repos\\2021_acoustic_stimulus_api\\stimuli\\stimset_LB_zf2",
          "plot": true,
          "reverb_period": 0.08,
          "samplerate": 51200,
          "show": false,
          "targeting": {
           "mode": "SingleSpeakerVolts"
          },
          "total_duration": 1,
          "type": "silence",
          "xlims": {
           "0": {
            "0": 0,
            "1": 0.99998046875
           },
           "1": {
            "0": -0.020000000000000004,
            "1": 1.1800000000000002
           }
          }
         },
         "stimulus_period_onset": 136,
         "stimulus_type": "silence"
        },
        "137": {
         "inlet_offsetx": 51200,
         "inlet_onsetx": 0,
         "label": "silence",
         "offset": 138,
         "onset": 137,
         "params": {
          "conditioning": {
           "mode": "Skip",
           "reverb_period": 0.08
          },
          "label": "Silence",
          "onset": 0.1,
          "path": "C:\\Users\\jlab\\Repos\\2021_acoustic_stimulus_api\\stimuli\\stimset_LB_zf2",
          "plot": true,
          "reverb_period": 0.08,
          "samplerate": 51200,
          "show": false,
          "targeting": {
           "mode": "SingleSpeakerVolts"
          },
          "total_duration": 1,
          "type": "silence",
          "xlims": {
           "0": {
            "0": 0,
            "1": 0.99998046875
           },
           "1": {
            "0": -0.020000000000000004,
            "1": 1.1800000000000002
           }
          }
         },
         "stimulus_period_onset": 137,
         "stimulus_type": "silence"
        },
        "138": {
         "inlet_offsetx": 51200,
         "inlet_onsetx": 0,
         "label": "silence",
         "offset": 139,
         "onset": 138,
         "params": {
          "conditioning": {
           "mode": "Skip",
           "reverb_period": 0.08
          },
          "label": "Silence",
          "onset": 0.1,
          "path": "C:\\Users\\jlab\\Repos\\2021_acoustic_stimulus_api\\stimuli\\stimset_LB_zf2",
          "plot": true,
          "reverb_period": 0.08,
          "samplerate": 51200,
          "show": false,
          "targeting": {
           "mode": "SingleSpeakerVolts"
          },
          "total_duration": 1,
          "type": "silence",
          "xlims": {
           "0": {
            "0": 0,
            "1": 0.99998046875
           },
           "1": {
            "0": -0.020000000000000004,
            "1": 1.1800000000000002
           }
          }
         },
         "stimulus_period_onset": 138,
         "stimulus_type": "silence"
        },
        "139": {
         "inlet_offsetx": 51200,
         "inlet_onsetx": 0,
         "label": "silence",
         "offset": 140,
         "onset": 139,
         "params": {
          "conditioning": {
           "mode": "Skip",
           "reverb_period": 0.08
          },
          "label": "Silence",
          "onset": 0.1,
          "path": "C:\\Users\\jlab\\Repos\\2021_acoustic_stimulus_api\\stimuli\\stimset_LB_zf2",
          "plot": true,
          "reverb_period": 0.08,
          "samplerate": 51200,
          "show": false,
          "targeting": {
           "mode": "SingleSpeakerVolts"
          },
          "total_duration": 1,
          "type": "silence",
          "xlims": {
           "0": {
            "0": 0,
            "1": 0.99998046875
           },
           "1": {
            "0": -0.020000000000000004,
            "1": 1.1800000000000002
           }
          }
         },
         "stimulus_period_onset": 139,
         "stimulus_type": "silence"
        },
        "14": {
         "inlet_offsetx": 50176,
         "inlet_onsetx": 1024,
         "label": "sin_800Hz",
         "offset": 14.9,
         "onset": 14.1,
         "params": {
          "conditioning": {
           "mode": "Skip",
           "reverb_period": 0.08
          },
          "duration": 0.8,
          "frequency": 800,
          "intensity": 0.8,
          "label": "sin_800Hz",
          "onset": 0.1,
          "path": "C:\\Users\\jlab\\Repos\\2021_acoustic_stimulus_api\\stimuli\\stimset_LB_zf2",
          "plot": true,
          "ramp_duration": 0.02,
          "reverb_period": 0.08,
          "samplerate": 51200,
          "show": false,
          "targeting": {
           "mode": "SingleSpeakerVolts"
          },
          "total_duration": 1,
          "type": "puretone",
          "xlims": {
           "0": {
            "0": 0,
            "1": 0.95998046875
           },
           "1": {
            "0": -0.020000000000000004,
            "1": 0.98
           },
           "2": {
            "0": 0.1075,
            "1": 0.88
           },
           "3": {
            "0": 0.815,
            "1": 0.88
           },
           "4": {
            "0": 0.08,
            "1": 0.1325
           }
          }
         },
         "stimulus_period_onset": 14
        },
        "140": {
         "inlet_offsetx": 51200,
         "inlet_onsetx": 0,
         "label": "silence",
         "offset": 141,
         "onset": 140,
         "params": {
          "conditioning": {
           "mode": "Skip",
           "reverb_period": 0.08
          },
          "label": "Silence",
          "onset": 0.1,
          "path": "C:\\Users\\jlab\\Repos\\2021_acoustic_stimulus_api\\stimuli\\stimset_LB_zf2",
          "plot": true,
          "reverb_period": 0.08,
          "samplerate": 51200,
          "show": false,
          "targeting": {
           "mode": "SingleSpeakerVolts"
          },
          "total_duration": 1,
          "type": "silence",
          "xlims": {
           "0": {
            "0": 0,
            "1": 0.99998046875
           },
           "1": {
            "0": -0.020000000000000004,
            "1": 1.1800000000000002
           }
          }
         },
         "stimulus_period_onset": 140,
         "stimulus_type": "silence"
        },
        "15": {
         "inlet_offsetx": 51200,
         "inlet_onsetx": 0,
         "label": "silence",
         "offset": 16,
         "onset": 15,
         "params": {
          "conditioning": {
           "mode": "Skip",
           "reverb_period": 0.08
          },
          "label": "Silence",
          "onset": 0.1,
          "path": "C:\\Users\\jlab\\Repos\\2021_acoustic_stimulus_api\\stimuli\\stimset_LB_zf2",
          "plot": true,
          "reverb_period": 0.08,
          "samplerate": 51200,
          "show": false,
          "targeting": {
           "mode": "SingleSpeakerVolts"
          },
          "total_duration": 1,
          "type": "silence",
          "xlims": {
           "0": {
            "0": 0,
            "1": 0.99998046875
           },
           "1": {
            "0": -0.020000000000000004,
            "1": 1.1800000000000002
           }
          }
         },
         "stimulus_period_onset": 15,
         "stimulus_type": "silence"
        },
        "16": {
         "inlet_offsetx": 50176,
         "inlet_onsetx": 1024,
         "label": "sin_2400Hz",
         "offset": 16.9,
         "onset": 16.1,
         "params": {
          "conditioning": {
           "mode": "Skip",
           "reverb_period": 0.08
          },
          "duration": 0.8,
          "frequency": 2400,
          "intensity": 0.8,
          "label": "sin_2400Hz",
          "onset": 0.1,
          "path": "C:\\Users\\jlab\\Repos\\2021_acoustic_stimulus_api\\stimuli\\stimset_LB_zf2",
          "plot": true,
          "ramp_duration": 0.02,
          "reverb_period": 0.08,
          "samplerate": 51200,
          "show": false,
          "targeting": {
           "mode": "SingleSpeakerVolts"
          },
          "total_duration": 1,
          "type": "puretone",
          "xlims": {
           "0": {
            "0": 0,
            "1": 0.95998046875
           },
           "1": {
            "0": -0.020000000000000004,
            "1": 0.98
           },
           "2": {
            "0": 0.11583333333333333,
            "1": 0.88
           },
           "3": {
            "0": 0.8316666666666667,
            "1": 0.88
           },
           "4": {
            "0": 0.08,
            "1": 0.12416666666666666
           }
          }
         },
         "stimulus_period_onset": 16
        },
        "17": {
         "inlet_offsetx": 51200,
         "inlet_onsetx": 0,
         "label": "silence",
         "offset": 18,
         "onset": 17,
         "params": {
          "conditioning": {
           "mode": "Skip",
           "reverb_period": 0.08
          },
          "label": "Silence",
          "onset": 0.1,
          "path": "C:\\Users\\jlab\\Repos\\2021_acoustic_stimulus_api\\stimuli\\stimset_LB_zf2",
          "plot": true,
          "reverb_period": 0.08,
          "samplerate": 51200,
          "show": false,
          "targeting": {
           "mode": "SingleSpeakerVolts"
          },
          "total_duration": 1,
          "type": "silence",
          "xlims": {
           "0": {
            "0": 0,
            "1": 0.99998046875
           },
           "1": {
            "0": -0.020000000000000004,
            "1": 1.1800000000000002
           }
          }
         },
         "stimulus_period_onset": 17,
         "stimulus_type": "silence"
        },
        "18": {
         "inlet_offsetx": 50176,
         "inlet_onsetx": 1024,
         "label": "sin_1200Hz",
         "offset": 18.9,
         "onset": 18.1,
         "params": {
          "conditioning": {
           "mode": "Skip",
           "reverb_period": 0.08
          },
          "duration": 0.8,
          "frequency": 1200,
          "intensity": 0.8,
          "label": "sin_1200Hz",
          "onset": 0.1,
          "path": "C:\\Users\\jlab\\Repos\\2021_acoustic_stimulus_api\\stimuli\\stimset_LB_zf2",
          "plot": true,
          "ramp_duration": 0.02,
          "reverb_period": 0.08,
          "samplerate": 51200,
          "show": false,
          "targeting": {
           "mode": "SingleSpeakerVolts"
          },
          "total_duration": 1,
          "type": "puretone",
          "xlims": {
           "0": {
            "0": 0,
            "1": 0.95998046875
           },
           "1": {
            "0": -0.020000000000000004,
            "1": 0.98
           },
           "2": {
            "0": 0.11166666666666666,
            "1": 0.88
           },
           "3": {
            "0": 0.8233333333333334,
            "1": 0.88
           },
           "4": {
            "0": 0.08,
            "1": 0.12833333333333333
           }
          }
         },
         "stimulus_period_onset": 18
        },
        "19": {
         "inlet_offsetx": 51200,
         "inlet_onsetx": 0,
         "label": "silence",
         "offset": 20,
         "onset": 19,
         "params": {
          "conditioning": {
           "mode": "Skip",
           "reverb_period": 0.08
          },
          "label": "Silence",
          "onset": 0.1,
          "path": "C:\\Users\\jlab\\Repos\\2021_acoustic_stimulus_api\\stimuli\\stimset_LB_zf2",
          "plot": true,
          "reverb_period": 0.08,
          "samplerate": 51200,
          "show": false,
          "targeting": {
           "mode": "SingleSpeakerVolts"
          },
          "total_duration": 1,
          "type": "silence",
          "xlims": {
           "0": {
            "0": 0,
            "1": 0.99998046875
           },
           "1": {
            "0": -0.020000000000000004,
            "1": 1.1800000000000002
           }
          }
         },
         "stimulus_period_onset": 19,
         "stimulus_type": "silence"
        },
        "2": {
         "inlet_offsetx": 51200,
         "inlet_onsetx": 0,
         "label": "silence",
         "offset": 3,
         "onset": 2,
         "params": {
          "conditioning": {
           "mode": "Skip",
           "reverb_period": 0.08
          },
          "label": "Silence",
          "onset": 0.1,
          "path": "C:\\Users\\jlab\\Repos\\2021_acoustic_stimulus_api\\stimuli\\stimset_LB_zf2",
          "plot": true,
          "reverb_period": 0.08,
          "samplerate": 51200,
          "show": false,
          "targeting": {
           "mode": "SingleSpeakerVolts"
          },
          "total_duration": 1,
          "type": "silence",
          "xlims": {
           "0": {
            "0": 0,
            "1": 0.99998046875
           },
           "1": {
            "0": -0.020000000000000004,
            "1": 1.1800000000000002
           }
          }
         },
         "stimulus_period_onset": 2,
         "stimulus_type": "silence"
        },
        "20": {
         "inlet_offsetx": 51200,
         "inlet_onsetx": 0,
         "label": "silence",
         "offset": 21,
         "onset": 20,
         "params": {
          "conditioning": {
           "mode": "Skip",
           "reverb_period": 0.08
          },
          "label": "Silence",
          "onset": 0.1,
          "path": "C:\\Users\\jlab\\Repos\\2021_acoustic_stimulus_api\\stimuli\\stimset_LB_zf2",
          "plot": true,
          "reverb_period": 0.08,
          "samplerate": 51200,
          "show": false,
          "targeting": {
           "mode": "SingleSpeakerVolts"
          },
          "total_duration": 1,
          "type": "silence",
          "xlims": {
           "0": {
            "0": 0,
            "1": 0.99998046875
           },
           "1": {
            "0": -0.020000000000000004,
            "1": 1.1800000000000002
           }
          }
         },
         "stimulus_period_onset": 20,
         "stimulus_type": "silence"
        },
        "21": {
         "inlet_offsetx": 51200,
         "inlet_onsetx": 0,
         "label": "silence",
         "offset": 22,
         "onset": 21,
         "params": {
          "conditioning": {
           "mode": "Skip",
           "reverb_period": 0.08
          },
          "label": "Silence",
          "onset": 0.1,
          "path": "C:\\Users\\jlab\\Repos\\2021_acoustic_stimulus_api\\stimuli\\stimset_LB_zf2",
          "plot": true,
          "reverb_period": 0.08,
          "samplerate": 51200,
          "show": false,
          "targeting": {
           "mode": "SingleSpeakerVolts"
          },
          "total_duration": 1,
          "type": "silence",
          "xlims": {
           "0": {
            "0": 0,
            "1": 0.99998046875
           },
           "1": {
            "0": -0.020000000000000004,
            "1": 1.1800000000000002
           }
          }
         },
         "stimulus_period_onset": 21,
         "stimulus_type": "silence"
        },
        "22": {
         "inlet_offsetx": 51200,
         "inlet_onsetx": 0,
         "label": "silence",
         "offset": 23,
         "onset": 22,
         "params": {
          "conditioning": {
           "mode": "Skip",
           "reverb_period": 0.08
          },
          "label": "Silence",
          "onset": 0.1,
          "path": "C:\\Users\\jlab\\Repos\\2021_acoustic_stimulus_api\\stimuli\\stimset_LB_zf2",
          "plot": true,
          "reverb_period": 0.08,
          "samplerate": 51200,
          "show": false,
          "targeting": {
           "mode": "SingleSpeakerVolts"
          },
          "total_duration": 1,
          "type": "silence",
          "xlims": {
           "0": {
            "0": 0,
            "1": 0.99998046875
           },
           "1": {
            "0": -0.020000000000000004,
            "1": 1.1800000000000002
           }
          }
         },
         "stimulus_period_onset": 22,
         "stimulus_type": "silence"
        },
        "23": {
         "inlet_offsetx": 9216,
         "inlet_onsetx": 1024,
         "label": "1pulse_1200Hz",
         "offset": 23.1,
         "onset": 23.1,
         "params": {
          "center_frequency": 1200,
          "conditioning": {
           "mode": "Skip",
           "reverb_period": 0.08
          },
          "duration": 0,
          "intensity": 4,
          "label": "1pulse_1200Hz",
          "npulses": 1,
          "onset": 0.1,
          "path": "C:\\Users\\jlab\\Repos\\2021_acoustic_stimulus_api\\stimuli\\stimset_LB_zf2",
          "plot": true,
          "pulse_inverted": false,
          "rate": 100,
          "reverb_period": 0.08,
          "samplerate": 51200,
          "show": false,
          "targeting": {
           "mode": "SingleSpeakerVolts"
          },
          "total_duration": 1,
          "type": "pulse_sequence",
          "xlims": {
           "0": {
            "0": 0,
            "1": 0.15998046875
           },
           "1": {
            "0": -0.020000000000000004,
            "1": 0.18
           },
           "2": {
            "0": 0.08,
            "1": 0.1
           },
           "3": {
            "0": 0.08,
            "1": 0.08833333333333333
           }
          }
         },
         "pulse_indeces": {
          "0": 5120
         },
         "stimulus_period_onset": 23
        },
        "24": {
         "inlet_offsetx": 51200,
         "inlet_onsetx": 0,
         "label": "silence",
         "offset": 25,
         "onset": 24,
         "params": {
          "conditioning": {
           "mode": "Skip",
           "reverb_period": 0.08
          },
          "label": "Silence",
          "onset": 0.1,
          "path": "C:\\Users\\jlab\\Repos\\2021_acoustic_stimulus_api\\stimuli\\stimset_LB_zf2",
          "plot": true,
          "reverb_period": 0.08,
          "samplerate": 51200,
          "show": false,
          "targeting": {
           "mode": "SingleSpeakerVolts"
          },
          "total_duration": 1,
          "type": "silence",
          "xlims": {
           "0": {
            "0": 0,
            "1": 0.99998046875
           },
           "1": {
            "0": -0.020000000000000004,
            "1": 1.1800000000000002
           }
          }
         },
         "stimulus_period_onset": 24,
         "stimulus_type": "silence"
        },
        "25": {
         "inlet_offsetx": 9216,
         "inlet_onsetx": 1024,
         "label": "1pulse_1200Hz",
         "offset": 25.1,
         "onset": 25.1,
         "params": {
          "center_frequency": 1200,
          "conditioning": {
           "mode": "Skip",
           "reverb_period": 0.08
          },
          "duration": 0,
          "intensity": 4,
          "label": "1pulse_1200Hz",
          "npulses": 1,
          "onset": 0.1,
          "path": "C:\\Users\\jlab\\Repos\\2021_acoustic_stimulus_api\\stimuli\\stimset_LB_zf2",
          "plot": true,
          "pulse_inverted": false,
          "rate": 100,
          "reverb_period": 0.08,
          "samplerate": 51200,
          "show": false,
          "targeting": {
           "mode": "SingleSpeakerVolts"
          },
          "total_duration": 1,
          "type": "pulse_sequence",
          "xlims": {
           "0": {
            "0": 0,
            "1": 0.15998046875
           },
           "1": {
            "0": -0.020000000000000004,
            "1": 0.18
           },
           "2": {
            "0": 0.08,
            "1": 0.1
           },
           "3": {
            "0": 0.08,
            "1": 0.08833333333333333
           }
          }
         },
         "pulse_indeces": {
          "0": 5120
         },
         "stimulus_period_onset": 25
        },
        "26": {
         "inlet_offsetx": 51200,
         "inlet_onsetx": 0,
         "label": "silence",
         "offset": 27,
         "onset": 26,
         "params": {
          "conditioning": {
           "mode": "Skip",
           "reverb_period": 0.08
          },
          "label": "Silence",
          "onset": 0.1,
          "path": "C:\\Users\\jlab\\Repos\\2021_acoustic_stimulus_api\\stimuli\\stimset_LB_zf2",
          "plot": true,
          "reverb_period": 0.08,
          "samplerate": 51200,
          "show": false,
          "targeting": {
           "mode": "SingleSpeakerVolts"
          },
          "total_duration": 1,
          "type": "silence",
          "xlims": {
           "0": {
            "0": 0,
            "1": 0.99998046875
           },
           "1": {
            "0": -0.020000000000000004,
            "1": 1.1800000000000002
           }
          }
         },
         "stimulus_period_onset": 26,
         "stimulus_type": "silence"
        },
        "27": {
         "inlet_offsetx": 50176,
         "inlet_onsetx": 1024,
         "label": "sin_1200Hz",
         "offset": 27.9,
         "onset": 27.1,
         "params": {
          "conditioning": {
           "mode": "Skip",
           "reverb_period": 0.08
          },
          "duration": 0.8,
          "frequency": 1200,
          "intensity": 0.8,
          "label": "sin_1200Hz",
          "onset": 0.1,
          "path": "C:\\Users\\jlab\\Repos\\2021_acoustic_stimulus_api\\stimuli\\stimset_LB_zf2",
          "plot": true,
          "ramp_duration": 0.02,
          "reverb_period": 0.08,
          "samplerate": 51200,
          "show": false,
          "targeting": {
           "mode": "SingleSpeakerVolts"
          },
          "total_duration": 1,
          "type": "puretone",
          "xlims": {
           "0": {
            "0": 0,
            "1": 0.95998046875
           },
           "1": {
            "0": -0.020000000000000004,
            "1": 0.98
           },
           "2": {
            "0": 0.11166666666666666,
            "1": 0.88
           },
           "3": {
            "0": 0.8233333333333334,
            "1": 0.88
           },
           "4": {
            "0": 0.08,
            "1": 0.12833333333333333
           }
          }
         },
         "stimulus_period_onset": 27
        },
        "28": {
         "inlet_offsetx": 51200,
         "inlet_onsetx": 0,
         "label": "silence",
         "offset": 29,
         "onset": 28,
         "params": {
          "conditioning": {
           "mode": "Skip",
           "reverb_period": 0.08
          },
          "label": "Silence",
          "onset": 0.1,
          "path": "C:\\Users\\jlab\\Repos\\2021_acoustic_stimulus_api\\stimuli\\stimset_LB_zf2",
          "plot": true,
          "reverb_period": 0.08,
          "samplerate": 51200,
          "show": false,
          "targeting": {
           "mode": "SingleSpeakerVolts"
          },
          "total_duration": 1,
          "type": "silence",
          "xlims": {
           "0": {
            "0": 0,
            "1": 0.99998046875
           },
           "1": {
            "0": -0.020000000000000004,
            "1": 1.1800000000000002
           }
          }
         },
         "stimulus_period_onset": 28,
         "stimulus_type": "silence"
        },
        "29": {
         "inlet_offsetx": 50176,
         "inlet_onsetx": 1024,
         "label": "sin_800Hz",
         "offset": 29.9,
         "onset": 29.1,
         "params": {
          "conditioning": {
           "mode": "Skip",
           "reverb_period": 0.08
          },
          "duration": 0.8,
          "frequency": 800,
          "intensity": 0.8,
          "label": "sin_800Hz",
          "onset": 0.1,
          "path": "C:\\Users\\jlab\\Repos\\2021_acoustic_stimulus_api\\stimuli\\stimset_LB_zf2",
          "plot": true,
          "ramp_duration": 0.02,
          "reverb_period": 0.08,
          "samplerate": 51200,
          "show": false,
          "targeting": {
           "mode": "SingleSpeakerVolts"
          },
          "total_duration": 1,
          "type": "puretone",
          "xlims": {
           "0": {
            "0": 0,
            "1": 0.95998046875
           },
           "1": {
            "0": -0.020000000000000004,
            "1": 0.98
           },
           "2": {
            "0": 0.1075,
            "1": 0.88
           },
           "3": {
            "0": 0.815,
            "1": 0.88
           },
           "4": {
            "0": 0.08,
            "1": 0.1325
           }
          }
         },
         "stimulus_period_onset": 29
        },
        "3": {
         "inlet_offsetx": 51200,
         "inlet_onsetx": 0,
         "label": "silence",
         "offset": 4,
         "onset": 3,
         "params": {
          "conditioning": {
           "mode": "Skip",
           "reverb_period": 0.08
          },
          "label": "Silence",
          "onset": 0.1,
          "path": "C:\\Users\\jlab\\Repos\\2021_acoustic_stimulus_api\\stimuli\\stimset_LB_zf2",
          "plot": true,
          "reverb_period": 0.08,
          "samplerate": 51200,
          "show": false,
          "targeting": {
           "mode": "SingleSpeakerVolts"
          },
          "total_duration": 1,
          "type": "silence",
          "xlims": {
           "0": {
            "0": 0,
            "1": 0.99998046875
           },
           "1": {
            "0": -0.020000000000000004,
            "1": 1.1800000000000002
           }
          }
         },
         "stimulus_period_onset": 3,
         "stimulus_type": "silence"
        },
        "30": {
         "inlet_offsetx": 51200,
         "inlet_onsetx": 0,
         "label": "silence",
         "offset": 31,
         "onset": 30,
         "params": {
          "conditioning": {
           "mode": "Skip",
           "reverb_period": 0.08
          },
          "label": "Silence",
          "onset": 0.1,
          "path": "C:\\Users\\jlab\\Repos\\2021_acoustic_stimulus_api\\stimuli\\stimset_LB_zf2",
          "plot": true,
          "reverb_period": 0.08,
          "samplerate": 51200,
          "show": false,
          "targeting": {
           "mode": "SingleSpeakerVolts"
          },
          "total_duration": 1,
          "type": "silence",
          "xlims": {
           "0": {
            "0": 0,
            "1": 0.99998046875
           },
           "1": {
            "0": -0.020000000000000004,
            "1": 1.1800000000000002
           }
          }
         },
         "stimulus_period_onset": 30,
         "stimulus_type": "silence"
        },
        "31": {
         "inlet_offsetx": 50176,
         "inlet_onsetx": 1024,
         "label": "sin_2400Hz",
         "offset": 31.9,
         "onset": 31.1,
         "params": {
          "conditioning": {
           "mode": "Skip",
           "reverb_period": 0.08
          },
          "duration": 0.8,
          "frequency": 2400,
          "intensity": 0.8,
          "label": "sin_2400Hz",
          "onset": 0.1,
          "path": "C:\\Users\\jlab\\Repos\\2021_acoustic_stimulus_api\\stimuli\\stimset_LB_zf2",
          "plot": true,
          "ramp_duration": 0.02,
          "reverb_period": 0.08,
          "samplerate": 51200,
          "show": false,
          "targeting": {
           "mode": "SingleSpeakerVolts"
          },
          "total_duration": 1,
          "type": "puretone",
          "xlims": {
           "0": {
            "0": 0,
            "1": 0.95998046875
           },
           "1": {
            "0": -0.020000000000000004,
            "1": 0.98
           },
           "2": {
            "0": 0.11583333333333333,
            "1": 0.88
           },
           "3": {
            "0": 0.8316666666666667,
            "1": 0.88
           },
           "4": {
            "0": 0.08,
            "1": 0.12416666666666666
           }
          }
         },
         "stimulus_period_onset": 31
        },
        "32": {
         "inlet_offsetx": 51200,
         "inlet_onsetx": 0,
         "label": "silence",
         "offset": 33,
         "onset": 32,
         "params": {
          "conditioning": {
           "mode": "Skip",
           "reverb_period": 0.08
          },
          "label": "Silence",
          "onset": 0.1,
          "path": "C:\\Users\\jlab\\Repos\\2021_acoustic_stimulus_api\\stimuli\\stimset_LB_zf2",
          "plot": true,
          "reverb_period": 0.08,
          "samplerate": 51200,
          "show": false,
          "targeting": {
           "mode": "SingleSpeakerVolts"
          },
          "total_duration": 1,
          "type": "silence",
          "xlims": {
           "0": {
            "0": 0,
            "1": 0.99998046875
           },
           "1": {
            "0": -0.020000000000000004,
            "1": 1.1800000000000002
           }
          }
         },
         "stimulus_period_onset": 32,
         "stimulus_type": "silence"
        },
        "33": {
         "inlet_offsetx": 51200,
         "inlet_onsetx": 0,
         "label": "silence",
         "offset": 34,
         "onset": 33,
         "params": {
          "conditioning": {
           "mode": "Skip",
           "reverb_period": 0.08
          },
          "label": "Silence",
          "onset": 0.1,
          "path": "C:\\Users\\jlab\\Repos\\2021_acoustic_stimulus_api\\stimuli\\stimset_LB_zf2",
          "plot": true,
          "reverb_period": 0.08,
          "samplerate": 51200,
          "show": false,
          "targeting": {
           "mode": "SingleSpeakerVolts"
          },
          "total_duration": 1,
          "type": "silence",
          "xlims": {
           "0": {
            "0": 0,
            "1": 0.99998046875
           },
           "1": {
            "0": -0.020000000000000004,
            "1": 1.1800000000000002
           }
          }
         },
         "stimulus_period_onset": 33,
         "stimulus_type": "silence"
        },
        "34": {
         "inlet_offsetx": 51200,
         "inlet_onsetx": 0,
         "label": "silence",
         "offset": 35,
         "onset": 34,
         "params": {
          "conditioning": {
           "mode": "Skip",
           "reverb_period": 0.08
          },
          "label": "Silence",
          "onset": 0.1,
          "path": "C:\\Users\\jlab\\Repos\\2021_acoustic_stimulus_api\\stimuli\\stimset_LB_zf2",
          "plot": true,
          "reverb_period": 0.08,
          "samplerate": 51200,
          "show": false,
          "targeting": {
           "mode": "SingleSpeakerVolts"
          },
          "total_duration": 1,
          "type": "silence",
          "xlims": {
           "0": {
            "0": 0,
            "1": 0.99998046875
           },
           "1": {
            "0": -0.020000000000000004,
            "1": 1.1800000000000002
           }
          }
         },
         "stimulus_period_onset": 34,
         "stimulus_type": "silence"
        },
        "35": {
         "inlet_offsetx": 51200,
         "inlet_onsetx": 0,
         "label": "silence",
         "offset": 36,
         "onset": 35,
         "params": {
          "conditioning": {
           "mode": "Skip",
           "reverb_period": 0.08
          },
          "label": "Silence",
          "onset": 0.1,
          "path": "C:\\Users\\jlab\\Repos\\2021_acoustic_stimulus_api\\stimuli\\stimset_LB_zf2",
          "plot": true,
          "reverb_period": 0.08,
          "samplerate": 51200,
          "show": false,
          "targeting": {
           "mode": "SingleSpeakerVolts"
          },
          "total_duration": 1,
          "type": "silence",
          "xlims": {
           "0": {
            "0": 0,
            "1": 0.99998046875
           },
           "1": {
            "0": -0.020000000000000004,
            "1": 1.1800000000000002
           }
          }
         },
         "stimulus_period_onset": 35,
         "stimulus_type": "silence"
        },
        "36": {
         "inlet_offsetx": 9216,
         "inlet_onsetx": 1024,
         "label": "1pulse_1200Hz",
         "offset": 36.1,
         "onset": 36.1,
         "params": {
          "center_frequency": 1200,
          "conditioning": {
           "mode": "Skip",
           "reverb_period": 0.08
          },
          "duration": 0,
          "intensity": 4,
          "label": "1pulse_1200Hz",
          "npulses": 1,
          "onset": 0.1,
          "path": "C:\\Users\\jlab\\Repos\\2021_acoustic_stimulus_api\\stimuli\\stimset_LB_zf2",
          "plot": true,
          "pulse_inverted": false,
          "rate": 100,
          "reverb_period": 0.08,
          "samplerate": 51200,
          "show": false,
          "targeting": {
           "mode": "SingleSpeakerVolts"
          },
          "total_duration": 1,
          "type": "pulse_sequence",
          "xlims": {
           "0": {
            "0": 0,
            "1": 0.15998046875
           },
           "1": {
            "0": -0.020000000000000004,
            "1": 0.18
           },
           "2": {
            "0": 0.08,
            "1": 0.1
           },
           "3": {
            "0": 0.08,
            "1": 0.08833333333333333
           }
          }
         },
         "pulse_indeces": {
          "0": 5120
         },
         "stimulus_period_onset": 36
        },
        "37": {
         "inlet_offsetx": 51200,
         "inlet_onsetx": 0,
         "label": "silence",
         "offset": 38,
         "onset": 37,
         "params": {
          "conditioning": {
           "mode": "Skip",
           "reverb_period": 0.08
          },
          "label": "Silence",
          "onset": 0.1,
          "path": "C:\\Users\\jlab\\Repos\\2021_acoustic_stimulus_api\\stimuli\\stimset_LB_zf2",
          "plot": true,
          "reverb_period": 0.08,
          "samplerate": 51200,
          "show": false,
          "targeting": {
           "mode": "SingleSpeakerVolts"
          },
          "total_duration": 1,
          "type": "silence",
          "xlims": {
           "0": {
            "0": 0,
            "1": 0.99998046875
           },
           "1": {
            "0": -0.020000000000000004,
            "1": 1.1800000000000002
           }
          }
         },
         "stimulus_period_onset": 37,
         "stimulus_type": "silence"
        },
        "38": {
         "inlet_offsetx": 50176,
         "inlet_onsetx": 1024,
         "label": "sin_800Hz",
         "offset": 38.9,
         "onset": 38.1,
         "params": {
          "conditioning": {
           "mode": "Skip",
           "reverb_period": 0.08
          },
          "duration": 0.8,
          "frequency": 800,
          "intensity": 0.8,
          "label": "sin_800Hz",
          "onset": 0.1,
          "path": "C:\\Users\\jlab\\Repos\\2021_acoustic_stimulus_api\\stimuli\\stimset_LB_zf2",
          "plot": true,
          "ramp_duration": 0.02,
          "reverb_period": 0.08,
          "samplerate": 51200,
          "show": false,
          "targeting": {
           "mode": "SingleSpeakerVolts"
          },
          "total_duration": 1,
          "type": "puretone",
          "xlims": {
           "0": {
            "0": 0,
            "1": 0.95998046875
           },
           "1": {
            "0": -0.020000000000000004,
            "1": 0.98
           },
           "2": {
            "0": 0.1075,
            "1": 0.88
           },
           "3": {
            "0": 0.815,
            "1": 0.88
           },
           "4": {
            "0": 0.08,
            "1": 0.1325
           }
          }
         },
         "stimulus_period_onset": 38
        },
        "39": {
         "inlet_offsetx": 51200,
         "inlet_onsetx": 0,
         "label": "silence",
         "offset": 40,
         "onset": 39,
         "params": {
          "conditioning": {
           "mode": "Skip",
           "reverb_period": 0.08
          },
          "label": "Silence",
          "onset": 0.1,
          "path": "C:\\Users\\jlab\\Repos\\2021_acoustic_stimulus_api\\stimuli\\stimset_LB_zf2",
          "plot": true,
          "reverb_period": 0.08,
          "samplerate": 51200,
          "show": false,
          "targeting": {
           "mode": "SingleSpeakerVolts"
          },
          "total_duration": 1,
          "type": "silence",
          "xlims": {
           "0": {
            "0": 0,
            "1": 0.99998046875
           },
           "1": {
            "0": -0.020000000000000004,
            "1": 1.1800000000000002
           }
          }
         },
         "stimulus_period_onset": 39,
         "stimulus_type": "silence"
        },
        "4": {
         "inlet_offsetx": 51200,
         "inlet_onsetx": 0,
         "label": "silence",
         "offset": 5,
         "onset": 4,
         "params": {
          "conditioning": {
           "mode": "Skip",
           "reverb_period": 0.08
          },
          "label": "Silence",
          "onset": 0.1,
          "path": "C:\\Users\\jlab\\Repos\\2021_acoustic_stimulus_api\\stimuli\\stimset_LB_zf2",
          "plot": true,
          "reverb_period": 0.08,
          "samplerate": 51200,
          "show": false,
          "targeting": {
           "mode": "SingleSpeakerVolts"
          },
          "total_duration": 1,
          "type": "silence",
          "xlims": {
           "0": {
            "0": 0,
            "1": 0.99998046875
           },
           "1": {
            "0": -0.020000000000000004,
            "1": 1.1800000000000002
           }
          }
         },
         "stimulus_period_onset": 4,
         "stimulus_type": "silence"
        },
        "40": {
         "inlet_offsetx": 50176,
         "inlet_onsetx": 1024,
         "label": "sin_1200Hz",
         "offset": 40.9,
         "onset": 40.1,
         "params": {
          "conditioning": {
           "mode": "Skip",
           "reverb_period": 0.08
          },
          "duration": 0.8,
          "frequency": 1200,
          "intensity": 0.8,
          "label": "sin_1200Hz",
          "onset": 0.1,
          "path": "C:\\Users\\jlab\\Repos\\2021_acoustic_stimulus_api\\stimuli\\stimset_LB_zf2",
          "plot": true,
          "ramp_duration": 0.02,
          "reverb_period": 0.08,
          "samplerate": 51200,
          "show": false,
          "targeting": {
           "mode": "SingleSpeakerVolts"
          },
          "total_duration": 1,
          "type": "puretone",
          "xlims": {
           "0": {
            "0": 0,
            "1": 0.95998046875
           },
           "1": {
            "0": -0.020000000000000004,
            "1": 0.98
           },
           "2": {
            "0": 0.11166666666666666,
            "1": 0.88
           },
           "3": {
            "0": 0.8233333333333334,
            "1": 0.88
           },
           "4": {
            "0": 0.08,
            "1": 0.12833333333333333
           }
          }
         },
         "stimulus_period_onset": 40
        },
        "41": {
         "inlet_offsetx": 51200,
         "inlet_onsetx": 0,
         "label": "silence",
         "offset": 42,
         "onset": 41,
         "params": {
          "conditioning": {
           "mode": "Skip",
           "reverb_period": 0.08
          },
          "label": "Silence",
          "onset": 0.1,
          "path": "C:\\Users\\jlab\\Repos\\2021_acoustic_stimulus_api\\stimuli\\stimset_LB_zf2",
          "plot": true,
          "reverb_period": 0.08,
          "samplerate": 51200,
          "show": false,
          "targeting": {
           "mode": "SingleSpeakerVolts"
          },
          "total_duration": 1,
          "type": "silence",
          "xlims": {
           "0": {
            "0": 0,
            "1": 0.99998046875
           },
           "1": {
            "0": -0.020000000000000004,
            "1": 1.1800000000000002
           }
          }
         },
         "stimulus_period_onset": 41,
         "stimulus_type": "silence"
        },
        "42": {
         "inlet_offsetx": 50176,
         "inlet_onsetx": 1024,
         "label": "sin_2400Hz",
         "offset": 42.9,
         "onset": 42.1,
         "params": {
          "conditioning": {
           "mode": "Skip",
           "reverb_period": 0.08
          },
          "duration": 0.8,
          "frequency": 2400,
          "intensity": 0.8,
          "label": "sin_2400Hz",
          "onset": 0.1,
          "path": "C:\\Users\\jlab\\Repos\\2021_acoustic_stimulus_api\\stimuli\\stimset_LB_zf2",
          "plot": true,
          "ramp_duration": 0.02,
          "reverb_period": 0.08,
          "samplerate": 51200,
          "show": false,
          "targeting": {
           "mode": "SingleSpeakerVolts"
          },
          "total_duration": 1,
          "type": "puretone",
          "xlims": {
           "0": {
            "0": 0,
            "1": 0.95998046875
           },
           "1": {
            "0": -0.020000000000000004,
            "1": 0.98
           },
           "2": {
            "0": 0.11583333333333333,
            "1": 0.88
           },
           "3": {
            "0": 0.8316666666666667,
            "1": 0.88
           },
           "4": {
            "0": 0.08,
            "1": 0.12416666666666666
           }
          }
         },
         "stimulus_period_onset": 42
        },
        "43": {
         "inlet_offsetx": 51200,
         "inlet_onsetx": 0,
         "label": "silence",
         "offset": 44,
         "onset": 43,
         "params": {
          "conditioning": {
           "mode": "Skip",
           "reverb_period": 0.08
          },
          "label": "Silence",
          "onset": 0.1,
          "path": "C:\\Users\\jlab\\Repos\\2021_acoustic_stimulus_api\\stimuli\\stimset_LB_zf2",
          "plot": true,
          "reverb_period": 0.08,
          "samplerate": 51200,
          "show": false,
          "targeting": {
           "mode": "SingleSpeakerVolts"
          },
          "total_duration": 1,
          "type": "silence",
          "xlims": {
           "0": {
            "0": 0,
            "1": 0.99998046875
           },
           "1": {
            "0": -0.020000000000000004,
            "1": 1.1800000000000002
           }
          }
         },
         "stimulus_period_onset": 43,
         "stimulus_type": "silence"
        },
        "44": {
         "inlet_offsetx": 9216,
         "inlet_onsetx": 1024,
         "label": "1pulse_1200Hz",
         "offset": 44.1,
         "onset": 44.1,
         "params": {
          "center_frequency": 1200,
          "conditioning": {
           "mode": "Skip",
           "reverb_period": 0.08
          },
          "duration": 0,
          "intensity": 4,
          "label": "1pulse_1200Hz",
          "npulses": 1,
          "onset": 0.1,
          "path": "C:\\Users\\jlab\\Repos\\2021_acoustic_stimulus_api\\stimuli\\stimset_LB_zf2",
          "plot": true,
          "pulse_inverted": false,
          "rate": 100,
          "reverb_period": 0.08,
          "samplerate": 51200,
          "show": false,
          "targeting": {
           "mode": "SingleSpeakerVolts"
          },
          "total_duration": 1,
          "type": "pulse_sequence",
          "xlims": {
           "0": {
            "0": 0,
            "1": 0.15998046875
           },
           "1": {
            "0": -0.020000000000000004,
            "1": 0.18
           },
           "2": {
            "0": 0.08,
            "1": 0.1
           },
           "3": {
            "0": 0.08,
            "1": 0.08833333333333333
           }
          }
         },
         "pulse_indeces": {
          "0": 5120
         },
         "stimulus_period_onset": 44
        },
        "45": {
         "inlet_offsetx": 51200,
         "inlet_onsetx": 0,
         "label": "silence",
         "offset": 46,
         "onset": 45,
         "params": {
          "conditioning": {
           "mode": "Skip",
           "reverb_period": 0.08
          },
          "label": "Silence",
          "onset": 0.1,
          "path": "C:\\Users\\jlab\\Repos\\2021_acoustic_stimulus_api\\stimuli\\stimset_LB_zf2",
          "plot": true,
          "reverb_period": 0.08,
          "samplerate": 51200,
          "show": false,
          "targeting": {
           "mode": "SingleSpeakerVolts"
          },
          "total_duration": 1,
          "type": "silence",
          "xlims": {
           "0": {
            "0": 0,
            "1": 0.99998046875
           },
           "1": {
            "0": -0.020000000000000004,
            "1": 1.1800000000000002
           }
          }
         },
         "stimulus_period_onset": 45,
         "stimulus_type": "silence"
        },
        "46": {
         "inlet_offsetx": 51200,
         "inlet_onsetx": 0,
         "label": "silence",
         "offset": 47,
         "onset": 46,
         "params": {
          "conditioning": {
           "mode": "Skip",
           "reverb_period": 0.08
          },
          "label": "Silence",
          "onset": 0.1,
          "path": "C:\\Users\\jlab\\Repos\\2021_acoustic_stimulus_api\\stimuli\\stimset_LB_zf2",
          "plot": true,
          "reverb_period": 0.08,
          "samplerate": 51200,
          "show": false,
          "targeting": {
           "mode": "SingleSpeakerVolts"
          },
          "total_duration": 1,
          "type": "silence",
          "xlims": {
           "0": {
            "0": 0,
            "1": 0.99998046875
           },
           "1": {
            "0": -0.020000000000000004,
            "1": 1.1800000000000002
           }
          }
         },
         "stimulus_period_onset": 46,
         "stimulus_type": "silence"
        },
        "47": {
         "inlet_offsetx": 51200,
         "inlet_onsetx": 0,
         "label": "silence",
         "offset": 48,
         "onset": 47,
         "params": {
          "conditioning": {
           "mode": "Skip",
           "reverb_period": 0.08
          },
          "label": "Silence",
          "onset": 0.1,
          "path": "C:\\Users\\jlab\\Repos\\2021_acoustic_stimulus_api\\stimuli\\stimset_LB_zf2",
          "plot": true,
          "reverb_period": 0.08,
          "samplerate": 51200,
          "show": false,
          "targeting": {
           "mode": "SingleSpeakerVolts"
          },
          "total_duration": 1,
          "type": "silence",
          "xlims": {
           "0": {
            "0": 0,
            "1": 0.99998046875
           },
           "1": {
            "0": -0.020000000000000004,
            "1": 1.1800000000000002
           }
          }
         },
         "stimulus_period_onset": 47,
         "stimulus_type": "silence"
        },
        "48": {
         "inlet_offsetx": 51200,
         "inlet_onsetx": 0,
         "label": "silence",
         "offset": 49,
         "onset": 48,
         "params": {
          "conditioning": {
           "mode": "Skip",
           "reverb_period": 0.08
          },
          "label": "Silence",
          "onset": 0.1,
          "path": "C:\\Users\\jlab\\Repos\\2021_acoustic_stimulus_api\\stimuli\\stimset_LB_zf2",
          "plot": true,
          "reverb_period": 0.08,
          "samplerate": 51200,
          "show": false,
          "targeting": {
           "mode": "SingleSpeakerVolts"
          },
          "total_duration": 1,
          "type": "silence",
          "xlims": {
           "0": {
            "0": 0,
            "1": 0.99998046875
           },
           "1": {
            "0": -0.020000000000000004,
            "1": 1.1800000000000002
           }
          }
         },
         "stimulus_period_onset": 48,
         "stimulus_type": "silence"
        },
        "49": {
         "inlet_offsetx": 50176,
         "inlet_onsetx": 1024,
         "label": "sin_800Hz",
         "offset": 49.9,
         "onset": 49.1,
         "params": {
          "conditioning": {
           "mode": "Skip",
           "reverb_period": 0.08
          },
          "duration": 0.8,
          "frequency": 800,
          "intensity": 0.8,
          "label": "sin_800Hz",
          "onset": 0.1,
          "path": "C:\\Users\\jlab\\Repos\\2021_acoustic_stimulus_api\\stimuli\\stimset_LB_zf2",
          "plot": true,
          "ramp_duration": 0.02,
          "reverb_period": 0.08,
          "samplerate": 51200,
          "show": false,
          "targeting": {
           "mode": "SingleSpeakerVolts"
          },
          "total_duration": 1,
          "type": "puretone",
          "xlims": {
           "0": {
            "0": 0,
            "1": 0.95998046875
           },
           "1": {
            "0": -0.020000000000000004,
            "1": 0.98
           },
           "2": {
            "0": 0.1075,
            "1": 0.88
           },
           "3": {
            "0": 0.815,
            "1": 0.88
           },
           "4": {
            "0": 0.08,
            "1": 0.1325
           }
          }
         },
         "stimulus_period_onset": 49
        },
        "5": {
         "inlet_offsetx": 51200,
         "inlet_onsetx": 0,
         "label": "silence",
         "offset": 6,
         "onset": 5,
         "params": {
          "conditioning": {
           "mode": "Skip",
           "reverb_period": 0.08
          },
          "label": "Silence",
          "onset": 0.1,
          "path": "C:\\Users\\jlab\\Repos\\2021_acoustic_stimulus_api\\stimuli\\stimset_LB_zf2",
          "plot": true,
          "reverb_period": 0.08,
          "samplerate": 51200,
          "show": false,
          "targeting": {
           "mode": "SingleSpeakerVolts"
          },
          "total_duration": 1,
          "type": "silence",
          "xlims": {
           "0": {
            "0": 0,
            "1": 0.99998046875
           },
           "1": {
            "0": -0.020000000000000004,
            "1": 1.1800000000000002
           }
          }
         },
         "stimulus_period_onset": 5,
         "stimulus_type": "silence"
        },
        "50": {
         "inlet_offsetx": 51200,
         "inlet_onsetx": 0,
         "label": "silence",
         "offset": 51,
         "onset": 50,
         "params": {
          "conditioning": {
           "mode": "Skip",
           "reverb_period": 0.08
          },
          "label": "Silence",
          "onset": 0.1,
          "path": "C:\\Users\\jlab\\Repos\\2021_acoustic_stimulus_api\\stimuli\\stimset_LB_zf2",
          "plot": true,
          "reverb_period": 0.08,
          "samplerate": 51200,
          "show": false,
          "targeting": {
           "mode": "SingleSpeakerVolts"
          },
          "total_duration": 1,
          "type": "silence",
          "xlims": {
           "0": {
            "0": 0,
            "1": 0.99998046875
           },
           "1": {
            "0": -0.020000000000000004,
            "1": 1.1800000000000002
           }
          }
         },
         "stimulus_period_onset": 50,
         "stimulus_type": "silence"
        },
        "51": {
         "inlet_offsetx": 9216,
         "inlet_onsetx": 1024,
         "label": "1pulse_1200Hz",
         "offset": 51.1,
         "onset": 51.1,
         "params": {
          "center_frequency": 1200,
          "conditioning": {
           "mode": "Skip",
           "reverb_period": 0.08
          },
          "duration": 0,
          "intensity": 4,
          "label": "1pulse_1200Hz",
          "npulses": 1,
          "onset": 0.1,
          "path": "C:\\Users\\jlab\\Repos\\2021_acoustic_stimulus_api\\stimuli\\stimset_LB_zf2",
          "plot": true,
          "pulse_inverted": false,
          "rate": 100,
          "reverb_period": 0.08,
          "samplerate": 51200,
          "show": false,
          "targeting": {
           "mode": "SingleSpeakerVolts"
          },
          "total_duration": 1,
          "type": "pulse_sequence",
          "xlims": {
           "0": {
            "0": 0,
            "1": 0.15998046875
           },
           "1": {
            "0": -0.020000000000000004,
            "1": 0.18
           },
           "2": {
            "0": 0.08,
            "1": 0.1
           },
           "3": {
            "0": 0.08,
            "1": 0.08833333333333333
           }
          }
         },
         "pulse_indeces": {
          "0": 5120
         },
         "stimulus_period_onset": 51
        },
        "52": {
         "inlet_offsetx": 51200,
         "inlet_onsetx": 0,
         "label": "silence",
         "offset": 53,
         "onset": 52,
         "params": {
          "conditioning": {
           "mode": "Skip",
           "reverb_period": 0.08
          },
          "label": "Silence",
          "onset": 0.1,
          "path": "C:\\Users\\jlab\\Repos\\2021_acoustic_stimulus_api\\stimuli\\stimset_LB_zf2",
          "plot": true,
          "reverb_period": 0.08,
          "samplerate": 51200,
          "show": false,
          "targeting": {
           "mode": "SingleSpeakerVolts"
          },
          "total_duration": 1,
          "type": "silence",
          "xlims": {
           "0": {
            "0": 0,
            "1": 0.99998046875
           },
           "1": {
            "0": -0.020000000000000004,
            "1": 1.1800000000000002
           }
          }
         },
         "stimulus_period_onset": 52,
         "stimulus_type": "silence"
        },
        "53": {
         "inlet_offsetx": 9216,
         "inlet_onsetx": 1024,
         "label": "1pulse_1200Hz",
         "offset": 53.1,
         "onset": 53.1,
         "params": {
          "center_frequency": 1200,
          "conditioning": {
           "mode": "Skip",
           "reverb_period": 0.08
          },
          "duration": 0,
          "intensity": 4,
          "label": "1pulse_1200Hz",
          "npulses": 1,
          "onset": 0.1,
          "path": "C:\\Users\\jlab\\Repos\\2021_acoustic_stimulus_api\\stimuli\\stimset_LB_zf2",
          "plot": true,
          "pulse_inverted": false,
          "rate": 100,
          "reverb_period": 0.08,
          "samplerate": 51200,
          "show": false,
          "targeting": {
           "mode": "SingleSpeakerVolts"
          },
          "total_duration": 1,
          "type": "pulse_sequence",
          "xlims": {
           "0": {
            "0": 0,
            "1": 0.15998046875
           },
           "1": {
            "0": -0.020000000000000004,
            "1": 0.18
           },
           "2": {
            "0": 0.08,
            "1": 0.1
           },
           "3": {
            "0": 0.08,
            "1": 0.08833333333333333
           }
          }
         },
         "pulse_indeces": {
          "0": 5120
         },
         "stimulus_period_onset": 53
        },
        "54": {
         "inlet_offsetx": 51200,
         "inlet_onsetx": 0,
         "label": "silence",
         "offset": 55,
         "onset": 54,
         "params": {
          "conditioning": {
           "mode": "Skip",
           "reverb_period": 0.08
          },
          "label": "Silence",
          "onset": 0.1,
          "path": "C:\\Users\\jlab\\Repos\\2021_acoustic_stimulus_api\\stimuli\\stimset_LB_zf2",
          "plot": true,
          "reverb_period": 0.08,
          "samplerate": 51200,
          "show": false,
          "targeting": {
           "mode": "SingleSpeakerVolts"
          },
          "total_duration": 1,
          "type": "silence",
          "xlims": {
           "0": {
            "0": 0,
            "1": 0.99998046875
           },
           "1": {
            "0": -0.020000000000000004,
            "1": 1.1800000000000002
           }
          }
         },
         "stimulus_period_onset": 54,
         "stimulus_type": "silence"
        },
        "55": {
         "inlet_offsetx": 50176,
         "inlet_onsetx": 1024,
         "label": "sin_1200Hz",
         "offset": 55.9,
         "onset": 55.1,
         "params": {
          "conditioning": {
           "mode": "Skip",
           "reverb_period": 0.08
          },
          "duration": 0.8,
          "frequency": 1200,
          "intensity": 0.8,
          "label": "sin_1200Hz",
          "onset": 0.1,
          "path": "C:\\Users\\jlab\\Repos\\2021_acoustic_stimulus_api\\stimuli\\stimset_LB_zf2",
          "plot": true,
          "ramp_duration": 0.02,
          "reverb_period": 0.08,
          "samplerate": 51200,
          "show": false,
          "targeting": {
           "mode": "SingleSpeakerVolts"
          },
          "total_duration": 1,
          "type": "puretone",
          "xlims": {
           "0": {
            "0": 0,
            "1": 0.95998046875
           },
           "1": {
            "0": -0.020000000000000004,
            "1": 0.98
           },
           "2": {
            "0": 0.11166666666666666,
            "1": 0.88
           },
           "3": {
            "0": 0.8233333333333334,
            "1": 0.88
           },
           "4": {
            "0": 0.08,
            "1": 0.12833333333333333
           }
          }
         },
         "stimulus_period_onset": 55
        },
        "56": {
         "inlet_offsetx": 51200,
         "inlet_onsetx": 0,
         "label": "silence",
         "offset": 57,
         "onset": 56,
         "params": {
          "conditioning": {
           "mode": "Skip",
           "reverb_period": 0.08
          },
          "label": "Silence",
          "onset": 0.1,
          "path": "C:\\Users\\jlab\\Repos\\2021_acoustic_stimulus_api\\stimuli\\stimset_LB_zf2",
          "plot": true,
          "reverb_period": 0.08,
          "samplerate": 51200,
          "show": false,
          "targeting": {
           "mode": "SingleSpeakerVolts"
          },
          "total_duration": 1,
          "type": "silence",
          "xlims": {
           "0": {
            "0": 0,
            "1": 0.99998046875
           },
           "1": {
            "0": -0.020000000000000004,
            "1": 1.1800000000000002
           }
          }
         },
         "stimulus_period_onset": 56,
         "stimulus_type": "silence"
        },
        "57": {
         "inlet_offsetx": 50176,
         "inlet_onsetx": 1024,
         "label": "sin_2400Hz",
         "offset": 57.9,
         "onset": 57.1,
         "params": {
          "conditioning": {
           "mode": "Skip",
           "reverb_period": 0.08
          },
          "duration": 0.8,
          "frequency": 2400,
          "intensity": 0.8,
          "label": "sin_2400Hz",
          "onset": 0.1,
          "path": "C:\\Users\\jlab\\Repos\\2021_acoustic_stimulus_api\\stimuli\\stimset_LB_zf2",
          "plot": true,
          "ramp_duration": 0.02,
          "reverb_period": 0.08,
          "samplerate": 51200,
          "show": false,
          "targeting": {
           "mode": "SingleSpeakerVolts"
          },
          "total_duration": 1,
          "type": "puretone",
          "xlims": {
           "0": {
            "0": 0,
            "1": 0.95998046875
           },
           "1": {
            "0": -0.020000000000000004,
            "1": 0.98
           },
           "2": {
            "0": 0.11583333333333333,
            "1": 0.88
           },
           "3": {
            "0": 0.8316666666666667,
            "1": 0.88
           },
           "4": {
            "0": 0.08,
            "1": 0.12416666666666666
           }
          }
         },
         "stimulus_period_onset": 57
        },
        "58": {
         "inlet_offsetx": 51200,
         "inlet_onsetx": 0,
         "label": "silence",
         "offset": 59,
         "onset": 58,
         "params": {
          "conditioning": {
           "mode": "Skip",
           "reverb_period": 0.08
          },
          "label": "Silence",
          "onset": 0.1,
          "path": "C:\\Users\\jlab\\Repos\\2021_acoustic_stimulus_api\\stimuli\\stimset_LB_zf2",
          "plot": true,
          "reverb_period": 0.08,
          "samplerate": 51200,
          "show": false,
          "targeting": {
           "mode": "SingleSpeakerVolts"
          },
          "total_duration": 1,
          "type": "silence",
          "xlims": {
           "0": {
            "0": 0,
            "1": 0.99998046875
           },
           "1": {
            "0": -0.020000000000000004,
            "1": 1.1800000000000002
           }
          }
         },
         "stimulus_period_onset": 58,
         "stimulus_type": "silence"
        },
        "59": {
         "inlet_offsetx": 51200,
         "inlet_onsetx": 0,
         "label": "silence",
         "offset": 60,
         "onset": 59,
         "params": {
          "conditioning": {
           "mode": "Skip",
           "reverb_period": 0.08
          },
          "label": "Silence",
          "onset": 0.1,
          "path": "C:\\Users\\jlab\\Repos\\2021_acoustic_stimulus_api\\stimuli\\stimset_LB_zf2",
          "plot": true,
          "reverb_period": 0.08,
          "samplerate": 51200,
          "show": false,
          "targeting": {
           "mode": "SingleSpeakerVolts"
          },
          "total_duration": 1,
          "type": "silence",
          "xlims": {
           "0": {
            "0": 0,
            "1": 0.99998046875
           },
           "1": {
            "0": -0.020000000000000004,
            "1": 1.1800000000000002
           }
          }
         },
         "stimulus_period_onset": 59,
         "stimulus_type": "silence"
        },
        "6": {
         "inlet_offsetx": 51200,
         "inlet_onsetx": 0,
         "label": "silence",
         "offset": 7,
         "onset": 6,
         "params": {
          "conditioning": {
           "mode": "Skip",
           "reverb_period": 0.08
          },
          "label": "Silence",
          "onset": 0.1,
          "path": "C:\\Users\\jlab\\Repos\\2021_acoustic_stimulus_api\\stimuli\\stimset_LB_zf2",
          "plot": true,
          "reverb_period": 0.08,
          "samplerate": 51200,
          "show": false,
          "targeting": {
           "mode": "SingleSpeakerVolts"
          },
          "total_duration": 1,
          "type": "silence",
          "xlims": {
           "0": {
            "0": 0,
            "1": 0.99998046875
           },
           "1": {
            "0": -0.020000000000000004,
            "1": 1.1800000000000002
           }
          }
         },
         "stimulus_period_onset": 6,
         "stimulus_type": "silence"
        },
        "60": {
         "inlet_offsetx": 51200,
         "inlet_onsetx": 0,
         "label": "silence",
         "offset": 61,
         "onset": 60,
         "params": {
          "conditioning": {
           "mode": "Skip",
           "reverb_period": 0.08
          },
          "label": "Silence",
          "onset": 0.1,
          "path": "C:\\Users\\jlab\\Repos\\2021_acoustic_stimulus_api\\stimuli\\stimset_LB_zf2",
          "plot": true,
          "reverb_period": 0.08,
          "samplerate": 51200,
          "show": false,
          "targeting": {
           "mode": "SingleSpeakerVolts"
          },
          "total_duration": 1,
          "type": "silence",
          "xlims": {
           "0": {
            "0": 0,
            "1": 0.99998046875
           },
           "1": {
            "0": -0.020000000000000004,
            "1": 1.1800000000000002
           }
          }
         },
         "stimulus_period_onset": 60,
         "stimulus_type": "silence"
        },
        "61": {
         "inlet_offsetx": 51200,
         "inlet_onsetx": 0,
         "label": "silence",
         "offset": 62,
         "onset": 61,
         "params": {
          "conditioning": {
           "mode": "Skip",
           "reverb_period": 0.08
          },
          "label": "Silence",
          "onset": 0.1,
          "path": "C:\\Users\\jlab\\Repos\\2021_acoustic_stimulus_api\\stimuli\\stimset_LB_zf2",
          "plot": true,
          "reverb_period": 0.08,
          "samplerate": 51200,
          "show": false,
          "targeting": {
           "mode": "SingleSpeakerVolts"
          },
          "total_duration": 1,
          "type": "silence",
          "xlims": {
           "0": {
            "0": 0,
            "1": 0.99998046875
           },
           "1": {
            "0": -0.020000000000000004,
            "1": 1.1800000000000002
           }
          }
         },
         "stimulus_period_onset": 61,
         "stimulus_type": "silence"
        },
        "62": {
         "inlet_offsetx": 9216,
         "inlet_onsetx": 1024,
         "label": "1pulse_1200Hz",
         "offset": 62.1,
         "onset": 62.1,
         "params": {
          "center_frequency": 1200,
          "conditioning": {
           "mode": "Skip",
           "reverb_period": 0.08
          },
          "duration": 0,
          "intensity": 4,
          "label": "1pulse_1200Hz",
          "npulses": 1,
          "onset": 0.1,
          "path": "C:\\Users\\jlab\\Repos\\2021_acoustic_stimulus_api\\stimuli\\stimset_LB_zf2",
          "plot": true,
          "pulse_inverted": false,
          "rate": 100,
          "reverb_period": 0.08,
          "samplerate": 51200,
          "show": false,
          "targeting": {
           "mode": "SingleSpeakerVolts"
          },
          "total_duration": 1,
          "type": "pulse_sequence",
          "xlims": {
           "0": {
            "0": 0,
            "1": 0.15998046875
           },
           "1": {
            "0": -0.020000000000000004,
            "1": 0.18
           },
           "2": {
            "0": 0.08,
            "1": 0.1
           },
           "3": {
            "0": 0.08,
            "1": 0.08833333333333333
           }
          }
         },
         "pulse_indeces": {
          "0": 5120
         },
         "stimulus_period_onset": 62
        },
        "63": {
         "inlet_offsetx": 51200,
         "inlet_onsetx": 0,
         "label": "silence",
         "offset": 64,
         "onset": 63,
         "params": {
          "conditioning": {
           "mode": "Skip",
           "reverb_period": 0.08
          },
          "label": "Silence",
          "onset": 0.1,
          "path": "C:\\Users\\jlab\\Repos\\2021_acoustic_stimulus_api\\stimuli\\stimset_LB_zf2",
          "plot": true,
          "reverb_period": 0.08,
          "samplerate": 51200,
          "show": false,
          "targeting": {
           "mode": "SingleSpeakerVolts"
          },
          "total_duration": 1,
          "type": "silence",
          "xlims": {
           "0": {
            "0": 0,
            "1": 0.99998046875
           },
           "1": {
            "0": -0.020000000000000004,
            "1": 1.1800000000000002
           }
          }
         },
         "stimulus_period_onset": 63,
         "stimulus_type": "silence"
        },
        "64": {
         "inlet_offsetx": 9216,
         "inlet_onsetx": 1024,
         "label": "1pulse_1200Hz",
         "offset": 64.1,
         "onset": 64.1,
         "params": {
          "center_frequency": 1200,
          "conditioning": {
           "mode": "Skip",
           "reverb_period": 0.08
          },
          "duration": 0,
          "intensity": 4,
          "label": "1pulse_1200Hz",
          "npulses": 1,
          "onset": 0.1,
          "path": "C:\\Users\\jlab\\Repos\\2021_acoustic_stimulus_api\\stimuli\\stimset_LB_zf2",
          "plot": true,
          "pulse_inverted": false,
          "rate": 100,
          "reverb_period": 0.08,
          "samplerate": 51200,
          "show": false,
          "targeting": {
           "mode": "SingleSpeakerVolts"
          },
          "total_duration": 1,
          "type": "pulse_sequence",
          "xlims": {
           "0": {
            "0": 0,
            "1": 0.15998046875
           },
           "1": {
            "0": -0.020000000000000004,
            "1": 0.18
           },
           "2": {
            "0": 0.08,
            "1": 0.1
           },
           "3": {
            "0": 0.08,
            "1": 0.08833333333333333
           }
          }
         },
         "pulse_indeces": {
          "0": 5120
         },
         "stimulus_period_onset": 64
        },
        "65": {
         "inlet_offsetx": 51200,
         "inlet_onsetx": 0,
         "label": "silence",
         "offset": 66,
         "onset": 65,
         "params": {
          "conditioning": {
           "mode": "Skip",
           "reverb_period": 0.08
          },
          "label": "Silence",
          "onset": 0.1,
          "path": "C:\\Users\\jlab\\Repos\\2021_acoustic_stimulus_api\\stimuli\\stimset_LB_zf2",
          "plot": true,
          "reverb_period": 0.08,
          "samplerate": 51200,
          "show": false,
          "targeting": {
           "mode": "SingleSpeakerVolts"
          },
          "total_duration": 1,
          "type": "silence",
          "xlims": {
           "0": {
            "0": 0,
            "1": 0.99998046875
           },
           "1": {
            "0": -0.020000000000000004,
            "1": 1.1800000000000002
           }
          }
         },
         "stimulus_period_onset": 65,
         "stimulus_type": "silence"
        },
        "66": {
         "inlet_offsetx": 50176,
         "inlet_onsetx": 1024,
         "label": "sin_800Hz",
         "offset": 66.9,
         "onset": 66.1,
         "params": {
          "conditioning": {
           "mode": "Skip",
           "reverb_period": 0.08
          },
          "duration": 0.8,
          "frequency": 800,
          "intensity": 0.8,
          "label": "sin_800Hz",
          "onset": 0.1,
          "path": "C:\\Users\\jlab\\Repos\\2021_acoustic_stimulus_api\\stimuli\\stimset_LB_zf2",
          "plot": true,
          "ramp_duration": 0.02,
          "reverb_period": 0.08,
          "samplerate": 51200,
          "show": false,
          "targeting": {
           "mode": "SingleSpeakerVolts"
          },
          "total_duration": 1,
          "type": "puretone",
          "xlims": {
           "0": {
            "0": 0,
            "1": 0.95998046875
           },
           "1": {
            "0": -0.020000000000000004,
            "1": 0.98
           },
           "2": {
            "0": 0.1075,
            "1": 0.88
           },
           "3": {
            "0": 0.815,
            "1": 0.88
           },
           "4": {
            "0": 0.08,
            "1": 0.1325
           }
          }
         },
         "stimulus_period_onset": 66
        },
        "67": {
         "inlet_offsetx": 51200,
         "inlet_onsetx": 0,
         "label": "silence",
         "offset": 68,
         "onset": 67,
         "params": {
          "conditioning": {
           "mode": "Skip",
           "reverb_period": 0.08
          },
          "label": "Silence",
          "onset": 0.1,
          "path": "C:\\Users\\jlab\\Repos\\2021_acoustic_stimulus_api\\stimuli\\stimset_LB_zf2",
          "plot": true,
          "reverb_period": 0.08,
          "samplerate": 51200,
          "show": false,
          "targeting": {
           "mode": "SingleSpeakerVolts"
          },
          "total_duration": 1,
          "type": "silence",
          "xlims": {
           "0": {
            "0": 0,
            "1": 0.99998046875
           },
           "1": {
            "0": -0.020000000000000004,
            "1": 1.1800000000000002
           }
          }
         },
         "stimulus_period_onset": 67,
         "stimulus_type": "silence"
        },
        "68": {
         "inlet_offsetx": 50176,
         "inlet_onsetx": 1024,
         "label": "sin_2400Hz",
         "offset": 68.9,
         "onset": 68.1,
         "params": {
          "conditioning": {
           "mode": "Skip",
           "reverb_period": 0.08
          },
          "duration": 0.8,
          "frequency": 2400,
          "intensity": 0.8,
          "label": "sin_2400Hz",
          "onset": 0.1,
          "path": "C:\\Users\\jlab\\Repos\\2021_acoustic_stimulus_api\\stimuli\\stimset_LB_zf2",
          "plot": true,
          "ramp_duration": 0.02,
          "reverb_period": 0.08,
          "samplerate": 51200,
          "show": false,
          "targeting": {
           "mode": "SingleSpeakerVolts"
          },
          "total_duration": 1,
          "type": "puretone",
          "xlims": {
           "0": {
            "0": 0,
            "1": 0.95998046875
           },
           "1": {
            "0": -0.020000000000000004,
            "1": 0.98
           },
           "2": {
            "0": 0.11583333333333333,
            "1": 0.88
           },
           "3": {
            "0": 0.8316666666666667,
            "1": 0.88
           },
           "4": {
            "0": 0.08,
            "1": 0.12416666666666666
           }
          }
         },
         "stimulus_period_onset": 68
        },
        "69": {
         "inlet_offsetx": 51200,
         "inlet_onsetx": 0,
         "label": "silence",
         "offset": 70,
         "onset": 69,
         "params": {
          "conditioning": {
           "mode": "Skip",
           "reverb_period": 0.08
          },
          "label": "Silence",
          "onset": 0.1,
          "path": "C:\\Users\\jlab\\Repos\\2021_acoustic_stimulus_api\\stimuli\\stimset_LB_zf2",
          "plot": true,
          "reverb_period": 0.08,
          "samplerate": 51200,
          "show": false,
          "targeting": {
           "mode": "SingleSpeakerVolts"
          },
          "total_duration": 1,
          "type": "silence",
          "xlims": {
           "0": {
            "0": 0,
            "1": 0.99998046875
           },
           "1": {
            "0": -0.020000000000000004,
            "1": 1.1800000000000002
           }
          }
         },
         "stimulus_period_onset": 69,
         "stimulus_type": "silence"
        },
        "7": {
         "inlet_offsetx": 51200,
         "inlet_onsetx": 0,
         "label": "silence",
         "offset": 8,
         "onset": 7,
         "params": {
          "conditioning": {
           "mode": "Skip",
           "reverb_period": 0.08
          },
          "label": "Silence",
          "onset": 0.1,
          "path": "C:\\Users\\jlab\\Repos\\2021_acoustic_stimulus_api\\stimuli\\stimset_LB_zf2",
          "plot": true,
          "reverb_period": 0.08,
          "samplerate": 51200,
          "show": false,
          "targeting": {
           "mode": "SingleSpeakerVolts"
          },
          "total_duration": 1,
          "type": "silence",
          "xlims": {
           "0": {
            "0": 0,
            "1": 0.99998046875
           },
           "1": {
            "0": -0.020000000000000004,
            "1": 1.1800000000000002
           }
          }
         },
         "stimulus_period_onset": 7,
         "stimulus_type": "silence"
        },
        "70": {
         "inlet_offsetx": 50176,
         "inlet_onsetx": 1024,
         "label": "sin_1200Hz",
         "offset": 70.9,
         "onset": 70.1,
         "params": {
          "conditioning": {
           "mode": "Skip",
           "reverb_period": 0.08
          },
          "duration": 0.8,
          "frequency": 1200,
          "intensity": 0.8,
          "label": "sin_1200Hz",
          "onset": 0.1,
          "path": "C:\\Users\\jlab\\Repos\\2021_acoustic_stimulus_api\\stimuli\\stimset_LB_zf2",
          "plot": true,
          "ramp_duration": 0.02,
          "reverb_period": 0.08,
          "samplerate": 51200,
          "show": false,
          "targeting": {
           "mode": "SingleSpeakerVolts"
          },
          "total_duration": 1,
          "type": "puretone",
          "xlims": {
           "0": {
            "0": 0,
            "1": 0.95998046875
           },
           "1": {
            "0": -0.020000000000000004,
            "1": 0.98
           },
           "2": {
            "0": 0.11166666666666666,
            "1": 0.88
           },
           "3": {
            "0": 0.8233333333333334,
            "1": 0.88
           },
           "4": {
            "0": 0.08,
            "1": 0.12833333333333333
           }
          }
         },
         "stimulus_period_onset": 70
        },
        "71": {
         "inlet_offsetx": 51200,
         "inlet_onsetx": 0,
         "label": "silence",
         "offset": 72,
         "onset": 71,
         "params": {
          "conditioning": {
           "mode": "Skip",
           "reverb_period": 0.08
          },
          "label": "Silence",
          "onset": 0.1,
          "path": "C:\\Users\\jlab\\Repos\\2021_acoustic_stimulus_api\\stimuli\\stimset_LB_zf2",
          "plot": true,
          "reverb_period": 0.08,
          "samplerate": 51200,
          "show": false,
          "targeting": {
           "mode": "SingleSpeakerVolts"
          },
          "total_duration": 1,
          "type": "silence",
          "xlims": {
           "0": {
            "0": 0,
            "1": 0.99998046875
           },
           "1": {
            "0": -0.020000000000000004,
            "1": 1.1800000000000002
           }
          }
         },
         "stimulus_period_onset": 71,
         "stimulus_type": "silence"
        },
        "72": {
         "inlet_offsetx": 51200,
         "inlet_onsetx": 0,
         "label": "silence",
         "offset": 73,
         "onset": 72,
         "params": {
          "conditioning": {
           "mode": "Skip",
           "reverb_period": 0.08
          },
          "label": "Silence",
          "onset": 0.1,
          "path": "C:\\Users\\jlab\\Repos\\2021_acoustic_stimulus_api\\stimuli\\stimset_LB_zf2",
          "plot": true,
          "reverb_period": 0.08,
          "samplerate": 51200,
          "show": false,
          "targeting": {
           "mode": "SingleSpeakerVolts"
          },
          "total_duration": 1,
          "type": "silence",
          "xlims": {
           "0": {
            "0": 0,
            "1": 0.99998046875
           },
           "1": {
            "0": -0.020000000000000004,
            "1": 1.1800000000000002
           }
          }
         },
         "stimulus_period_onset": 72,
         "stimulus_type": "silence"
        },
        "73": {
         "inlet_offsetx": 51200,
         "inlet_onsetx": 0,
         "label": "silence",
         "offset": 74,
         "onset": 73,
         "params": {
          "conditioning": {
           "mode": "Skip",
           "reverb_period": 0.08
          },
          "label": "Silence",
          "onset": 0.1,
          "path": "C:\\Users\\jlab\\Repos\\2021_acoustic_stimulus_api\\stimuli\\stimset_LB_zf2",
          "plot": true,
          "reverb_period": 0.08,
          "samplerate": 51200,
          "show": false,
          "targeting": {
           "mode": "SingleSpeakerVolts"
          },
          "total_duration": 1,
          "type": "silence",
          "xlims": {
           "0": {
            "0": 0,
            "1": 0.99998046875
           },
           "1": {
            "0": -0.020000000000000004,
            "1": 1.1800000000000002
           }
          }
         },
         "stimulus_period_onset": 73,
         "stimulus_type": "silence"
        },
        "74": {
         "inlet_offsetx": 51200,
         "inlet_onsetx": 0,
         "label": "silence",
         "offset": 75,
         "onset": 74,
         "params": {
          "conditioning": {
           "mode": "Skip",
           "reverb_period": 0.08
          },
          "label": "Silence",
          "onset": 0.1,
          "path": "C:\\Users\\jlab\\Repos\\2021_acoustic_stimulus_api\\stimuli\\stimset_LB_zf2",
          "plot": true,
          "reverb_period": 0.08,
          "samplerate": 51200,
          "show": false,
          "targeting": {
           "mode": "SingleSpeakerVolts"
          },
          "total_duration": 1,
          "type": "silence",
          "xlims": {
           "0": {
            "0": 0,
            "1": 0.99998046875
           },
           "1": {
            "0": -0.020000000000000004,
            "1": 1.1800000000000002
           }
          }
         },
         "stimulus_period_onset": 74,
         "stimulus_type": "silence"
        },
        "75": {
         "inlet_offsetx": 50176,
         "inlet_onsetx": 1024,
         "label": "sin_800Hz",
         "offset": 75.9,
         "onset": 75.1,
         "params": {
          "conditioning": {
           "mode": "Skip",
           "reverb_period": 0.08
          },
          "duration": 0.8,
          "frequency": 800,
          "intensity": 0.8,
          "label": "sin_800Hz",
          "onset": 0.1,
          "path": "C:\\Users\\jlab\\Repos\\2021_acoustic_stimulus_api\\stimuli\\stimset_LB_zf2",
          "plot": true,
          "ramp_duration": 0.02,
          "reverb_period": 0.08,
          "samplerate": 51200,
          "show": false,
          "targeting": {
           "mode": "SingleSpeakerVolts"
          },
          "total_duration": 1,
          "type": "puretone",
          "xlims": {
           "0": {
            "0": 0,
            "1": 0.95998046875
           },
           "1": {
            "0": -0.020000000000000004,
            "1": 0.98
           },
           "2": {
            "0": 0.1075,
            "1": 0.88
           },
           "3": {
            "0": 0.815,
            "1": 0.88
           },
           "4": {
            "0": 0.08,
            "1": 0.1325
           }
          }
         },
         "stimulus_period_onset": 75
        },
        "76": {
         "inlet_offsetx": 51200,
         "inlet_onsetx": 0,
         "label": "silence",
         "offset": 77,
         "onset": 76,
         "params": {
          "conditioning": {
           "mode": "Skip",
           "reverb_period": 0.08
          },
          "label": "Silence",
          "onset": 0.1,
          "path": "C:\\Users\\jlab\\Repos\\2021_acoustic_stimulus_api\\stimuli\\stimset_LB_zf2",
          "plot": true,
          "reverb_period": 0.08,
          "samplerate": 51200,
          "show": false,
          "targeting": {
           "mode": "SingleSpeakerVolts"
          },
          "total_duration": 1,
          "type": "silence",
          "xlims": {
           "0": {
            "0": 0,
            "1": 0.99998046875
           },
           "1": {
            "0": -0.020000000000000004,
            "1": 1.1800000000000002
           }
          }
         },
         "stimulus_period_onset": 76,
         "stimulus_type": "silence"
        },
        "77": {
         "inlet_offsetx": 9216,
         "inlet_onsetx": 1024,
         "label": "1pulse_1200Hz",
         "offset": 77.1,
         "onset": 77.1,
         "params": {
          "center_frequency": 1200,
          "conditioning": {
           "mode": "Skip",
           "reverb_period": 0.08
          },
          "duration": 0,
          "intensity": 4,
          "label": "1pulse_1200Hz",
          "npulses": 1,
          "onset": 0.1,
          "path": "C:\\Users\\jlab\\Repos\\2021_acoustic_stimulus_api\\stimuli\\stimset_LB_zf2",
          "plot": true,
          "pulse_inverted": false,
          "rate": 100,
          "reverb_period": 0.08,
          "samplerate": 51200,
          "show": false,
          "targeting": {
           "mode": "SingleSpeakerVolts"
          },
          "total_duration": 1,
          "type": "pulse_sequence",
          "xlims": {
           "0": {
            "0": 0,
            "1": 0.15998046875
           },
           "1": {
            "0": -0.020000000000000004,
            "1": 0.18
           },
           "2": {
            "0": 0.08,
            "1": 0.1
           },
           "3": {
            "0": 0.08,
            "1": 0.08833333333333333
           }
          }
         },
         "pulse_indeces": {
          "0": 5120
         },
         "stimulus_period_onset": 77
        },
        "78": {
         "inlet_offsetx": 51200,
         "inlet_onsetx": 0,
         "label": "silence",
         "offset": 79,
         "onset": 78,
         "params": {
          "conditioning": {
           "mode": "Skip",
           "reverb_period": 0.08
          },
          "label": "Silence",
          "onset": 0.1,
          "path": "C:\\Users\\jlab\\Repos\\2021_acoustic_stimulus_api\\stimuli\\stimset_LB_zf2",
          "plot": true,
          "reverb_period": 0.08,
          "samplerate": 51200,
          "show": false,
          "targeting": {
           "mode": "SingleSpeakerVolts"
          },
          "total_duration": 1,
          "type": "silence",
          "xlims": {
           "0": {
            "0": 0,
            "1": 0.99998046875
           },
           "1": {
            "0": -0.020000000000000004,
            "1": 1.1800000000000002
           }
          }
         },
         "stimulus_period_onset": 78,
         "stimulus_type": "silence"
        },
        "79": {
         "inlet_offsetx": 9216,
         "inlet_onsetx": 1024,
         "label": "1pulse_1200Hz",
         "offset": 79.1,
         "onset": 79.1,
         "params": {
          "center_frequency": 1200,
          "conditioning": {
           "mode": "Skip",
           "reverb_period": 0.08
          },
          "duration": 0,
          "intensity": 4,
          "label": "1pulse_1200Hz",
          "npulses": 1,
          "onset": 0.1,
          "path": "C:\\Users\\jlab\\Repos\\2021_acoustic_stimulus_api\\stimuli\\stimset_LB_zf2",
          "plot": true,
          "pulse_inverted": false,
          "rate": 100,
          "reverb_period": 0.08,
          "samplerate": 51200,
          "show": false,
          "targeting": {
           "mode": "SingleSpeakerVolts"
          },
          "total_duration": 1,
          "type": "pulse_sequence",
          "xlims": {
           "0": {
            "0": 0,
            "1": 0.15998046875
           },
           "1": {
            "0": -0.020000000000000004,
            "1": 0.18
           },
           "2": {
            "0": 0.08,
            "1": 0.1
           },
           "3": {
            "0": 0.08,
            "1": 0.08833333333333333
           }
          }
         },
         "pulse_indeces": {
          "0": 5120
         },
         "stimulus_period_onset": 79
        },
        "8": {
         "inlet_offsetx": 51200,
         "inlet_onsetx": 0,
         "label": "silence",
         "offset": 9,
         "onset": 8,
         "params": {
          "conditioning": {
           "mode": "Skip",
           "reverb_period": 0.08
          },
          "label": "Silence",
          "onset": 0.1,
          "path": "C:\\Users\\jlab\\Repos\\2021_acoustic_stimulus_api\\stimuli\\stimset_LB_zf2",
          "plot": true,
          "reverb_period": 0.08,
          "samplerate": 51200,
          "show": false,
          "targeting": {
           "mode": "SingleSpeakerVolts"
          },
          "total_duration": 1,
          "type": "silence",
          "xlims": {
           "0": {
            "0": 0,
            "1": 0.99998046875
           },
           "1": {
            "0": -0.020000000000000004,
            "1": 1.1800000000000002
           }
          }
         },
         "stimulus_period_onset": 8,
         "stimulus_type": "silence"
        },
        "80": {
         "inlet_offsetx": 51200,
         "inlet_onsetx": 0,
         "label": "silence",
         "offset": 81,
         "onset": 80,
         "params": {
          "conditioning": {
           "mode": "Skip",
           "reverb_period": 0.08
          },
          "label": "Silence",
          "onset": 0.1,
          "path": "C:\\Users\\jlab\\Repos\\2021_acoustic_stimulus_api\\stimuli\\stimset_LB_zf2",
          "plot": true,
          "reverb_period": 0.08,
          "samplerate": 51200,
          "show": false,
          "targeting": {
           "mode": "SingleSpeakerVolts"
          },
          "total_duration": 1,
          "type": "silence",
          "xlims": {
           "0": {
            "0": 0,
            "1": 0.99998046875
           },
           "1": {
            "0": -0.020000000000000004,
            "1": 1.1800000000000002
           }
          }
         },
         "stimulus_period_onset": 80,
         "stimulus_type": "silence"
        },
        "81": {
         "inlet_offsetx": 50176,
         "inlet_onsetx": 1024,
         "label": "sin_2400Hz",
         "offset": 81.9,
         "onset": 81.1,
         "params": {
          "conditioning": {
           "mode": "Skip",
           "reverb_period": 0.08
          },
          "duration": 0.8,
          "frequency": 2400,
          "intensity": 0.8,
          "label": "sin_2400Hz",
          "onset": 0.1,
          "path": "C:\\Users\\jlab\\Repos\\2021_acoustic_stimulus_api\\stimuli\\stimset_LB_zf2",
          "plot": true,
          "ramp_duration": 0.02,
          "reverb_period": 0.08,
          "samplerate": 51200,
          "show": false,
          "targeting": {
           "mode": "SingleSpeakerVolts"
          },
          "total_duration": 1,
          "type": "puretone",
          "xlims": {
           "0": {
            "0": 0,
            "1": 0.95998046875
           },
           "1": {
            "0": -0.020000000000000004,
            "1": 0.98
           },
           "2": {
            "0": 0.11583333333333333,
            "1": 0.88
           },
           "3": {
            "0": 0.8316666666666667,
            "1": 0.88
           },
           "4": {
            "0": 0.08,
            "1": 0.12416666666666666
           }
          }
         },
         "stimulus_period_onset": 81
        },
        "82": {
         "inlet_offsetx": 51200,
         "inlet_onsetx": 0,
         "label": "silence",
         "offset": 83,
         "onset": 82,
         "params": {
          "conditioning": {
           "mode": "Skip",
           "reverb_period": 0.08
          },
          "label": "Silence",
          "onset": 0.1,
          "path": "C:\\Users\\jlab\\Repos\\2021_acoustic_stimulus_api\\stimuli\\stimset_LB_zf2",
          "plot": true,
          "reverb_period": 0.08,
          "samplerate": 51200,
          "show": false,
          "targeting": {
           "mode": "SingleSpeakerVolts"
          },
          "total_duration": 1,
          "type": "silence",
          "xlims": {
           "0": {
            "0": 0,
            "1": 0.99998046875
           },
           "1": {
            "0": -0.020000000000000004,
            "1": 1.1800000000000002
           }
          }
         },
         "stimulus_period_onset": 82,
         "stimulus_type": "silence"
        },
        "83": {
         "inlet_offsetx": 50176,
         "inlet_onsetx": 1024,
         "label": "sin_1200Hz",
         "offset": 83.9,
         "onset": 83.1,
         "params": {
          "conditioning": {
           "mode": "Skip",
           "reverb_period": 0.08
          },
          "duration": 0.8,
          "frequency": 1200,
          "intensity": 0.8,
          "label": "sin_1200Hz",
          "onset": 0.1,
          "path": "C:\\Users\\jlab\\Repos\\2021_acoustic_stimulus_api\\stimuli\\stimset_LB_zf2",
          "plot": true,
          "ramp_duration": 0.02,
          "reverb_period": 0.08,
          "samplerate": 51200,
          "show": false,
          "targeting": {
           "mode": "SingleSpeakerVolts"
          },
          "total_duration": 1,
          "type": "puretone",
          "xlims": {
           "0": {
            "0": 0,
            "1": 0.95998046875
           },
           "1": {
            "0": -0.020000000000000004,
            "1": 0.98
           },
           "2": {
            "0": 0.11166666666666666,
            "1": 0.88
           },
           "3": {
            "0": 0.8233333333333334,
            "1": 0.88
           },
           "4": {
            "0": 0.08,
            "1": 0.12833333333333333
           }
          }
         },
         "stimulus_period_onset": 83
        },
        "84": {
         "inlet_offsetx": 51200,
         "inlet_onsetx": 0,
         "label": "silence",
         "offset": 85,
         "onset": 84,
         "params": {
          "conditioning": {
           "mode": "Skip",
           "reverb_period": 0.08
          },
          "label": "Silence",
          "onset": 0.1,
          "path": "C:\\Users\\jlab\\Repos\\2021_acoustic_stimulus_api\\stimuli\\stimset_LB_zf2",
          "plot": true,
          "reverb_period": 0.08,
          "samplerate": 51200,
          "show": false,
          "targeting": {
           "mode": "SingleSpeakerVolts"
          },
          "total_duration": 1,
          "type": "silence",
          "xlims": {
           "0": {
            "0": 0,
            "1": 0.99998046875
           },
           "1": {
            "0": -0.020000000000000004,
            "1": 1.1800000000000002
           }
          }
         },
         "stimulus_period_onset": 84,
         "stimulus_type": "silence"
        },
        "85": {
         "inlet_offsetx": 51200,
         "inlet_onsetx": 0,
         "label": "silence",
         "offset": 86,
         "onset": 85,
         "params": {
          "conditioning": {
           "mode": "Skip",
           "reverb_period": 0.08
          },
          "label": "Silence",
          "onset": 0.1,
          "path": "C:\\Users\\jlab\\Repos\\2021_acoustic_stimulus_api\\stimuli\\stimset_LB_zf2",
          "plot": true,
          "reverb_period": 0.08,
          "samplerate": 51200,
          "show": false,
          "targeting": {
           "mode": "SingleSpeakerVolts"
          },
          "total_duration": 1,
          "type": "silence",
          "xlims": {
           "0": {
            "0": 0,
            "1": 0.99998046875
           },
           "1": {
            "0": -0.020000000000000004,
            "1": 1.1800000000000002
           }
          }
         },
         "stimulus_period_onset": 85,
         "stimulus_type": "silence"
        },
        "86": {
         "inlet_offsetx": 51200,
         "inlet_onsetx": 0,
         "label": "silence",
         "offset": 87,
         "onset": 86,
         "params": {
          "conditioning": {
           "mode": "Skip",
           "reverb_period": 0.08
          },
          "label": "Silence",
          "onset": 0.1,
          "path": "C:\\Users\\jlab\\Repos\\2021_acoustic_stimulus_api\\stimuli\\stimset_LB_zf2",
          "plot": true,
          "reverb_period": 0.08,
          "samplerate": 51200,
          "show": false,
          "targeting": {
           "mode": "SingleSpeakerVolts"
          },
          "total_duration": 1,
          "type": "silence",
          "xlims": {
           "0": {
            "0": 0,
            "1": 0.99998046875
           },
           "1": {
            "0": -0.020000000000000004,
            "1": 1.1800000000000002
           }
          }
         },
         "stimulus_period_onset": 86,
         "stimulus_type": "silence"
        },
        "87": {
         "inlet_offsetx": 51200,
         "inlet_onsetx": 0,
         "label": "silence",
         "offset": 88,
         "onset": 87,
         "params": {
          "conditioning": {
           "mode": "Skip",
           "reverb_period": 0.08
          },
          "label": "Silence",
          "onset": 0.1,
          "path": "C:\\Users\\jlab\\Repos\\2021_acoustic_stimulus_api\\stimuli\\stimset_LB_zf2",
          "plot": true,
          "reverb_period": 0.08,
          "samplerate": 51200,
          "show": false,
          "targeting": {
           "mode": "SingleSpeakerVolts"
          },
          "total_duration": 1,
          "type": "silence",
          "xlims": {
           "0": {
            "0": 0,
            "1": 0.99998046875
           },
           "1": {
            "0": -0.020000000000000004,
            "1": 1.1800000000000002
           }
          }
         },
         "stimulus_period_onset": 87,
         "stimulus_type": "silence"
        },
        "88": {
         "inlet_offsetx": 50176,
         "inlet_onsetx": 1024,
         "label": "sin_2400Hz",
         "offset": 88.9,
         "onset": 88.1,
         "params": {
          "conditioning": {
           "mode": "Skip",
           "reverb_period": 0.08
          },
          "duration": 0.8,
          "frequency": 2400,
          "intensity": 0.8,
          "label": "sin_2400Hz",
          "onset": 0.1,
          "path": "C:\\Users\\jlab\\Repos\\2021_acoustic_stimulus_api\\stimuli\\stimset_LB_zf2",
          "plot": true,
          "ramp_duration": 0.02,
          "reverb_period": 0.08,
          "samplerate": 51200,
          "show": false,
          "targeting": {
           "mode": "SingleSpeakerVolts"
          },
          "total_duration": 1,
          "type": "puretone",
          "xlims": {
           "0": {
            "0": 0,
            "1": 0.95998046875
           },
           "1": {
            "0": -0.020000000000000004,
            "1": 0.98
           },
           "2": {
            "0": 0.11583333333333333,
            "1": 0.88
           },
           "3": {
            "0": 0.8316666666666667,
            "1": 0.88
           },
           "4": {
            "0": 0.08,
            "1": 0.12416666666666666
           }
          }
         },
         "stimulus_period_onset": 88
        },
        "89": {
         "inlet_offsetx": 51200,
         "inlet_onsetx": 0,
         "label": "silence",
         "offset": 90,
         "onset": 89,
         "params": {
          "conditioning": {
           "mode": "Skip",
           "reverb_period": 0.08
          },
          "label": "Silence",
          "onset": 0.1,
          "path": "C:\\Users\\jlab\\Repos\\2021_acoustic_stimulus_api\\stimuli\\stimset_LB_zf2",
          "plot": true,
          "reverb_period": 0.08,
          "samplerate": 51200,
          "show": false,
          "targeting": {
           "mode": "SingleSpeakerVolts"
          },
          "total_duration": 1,
          "type": "silence",
          "xlims": {
           "0": {
            "0": 0,
            "1": 0.99998046875
           },
           "1": {
            "0": -0.020000000000000004,
            "1": 1.1800000000000002
           }
          }
         },
         "stimulus_period_onset": 89,
         "stimulus_type": "silence"
        },
        "9": {
         "inlet_offsetx": 51200,
         "inlet_onsetx": 0,
         "label": "silence",
         "offset": 10,
         "onset": 9,
         "params": {
          "conditioning": {
           "mode": "Skip",
           "reverb_period": 0.08
          },
          "label": "Silence",
          "onset": 0.1,
          "path": "C:\\Users\\jlab\\Repos\\2021_acoustic_stimulus_api\\stimuli\\stimset_LB_zf2",
          "plot": true,
          "reverb_period": 0.08,
          "samplerate": 51200,
          "show": false,
          "targeting": {
           "mode": "SingleSpeakerVolts"
          },
          "total_duration": 1,
          "type": "silence",
          "xlims": {
           "0": {
            "0": 0,
            "1": 0.99998046875
           },
           "1": {
            "0": -0.020000000000000004,
            "1": 1.1800000000000002
           }
          }
         },
         "stimulus_period_onset": 9,
         "stimulus_type": "silence"
        },
        "90": {
         "inlet_offsetx": 50176,
         "inlet_onsetx": 1024,
         "label": "sin_800Hz",
         "offset": 90.9,
         "onset": 90.1,
         "params": {
          "conditioning": {
           "mode": "Skip",
           "reverb_period": 0.08
          },
          "duration": 0.8,
          "frequency": 800,
          "intensity": 0.8,
          "label": "sin_800Hz",
          "onset": 0.1,
          "path": "C:\\Users\\jlab\\Repos\\2021_acoustic_stimulus_api\\stimuli\\stimset_LB_zf2",
          "plot": true,
          "ramp_duration": 0.02,
          "reverb_period": 0.08,
          "samplerate": 51200,
          "show": false,
          "targeting": {
           "mode": "SingleSpeakerVolts"
          },
          "total_duration": 1,
          "type": "puretone",
          "xlims": {
           "0": {
            "0": 0,
            "1": 0.95998046875
           },
           "1": {
            "0": -0.020000000000000004,
            "1": 0.98
           },
           "2": {
            "0": 0.1075,
            "1": 0.88
           },
           "3": {
            "0": 0.815,
            "1": 0.88
           },
           "4": {
            "0": 0.08,
            "1": 0.1325
           }
          }
         },
         "stimulus_period_onset": 90
        },
        "91": {
         "inlet_offsetx": 51200,
         "inlet_onsetx": 0,
         "label": "silence",
         "offset": 92,
         "onset": 91,
         "params": {
          "conditioning": {
           "mode": "Skip",
           "reverb_period": 0.08
          },
          "label": "Silence",
          "onset": 0.1,
          "path": "C:\\Users\\jlab\\Repos\\2021_acoustic_stimulus_api\\stimuli\\stimset_LB_zf2",
          "plot": true,
          "reverb_period": 0.08,
          "samplerate": 51200,
          "show": false,
          "targeting": {
           "mode": "SingleSpeakerVolts"
          },
          "total_duration": 1,
          "type": "silence",
          "xlims": {
           "0": {
            "0": 0,
            "1": 0.99998046875
           },
           "1": {
            "0": -0.020000000000000004,
            "1": 1.1800000000000002
           }
          }
         },
         "stimulus_period_onset": 91,
         "stimulus_type": "silence"
        },
        "92": {
         "inlet_offsetx": 9216,
         "inlet_onsetx": 1024,
         "label": "1pulse_1200Hz",
         "offset": 92.1,
         "onset": 92.1,
         "params": {
          "center_frequency": 1200,
          "conditioning": {
           "mode": "Skip",
           "reverb_period": 0.08
          },
          "duration": 0,
          "intensity": 4,
          "label": "1pulse_1200Hz",
          "npulses": 1,
          "onset": 0.1,
          "path": "C:\\Users\\jlab\\Repos\\2021_acoustic_stimulus_api\\stimuli\\stimset_LB_zf2",
          "plot": true,
          "pulse_inverted": false,
          "rate": 100,
          "reverb_period": 0.08,
          "samplerate": 51200,
          "show": false,
          "targeting": {
           "mode": "SingleSpeakerVolts"
          },
          "total_duration": 1,
          "type": "pulse_sequence",
          "xlims": {
           "0": {
            "0": 0,
            "1": 0.15998046875
           },
           "1": {
            "0": -0.020000000000000004,
            "1": 0.18
           },
           "2": {
            "0": 0.08,
            "1": 0.1
           },
           "3": {
            "0": 0.08,
            "1": 0.08833333333333333
           }
          }
         },
         "pulse_indeces": {
          "0": 5120
         },
         "stimulus_period_onset": 92
        },
        "93": {
         "inlet_offsetx": 51200,
         "inlet_onsetx": 0,
         "label": "silence",
         "offset": 94,
         "onset": 93,
         "params": {
          "conditioning": {
           "mode": "Skip",
           "reverb_period": 0.08
          },
          "label": "Silence",
          "onset": 0.1,
          "path": "C:\\Users\\jlab\\Repos\\2021_acoustic_stimulus_api\\stimuli\\stimset_LB_zf2",
          "plot": true,
          "reverb_period": 0.08,
          "samplerate": 51200,
          "show": false,
          "targeting": {
           "mode": "SingleSpeakerVolts"
          },
          "total_duration": 1,
          "type": "silence",
          "xlims": {
           "0": {
            "0": 0,
            "1": 0.99998046875
           },
           "1": {
            "0": -0.020000000000000004,
            "1": 1.1800000000000002
           }
          }
         },
         "stimulus_period_onset": 93,
         "stimulus_type": "silence"
        },
        "94": {
         "inlet_offsetx": 50176,
         "inlet_onsetx": 1024,
         "label": "sin_1200Hz",
         "offset": 94.9,
         "onset": 94.1,
         "params": {
          "conditioning": {
           "mode": "Skip",
           "reverb_period": 0.08
          },
          "duration": 0.8,
          "frequency": 1200,
          "intensity": 0.8,
          "label": "sin_1200Hz",
          "onset": 0.1,
          "path": "C:\\Users\\jlab\\Repos\\2021_acoustic_stimulus_api\\stimuli\\stimset_LB_zf2",
          "plot": true,
          "ramp_duration": 0.02,
          "reverb_period": 0.08,
          "samplerate": 51200,
          "show": false,
          "targeting": {
           "mode": "SingleSpeakerVolts"
          },
          "total_duration": 1,
          "type": "puretone",
          "xlims": {
           "0": {
            "0": 0,
            "1": 0.95998046875
           },
           "1": {
            "0": -0.020000000000000004,
            "1": 0.98
           },
           "2": {
            "0": 0.11166666666666666,
            "1": 0.88
           },
           "3": {
            "0": 0.8233333333333334,
            "1": 0.88
           },
           "4": {
            "0": 0.08,
            "1": 0.12833333333333333
           }
          }
         },
         "stimulus_period_onset": 94
        },
        "95": {
         "inlet_offsetx": 51200,
         "inlet_onsetx": 0,
         "label": "silence",
         "offset": 96,
         "onset": 95,
         "params": {
          "conditioning": {
           "mode": "Skip",
           "reverb_period": 0.08
          },
          "label": "Silence",
          "onset": 0.1,
          "path": "C:\\Users\\jlab\\Repos\\2021_acoustic_stimulus_api\\stimuli\\stimset_LB_zf2",
          "plot": true,
          "reverb_period": 0.08,
          "samplerate": 51200,
          "show": false,
          "targeting": {
           "mode": "SingleSpeakerVolts"
          },
          "total_duration": 1,
          "type": "silence",
          "xlims": {
           "0": {
            "0": 0,
            "1": 0.99998046875
           },
           "1": {
            "0": -0.020000000000000004,
            "1": 1.1800000000000002
           }
          }
         },
         "stimulus_period_onset": 95,
         "stimulus_type": "silence"
        },
        "96": {
         "inlet_offsetx": 9216,
         "inlet_onsetx": 1024,
         "label": "1pulse_1200Hz",
         "offset": 96.1,
         "onset": 96.1,
         "params": {
          "center_frequency": 1200,
          "conditioning": {
           "mode": "Skip",
           "reverb_period": 0.08
          },
          "duration": 0,
          "intensity": 4,
          "label": "1pulse_1200Hz",
          "npulses": 1,
          "onset": 0.1,
          "path": "C:\\Users\\jlab\\Repos\\2021_acoustic_stimulus_api\\stimuli\\stimset_LB_zf2",
          "plot": true,
          "pulse_inverted": false,
          "rate": 100,
          "reverb_period": 0.08,
          "samplerate": 51200,
          "show": false,
          "targeting": {
           "mode": "SingleSpeakerVolts"
          },
          "total_duration": 1,
          "type": "pulse_sequence",
          "xlims": {
           "0": {
            "0": 0,
            "1": 0.15998046875
           },
           "1": {
            "0": -0.020000000000000004,
            "1": 0.18
           },
           "2": {
            "0": 0.08,
            "1": 0.1
           },
           "3": {
            "0": 0.08,
            "1": 0.08833333333333333
           }
          }
         },
         "pulse_indeces": {
          "0": 5120
         },
         "stimulus_period_onset": 96
        },
        "97": {
         "inlet_offsetx": 51200,
         "inlet_onsetx": 0,
         "label": "silence",
         "offset": 98,
         "onset": 97,
         "params": {
          "conditioning": {
           "mode": "Skip",
           "reverb_period": 0.08
          },
          "label": "Silence",
          "onset": 0.1,
          "path": "C:\\Users\\jlab\\Repos\\2021_acoustic_stimulus_api\\stimuli\\stimset_LB_zf2",
          "plot": true,
          "reverb_period": 0.08,
          "samplerate": 51200,
          "show": false,
          "targeting": {
           "mode": "SingleSpeakerVolts"
          },
          "total_duration": 1,
          "type": "silence",
          "xlims": {
           "0": {
            "0": 0,
            "1": 0.99998046875
           },
           "1": {
            "0": -0.020000000000000004,
            "1": 1.1800000000000002
           }
          }
         },
         "stimulus_period_onset": 97,
         "stimulus_type": "silence"
        },
        "98": {
         "inlet_offsetx": 51200,
         "inlet_onsetx": 0,
         "label": "silence",
         "offset": 99,
         "onset": 98,
         "params": {
          "conditioning": {
           "mode": "Skip",
           "reverb_period": 0.08
          },
          "label": "Silence",
          "onset": 0.1,
          "path": "C:\\Users\\jlab\\Repos\\2021_acoustic_stimulus_api\\stimuli\\stimset_LB_zf2",
          "plot": true,
          "reverb_period": 0.08,
          "samplerate": 51200,
          "show": false,
          "targeting": {
           "mode": "SingleSpeakerVolts"
          },
          "total_duration": 1,
          "type": "silence",
          "xlims": {
           "0": {
            "0": 0,
            "1": 0.99998046875
           },
           "1": {
            "0": -0.020000000000000004,
            "1": 1.1800000000000002
           }
          }
         },
         "stimulus_period_onset": 98,
         "stimulus_type": "silence"
        },
        "99": {
         "inlet_offsetx": 51200,
         "inlet_onsetx": 0,
         "label": "silence",
         "offset": 100,
         "onset": 99,
         "params": {
          "conditioning": {
           "mode": "Skip",
           "reverb_period": 0.08
          },
          "label": "Silence",
          "onset": 0.1,
          "path": "C:\\Users\\jlab\\Repos\\2021_acoustic_stimulus_api\\stimuli\\stimset_LB_zf2",
          "plot": true,
          "reverb_period": 0.08,
          "samplerate": 51200,
          "show": false,
          "targeting": {
           "mode": "SingleSpeakerVolts"
          },
          "total_duration": 1,
          "type": "silence",
          "xlims": {
           "0": {
            "0": 0,
            "1": 0.99998046875
           },
           "1": {
            "0": -0.020000000000000004,
            "1": 1.1800000000000002
           }
          }
         },
         "stimulus_period_onset": 99,
         "stimulus_type": "silence"
        }
       },
       "name": "stimset_LB_zf2",
       "samplerate": 50000,
       "spec": {
        "comment": "calibration test stimuli",
        "custom_sequence": {
         "0": 0,
         "1": 0,
         "10": 2,
         "100": 0,
         "101": 4,
         "102": 0,
         "103": 1,
         "104": 0,
         "105": 2,
         "106": 0,
         "107": 5,
         "108": 0,
         "109": 3,
         "11": 0,
         "110": 0,
         "111": 0,
         "112": 0,
         "113": 0,
         "114": 2,
         "115": 0,
         "116": 5,
         "117": 0,
         "118": 1,
         "119": 0,
         "12": 1,
         "120": 4,
         "121": 0,
         "122": 3,
         "123": 0,
         "124": 0,
         "125": 0,
         "126": 0,
         "127": 4,
         "128": 0,
         "129": 2,
         "13": 0,
         "130": 0,
         "131": 3,
         "132": 0,
         "133": 5,
         "134": 0,
         "135": 1,
         "136": 0,
         "137": 0,
         "138": 0,
         "139": 0,
         "14": 4,
         "140": 0,
         "15": 0,
         "16": 5,
         "17": 0,
         "18": 3,
         "19": 0,
         "2": 0,
         "20": 0,
         "21": 0,
         "22": 0,
         "23": 2,
         "24": 0,
         "25": 1,
         "26": 0,
         "27": 3,
         "28": 0,
         "29": 4,
         "3": 0,
         "30": 0,
         "31": 5,
         "32": 0,
         "33": 0,
         "34": 0,
         "35": 0,
         "36": 2,
         "37": 0,
         "38": 4,
         "39": 0,
         "4": 0,
         "40": 3,
         "41": 0,
         "42": 5,
         "43": 0,
         "44": 1,
         "45": 0,
         "46": 0,
         "47": 0,
         "48": 0,
         "49": 4,
         "5": 0,
         "50": 0,
         "51": 1,
         "52": 0,
         "53": 2,
         "54": 0,
         "55": 3,
         "56": 0,
         "57": 5,
         "58": 0,
         "59": 0,
         "6": 0,
         "60": 0,
         "61": 0,
         "62": 2,
         "63": 0,
         "64": 1,
         "65": 0,
         "66": 4,
         "67": 0,
         "68": 5,
         "69": 0,
         "7": 0,
         "70": 3,
         "71": 0,
         "72": 0,
         "73": 0,
         "74": 0,
         "75": 4,
         "76": 0,
         "77": 1,
         "78": 0,
         "79": 2,
         "8": 0,
         "80": 0,
         "81": 5,
         "82": 0,
         "83": 3,
         "84": 0,
         "85": 0,
         "86": 0,
         "87": 0,
         "88": 5,
         "89": 0,
         "9": 0,
         "90": 4,
         "91": 0,
         "92": 1,
         "93": 0,
         "94": 3,
         "95": 0,
         "96": 2,
         "97": 0,
         "98": 0,
         "99": 0
        },
        "inter_trial_period": 0,
        "name": "stimset_LB_zf2",
        "physical_params": {
         "c": 1500,
         "rho": 1000
        },
        "post_trial_period": 15,
        "pre_trial_period": 15,
        "reverb_period": 0.08,
        "samplerate": 50000,
        "samplerate_old": 51200,
        "stimuli": {
         "0": {
          "conditioning": {
           "mode": "Skip"
          },
          "label": "Silence",
          "onset": 0.1,
          "targeting": {
           "mode": "SingleSpeakerVolts"
          },
          "total_duration": 1,
          "type": "silence"
         },
         "1": {
          "center_frequency": 1200,
          "conditioning": {
           "mode": "Skip"
          },
          "intensity": 4,
          "label": "1pulse_1200Hz",
          "npulses": 1,
          "onset": 0.1,
          "rate": 100,
          "targeting": {
           "mode": "SingleSpeakerVolts"
          },
          "total_duration": 1,
          "type": "pulse_sequence"
         },
         "2": {
          "center_frequency": 1200,
          "conditioning": {
           "mode": "Skip"
          },
          "intensity": 4,
          "label": "1pulse_1200Hz",
          "npulses": 1,
          "onset": 0.1,
          "rate": 100,
          "targeting": {
           "mode": "SingleSpeakerVolts"
          },
          "total_duration": 1,
          "type": "pulse_sequence"
         },
         "3": {
          "conditioning": {
           "mode": "Skip"
          },
          "duration": 0.8,
          "frequency": 1200,
          "intensity": 0.8,
          "label": "sin_1200Hz",
          "onset": 0.1,
          "targeting": {
           "mode": "SingleSpeakerVolts"
          },
          "total_duration": 1,
          "type": "puretone"
         },
         "4": {
          "conditioning": {
           "mode": "Skip"
          },
          "duration": 0.8,
          "frequency": 800,
          "intensity": 0.8,
          "label": "sin_800Hz",
          "onset": 0.1,
          "targeting": {
           "mode": "SingleSpeakerVolts"
          },
          "total_duration": 1,
          "type": "puretone"
         },
         "5": {
          "conditioning": {
           "mode": "Skip"
          },
          "duration": 0.8,
          "frequency": 2400,
          "intensity": 0.8,
          "label": "sin_2400Hz",
          "onset": 0.1,
          "targeting": {
           "mode": "SingleSpeakerVolts"
          },
          "total_duration": 1,
          "type": "puretone"
         }
        },
        "stimulus_sequence_order": {
         "0": 0,
         "1": 0,
         "10": 2,
         "100": 0,
         "101": 4,
         "102": 0,
         "103": 1,
         "104": 0,
         "105": 2,
         "106": 0,
         "107": 5,
         "108": 0,
         "109": 3,
         "11": 0,
         "110": 0,
         "111": 0,
         "112": 0,
         "113": 0,
         "114": 2,
         "115": 0,
         "116": 5,
         "117": 0,
         "118": 1,
         "119": 0,
         "12": 1,
         "120": 4,
         "121": 0,
         "122": 3,
         "123": 0,
         "124": 0,
         "125": 0,
         "126": 0,
         "127": 4,
         "128": 0,
         "129": 2,
         "13": 0,
         "130": 0,
         "131": 3,
         "132": 0,
         "133": 5,
         "134": 0,
         "135": 1,
         "136": 0,
         "137": 0,
         "138": 0,
         "139": 0,
         "14": 4,
         "140": 0,
         "15": 0,
         "16": 5,
         "17": 0,
         "18": 3,
         "19": 0,
         "2": 0,
         "20": 0,
         "21": 0,
         "22": 0,
         "23": 2,
         "24": 0,
         "25": 1,
         "26": 0,
         "27": 3,
         "28": 0,
         "29": 4,
         "3": 0,
         "30": 0,
         "31": 5,
         "32": 0,
         "33": 0,
         "34": 0,
         "35": 0,
         "36": 2,
         "37": 0,
         "38": 4,
         "39": 0,
         "4": 0,
         "40": 3,
         "41": 0,
         "42": 5,
         "43": 0,
         "44": 1,
         "45": 0,
         "46": 0,
         "47": 0,
         "48": 0,
         "49": 4,
         "5": 0,
         "50": 0,
         "51": 1,
         "52": 0,
         "53": 2,
         "54": 0,
         "55": 3,
         "56": 0,
         "57": 5,
         "58": 0,
         "59": 0,
         "6": 0,
         "60": 0,
         "61": 0,
         "62": 2,
         "63": 0,
         "64": 1,
         "65": 0,
         "66": 4,
         "67": 0,
         "68": 5,
         "69": 0,
         "7": 0,
         "70": 3,
         "71": 0,
         "72": 0,
         "73": 0,
         "74": 0,
         "75": 4,
         "76": 0,
         "77": 1,
         "78": 0,
         "79": 2,
         "8": 0,
         "80": 0,
         "81": 5,
         "82": 0,
         "83": 3,
         "84": 0,
         "85": 0,
         "86": 0,
         "87": 0,
         "88": 5,
         "89": 0,
         "9": 0,
         "90": 4,
         "91": 0,
         "92": 1,
         "93": 0,
         "94": 3,
         "95": 0,
         "96": 2,
         "97": 0,
         "98": 0,
         "99": 0
        },
        "trial_repetitions": 10
       },
       "stimulus": "<(1, 7050000) float64>",
       "total_duration": 141
      },
      "text/plain": [
       "<IPython.core.display.JSON object>"
      ]
     },
     "metadata": {
      "application/json": {
       "expanded": false,
       "root": "/home/lubo12/hpc-rw/stimulus_assembly.h5"
      }
     },
     "output_type": "display_data"
    }
   ],
   "source": [
    "assembly = lazyh5(stim_path, readonly=0)\n",
    "assembly"
   ]
  },
  {
   "cell_type": "code",
   "execution_count": 12,
   "id": "566ceeff-2483-4fb7-b3d1-a10ae6b1025e",
   "metadata": {},
   "outputs": [
    {
     "data": {
      "text/plain": [
       "[<matplotlib.lines.Line2D at 0x153471bf9a60>]"
      ]
     },
     "execution_count": 12,
     "metadata": {},
     "output_type": "execute_result"
    },
    {
     "data": {
      "application/vnd.jupyter.widget-view+json": {
       "model_id": "42178ae1b3084c6f9ef51d2017f6dd9a",
       "version_major": 2,
       "version_minor": 0
      },
      "image/png": "[encoded data removed]",
      "text/html": [
       "\n",
       "            <div style=\"display: inline-block;\">\n",
       "                <div class=\"jupyter-widgets widget-label\" style=\"text-align: center;\">\n",
       "                    Figure\n",
       "                </div>\n",
       "                <img src='data:image/png;base64,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' width=1000.0/>\n",
       "            </div>\n",
       "        "
      ],
      "text/plain": [
       "Canvas(toolbar=Toolbar(toolitems=[('Home', 'Reset original view', 'home', 'home'), ('Back', 'Back to previous …"
      ]
     },
     "metadata": {},
     "output_type": "display_data"
    }
   ],
   "source": [
    "fig, ax = plt.subplots(1,1,figsize=(10,4))\n",
    "\n",
    "ax.plot((np.abs(assembly[\"stimulus\"].T)>=1e-7))\n",
    "ax.plot(assembly[\"stimulus\"].T)\n"
   ]
  },
  {
   "cell_type": "code",
   "execution_count": 8,
   "id": "c18bcb8e-2f9d-4dc4-93da-ce7e0dfc9c03",
   "metadata": {},
   "outputs": [],
   "source": [
    "optical_stim = (np.abs(assembly[\"stimulus\"].T)>=1e-7)*0.1"
   ]
  },
  {
   "cell_type": "code",
   "execution_count": 9,
   "id": "e278a85e-8d59-492b-9f4f-46d134519010",
   "metadata": {},
   "outputs": [
    {
     "ename": "PermissionError",
     "evalue": "[Errno 13] Unable to synchronously open file (unable to open file: name = '/home/lubo12/hpc-r/lfm2025/recordings/20250828_1708_LB_zf552_para_f1_2/stimset_LB_zf2/stimulus_assembly.h5', errno = 13, error message = 'Permission denied', flags = 1, o_flags = 2)",
     "output_type": "error",
     "traceback": [
      "\u001b[0;31m---------------------------------------------------------------------------\u001b[0m",
      "\u001b[0;31mPermissionError\u001b[0m                           Traceback (most recent call last)",
      "Cell \u001b[0;32mIn[9], line 1\u001b[0m\n\u001b[0;32m----> 1\u001b[0m \u001b[43massembly\u001b[49m\u001b[43m[\u001b[49m\u001b[38;5;124;43m\"\u001b[39;49m\u001b[38;5;124;43mstimulus\u001b[39;49m\u001b[38;5;124;43m\"\u001b[39;49m\u001b[43m]\u001b[49m \u001b[38;5;241m=\u001b[39m optical_stim\n",
      "File \u001b[0;32m~/.conda/envs/lfm1/lib/python3.12/site-packages/daio/h5.py:197\u001b[0m, in \u001b[0;36mlazyh5.__setitem__\u001b[0;34m(self, key, value)\u001b[0m\n\u001b[1;32m    195\u001b[0m \u001b[38;5;28;01mdef\u001b[39;00m\u001b[38;5;250m \u001b[39m\u001b[38;5;21m__setitem__\u001b[39m(\u001b[38;5;28mself\u001b[39m, key, value):\n\u001b[1;32m    196\u001b[0m \u001b[38;5;250m    \u001b[39m\u001b[38;5;124;03m\"\"\"Sets an item by key.\"\"\"\u001b[39;00m\n\u001b[0;32m--> 197\u001b[0m     \u001b[38;5;28;43mself\u001b[39;49m\u001b[38;5;241;43m.\u001b[39;49m\u001b[43mfrom_dict\u001b[49m\u001b[43m(\u001b[49m\u001b[43m{\u001b[49m\u001b[43mkey\u001b[49m\u001b[43m:\u001b[49m\u001b[43m \u001b[49m\u001b[43mvalue\u001b[49m\u001b[43m}\u001b[49m\u001b[43m)\u001b[49m\n",
      "File \u001b[0;32m~/.conda/envs/lfm1/lib/python3.12/site-packages/daio/h5.py:156\u001b[0m, in \u001b[0;36mlazyh5.from_dict\u001b[0;34m(self, data, compression, json_compression, overwrite)\u001b[0m\n\u001b[1;32m    154\u001b[0m     \u001b[38;5;28;01mraise\u001b[39;00m \u001b[38;5;167;01mValueError\u001b[39;00m(\u001b[38;5;124m\"\u001b[39m\u001b[38;5;124mCannot add data to a read-only lazyh5 object.\u001b[39m\u001b[38;5;124m\"\u001b[39m)\n\u001b[1;32m    155\u001b[0m \u001b[38;5;28;01mif\u001b[39;00m exists(\u001b[38;5;28mself\u001b[39m\u001b[38;5;241m.\u001b[39m_filepath):\n\u001b[0;32m--> 156\u001b[0m     \u001b[38;5;28;01mwith\u001b[39;00m \u001b[43mh5py\u001b[49m\u001b[38;5;241;43m.\u001b[39;49m\u001b[43mFile\u001b[49m\u001b[43m(\u001b[49m\u001b[38;5;28;43mself\u001b[39;49m\u001b[38;5;241;43m.\u001b[39;49m\u001b[43m_filepath\u001b[49m\u001b[43m,\u001b[49m\u001b[43m \u001b[49m\u001b[38;5;124;43m'\u001b[39;49m\u001b[38;5;124;43ma\u001b[39;49m\u001b[38;5;124;43m'\u001b[39;49m\u001b[43m)\u001b[49m \u001b[38;5;28;01mas\u001b[39;00m f:\n\u001b[1;32m    157\u001b[0m         \u001b[38;5;28;01mfor\u001b[39;00m k, v \u001b[38;5;129;01min\u001b[39;00m data\u001b[38;5;241m.\u001b[39mitems():\n\u001b[1;32m    158\u001b[0m             \u001b[38;5;28;01mif\u001b[39;00m (\u001b[38;5;28mself\u001b[39m\u001b[38;5;241m.\u001b[39m_h5path\u001b[38;5;241m+\u001b[39m\u001b[38;5;124m'\u001b[39m\u001b[38;5;124m/\u001b[39m\u001b[38;5;124m'\u001b[39m\u001b[38;5;241m+\u001b[39mk \u001b[38;5;129;01min\u001b[39;00m f):\n",
      "File \u001b[0;32m~/.conda/envs/lfm1/lib/python3.12/site-packages/h5py/_hl/files.py:561\u001b[0m, in \u001b[0;36mFile.__init__\u001b[0;34m(self, name, mode, driver, libver, userblock_size, swmr, rdcc_nslots, rdcc_nbytes, rdcc_w0, track_order, fs_strategy, fs_persist, fs_threshold, fs_page_size, page_buf_size, min_meta_keep, min_raw_keep, locking, alignment_threshold, alignment_interval, meta_block_size, **kwds)\u001b[0m\n\u001b[1;32m    552\u001b[0m     fapl \u001b[38;5;241m=\u001b[39m make_fapl(driver, libver, rdcc_nslots, rdcc_nbytes, rdcc_w0,\n\u001b[1;32m    553\u001b[0m                      locking, page_buf_size, min_meta_keep, min_raw_keep,\n\u001b[1;32m    554\u001b[0m                      alignment_threshold\u001b[38;5;241m=\u001b[39malignment_threshold,\n\u001b[1;32m    555\u001b[0m                      alignment_interval\u001b[38;5;241m=\u001b[39malignment_interval,\n\u001b[1;32m    556\u001b[0m                      meta_block_size\u001b[38;5;241m=\u001b[39mmeta_block_size,\n\u001b[1;32m    557\u001b[0m                      \u001b[38;5;241m*\u001b[39m\u001b[38;5;241m*\u001b[39mkwds)\n\u001b[1;32m    558\u001b[0m     fcpl \u001b[38;5;241m=\u001b[39m make_fcpl(track_order\u001b[38;5;241m=\u001b[39mtrack_order, fs_strategy\u001b[38;5;241m=\u001b[39mfs_strategy,\n\u001b[1;32m    559\u001b[0m                      fs_persist\u001b[38;5;241m=\u001b[39mfs_persist, fs_threshold\u001b[38;5;241m=\u001b[39mfs_threshold,\n\u001b[1;32m    560\u001b[0m                      fs_page_size\u001b[38;5;241m=\u001b[39mfs_page_size)\n\u001b[0;32m--> 561\u001b[0m     fid \u001b[38;5;241m=\u001b[39m \u001b[43mmake_fid\u001b[49m\u001b[43m(\u001b[49m\u001b[43mname\u001b[49m\u001b[43m,\u001b[49m\u001b[43m \u001b[49m\u001b[43mmode\u001b[49m\u001b[43m,\u001b[49m\u001b[43m \u001b[49m\u001b[43muserblock_size\u001b[49m\u001b[43m,\u001b[49m\u001b[43m \u001b[49m\u001b[43mfapl\u001b[49m\u001b[43m,\u001b[49m\u001b[43m \u001b[49m\u001b[43mfcpl\u001b[49m\u001b[43m,\u001b[49m\u001b[43m \u001b[49m\u001b[43mswmr\u001b[49m\u001b[38;5;241;43m=\u001b[39;49m\u001b[43mswmr\u001b[49m\u001b[43m)\u001b[49m\n\u001b[1;32m    563\u001b[0m \u001b[38;5;28;01mif\u001b[39;00m \u001b[38;5;28misinstance\u001b[39m(libver, \u001b[38;5;28mtuple\u001b[39m):\n\u001b[1;32m    564\u001b[0m     \u001b[38;5;28mself\u001b[39m\u001b[38;5;241m.\u001b[39m_libver \u001b[38;5;241m=\u001b[39m libver\n",
      "File \u001b[0;32m~/.conda/envs/lfm1/lib/python3.12/site-packages/h5py/_hl/files.py:247\u001b[0m, in \u001b[0;36mmake_fid\u001b[0;34m(name, mode, userblock_size, fapl, fcpl, swmr)\u001b[0m\n\u001b[1;32m    242\u001b[0m \u001b[38;5;28;01melif\u001b[39;00m mode \u001b[38;5;241m==\u001b[39m \u001b[38;5;124m'\u001b[39m\u001b[38;5;124ma\u001b[39m\u001b[38;5;124m'\u001b[39m:\n\u001b[1;32m    243\u001b[0m     \u001b[38;5;66;03m# Open in append mode (read/write).\u001b[39;00m\n\u001b[1;32m    244\u001b[0m     \u001b[38;5;66;03m# If that fails, create a new file only if it won't clobber an\u001b[39;00m\n\u001b[1;32m    245\u001b[0m     \u001b[38;5;66;03m# existing one (ACC_EXCL)\u001b[39;00m\n\u001b[1;32m    246\u001b[0m     \u001b[38;5;28;01mtry\u001b[39;00m:\n\u001b[0;32m--> 247\u001b[0m         fid \u001b[38;5;241m=\u001b[39m \u001b[43mh5f\u001b[49m\u001b[38;5;241;43m.\u001b[39;49m\u001b[43mopen\u001b[49m\u001b[43m(\u001b[49m\u001b[43mname\u001b[49m\u001b[43m,\u001b[49m\u001b[43m \u001b[49m\u001b[43mh5f\u001b[49m\u001b[38;5;241;43m.\u001b[39;49m\u001b[43mACC_RDWR\u001b[49m\u001b[43m,\u001b[49m\u001b[43m \u001b[49m\u001b[43mfapl\u001b[49m\u001b[38;5;241;43m=\u001b[39;49m\u001b[43mfapl\u001b[49m\u001b[43m)\u001b[49m\n\u001b[1;32m    248\u001b[0m     \u001b[38;5;66;03m# Not all drivers raise FileNotFoundError (commented those that do not)\u001b[39;00m\n\u001b[1;32m    249\u001b[0m     \u001b[38;5;28;01mexcept\u001b[39;00m \u001b[38;5;167;01mFileNotFoundError\u001b[39;00m \u001b[38;5;28;01mif\u001b[39;00m fapl\u001b[38;5;241m.\u001b[39mget_driver() \u001b[38;5;129;01min\u001b[39;00m (\n\u001b[1;32m    250\u001b[0m         h5fd\u001b[38;5;241m.\u001b[39mSEC2,\n\u001b[1;32m    251\u001b[0m         h5fd\u001b[38;5;241m.\u001b[39mDIRECT \u001b[38;5;28;01mif\u001b[39;00m direct_vfd \u001b[38;5;28;01melse\u001b[39;00m \u001b[38;5;241m-\u001b[39m\u001b[38;5;241m1\u001b[39m,\n\u001b[0;32m   (...)\u001b[0m\n\u001b[1;32m    259\u001b[0m         h5fd\u001b[38;5;241m.\u001b[39mROS3D \u001b[38;5;28;01mif\u001b[39;00m ros3 \u001b[38;5;28;01melse\u001b[39;00m \u001b[38;5;241m-\u001b[39m\u001b[38;5;241m1\u001b[39m,\n\u001b[1;32m    260\u001b[0m     ) \u001b[38;5;28;01melse\u001b[39;00m \u001b[38;5;167;01mOSError\u001b[39;00m:\n",
      "File \u001b[0;32mh5py/_objects.pyx:54\u001b[0m, in \u001b[0;36mh5py._objects.with_phil.wrapper\u001b[0;34m()\u001b[0m\n",
      "File \u001b[0;32mh5py/_objects.pyx:55\u001b[0m, in \u001b[0;36mh5py._objects.with_phil.wrapper\u001b[0;34m()\u001b[0m\n",
      "File \u001b[0;32mh5py/h5f.pyx:102\u001b[0m, in \u001b[0;36mh5py.h5f.open\u001b[0;34m()\u001b[0m\n",
      "\u001b[0;31mPermissionError\u001b[0m: [Errno 13] Unable to synchronously open file (unable to open file: name = '/home/lubo12/hpc-r/lfm2025/recordings/20250828_1708_LB_zf552_para_f1_2/stimset_LB_zf2/stimulus_assembly.h5', errno = 13, error message = 'Permission denied', flags = 1, o_flags = 2)"
     ]
    }
   ],
   "source": [
    "assembly[\"stimulus\"] = optical_stim"
   ]
  },
  {
   "cell_type": "code",
   "execution_count": 14,
   "id": "9672627f-bc53-42cd-949b-276e2a13ffac",
   "metadata": {},
   "outputs": [
    {
     "name": "stderr",
     "output_type": "stream",
     "text": [
      "/home/lubo12/.conda/envs/lfm1/lib/python3.12/site-packages/cupyx/jit/_interface.py:173: FutureWarning: cupyx.jit.rawkernel is experimental. The interface can change in the future.\n",
      "  cupy._util.experimental('cupyx.jit.rawkernel')\n"
     ]
    },
    {
     "data": {
      "application/vnd.jupyter.widget-view+json": {
       "model_id": "ea3b135549f244e8852c495e6bc1891b",
       "version_major": 2,
       "version_minor": 0
      },
      "text/plain": [
       "Generating raw video:   0%|          | 0/11265 [00:00<?, ?it/s]"
      ]
     },
     "metadata": {},
     "output_type": "display_data"
    }
   ],
   "source": [
    "from i_o import VolumeReader\n",
    "from tqdm.auto import tqdm\n",
    "import cupy as cp\n",
    "reader = VolumeReader(\"/home/lubo12/hpc-r/lfm2025/recordings/20250905_1818_stimulus_test/data.h5\")\n",
    "means = []\n",
    "for frame_n, frame in tqdm(reader, desc=\"Generating raw video\"):\n",
    "    means.append(cp.asarray(frame).flatten().mean().get())\n",
    "means = np.array(means)"
   ]
  },
  {
   "cell_type": "code",
   "execution_count": 18,
   "id": "26261a38-f105-46a5-8502-65f900c1b23c",
   "metadata": {},
   "outputs": [
    {
     "data": {
      "text/plain": [
       "[<matplotlib.lines.Line2D at 0x1533cbf0d7c0>]"
      ]
     },
     "execution_count": 18,
     "metadata": {},
     "output_type": "execute_result"
    },
    {
     "data": {
      "application/vnd.jupyter.widget-view+json": {
       "model_id": "ba662423faf94d2194f7d21417204bce",
       "version_major": 2,
       "version_minor": 0
      },
      "image/png": "[encoded data removed]",
      "text/html": [
       "\n",
       "            <div style=\"display: inline-block;\">\n",
       "                <div class=\"jupyter-widgets widget-label\" style=\"text-align: center;\">\n",
       "                    Figure\n",
       "                </div>\n",
       "                <img src='data:image/png;base64,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' width=1600.0/>\n",
       "            </div>\n",
       "        "
      ],
      "text/plain": [
       "Canvas(toolbar=Toolbar(toolitems=[('Home', 'Reset original view', 'home', 'home'), ('Back', 'Back to previous …"
      ]
     },
     "metadata": {},
     "output_type": "display_data"
    }
   ],
   "source": [
    "fig, ax = plt.subplots(1,1,figsize = (16,5))\n",
    "ax.plot(means)\n",
    "ax.plot(onsets_array*40)"
   ]
  },
  {
   "cell_type": "code",
   "execution_count": 15,
   "id": "66253b8a-74fd-4c63-8ea1-807143a106b0",
   "metadata": {},
   "outputs": [],
   "source": [
    "bool_arr = optical_stim != 0\n",
    "onsets = np.where(bool_arr & ~np.roll(bool_arr, 1) & ~np.roll(bool_arr, 2))[0]\n",
    "onsets =75*(onsets / 50000)\n",
    "onsets = onsets.astype(np.uint16)\n",
    "onsets_array = np.zeros_like(means)\n",
    "onsets_array[onsets] = 1\n"
   ]
  },
  {
   "cell_type": "code",
   "execution_count": 49,
   "id": "94c0cff8-55c5-467e-9e6c-54fca5b4db0a",
   "metadata": {},
   "outputs": [
    {
     "data": {
      "text/plain": [
       "[<matplotlib.lines.Line2D at 0x14be7a1516d0>]"
      ]
     },
     "execution_count": 49,
     "metadata": {},
     "output_type": "execute_result"
    },
    {
     "data": {
      "application/vnd.jupyter.widget-view+json": {
       "model_id": "747e7fe9eb8c47a6ae321acb44cad94b",
       "version_major": 2,
       "version_minor": 0
      },
      "image/png": "[encoded data removed]",
      "text/html": [
       "\n",
       "            <div style=\"display: inline-block;\">\n",
       "                <div class=\"jupyter-widgets widget-label\" style=\"text-align: center;\">\n",
       "                    Figure\n",
       "                </div>\n",
       "                <img src='data:image/png;base64,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' width=1600.0/>\n",
       "            </div>\n",
       "        "
      ],
      "text/plain": [
       "Canvas(toolbar=Toolbar(toolitems=[('Home', 'Reset original view', 'home', 'home'), ('Back', 'Back to previous …"
      ]
     },
     "metadata": {},
     "output_type": "display_data"
    }
   ],
   "source": [
    "fig, ax = plt.subplots(1,1,figsize = (16,5))\n",
    "ax.plot(optical_stim)"
   ]
  },
  {
   "cell_type": "code",
   "execution_count": 24,
   "id": "a76970c1-3dda-4c63-a198-ed790a0b122a",
   "metadata": {},
   "outputs": [
    {
     "data": {
      "text/plain": [
       "(50,)"
      ]
     },
     "execution_count": 24,
     "metadata": {},
     "output_type": "execute_result"
    }
   ],
   "source": [
    "arr = np.where(np.diff(means).astype(int)>0)[0]\n",
    "filtered = arr[np.diff(np.concatenate(([-np.inf], arr))) > 3]\n",
    "filtered.shape"
   ]
  },
  {
   "cell_type": "code",
   "execution_count": 25,
   "id": "5fd29e62-ff9d-4492-97f6-b4732c141114",
   "metadata": {},
   "outputs": [],
   "source": [
    "onset_timestamps = lazyh5(\"/home/lubo12/hpc-r/lfm2025/recordings/20250905_1818_stimulus_test/data.h5\")[\"tstmp\"][filtered]\n"
   ]
  },
  {
   "cell_type": "code",
   "execution_count": 26,
   "id": "2c2407d9-141d-461e-aed2-b84d5cfd8790",
   "metadata": {},
   "outputs": [],
   "source": [
    "onset_timestamps -= onset_timestamps.min()"
   ]
  },
  {
   "cell_type": "code",
   "execution_count": 27,
   "id": "9a49b8e7-50ec-4afc-883a-06af77aafdf5",
   "metadata": {},
   "outputs": [
    {
     "data": {
      "text/plain": [
       "array([  0.        ,   2.00075936,   4.02843022,   6.01551461,\n",
       "         8.01664281,  13.00590444,  15.00642323,  17.02167439,\n",
       "        19.02227712,  21.02330184,  25.99992967,  28.0264492 ,\n",
       "        30.02810311,  32.01546717,  34.00337625,  39.01980472,\n",
       "        41.00697637,  43.00811625,  45.02185082,  47.02295971,\n",
       "        51.9993763 ,  53.99959421,  56.02776933,  58.02898741,\n",
       "        60.01680851,  65.01977396,  67.0068202 ,  69.00745273,\n",
       "        71.02193403,  73.02309585,  78.02548051,  80.02586269,\n",
       "        82.0006938 ,  84.02847123,  86.00351954,  91.01892781,\n",
       "        93.00671411,  95.00708175,  97.02141047,  99.02375221,\n",
       "       103.99867225, 106.02675581, 108.00082612, 110.02804589,\n",
       "       112.029634  , 117.0181818 , 119.00586367, 121.02027941,\n",
       "       123.02119207, 125.00963998])"
      ]
     },
     "execution_count": 27,
     "metadata": {},
     "output_type": "execute_result"
    }
   ],
   "source": [
    "onset_timestamps"
   ]
  },
  {
   "cell_type": "code",
   "execution_count": 129,
   "id": "533d390c-1627-45e9-85ba-d2c5b64212fa",
   "metadata": {},
   "outputs": [
    {
     "data": {
      "text/plain": [
       "[<matplotlib.lines.Line2D at 0x14cdccaf69c0>]"
      ]
     },
     "execution_count": 129,
     "metadata": {},
     "output_type": "execute_result"
    },
    {
     "data": {
      "application/vnd.jupyter.widget-view+json": {
       "model_id": "f6bd1a8c52984199950b0db13e824d41",
       "version_major": 2,
       "version_minor": 0
      },
      "image/png": "[encoded data removed]",
      "text/html": [
       "\n",
       "            <div style=\"display: inline-block;\">\n",
       "                <div class=\"jupyter-widgets widget-label\" style=\"text-align: center;\">\n",
       "                    Figure\n",
       "                </div>\n",
       "                <img src='data:image/png;base64,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' width=1600.0/>\n",
       "            </div>\n",
       "        "
      ],
      "text/plain": [
       "Canvas(toolbar=Toolbar(toolitems=[('Home', 'Reset original view', 'home', 'home'), ('Back', 'Back to previous …"
      ]
     },
     "metadata": {},
     "output_type": "display_data"
    }
   ],
   "source": [
    "fig, ax = plt.subplots(1,1,figsize = (16,5))\n",
    "ax.plot(onset_timestamps)"
   ]
  },
  {
   "cell_type": "code",
   "execution_count": 21,
   "id": "4818beff-6f0e-41dc-bd3b-be0e2463df18",
   "metadata": {},
   "outputs": [],
   "source": [
    "stimulus_sequence_order = np.array(stimulus_sequence_order)\n",
    "stim_id_order = stimulus_sequence_order[stimulus_sequence_order!=0]"
   ]
  },
  {
   "cell_type": "code",
   "execution_count": 22,
   "id": "cf93b825-d8b4-4b38-afe0-4220ee7a8a45",
   "metadata": {},
   "outputs": [
    {
     "data": {
      "text/plain": [
       "array([60,  3, 60,  3, 60, 60, 60,  3,  3, 60,  3,  3, 60, 60, 60,  3, 60,\n",
       "        3, 60, 60, 60, 60,  3, 60,  3, 60, 60,  3,  3, 60, 60,  3,  3, 60,\n",
       "       60, 60,  3,  3, 60, 60, 60,  3,  3, 60, 60,  3, 60, 60,  3, 60])"
      ]
     },
     "execution_count": 22,
     "metadata": {},
     "output_type": "execute_result"
    }
   ],
   "source": [
    "stim_lengths = []\n",
    "for i in stim_id_order:\n",
    "    onset = stim_data[\"stimulus_collection\"][str(i)][\"metadata\"][\"onset\"]\n",
    "    offset = stim_data[\"stimulus_collection\"][str(i)][\"metadata\"][\"offset\"]\n",
    "    duration = int((offset-onset)*75)\n",
    "    if duration == 0.0:\n",
    "        duration = 3\n",
    "    stim_lengths.append(duration)\n",
    "np.array(stim_lengths)"
   ]
  },
  {
   "cell_type": "code",
   "execution_count": 31,
   "id": "18cfdd99-d5c4-41fd-bc0e-c89ae816b25a",
   "metadata": {},
   "outputs": [
    {
     "data": {
      "text/plain": [
       "(50,)"
      ]
     },
     "execution_count": 31,
     "metadata": {},
     "output_type": "execute_result"
    }
   ],
   "source": [
    "filtered.shape"
   ]
  },
  {
   "cell_type": "code",
   "execution_count": 29,
   "id": "6b9884e0-489f-4d58-bceb-188b4b645f6e",
   "metadata": {},
   "outputs": [
    {
     "data": {
      "text/plain": [
       "(11265,)"
      ]
     },
     "execution_count": 29,
     "metadata": {},
     "output_type": "execute_result"
    }
   ],
   "source": [
    "timestamps.shape"
   ]
  },
  {
   "cell_type": "code",
   "execution_count": 32,
   "id": "ffa37ff2-9a81-4bba-8b26-8b6af8595c44",
   "metadata": {},
   "outputs": [
    {
     "data": {
      "text/plain": [
       "[<matplotlib.lines.Line2D at 0x1533cac35790>]"
      ]
     },
     "execution_count": 32,
     "metadata": {},
     "output_type": "execute_result"
    },
    {
     "data": {
      "application/vnd.jupyter.widget-view+json": {
       "model_id": "b78f943807a7432f8071d33b78d8ec30",
       "version_major": 2,
       "version_minor": 0
      },
      "image/png": "[encoded data removed]",
      "text/html": [
       "\n",
       "            <div style=\"display: inline-block;\">\n",
       "                <div class=\"jupyter-widgets widget-label\" style=\"text-align: center;\">\n",
       "                    Figure\n",
       "                </div>\n",
       "                <img src='data:image/png;base64,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' width=1600.0/>\n",
       "            </div>\n",
       "        "
      ],
      "text/plain": [
       "Canvas(toolbar=Toolbar(toolitems=[('Home', 'Reset original view', 'home', 'home'), ('Back', 'Back to previous …"
      ]
     },
     "metadata": {},
     "output_type": "display_data"
    }
   ],
   "source": [
    "final_stimulus_id = np.zeros(timestamps.shape)\n",
    "for i in range(len(filtered)):\n",
    "    final_stimulus_id[filtered[i]:filtered[i]+stim_lengths[i]] = stim_id_order[i]\n",
    "fig, ax = plt.subplots(1,1,figsize = (16,5))\n",
    "ax.plot(final_stimulus_id)\n",
    "ax.plot(means)"
   ]
  },
  {
   "cell_type": "code",
   "execution_count": 33,
   "id": "5438a6d9-f856-45d2-9c2e-4176d3f2e336",
   "metadata": {},
   "outputs": [],
   "source": [
    "import pickle\n",
    "\n",
    "# Write\n",
    "with open(\"readable_75fps_stim_2.pkl\", \"wb\") as f: pickle.dump((final_stimulus_id, stim_names), f)\n",
    "# Read\n",
    "# with open(\"readable_75fps_stim.pkl\", \"rb\") as f: final_stimulus_id, stim_names = pickle.load(f)\n"
   ]
  },
  {
   "cell_type": "code",
   "execution_count": 19,
   "id": "9dbd6d2b-9761-47fd-96be-c6052b3595ea",
   "metadata": {},
   "outputs": [],
   "source": [
    "from i_o import downsample_max\n",
    "import json\n",
    "stim_path = \"~/hpc-r/lfm2025/recordings/20250828_1708_LB_zf552_para_f1_2/stimset_LB_zf2\"\n",
    "stim_data = lazyh5(os.path.expanduser(os.path.join(stim_path, \"stimdata_conditioned.h5\")))\n",
    "samplerate = 50000 #stim_data[\"spec\"][\"samplerate\"]\n",
    "reverb_time = int(stim_data[\"spec\"][\"reverb_period\"] * samplerate)\n",
    "\n",
    "stimdict = {}\n",
    "stim_names = {}\n",
    "for i in range(len(stim_data[\"stimulus_collection\"])):\n",
    "    stimdict[i] = stim_data[\"stimulus_collection\"][str(i)][\"stimulus\"]\n",
    "    stim_names[i] = stim_data[\"spec\"][\"stimuli\"][str(i)][\"label\"]\n",
    "\n",
    "with open(os.path.expanduser(os.path.join(stim_path, \"stimulus_assembly_info.json\")), 'r') as f:\n",
    "    stim_json = json.load(f)\n",
    "\n",
    "stimulus_sequence_order = stim_json.get('stimulus_sequence_order', [])\n",
    "assembly_info = stim_json.get('assembly_info', [])\n",
    "total_duration = stim_json.get(\"assembly_duration\", [])\n",
    "final_stimulus = np.zeros(int(total_duration * samplerate))\n",
    "final_stimulus_id = np.zeros(int(total_duration * samplerate))\n",
    "\n",
    "for i, event_info in enumerate(assembly_info):\n",
    "    stim_id = stimulus_sequence_order[i]\n",
    "    if stim_id != 0:\n",
    "        stim = stimdict[stim_id]\n",
    "        onset_time = round(event_info.get('stimulus_period_onset') * samplerate)\n",
    "        # if stim.shape[0]> 2*reverb_time:\n",
    "        #     offset_time = round(event_info.get('offset') * samplerate)\n",
    "        #     final_stimulus[onset_time:offset_time] = stim[reverb_time:-reverb_time]\n",
    "        #     final_stimulus_id[onset_time:offset_time] = stim_id\n",
    "        # else:\n",
    "        offset_time = onset_time+stim[reverb_time:].shape[0]\n",
    "        final_stimulus[onset_time:offset_time] = stim[reverb_time:]\n",
    "        final_stimulus_id[onset_time:offset_time] = stim_id\n",
    "timestamps = lazyh5(\"/home/lubo12/hpc-r/lfm2025/recordings/20250905_1818_stimulus_test/data.h5\")[\"tstmp\"]\n",
    "timestamps -= np.nanmin(timestamps)\n",
    "stim_time = np.arange(final_stimulus_id.shape[0])/samplerate \n",
    "stimulus_id_fps = np.zeros_like(timestamps)\n",
    "for i in range(len(timestamps)):\n",
    "    t0 = timestamps[i-1] if i>0 else 0\n",
    "    t1 = timestamps[i]\n",
    "\n",
    "    idx0 = np.searchsorted(stim_time, t0, side='left')\n",
    "    idx1 = np.searchsorted(stim_time, t1, side='right')\n",
    "    stim_ids_in_window = final_stimulus_id[idx0:idx1]\n",
    "    if np.any(stim_ids_in_window != 0):\n",
    "        stimulus_id_fps[i] = np.max(stim_ids_in_window)\n",
    "# final_stimulus_id = downsample_max(final_stimulus_id, samplerate, 75)\n"
   ]
  },
  {
   "cell_type": "code",
   "execution_count": null,
   "id": "9ba08950-8e7b-40ac-b9e0-93a68dc7bad8",
   "metadata": {},
   "outputs": [],
   "source": [
    "fig, ax = plt.subplots(1,1,figsize = (16,5))\n",
    "ax.plot(np.diff(final_stimulus_id)>0)\n",
    "ax.plot(onset_times)"
   ]
  },
  {
   "cell_type": "code",
   "execution_count": 142,
   "id": "3f835f4f-93a5-4fcf-9078-1ff6d6be914d",
   "metadata": {},
   "outputs": [],
   "source": [
    "stim_onsets = (np.where(np.diff(final_stimulus_id)>0)[0]+reverb_time+1)/50000 *75\n"
   ]
  },
  {
   "cell_type": "code",
   "execution_count": 68,
   "id": "5e57f921-9283-4c57-bd6a-8e1e0e2be063",
   "metadata": {},
   "outputs": [
    {
     "data": {
      "text/plain": [
       "[<matplotlib.lines.Line2D at 0x14be7a3610d0>]"
      ]
     },
     "execution_count": 68,
     "metadata": {},
     "output_type": "execute_result"
    },
    {
     "data": {
      "application/vnd.jupyter.widget-view+json": {
       "model_id": "e3a6a6898a654bd589dc495847df5a55",
       "version_major": 2,
       "version_minor": 0
      },
      "image/png": "[encoded data removed]",
      "text/html": [
       "\n",
       "            <div style=\"display: inline-block;\">\n",
       "                <div class=\"jupyter-widgets widget-label\" style=\"text-align: center;\">\n",
       "                    Figure\n",
       "                </div>\n",
       "                <img src='data:image/png;base64,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' width=1000.0/>\n",
       "            </div>\n",
       "        "
      ],
      "text/plain": [
       "Canvas(toolbar=Toolbar(toolitems=[('Home', 'Reset original view', 'home', 'home'), ('Back', 'Back to previous …"
      ]
     },
     "metadata": {},
     "output_type": "display_data"
    }
   ],
   "source": [
    "fig, ax = plt.subplots(1,1, figsize=(10,5))\n",
    "ax.plot((onsets-onset_timestamps)*75)"
   ]
  },
  {
   "cell_type": "code",
   "execution_count": 65,
   "id": "322204a0-785b-447b-8554-c06856e78838",
   "metadata": {},
   "outputs": [],
   "source": [
    "onsets -= onsets.min()"
   ]
  },
  {
   "cell_type": "code",
   "execution_count": null,
   "id": "60ef1411-76d1-4bae-a8c7-7557de2f6ac3",
   "metadata": {},
   "outputs": [],
   "source": []
  }
 ],
 "metadata": {
  "kernelspec": {
   "display_name": "Python [conda env:.conda-lfm1]",
   "language": "python",
   "name": "conda-env-.conda-lfm1-py"
  },
  "language_info": {
   "codemirror_mode": {
    "name": "ipython",
    "version": 3
   },
   "file_extension": ".py",
   "mimetype": "text/x-python",
   "name": "python",
   "nbconvert_exporter": "python",
   "pygments_lexer": "ipython3",
   "version": "3.12.8"
  }
 },
 "nbformat": 4,
 "nbformat_minor": 5
}
