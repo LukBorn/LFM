{
 "cells": [
  {
   "cell_type": "code",
   "execution_count": null,
   "id": "1dfbf8af-d973-4019-a385-1b7bea3c3f4e",
   "metadata": {},
   "outputs": [],
   "source": [
    "%matplotlib widget\n",
    "\n",
    "import numpy as np\n",
    "import cupy as cp\n",
    "from cupyx.scipy.ndimage import maximum_filter, median_filter\n",
    "import matplotlib.pyplot as plt\n",
    "from tqdm.auto import tqdm\n",
    "import os, glob, h5py\n",
    "import importlib, pathlib\n",
    "import warpfield\n",
    "\n",
    "from daio.h5 import lazyh5\n",
    "from video import create_projection_image, recording_to_overlay_preview, showvid, get_lenses, array3d_to_video, AVWriter2\n",
    "from widgets import get_mask_widget, ortho_views_widget, play_video_widget\n",
    "from register import average_volumes, mini_registration, save_register_recipe, register_recording\n",
    "from reconstruction import reconstruct_vols_from_imgs, reconstruct_vols_from_imgs_parallel\n",
    "from i_o import Paths, VolumeReader, RegisteredVolumeReader, get_stimulus, parse_combinations\n",
    "from signal_extraction import extract_traces\n",
    "\n",
    "cmap = \"gray\""
   ]
  },
  {
   "cell_type": "markdown",
   "id": "1414ef0e-f0cc-422c-bd63-e5db72d87dcd",
   "metadata": {},
   "source": [
    "## setup paths"
   ]
  },
  {
   "cell_type": "code",
   "execution_count": null,
   "id": "b3bf79ec-c23e-4f1f-bf2d-853721e1e744",
   "metadata": {},
   "outputs": [],
   "source": [
    "# pn_psf = r\"Y:/hpc/r/lfm2025/psfs\"\n",
    "pn_psfs = r\"~/hpc-rw/lfm/psfs\" \n",
    "includes = [''] \n",
    "excludes = []\n",
    "\n",
    "recs = [os.path.basename(rec) for rec in sorted(glob.glob(os.path.expanduser(os.path.join(pn_psfs, '*'))), reverse=True) if os.path.exists(os.path.join(pn_psfs, rec, 'psf.h5'))] \n",
    "recs = [rec for rec in recs if all([s in rec for s in includes]) and not any([s in rec for s in excludes])] \n",
    "print('\\n'.join(recs))"
   ]
  },
  {
   "cell_type": "code",
   "execution_count": null,
   "id": "9bc265cd-7f76-4e97-8643-d3e5108ae336",
   "metadata": {},
   "outputs": [],
   "source": [
    "pn_bg = r\"~/hpc-rw/lfm/bg\"\n",
    "for file in sorted(pathlib.Path(os.path.expanduser(pn_bg)).iterdir()):\n",
    "    if file.is_file() and file.suffix == '.npy':\n",
    "        print(file.name)"
   ]
  },
  {
   "cell_type": "code",
   "execution_count": null,
   "id": "267ad429-c90e-4c61-8006-ea8a66db4ad3",
   "metadata": {},
   "outputs": [],
   "source": [
    "pn_rec = r\"~/hpc-r/lfm2025/recordings\"\n",
    "# pn_rec = r\"~/hpc-r/lfm2025/recordings/2025_0818_zf_audiostim\"\n",
    "\n",
    "includes = ['']\n",
    "excludes = [\"bg\"]\n",
    "\n",
    "recs = [os.path.basename(rec) for rec in sorted(glob.glob(os.path.expanduser(os.path.join(pn_rec, '*'))), reverse=True) if os.path.exists(os.path.join(pn_rec, rec, 'data.h5'))]\n",
    "recs = [rec for rec in recs if all([s in rec for s in includes]) and not any([s in rec for s in excludes])]\n",
    "print('\\n'.join(recs))"
   ]
  },
  {
   "cell_type": "code",
   "execution_count": null,
   "id": "c650802f-81ee-4f46-ad14-c51997336f5c",
   "metadata": {},
   "outputs": [],
   "source": [
    "pn_psfs = r\"~/hpc-rw/lfm/psfs\"\n",
    "pn_rec = r\"~/hpc-r/lfm2025/recordings\"\n",
    "pn_bg = r\"~/hpc-rw/lfm/bg\"\n",
    "\n",
    "url_home = r\"/home/lubo12/\"\n",
    "pn_out = r\"~/hpc-rw/lfm/results\"\n",
    "\n",
    "dataset_name = \"20250902_1940_LB_ZF552_f2_stim2_3\"\n",
    "psf_name = \"20250731_1539_PSF_LB_redFB_25x_2\"\n",
    "bg_name = \"20250819_1730_LB_25x_75fps_bg.npy\"\n",
    "\n",
    "paths = Paths(dataset_name=dataset_name,\n",
    "              psf_name = psf_name,\n",
    "              bg_name=bg_name,\n",
    "              pn_bg= pn_bg,\n",
    "              pn_rec = pn_rec,\n",
    "              pn_psfs=pn_psfs,\n",
    "              pn_out=pn_out,\n",
    "              url_home=url_home,\n",
    "              )"
   ]
  },
  {
   "cell_type": "markdown",
   "id": "1717e32b-9f33-4215-a059-066e97ed2678",
   "metadata": {},
   "source": [
    "## load and inspect data"
   ]
  },
  {
   "cell_type": "code",
   "execution_count": null,
   "id": "e2f1bd92-7790-47e7-9799-d4adfb869f69",
   "metadata": {},
   "outputs": [],
   "source": [
    "psf_f = lazyh5(paths.psf)\n",
    "crop = np.array(psf_f[\"crop\"])\n",
    "mask = np.array(psf_f[\"circle_mask\"][crop[0]:crop[1],crop[2]:crop[3]])\n",
    "psf = np.array(psf_f[\"psf\"])\n",
    "zpos=np.array(psf_f[\"z_positions\"])\n",
    "print(psf.shape)"
   ]
  },
  {
   "cell_type": "code",
   "execution_count": null,
   "id": "5415312b-a99c-47aa-a26f-77dc9d8ad501",
   "metadata": {},
   "outputs": [],
   "source": [
    "fig, ax = plt.subplots(1,1,figsize = (7,7))\n",
    "mip = create_projection_image(psf, scalebar=200, vmax = 80, zpos=zpos, text= \"PSF\", text_size=4, gpu = False)\n",
    "ax.imshow(mip, cmap='gray')\n",
    "ax.set_xticks([])\n",
    "ax.set_yticks([])"
   ]
  },
  {
   "cell_type": "code",
   "execution_count": null,
   "id": "c3ea89f9-3d4e-4b20-9b8e-0e623b8811d1",
   "metadata": {},
   "outputs": [],
   "source": [
    "vmax=80\n",
    "\n",
    "fig, ax = plt.subplots(2,1,figsize = (7,7))\n",
    "bg = lazyh5(paths.bg)[\"data\"][crop[0]:crop[1],crop[2]:crop[3]]\n",
    "\n",
    "#select which images to look at\n",
    "with h5py.File(paths.raw, \"r\") as f:\n",
    "    ims = np.array(f[\"data\"][225:250,crop[0]:crop[1],crop[2]:crop[3]])\n",
    "im = ims[0]\n",
    "\n",
    "ax[0].imshow(im, cmap = \"gray\",vmax=vmax)\n",
    "ax[0].set_xticks([])\n",
    "ax[0].set_yticks([])\n",
    "\n",
    "ax[1].imshow(((im-bg)*mask), cmap=\"gray\",vmax=vmax)\n",
    "ax[1].set_xticks([])\n",
    "ax[1].set_yticks([])\n",
    "print(dataset_name)"
   ]
  },
  {
   "cell_type": "markdown",
   "id": "89f516ad-602d-40de-bcc0-a1275e8c6676",
   "metadata": {
    "jp-MarkdownHeadingCollapsed": true
   },
   "source": [
    "### (optional) "
   ]
  },
  {
   "cell_type": "code",
   "execution_count": null,
   "id": "62ef48b7-c85e-435e-8ba4-5da73c2d89b6",
   "metadata": {},
   "outputs": [],
   "source": [
    "# inspect raw mean brightness\n",
    "from i_o import VolumeReader\n",
    "reader = VolumeReader(paths.raw)\n",
    "means = []\n",
    "for frame_n, frame in tqdm(reader, desc=\"Calculating mean brightness\"):\n",
    "    means.append(cp.asarray(frame).flatten().mean().get())\n",
    "means = np.array(means)\n",
    "fig, ax = plt.subplots(1,1,figsize = (16,5))\n",
    "ax.plot(means)\n",
    "# ax.set_ylim(4,4.5)\n",
    "np.save(paths.pn_outrec+\"raw_means.npy\", means)"
   ]
  },
  {
   "cell_type": "code",
   "execution_count": null,
   "id": "ff90b644-0c8f-4362-8171-6cfff16b36dd",
   "metadata": {},
   "outputs": [],
   "source": [
    "# stimulus annotated video of the raw data, takes a while\n",
    "import video, i_o, importlib\n",
    "importlib.reload(video)\n",
    "from video import rawh5_to_video\n",
    "from i_o import get_stimulus,\n",
    "\n",
    "stim_path = os.path.expanduser(os.path.join(pn_rec, \"stimset_LB_zf2\"))\n",
    "\n",
    "_, stim_names_og, stimulus_ids, final_stimulus, sr = get_stimulus(stim_path, fps = 75,)\n",
    "\n",
    "\n",
    "fn_vid, fn_df_vid =  rawh5_to_video(paths, \n",
    "                                   df=True,\n",
    "                                   stim_labels=[stim_names_og[i] for i in stimulus_ids],\n",
    "                                   fps=75,\n",
    "                                   vmin=0, \n",
    "                                   vmax=100,\n",
    "                                   absolute_limits=False,\n",
    "                                   df_tau=100, \n",
    "                                   df_vmin=-0.5,\n",
    "                                   df_vmax=0.5,\n",
    "                                    df_bitrate=10000000,\n",
    "                                    df_absolute_limits=True,)"
   ]
  },
  {
   "cell_type": "code",
   "execution_count": null,
   "id": "f4c2df74-ae2d-4013-bd73-8409f3ddcb31",
   "metadata": {},
   "outputs": [],
   "source": [
    "play_video_widget(fn_vid)\n",
    "# play_video_widget(fn_df_vid)"
   ]
  },
  {
   "cell_type": "code",
   "execution_count": null,
   "id": "0d6a0b08-5a07-4f61-b35f-49a3650c876f",
   "metadata": {},
   "outputs": [],
   "source": [
    "# look at the intensity histograms of the normalized vs non normalized frames\n",
    "\n",
    "def normalize_mean(arr):\n",
    "    return arr/arr.mean()\n",
    "fig, ax = plt.subplots(1,2,figsize = (16,5))\n",
    "ax[0].set_title(\"raw\")\n",
    "ax[0].hist(im.flatten(),bins=255)\n",
    "ax[0].set_ylim(0,100000)\n",
    "ax[1].set_title(\"normalized\")\n",
    "ax[1].hist(normalize_mean(((im-bg).clip(0,None)*mask).flatten()),bins=255)\n",
    "ax[1].set_ylim(0,100000)\n"
   ]
  },
  {
   "cell_type": "markdown",
   "id": "d1e556f2-c4d3-4202-971c-1ed39b36626e",
   "metadata": {},
   "source": [
    "## Testing deconvolution\n"
   ]
  },
  {
   "cell_type": "code",
   "execution_count": null,
   "id": "683468f6-345c-4105-9126-484ca1d6d80a",
   "metadata": {},
   "outputs": [],
   "source": [
    "import reconstruction\n",
    "importlib.reload(reconstruction)\n",
    "from reconstruction import reconstruct_vols_from_imgs\n",
    "\n",
    "img_idx = [325,326,1] # arguments for the range used to index the raw data\n",
    "\n",
    "print(f\"PSF zspacing: {np.abs(np.diff(zpos[::1])).mean()*1000} um\")\n",
    "\n",
    "objs, mips, losses, kwargs = reconstruct_vols_from_imgs(paths,\n",
    "                                                        img_idx=img_idx,\n",
    "                                                        max_iter = 30, #if the deconv is to blurry increase, if there is too much noise decrease\n",
    "                                                        roi_size=550, # if any part of the fish is cut off at teh edge increase this, otherwise decrease this\n",
    "                                                        psf_downsample = [11,250,1], #arguments for the range used to index the PSF. should stay wihtin PSF bounds\n",
    "                                                        img_subtract_bg=False,\n",
    "                                                        img_mask=True,\n",
    "                                                        img_normalize=False,\n",
    "                                                        plot_decon=True, #plot intensity projection at every deconvolution step\n",
    "                                                        \n",
    "                                                        # parameters for the video - here for the deconvolution video, when deconvolving full recording for the video of every frame\n",
    "                                                        projection=\"max\",\n",
    "                                                        slice_idx=[35,428,609], #the slice to plot if the projection is \"slice\"\n",
    "                                                        vmin=0,\n",
    "                                                        vmax=6,\n",
    "                                                        absolute_limits=True,\n",
    "\n",
    "                                                        OTF_normalize=True, #keep true\n",
    "                                                        OTF_clip=True, #keep true\n",
    "                                                        reuse_prev_vol = False, #deprecated, keep as false\n",
    "                                                        crop = crop, # deprecated, in PSFs without aperture, this is just the same dimensions as the whole camera frame\n",
    "                                                       )"
   ]
  },
  {
   "cell_type": "markdown",
   "id": "365bca99-bd8d-4e29-994e-e27f3c86eefc",
   "metadata": {
    "jp-MarkdownHeadingCollapsed": true
   },
   "source": [
    "### (loading parameters from previously deconvolved dataset)"
   ]
  },
  {
   "cell_type": "code",
   "execution_count": null,
   "id": "8b2d5b68-a4b2-45bd-874d-da0c273f4d07",
   "metadata": {},
   "outputs": [],
   "source": [
    "# for loading paramteters from a previously deconvolved recording\n",
    "reg = lazyh5(paths.deconvolved[:-3]+\".h5\")\n",
    "kwargs = dict(reg[\"deconvolution_params\"])\n",
    "# kwargs.pop(\"out_crop\")\n",
    "# kwargs[\"img_normalize\"]=False\n",
    "kwargs[\"vmax\"]=7\n",
    "kwargs[\"transpose\"] = False\n",
    "# kwargs[\"vmin\"]=-0.5\n",
    "kwargs"
   ]
  },
  {
   "cell_type": "code",
   "execution_count": null,
   "id": "e20016af-40d6-4702-8997-861dbbe1ee8f",
   "metadata": {},
   "outputs": [],
   "source": [
    "import reconstruction\n",
    "importlib.reload(reconstruction)\n",
    "from reconstruction import reconstruct_vols_from_imgs\n",
    "\n",
    "img_idx = [325,326,1]\n",
    "\n",
    "print(f\"PSF zspacing: {np.abs(np.diff(zpos[::1])).mean()*1000} um\")\n",
    "\n",
    "objs, mips, losses, kwargs = reconstruct_vols_from_imgs(paths,\n",
    "                                                        img_idx=img_idx,\n",
    "                                                        **kwargs)"
   ]
  },
  {
   "cell_type": "markdown",
   "id": "1d050509-8851-4793-a807-7adebe74e8ac",
   "metadata": {},
   "source": [
    "### inspect test denconvolution"
   ]
  },
  {
   "cell_type": "code",
   "execution_count": null,
   "id": "fb987662-a176-4a9c-a783-d220fbffcbf5",
   "metadata": {},
   "outputs": [],
   "source": [
    "fig, ax = plt.subplots(1,1,figsize = (7,7))\n",
    "\n",
    "# objs.shape = [frames (=len(range(*img_idx))) , z (=len(range(*psf_downsample))) , y (= roi_size) , x (= roi_size)]\n",
    "\n",
    "#adjust the vmax here to find the right one for the full deconvolution\n",
    "\n",
    "ax.imshow(create_projection_image(objs[-1,:,:,:], vmax = 20, absolute_limits = True,transpose = True,\n",
    "                                 scalebar = 200, zpos = zpos, pad = 30), cmap = \"gray\")\n",
    "# out_crop is defined further down, to reduce the size of the deconvolved data\n",
    "# ax.imshow(create_projection_image(objs[-1,:,out_crop[0]:out_crop[1],out_crop[2]:out_crop[3]], vmax = 20, absolute_limits = True,transpose = True,\n",
    "#                                  scalebar = 200, zpos = zpos, pad = 30), cmap = \"gray\")\n",
    "ax.set_xticks([])\n",
    "ax.set_yticks([])"
   ]
  },
  {
   "cell_type": "code",
   "execution_count": null,
   "id": "d52baafa-bb69-43ee-a851-3e9e57fc3725",
   "metadata": {},
   "outputs": [],
   "source": [
    "ortho_views_widget(objs[0], vmin=0, vmax=10, gpu=False)"
   ]
  },
  {
   "cell_type": "code",
   "execution_count": null,
   "id": "0f75e15c-5cb1-40dc-bd35-6d6d7dd15148",
   "metadata": {},
   "outputs": [],
   "source": [
    "#inspect the deconvolution itself to find optimal number of deconvolution iterations\n",
    "\n",
    "from video import array3d_to_video\n",
    "\n",
    "fn_vid = os.path.join(paths.pn_outrec , f\"deconv_mips_{kwargs[\"vmin\"]}-{kwargs[\"vmax\"]}{'_al' if kwargs[\"absolute_limits\"]else''}.mp4\")\n",
    "\n",
    "array3d_to_video(mips[0], fn_vid)\n",
    "\n",
    "play_video_widget(fn_vid)"
   ]
  },
  {
   "cell_type": "code",
   "execution_count": null,
   "id": "02957a3f-be57-419e-8e20-4f685a121428",
   "metadata": {},
   "outputs": [],
   "source": [
    "# define out_crop to rduce data storage size\n",
    "\n",
    "x1, y1 = 270, 20 #top left\n",
    "x2, y2 = 830, 950 #bottom right\n",
    "fig, ax = plt.subplots(1,1,figsize=(10,10))\n",
    "ax.imshow(objs[0].max(axis=0), cmap = \"gray\", vmax=4)\n",
    "rect = plt.Rectangle(\n",
    "        (x1, y1), x2 - x1, y2 - y1,\n",
    "        linewidth=2, edgecolor=\"cyan\", facecolor=\"cyan\", alpha=0.3\n",
    "    )\n",
    "ax.add_patch(rect)\n",
    "out_crop = (y1,y2,x1,x2)\n",
    "kwargs[\"out_crop\"] = out_crop"
   ]
  },
  {
   "cell_type": "code",
   "execution_count": null,
   "id": "cf5bb1e1-6934-48ac-8c41-cabc44741156",
   "metadata": {},
   "outputs": [],
   "source": [
    "#(optional) final adjustment to the parameters for the full deconvolution\n",
    "kwargs[\"vmax\"] = 5\n",
    "kwargs[\"transpose\"]=True\n",
    "kwargs[\"max_iter\"] = 30\n",
    "kwargs"
   ]
  },
  {
   "cell_type": "markdown",
   "id": "ef428a37-ac68-463c-8add-c9ae5476fdb8",
   "metadata": {},
   "source": [
    "## Deconvolve the whole recording"
   ]
  },
  {
   "cell_type": "markdown",
   "id": "792138c2-81e8-45ee-8178-fc815904d96d",
   "metadata": {
    "jp-MarkdownHeadingCollapsed": true
   },
   "source": [
    "### locally"
   ]
  },
  {
   "cell_type": "code",
   "execution_count": null,
   "id": "9e0e2d16-be1f-4598-8650-cae034fa6ad8",
   "metadata": {},
   "outputs": [],
   "source": [
    "# a lot slower, since it can only use 1 GPU shard on notebook\n",
    "import reconstruction\n",
    "importlib.reload(reconstruction)\n",
    "from reconstruction import reconstruct_vols_from_imgs_parallel\n",
    "\n",
    "kwargs, save_fn, vid_fn = reconstruct_vols_from_imgs_parallel(paths,img_idx=None,write_mip_video=True, verbose = 1, **kwargs)\n",
    "print(save_fn,\"\\n\",vid_fn)"
   ]
  },
  {
   "cell_type": "markdown",
   "id": "48578a93-fb19-47a2-8b90-5a8500eb72c2",
   "metadata": {},
   "source": [
    "### on the cluster"
   ]
  },
  {
   "cell_type": "code",
   "execution_count": null,
   "id": "5b34dc47-17ee-424f-84ed-33d51d741730",
   "metadata": {},
   "outputs": [],
   "source": [
    "import slurm, reconstruction\n",
    "importlib.reload(slurm)\n",
    "from slurm import PythonExecutorSLURM\n",
    "importlib.reload(reconstruction)\n",
    "from reconstruction import reconstruct_vols_from_imgs_parallel\n",
    "\n",
    "email = 'lukas.born@charite.de' \n",
    "#cmd_prefix = ['ssh', 'lubo12@s-sc-frontend1'] # if outside HPC (add your user name), otherwise: \n",
    "cmd_prefix = [] #if inside HPC\n",
    "from slurm import PythonExecutorSLURM\n",
    "slex = PythonExecutorSLURM(job_path=paths.pn_outrec, job_name='deconv'+paths.dataset_name, conda_env='lfm1',\n",
    "                                     time=\"1-00:00\", partition=\"pgpu\", gres=\"gpu:4\", cpus_per_task=16,mem='128G',ntasks=1,nodes=1,\n",
    "                                     cmd_prefix=cmd_prefix, mail_user=email, mail_type='ALL,TIME_LIMIT_90')"
   ]
  },
  {
   "cell_type": "code",
   "execution_count": null,
   "id": "a756d10c-cec5-43e6-8940-b6de8b705804",
   "metadata": {},
   "outputs": [],
   "source": [
    "job_id = slex.submit(reconstruct_vols_from_imgs_parallel, paths, **kwargs, verbose=2)\n",
    "vid_fn = paths.deconvolved[:-3] + f\"_f{\"_all\" if kwargs[\"img_idx\"] is None else kwargs[\"img_idx\"]}_mip_vmin{kwargs[\"vmin\"]}_vmax{kwargs[\"vmax\"]}{\"_al\" if kwargs[\"absolute_limits\"] else \"\"}.mp4\"\n",
    "print(paths.dataset_name,\"\\n\", vid_fn)"
   ]
  },
  {
   "cell_type": "markdown",
   "id": "6ab64edd-a84d-44d7-92f2-71b64adb8ff4",
   "metadata": {},
   "source": [
    "### Inspect deconvolved recording"
   ]
  },
  {
   "cell_type": "code",
   "execution_count": null,
   "id": "f94322da-2842-4c42-8078-50f132097187",
   "metadata": {},
   "outputs": [],
   "source": [
    "lazyh5(paths.deconvolved)"
   ]
  },
  {
   "cell_type": "code",
   "execution_count": null,
   "id": "87d0be51-8d06-4da8-b740-ffff4343e257",
   "metadata": {},
   "outputs": [],
   "source": [
    "play_video_widget(vid_fn)"
   ]
  },
  {
   "cell_type": "code",
   "execution_count": null,
   "id": "5e439ecc-d857-4476-965a-bca9ec51d7c7",
   "metadata": {},
   "outputs": [],
   "source": [
    "# (optional) inspect deconvolved mean brightness\n",
    "from i_o import VolumeReader\n",
    "reader = VolumeReader(paths.deconvolved)\n",
    "means = []\n",
    "for frame_n, frame in tqdm(reader, desc=\"Calculating mean brightness\"):\n",
    "    means.append(cp.asarray(frame).flatten().mean().get())\n",
    "means = np.array(means)\n",
    "fig, ax = plt.subplots(1,1,figsize = (16,5))\n",
    "ax.plot(means)\n",
    "# ax.set_ylim(4,4.5)\n",
    "np.save(paths.deconvolved[:-3]+\"_means.npy\", means)"
   ]
  },
  {
   "cell_type": "markdown",
   "id": "13007430-ad17-4247-847d-d91004a8fc98",
   "metadata": {},
   "source": [
    "## Registration"
   ]
  },
  {
   "cell_type": "code",
   "execution_count": null,
   "id": "8f424905-a171-4152-bb18-eaafec61f087",
   "metadata": {},
   "outputs": [],
   "source": [
    "if os.path.exists(paths.reg_recipe):\n",
    "    with h5py.File(paths.reg_recipe, \"r\") as f:\n",
    "        recipe = warpfield.Recipe.from_yaml(f[\"recipe_path\"])\n",
    "        crop = np.array(f[\"crop\"])\n",
    "        print(crop[1]-crop[0],crop[3]-crop[2],crop)\n",
    "        (y1, y2, x1, x2) = crop\n",
    "    with h5py.File(paths.deconvolved, \"r\") as f:\n",
    "        im = np.array(f[\"data\"][0])\n",
    "        print(im.shape)\n",
    "else:\n",
    "    recipe = warpfield.Recipe.from_yaml('default.yml')\n",
    "    with h5py.File(paths.deconvolved, \"r\") as f:\n",
    "        im = np.array(f[\"data\"][0])\n",
    "        print(im.shape)\n",
    "    x1, y1 = 0, 0\n",
    "    x2, y2 = im.shape[2], im.shape[1]\n",
    "    #define a new crop if the one you saved isnt good enough\n",
    "    # x1, y1 = 350, 40\n",
    "    # x2, y2 = 610, 830\n",
    "    crop = (y1, y2, x1, x2)\n",
    "    \n",
    "fig, ax = plt.subplots(1,1,figsize=(10,10))\n",
    "ax.imshow(im[:,crop[0]:crop[1],crop[2]:crop[3]].max(axis=0), cmap = \"gray\", vmax=5)\n",
    "rect = plt.Rectangle(\n",
    "        (x1, y1), x2 - x1, y2 - y1,\n",
    "        linewidth=2, edgecolor=\"cyan\", facecolor=\"cyan\", alpha=0.3\n",
    "    )\n",
    "ax.add_patch(rect)\n"
   ]
  },
  {
   "cell_type": "markdown",
   "id": "c9dfbdc2-56f8-4f4d-aa9d-d7106a175950",
   "metadata": {
    "jp-MarkdownHeadingCollapsed": true
   },
   "source": [
    "### (refine the register recipe)"
   ]
  },
  {
   "cell_type": "code",
   "execution_count": null,
   "id": "32e01960-f39e-4415-9d88-d7773612a49d",
   "metadata": {},
   "outputs": [],
   "source": [
    "recipe = warpfield.Recipe.from_yaml('default.yml')\n",
    "print(recipe.pre_filter)\n",
    "# print(\"\\n\")\n",
    "for i in range(4):\n",
    "    print(recipe.levels[i])\n",
    "    # print(\"\\n\")"
   ]
  },
  {
   "cell_type": "code",
   "execution_count": null,
   "id": "35c3c775-563d-4bee-aed4-120b9c32b0bf",
   "metadata": {},
   "outputs": [],
   "source": [
    "#generate default registration recipe\n",
    "# create a basic recipe:\n",
    "recipe = warpfield.Recipe()\n",
    "recipe.pre_filter.clip_thresh = 0  # clip DC background, if present\n",
    "\n",
    "# translation level properties\n",
    "recipe.levels[0].project.max = True\n",
    "recipe.levels[0].repeats = 1\n",
    "\n",
    "# affine level properties\n",
    "recipe.levels[-1].block_stride = 0.5\n",
    "recipe.levels[-1].project.max = True\n",
    "recipe.levels[-1].repeats = 10\n",
    "\n",
    "# add non-rigid registration levels:\n",
    "recipe.add_level(block_size=[64, 128, 128])\n",
    "recipe.levels[-1].smooth.sigmas = [1.0, 1.0, 1.0]\n",
    "recipe.levels[-1].repeats = 10\n",
    "\n",
    "recipe.add_level(block_size=[64, 64, 64])\n",
    "recipe.levels[-1].block_stride = 0.5\n",
    "recipe.levels[-1].smooth.sigmas = [1.0, 1.0, 1.0]\n",
    "recipe.levels[-1].repeats = 15\n",
    "\n",
    "recipe.add_level(block_size=[32, 32, 32])\n",
    "recipe.levels[-1].block_stride = 0.5\n",
    "recipe.levels[-1].smooth.sigmas = [2.0, 2.0, 2.0]\n",
    "recipe.levels[-1].repeats = 15\n",
    "\n",
    "\n",
    "print(\"my recipe:\")\n",
    "print(recipe.pre_filter)\n",
    "\n",
    "for i in range(5):\n",
    "    \n",
    "    print(recipe.levels[i])"
   ]
  },
  {
   "cell_type": "markdown",
   "id": "455ac472-0c55-43ff-b86d-7f7fbfb42d80",
   "metadata": {},
   "source": [
    "### define and refine reference volume"
   ]
  },
  {
   "cell_type": "code",
   "execution_count": null,
   "id": "991e62f3-ca75-4e46-837b-559795b91f18",
   "metadata": {},
   "outputs": [],
   "source": [
    "#inspect the indexes to use for generating the refenrence - should be very little movement\n",
    "import register\n",
    "importlib.reload(register)\n",
    "\n",
    "\n",
    "\n",
    "\n",
    "ref_idx = [4000,6000,100]\n",
    "ref_vol_unreg, video_fn = average_volumes(paths,\n",
    "                                           ref_idx,\n",
    "                                           preprocess = lambda x: x[:,crop[0]:crop[1],crop[2]:crop[3]],\n",
    "                                           vmax=3,\n",
    "                                           vmin=0,\n",
    "                                           fps=1,\n",
    "                                           absolute_limits=True, transpose=True)\n",
    "\n",
    "play_video_widget(video_fn)"
   ]
  },
  {
   "cell_type": "code",
   "execution_count": null,
   "id": "820864d4-c3d3-4849-b516-9c530b1d20ff",
   "metadata": {},
   "outputs": [],
   "source": [
    "ortho_views_widget(ref_vol_unreg, vmin = 0, vmax=3, absolute_limits=True, transpose = True)"
   ]
  },
  {
   "cell_type": "code",
   "execution_count": null,
   "id": "ff3093b2-4922-4006-8d52-960d75be1a48",
   "metadata": {},
   "outputs": [],
   "source": [
    "importlib.reload(warpfield)\n",
    "\n",
    "#refine reference volume by registering every volume to the average and then averaging again\n",
    "def register_reference(vol):\n",
    "    return warpfield.register_volumes(ref_vol_unreg, vol[:,crop[0]:crop[1],crop[2]:crop[3]], recipe)[0]\n",
    "    \n",
    "\n",
    "\n",
    "ref_vol, video_fn = average_volumes(paths,\n",
    "                                    ref_idx,\n",
    "                                    preprocess = register_reference,\n",
    "                                    vmax=100,\n",
    "                                    vmin=0,\n",
    "                                    absolute_limits=False,\n",
    "                                    transpose = True,\n",
    "                                    fps=1\n",
    "                                      )\n",
    "play_video_widget(video_fn)"
   ]
  },
  {
   "cell_type": "code",
   "execution_count": null,
   "id": "23c49ee1-dc1d-4055-82e1-80085a5454ca",
   "metadata": {},
   "outputs": [],
   "source": [
    "ortho_views_widget(ref_vol, vmin = 0, vmax=3, absolute_limits=True, transpose = True)"
   ]
  },
  {
   "cell_type": "markdown",
   "id": "9be5b78d-07e2-493c-8e92-4deeaf87cffd",
   "metadata": {},
   "source": [
    "### (optional) define mask"
   ]
  },
  {
   "cell_type": "code",
   "execution_count": null,
   "id": "4502b4fe-25c5-476f-8de4-4eef7fd3e6d6",
   "metadata": {},
   "outputs": [],
   "source": [
    "# Controls:\n",
    "# double left click: define new point\n",
    "# single left click and drag: move nearest point. \n",
    "#     Sometimes you have to click near the point you want to move for it to register that you want to move, and then click and drag\n",
    "# right click: delete closest point\n",
    "\n",
    "get_mask_widget(ref_vol, paths.reg_mask, vmin=0, vmax=1, figsize=(12,5), mask_every=10, sigma=5.0, transpose=True)"
   ]
  },
  {
   "cell_type": "code",
   "execution_count": null,
   "id": "67188f9d-88c9-4ba3-8e96-ce30a9552628",
   "metadata": {},
   "outputs": [],
   "source": [
    "with h5py.File(paths.reg_mask, \"r\") as f:\n",
    "    mask_3d = np.array(f[\"mask_3d\"])\n",
    "    \n",
    "ortho_views_widget(mask_3d*ref_vol, vmax = 1, absolute_limits=True, transpose=True)"
   ]
  },
  {
   "cell_type": "markdown",
   "id": "914e8176-7c5b-43d3-9ecf-2b350acb818b",
   "metadata": {},
   "source": [
    "### Test registration"
   ]
  },
  {
   "cell_type": "code",
   "execution_count": null,
   "id": "f6e32105-d31f-4562-8f71-d23330c182f6",
   "metadata": {},
   "outputs": [],
   "source": [
    "# ideally choose frames with movement or very obvious activity that could cause registration failure, also to judge what the r_threshold should be\n",
    "test_reg_frames = [1350, 1450, 1]\n",
    "fn_addendum = \"\"\n",
    "video_fn, video_reg_fn, warpfields, metrics = mini_registration(paths, \n",
    "                                                                test_reg_frames,\n",
    "                                                                ref_vol.transpose((0,2,1)),\n",
    "                                                                recipe,\n",
    "                                                                fn_addendum = fn_addendum,\n",
    "                                                                preprocess = lambda x: x[:,crop[0]:crop[1],crop[2]:crop[3]].transpose((0,2,1)),\n",
    "                                                                vmax=3,\n",
    "                                                                vmin=0,\n",
    "                                                                absolute_limits=True,\n",
    "                                                                fps=10,)\n"
   ]
  },
  {
   "cell_type": "code",
   "execution_count": null,
   "id": "0ca70e8d-b69f-46cc-94a9-22a9c9667923",
   "metadata": {},
   "outputs": [],
   "source": [
    "# unregistered\n",
    "# play_video_widget(video_fn)\n",
    "\n",
    "# registered\n",
    "play_video_widget(video_reg_fn)"
   ]
  },
  {
   "cell_type": "code",
   "execution_count": null,
   "id": "1135ee41-c586-4382-b56f-89e3d6fbe394",
   "metadata": {},
   "outputs": [],
   "source": [
    "fig, ax = plt.subplots(1,4,figsize=(15,5))\n",
    "ax[0].plot(metrics[\"r\"]) # this is the \n",
    "ax[0].set_title(\"r\")\n",
    "ax[1].plot(metrics[\"mse\"])\n",
    "ax[1].set_title(\"mse\")\n",
    "ax[2].plot(metrics[\"ssim\"])\n",
    "ax[2].set_title(\"ssim\")\n",
    "ax[3].plot(metrics[\"dmf\"])\n",
    "ax[3].set_title(\"dmf\")\n",
    "plt.savefig(os.path.join(paths.pn_outrec,f\"mini_registration_registered_{fn_addendum}_f{test_reg_frames}_metrics.png\"))"
   ]
  },
  {
   "cell_type": "code",
   "execution_count": null,
   "id": "6eae5f49-9abe-4f56-8c0a-48597a009717",
   "metadata": {},
   "outputs": [],
   "source": [
    "save_register_recipe(paths, \n",
    "                     recipe=recipe,\n",
    "                     ref_vol=ref_vol,\n",
    "                     crop = crop,\n",
    "                     r_threshold=0.93, # choose based on R from the cell above\n",
    "                     cov_tau=100,\n",
    "                     vid_params = {\"write_video\": True,\n",
    "                                   \"write_dff_video\": True,\n",
    "                                   \"fps\": 75,\n",
    "                                   \"vid\": {\"vmax\": 8,\n",
    "                                           \"vmin\": 0,\n",
    "                                           \"absolute_limits\": True},\n",
    "                                   \"dff\": {\"vmax\": 0.5,\n",
    "                                           \"vmin\": -0.5,\n",
    "                                           \"absolute_limits\": True,\n",
    "                                           \"tau\": 100,},\n",
    "                                   \"zpos\": list(lazyh5(paths.deconvolved)[\"zpos\"]),\n",
    "                                   \"scalebar\": 200,\n",
    "                                   \"transpose\": True},\n",
    "\n",
    "                    )"
   ]
  },
  {
   "cell_type": "markdown",
   "id": "9698ca75-3fee-4d17-8db4-2e3749fa2b75",
   "metadata": {},
   "source": [
    "## Register the whole recording"
   ]
  },
  {
   "cell_type": "markdown",
   "id": "f9a8786d-6345-41ba-9b7b-969f3b874593",
   "metadata": {},
   "source": [
    "### locally"
   ]
  },
  {
   "cell_type": "code",
   "execution_count": null,
   "id": "bae7c0bc-655f-4a3e-92bd-a104d286cd9e",
   "metadata": {},
   "outputs": [],
   "source": [
    "register_recording(paths)"
   ]
  },
  {
   "cell_type": "markdown",
   "id": "610bc9f0-97f3-4c49-9df9-b094d6da2881",
   "metadata": {},
   "source": [
    "### on the cluster"
   ]
  },
  {
   "cell_type": "code",
   "execution_count": null,
   "id": "39fd720a-2c23-4f9c-923d-2f46717ae9d6",
   "metadata": {},
   "outputs": [],
   "source": [
    "email = 'lukas.born@charite.de' \n",
    "#cmd_prefix = ['ssh', 'lubo12@s-sc-frontend1'] # if outside HPC (add your user name), otherwise: \n",
    "cmd_prefix = [] #if inside HPC\n",
    "slex = PythonExecutorSLURM(job_path=paths.pn_outrec, job_name='reg'+paths.dataset_name, conda_env='lfm1',\n",
    "                                     time=\"2-00:00:00\", partition=\"gpu\", gres='gpu:nvidia_a100_80gb_pcie', cpus_per_task=16, mem='256G',ntasks=1,nodes=1,exclude=\"s-sc-pgpu03\",\n",
    "                                     cmd_prefix=cmd_prefix, mail_user=email, mail_type='ALL,TIME_LIMIT_90')\n",
    "job_id = slex.submit(register_recording, paths)\n",
    "print(paths.dataset_name)"
   ]
  },
  {
   "cell_type": "markdown",
   "id": "e5a31284-5489-4e95-9865-0b6ef4283fb5",
   "metadata": {},
   "source": [
    "### (automatically segment and extract traces)"
   ]
  },
  {
   "cell_type": "code",
   "execution_count": null,
   "id": "bac19e3c-1719-490d-b34e-4951a64936cf",
   "metadata": {},
   "outputs": [],
   "source": [
    "#locally\n",
    "import register\n",
    "importlib.reload(register)\n",
    "from register import register_segment_extract\n",
    "register_segment_extract(paths, \n",
    "                         z_crop = (10,-10),\n",
    "                         n_traces = 200000,\n",
    "                         fn_add = \"\",\n",
    "                         step=0.000001, \n",
    "                         voxel_size=[3,2,2],)"
   ]
  },
  {
   "cell_type": "code",
   "execution_count": null,
   "id": "9a9ec167-91e7-4abc-abef-c97f4f5e4d97",
   "metadata": {},
   "outputs": [],
   "source": [
    "import register\n",
    "importlib.reload(register)\n",
    "from register import register_segment_extract\n",
    "\n",
    "job_id = slex.submit(register_segment_extract, paths)"
   ]
  },
  {
   "cell_type": "markdown",
   "id": "58a0985d-3eea-457d-87a7-cd03c69d1403",
   "metadata": {},
   "source": [
    "### Inpect registration"
   ]
  },
  {
   "cell_type": "code",
   "execution_count": null,
   "id": "81fb5cac-5a16-4eab-8910-c9f40bfc9a73",
   "metadata": {},
   "outputs": [],
   "source": [
    "reg = lazyh5(paths.registered)\n",
    "reg_recipe = lazyh5(paths.reg_recipe)\n",
    "reg"
   ]
  },
  {
   "cell_type": "code",
   "execution_count": null,
   "id": "04b17c91-bf1e-44cd-924a-444ea853e72c",
   "metadata": {},
   "outputs": [],
   "source": [
    "vid_params = reg_recipe[\"vid_params\"]\n",
    "fn_vid = os.path.expanduser(paths.pn_outrec + f'/registered{\"_T\" if vid_params[\"transpose\"] else \"\"}_vmin{vid_params[\"vid\"][\"vmin\"]}-vmax{vid_params[\"vid\"][\"vmax\"]}{\"_al\" if vid_params[\"vid\"][\"absolute_limits\"] else \"\"}.mp4')\n",
    "play_video_widget(fn_vid)"
   ]
  },
  {
   "cell_type": "code",
   "execution_count": 6,
   "id": "4cfec8d7-ce6b-48e4-b660-9c7f8854573f",
   "metadata": {
    "collapsed": true,
    "jupyter": {
     "outputs_hidden": true
    }
   },
   "outputs": [
    {
     "ename": "NameError",
     "evalue": "name 'reg_recipe' is not defined",
     "output_type": "error",
     "traceback": [
      "\u001b[0;31m---------------------------------------------------------------------------\u001b[0m",
      "\u001b[0;31mNameError\u001b[0m                                 Traceback (most recent call last)",
      "Cell \u001b[0;32mIn[6], line 1\u001b[0m\n\u001b[0;32m----> 1\u001b[0m dff_vid_params \u001b[38;5;241m=\u001b[39m \u001b[43mreg_recipe\u001b[49m[\u001b[38;5;124m\"\u001b[39m\u001b[38;5;124mvid_params\u001b[39m\u001b[38;5;124m\"\u001b[39m]\n\u001b[1;32m      2\u001b[0m fn_dff_vid \u001b[38;5;241m=\u001b[39m os\u001b[38;5;241m.\u001b[39mpath\u001b[38;5;241m.\u001b[39mexpanduser(paths\u001b[38;5;241m.\u001b[39mpn_outrec \u001b[38;5;241m+\u001b[39m \u001b[38;5;124mf\u001b[39m\u001b[38;5;124m'\u001b[39m\u001b[38;5;124m/registered_dff\u001b[39m\u001b[38;5;132;01m{\u001b[39;00m\u001b[38;5;124m\"\u001b[39m\u001b[38;5;124m_T\u001b[39m\u001b[38;5;124m\"\u001b[39m\u001b[38;5;250m \u001b[39m\u001b[38;5;28;01mif\u001b[39;00m\u001b[38;5;250m \u001b[39mvid_params[\u001b[38;5;124m\"\u001b[39m\u001b[38;5;124mtranspose\u001b[39m\u001b[38;5;124m\"\u001b[39m]\u001b[38;5;250m \u001b[39m\u001b[38;5;28;01melse\u001b[39;00m\u001b[38;5;250m \u001b[39m\u001b[38;5;124m\"\u001b[39m\u001b[38;5;124m\"\u001b[39m\u001b[38;5;132;01m}\u001b[39;00m\u001b[38;5;124m_vmin\u001b[39m\u001b[38;5;132;01m{\u001b[39;00mvid_params[\u001b[38;5;124m\"\u001b[39m\u001b[38;5;124mdff\u001b[39m\u001b[38;5;124m\"\u001b[39m][\u001b[38;5;124m\"\u001b[39m\u001b[38;5;124mvmin\u001b[39m\u001b[38;5;124m\"\u001b[39m]\u001b[38;5;132;01m}\u001b[39;00m\u001b[38;5;124m-vmax\u001b[39m\u001b[38;5;132;01m{\u001b[39;00mvid_params[\u001b[38;5;124m\"\u001b[39m\u001b[38;5;124mdff\u001b[39m\u001b[38;5;124m\"\u001b[39m][\u001b[38;5;124m\"\u001b[39m\u001b[38;5;124mvmax\u001b[39m\u001b[38;5;124m\"\u001b[39m]\u001b[38;5;132;01m}\u001b[39;00m\u001b[38;5;132;01m{\u001b[39;00m\u001b[38;5;124m\"\u001b[39m\u001b[38;5;124m_al\u001b[39m\u001b[38;5;124m\"\u001b[39m\u001b[38;5;250m \u001b[39m\u001b[38;5;28;01mif\u001b[39;00m\u001b[38;5;250m \u001b[39mvid_params[\u001b[38;5;124m\"\u001b[39m\u001b[38;5;124mdff\u001b[39m\u001b[38;5;124m\"\u001b[39m][\u001b[38;5;124m\"\u001b[39m\u001b[38;5;124mabsolute_limits\u001b[39m\u001b[38;5;124m\"\u001b[39m]\u001b[38;5;250m \u001b[39m\u001b[38;5;28;01melse\u001b[39;00m\u001b[38;5;250m \u001b[39m\u001b[38;5;124m\"\u001b[39m\u001b[38;5;124m\"\u001b[39m\u001b[38;5;132;01m}\u001b[39;00m\u001b[38;5;124m.mp4\u001b[39m\u001b[38;5;124m'\u001b[39m)\n",
      "\u001b[0;31mNameError\u001b[0m: name 'reg_recipe' is not defined"
     ]
    }
   ],
   "source": [
    "dff_vid_params = reg_recipe[\"vid_params\"]\n",
    "fn_dff_vid = os.path.expanduser(paths.pn_outrec + f'/registered_dff{\"_T\" if vid_params[\"transpose\"] else \"\"}_vmin{vid_params[\"dff\"][\"vmin\"]}-vmax{vid_params[\"dff\"][\"vmax\"]}{\"_al\" if vid_params[\"dff\"][\"absolute_limits\"] else \"\"}.mp4')\n",
    "play_video_widget(fn_dff_vid)"
   ]
  },
  {
   "cell_type": "code",
   "execution_count": null,
   "id": "adf5c549-0dcc-46de-b3b0-18f51417c78b",
   "metadata": {},
   "outputs": [],
   "source": [
    "fig, axs = plt.subplots(4,1,figsize=(12,8))\n",
    "ax = axs.flatten()\n",
    "metrics = reg[\"metrics\"].T\n",
    "ax[0].plot(metrics[0])\n",
    "ax[0].set_ylabel(\"Pearsons R\")\n",
    "ax[1].plot((maximum_filter(median_filter(cp.asarray(metrics[0]), 3), size=21) - cp.asarray(metrics[0])).get())\n",
    "ax[1].set_ylabel(\"DMF\")\n",
    "ax[2].plot(metrics[1])\n",
    "ax[2].set_ylabel(\"mean squared error\")\n",
    "ax[3].plot(metrics[2])\n",
    "ax[3].set_ylabel(\"Structural similarity index\")"
   ]
  },
  {
   "cell_type": "markdown",
   "id": "bc2bab32-45e7-4497-8099-f29de0dd687f",
   "metadata": {},
   "source": [
    "## Segment and extract traces"
   ]
  },
  {
   "cell_type": "markdown",
   "id": "4525815d-8915-4112-85f3-9d4be642169a",
   "metadata": {},
   "source": [
    "### Voxel based segmentation"
   ]
  },
  {
   "cell_type": "code",
   "execution_count": null,
   "id": "9264766f-65fb-40dd-b406-25318e407bc7",
   "metadata": {},
   "outputs": [],
   "source": [
    "reg = lazyh5(paths.registered)\n",
    "cov_map = reg[\"cov_map\"]\n",
    "reg"
   ]
  },
  {
   "cell_type": "code",
   "execution_count": null,
   "id": "d6f15553-122e-430d-9b83-8941e33c8e9a",
   "metadata": {},
   "outputs": [],
   "source": [
    "fig, ax = plt.subplots(1,1,figsize = (8,4))\n",
    "arr = cov_map.flatten()\n",
    "ax.hist(arr[np.isfinite(arr)], bins=100)\n",
    "ax.set_ylim(0,1000)\n",
    "print(cov_map.shape)"
   ]
  },
  {
   "cell_type": "code",
   "execution_count": null,
   "id": "3e083760-44de-4667-b42b-6b766adcd7df",
   "metadata": {},
   "outputs": [],
   "source": [
    "z_crop = [50,200] #because there is a lot of registration noise at the very top and very bottom\n",
    "ortho_views_widget(cov_map[z_crop[0]:z_crop[1]],vmin = 0.0001, vmax=0.001, absolute_limits = True, transpose = True)"
   ]
  },
  {
   "cell_type": "code",
   "execution_count": null,
   "id": "759a280a-89b8-4e84-84e2-f709f0412668",
   "metadata": {},
   "outputs": [],
   "source": [
    "voxel_size = np.array([3,2,2]) #z,y,x\n",
    "brightness_threshold = 0.0002\n",
    "cov_map_dwn = cov_map[z_crop[0]:z_crop[1]:voxel_size[0],::voxel_size[1],::voxel_size[2]]\n",
    "\n",
    "n_voxels = cov_map_dwn[cov_map_dwn >= brightness_threshold].flatten().shape[0]\n",
    "print(f\"{n_voxels} voxels\")\n",
    "voxel_coords=(np.argwhere(cov_map_dwn>= brightness_threshold)*voxel_size + [z_crop[0],0,0])\n",
    "labels = np.zeros_like(cov_map, dtype = np.uint32)\n",
    "for i in tqdm(range(n_voxels)):\n",
    "    coords = voxel_coords[i]\n",
    "    labels[max(coords[0]-voxel_size[0]//2, 0):min(cov_map.shape[0],coords[0]+voxel_size[0]//2+voxel_size[0]%2),\n",
    "           max(coords[1]-voxel_size[1]//2, 0):min(cov_map.shape[1],coords[1]+voxel_size[1]//2+voxel_size[1]%2),\n",
    "           max(coords[2]-voxel_size[2]//2, 0):min(cov_map.shape[2],coords[2]+voxel_size[2]//2+voxel_size[2]%2)] = i+1\n",
    "ortho_views_widget((labels!=0).astype(int), transpose=True)"
   ]
  },
  {
   "cell_type": "code",
   "execution_count": null,
   "id": "a2c85d93-f53b-42d7-8e2e-5334011497eb",
   "metadata": {},
   "outputs": [],
   "source": [
    "ortho_views_widget(reg[\"cov_map\"]*(labels!=0),vmin = 0.0001, vmax=0.005, absolute_limits = True, transpose = True)"
   ]
  },
  {
   "cell_type": "code",
   "execution_count": null,
   "id": "28bff3e0-dfd3-4040-97d7-4736bab0c9d8",
   "metadata": {},
   "outputs": [],
   "source": [
    "fn = paths.segmentation[:-3]+\".h5\"\n",
    "with h5py.File(fn, \"w\") as f:\n",
    "    f.create_dataset(\"segmentation\", data=labels)\n",
    "lazyh5(fn)"
   ]
  },
  {
   "cell_type": "markdown",
   "id": "1e5a050a-0452-4b39-8c77-ebda65c9f515",
   "metadata": {},
   "source": [
    "### Trace extraction"
   ]
  },
  {
   "cell_type": "markdown",
   "id": "fb5c9674-8a3f-4a9d-aee5-0019373b948d",
   "metadata": {},
   "source": [
    "### locally"
   ]
  },
  {
   "cell_type": "code",
   "execution_count": null,
   "id": "cb6265be-f0d1-4918-9491-8c488f37b7f8",
   "metadata": {},
   "outputs": [],
   "source": [
    "extract_traces(paths, voxel_size)"
   ]
  },
  {
   "cell_type": "markdown",
   "id": "119c2d78-7ccb-4678-ad0a-0cfd3227b585",
   "metadata": {},
   "source": [
    "### on the cluster"
   ]
  },
  {
   "cell_type": "code",
   "execution_count": null,
   "id": "b1d34ee9-2d05-48ee-8b9b-0c59f01f7fbd",
   "metadata": {},
   "outputs": [],
   "source": [
    "email = 'lukas.born@charite.de' \n",
    "#cmd_prefix = ['ssh', 'lubo12@s-sc-frontend1'] # if outside HPC (add your user name), otherwise: \n",
    "cmd_prefix = [] #if inside HPC\n",
    "\n",
    "slex = PythonExecutorSLURM(job_path=paths.pn_outrec, job_name='trex'+paths.dataset_name, conda_env='lfm1',\n",
    "                           time=\"1-00:00:00\", partition=\"gpu\", gres='gpu:nvidia_a100_80gb_pcie', cpus_per_task=16, mem='256G',ntasks=1,nodes=1,exclude=\"s-sc-pgpu03\",\n",
    "                           cmd_prefix=cmd_prefix, mail_user=email, mail_type='ALL,TIME_LIMIT_90')"
   ]
  },
  {
   "cell_type": "code",
   "execution_count": null,
   "id": "f733b4fb-687b-45f8-9e6c-e762cf3ae46f",
   "metadata": {},
   "outputs": [],
   "source": [
    "job_id = slex.submit(extrace_traces, paths, voxel_size)"
   ]
  },
  {
   "cell_type": "markdown",
   "id": "041464f0-eb7f-4a9f-a4b1-d2beef66318d",
   "metadata": {},
   "source": [
    "### Analysis: fully in the ./thesis_figures notebooks and analysis.ipynb"
   ]
  },
  {
   "cell_type": "code",
   "execution_count": null,
   "id": "52ed994e-662a-4c58-bcaa-d5e359431967",
   "metadata": {},
   "outputs": [],
   "source": [
    "from cupyx.scipy.ndimage import maximum_filter, median_filter, convolve1d\n",
    "\n",
    "r_thresh = 0.95\n",
    "dmf_thresh = 0.0013\n",
    "\n",
    "fig, axs = plt.subplots(2,1,figsize=(12,8))\n",
    "ax = axs.flatten()\n",
    "\n",
    "reg = lazyh5(paths.registered)\n",
    "metrics = reg[\"metrics\"].T\n",
    "r = metrics[0]\n",
    "ax[0].plot(r)\n",
    "ax[0].set_ylabel(\"Pearsons R\")\n",
    "dmf =(maximum_filter(median_filter(cp.asarray(r), 3), size=21) - cp.asarray(r)).get()\n",
    "ax[1].plot(dmf)\n",
    "ax[1].set_ylabel(\"DMF\")\n",
    "trace_mask = np.ones_like(metrics[0], dtype = bool)\n",
    "trace_mask[(dmf > dmf_thresh) | (r < r_thresh) | np.isnan(r)] = 0\n",
    "\n",
    "neighbor_sum = convolve1d(cp.asarray(trace_mask).astype(cp.int8), weights=cp.array([1,1, 1]), mode='constant', cval=0).get()\n",
    "trace_mask = trace_mask ^ ((trace_mask == True) & (neighbor_sum == 1))\n",
    "\n",
    "\n",
    "if dataset_name == \"20250818_2111_LB_zf552_f25x_f2_audiostim_40fps_1\":\n",
    "    trace_mask = np.ones(shape=(7219,))\n",
    "    trace_mask[1764:1796]=0\n",
    "    trace_mask[5322:5342]=0\n",
    "    trace_mask[7198:]=0\n",
    "    trace_mask = trace_mask.astype(bool)\n",
    "\n",
    "diff = np.diff(np.concatenate(([False], trace_mask, [False])).astype(int))\n",
    "\n",
    "# Find the start and end frame indices of each shaded region\n",
    "starts_idx = np.where(diff == 1)[0]\n",
    "ends_idx = np.where(diff == -1)[0]\n",
    "\n",
    "\n",
    "\n",
    "for start, end in zip(starts_idx, ends_idx):\n",
    "    # axvspan draws a vertical rectangle from start_time to end_time\n",
    "    ax[0].axvspan(start,end, color='gray', alpha=0.4,zorder=0,linewidth=0  )\n",
    "    ax[1].axvspan(start,end, color='gray', alpha=0.4,zorder=0,linewidth=0  )\n",
    "# Redraw the figure to show the new spans\n",
    "fig.canvas.draw()"
   ]
  },
  {
   "cell_type": "code",
   "execution_count": null,
   "id": "0f68287e-ce0f-40f1-91c3-cec68723b159",
   "metadata": {},
   "outputs": [],
   "source": [
    "import i_o, importlib\n",
    "importlib.reload(i_o)\n",
    "from i_o import get_stimulus, parse_combinations\n",
    "\n",
    "stim_path = os.path.expanduser(os.path.join(pn_rec, \"stimset_LB_zf2\"))\n",
    "timestamps = np.array(lazyh5(paths.raw)[\"tstmp\"])\n",
    "timestamps = timestamps[~np.isnan(timestamps)]\n",
    "_, stim_names_og, stimulus_id_fps, final_stimulus, sr= get_stimulus(stim_path,timestamps,lag_frames =5, fps = 75,)\n",
    "\n",
    "fig, ax = plt.subplots(2,1,figsize=(12,8))\n",
    "ax[0].plot(final_stimulus)\n",
    "ax[1].plot(stimulus_id_fps)\n",
    "# combs = {\n",
    "#     \"R\": \"angle90.0\",\n",
    "#     \"L\": \"angle270.0\",\n",
    "#     \"400Hz\": (\"400Hz\", \"4e+02Hz\"),  \n",
    "#     \"800Hz\": (\"800Hz\", \"8+02Hz\"),  \n",
    "#     \"1200Hz\": (\"1200Hz\", \"1.2e+03Hz\"),  \n",
    "#     \"R_gammatone\": [\"angle90.0\", \"gammatone\"],  \n",
    "#     \"L_gammatone\": [\"angle270.0\", \"gammatone\"],  \n",
    "#     \"R_sine\": [\"angle90.0\", \"gammatone\"],  \n",
    "#     \"L_sine\": [\"angle270.0\", \"gammatone\"],  \n",
    "#     \"R_400Hz\": [\"angle90.0\", (\"400Hz\", \"4e+02Hz\")], \n",
    "#     \"R_800Hz\": [\"angle90.0\", (\"800Hz\", \"8+02Hz\")], \n",
    "#     \"R_1200Hz\": [\"angle90.0\", (\"1200Hz\", \"1.2e+03Hz\")], \n",
    "#     \"L_400Hz\": [\"angle270.0\", (\"400Hz\", \"4e+02Hz\")], \n",
    "#     \"L_800Hz\": [\"angle270.0\", (\"800Hz\", \"8+02Hz\")], \n",
    "#     \"L_1200Hz\": [\"angle270.0\", (\"1200Hz\", \"1.2e+03Hz\")], \n",
    "# }\n",
    "combs = {\"pulse\": \"pulse\"}\n",
    "\n",
    "combinations = parse_combinations(stim_names_og, combs)\n",
    "bool_stim, stim_names, _, _, _ = get_stimulus(stim_path, timestamps = timestamps,lag_frames =6, fps = 75, combinations=combinations)\n",
    "print(bool_stim.shape)\n",
    "fig, ax = plt.subplots(1,1,figsize=(12,4))\n",
    "ax.imshow(bool_stim[:,:].T, aspect=\"auto\")\n",
    "stim_names"
   ]
  },
  {
   "cell_type": "code",
   "execution_count": null,
   "id": "09487842-edeb-42f6-83cf-3e16d7a9b4fe",
   "metadata": {},
   "outputs": [],
   "source": [
    "traces_data = lazyh5(paths.traces)\n",
    "traces = traces_data[\"traces\"]\n",
    "# segmentation =  lazyh5(paths.segmentation)[\"segmentation\"]\n",
    "segmentation = traces_data[\"segmentation\"]\n",
    "print(np.unique(segmentation).shape)\n",
    "traces_data"
   ]
  }
 ],
 "metadata": {
  "kernelspec": {
   "display_name": "Python [conda env:.conda-lfm1]",
   "language": "python",
   "name": "conda-env-.conda-lfm1-py"
  },
  "language_info": {
   "codemirror_mode": {
    "name": "ipython",
    "version": 3
   },
   "file_extension": ".py",
   "mimetype": "text/x-python",
   "name": "python",
   "nbconvert_exporter": "python",
   "pygments_lexer": "ipython3",
   "version": "3.12.8"
  }
 },
 "nbformat": 4,
 "nbformat_minor": 5
}
