{
 "cells": [
  {
   "cell_type": "code",
   "execution_count": 2,
   "id": "8ac100a4-d4e1-4105-b430-e963f83b062a",
   "metadata": {},
   "outputs": [],
   "source": [
    "from opm_acquire import cams\n"
   ]
  },
  {
   "cell_type": "code",
   "execution_count": 4,
   "id": "7bf1dff2-fd33-4f56-894d-be7377c97f0b",
   "metadata": {},
   "outputs": [
    {
     "name": "stdout",
     "output_type": "stream",
     "text": [
      "PROGRAM START\n",
      "dcamapi_init() found 1 device(s).\n",
      "C13440-20CU (S/N: 302496) on USB3\n",
      "PROGRAM END\n"
     ]
    }
   ],
   "source": [
    "from pyDCAM import *\n",
    "\n",
    "device_count = dcamapi_init()\n",
    "print(\"dcamapi_init() found {} device(s).\".format(device_count))\n",
    "\n",
    "for i_device in range(device_count):\n",
    "    with HDCAM(i_device) as hdcam:\n",
    "        model = hdcam.dcamdev_getstring(DCAM_IDSTR.DCAM_IDSTR_MODEL)\n",
    "        camera_id = hdcam.dcamdev_getstring(DCAM_IDSTR.DCAM_IDSTR_CAMERAID)\n",
    "        bus = hdcam.dcamdev_getstring(DCAM_IDSTR.DCAM_IDSTR_BUS)\n",
    "\n",
    "    print(\"{} ({}) on {}\".format(model, camera_id, bus))\n",
    "\n",
    "dcamapi_uninit()\n"
   ]
  },
  {
   "cell_type": "code",
   "execution_count": 5,
   "id": "c7cfba6b-2ecc-4119-8403-ff47d1f99d5d",
   "metadata": {},
   "outputs": [
    {
     "name": "stdout",
     "output_type": "stream",
     "text": [
      "PROGRAM START\n",
      "SENSOR MODE 1.0\n",
      "READOUT SPEED 2.0\n",
      "READOUT DIRECTION 5.0\n",
      "COLORTYPE 1.0\n",
      "BIT PER CHANNEL 16.0\n",
      "TRIGGER SOURCE 1.0\n",
      "TRIGGER MODE 1.0\n",
      "TRIGGER ACTIVE 1.0\n",
      "TRIGGER GLOBAL EXPOSURE 3.0\n",
      "TRIGGER POLARITY 1.0\n",
      "TRIGGER CONNECTOR 2.0\n",
      "TRIGGER TIMES 1.0\n",
      "TRIGGER DELAY 0.0\n",
      "INTERNAL TRIGGER HANDLING 1.0\n",
      "SENSOR TEMPERATURE -50.0\n",
      "SENSOR COOLER STATUS 2.0\n",
      "EXPOSURE TIME 0.009997714285714287\n",
      "DEFECT CORRECT MODE 2.0\n",
      "HOT PIXEL CORRECT LEVEL 1.0\n",
      "BINNING 1.0\n",
      "SUBARRAY HPOS 0.0\n",
      "SUBARRAY HSIZE 2048.0\n",
      "SUBARRAY VPOS 0.0\n",
      "SUBARRAY VSIZE 2048.0\n",
      "SUBARRAY MODE 1.0\n",
      "INTENSITY LUT MODE 1.0\n",
      "INTENSITY LUT PAGE 1.0\n",
      "EXTRACTION MODE 1.0\n",
      "TIMING READOUT TIME 0.024994285714285715\n",
      "TIMING CYCLIC TRIGGER PERIOD 0.0\n",
      "TIMING MIN TRIGGER BLANKING 0.0\n",
      "TIMING MIN TRIGGER INTERVAL 0.024994285714285715\n",
      "TIMING GLOBAL EXPOSURE DELAY 0.014996571428571429\n",
      "TIMING EXPOSURE 3.0\n",
      "TIMING INVALID EXPOSURE PERIOD 0.014996571428571429\n",
      "INTERNAL FRAME RATE 40.00914494741655\n",
      "INTERNAL FRAME INTERVAL 0.024994285714285715\n",
      "INTERNAL LINE SPEED 0.6670524691358024\n",
      "INTERNAL LINE INTERVAL 9.74436090225564e-06\n",
      "FRAMEBUNDLE MODE 1.0\n",
      "FRAMEBUNDLE NUMBER 2.0\n",
      "FRAMEBUNDLE ROWBYTES 4096.0\n",
      "FRAMEBUNDLE FRAME STEP BYTES 8388608.0\n",
      "IMAGE WIDTH 2048.0\n",
      "IMAGE HEIGHT 2048.0\n",
      "IMAGE ROWBYTES 4096.0\n",
      "IMAGE FRAMEBYTES 8388608.0\n",
      "IMAGE TOP OFFSET BYTES 0.0\n",
      "IMAGE PIXEL TYPE 2.0\n",
      "IMAGE CAMERA STAMP 0.0\n",
      "BUFFER ROWBYTES 4096.0\n",
      "BUFFER FRAMEBYTES 8388608.0\n",
      "BUFFER TOP OFFSET BYTES 0.0\n",
      "BUFFER PIXEL TYPE 2.0\n",
      "RECORD FIXED BYTES PER FILE 256.0\n",
      "RECORD FIXED BYTES PER SESSION 800.0\n",
      "RECORD FIXED BYTES PER FRAME 8388656.0\n",
      "NUMBER OF OUTPUT TRIGGER CONNECTOR 3.0\n",
      "OUTPUT TRIGGER SOURCE[0] 2.0\n",
      "OUTPUT TRIGGER POLARITY[0] 1.0\n",
      "OUTPUT TRIGGER ACTIVE[0] 1.0\n",
      "OUTPUT TRIGGER DELAY[0] 0.0\n",
      "OUTPUT TRIGGER PERIOD[0] 1e-06\n",
      "OUTPUT TRIGGER KIND[0] 1.0\n",
      "OUTPUT TRIGGER BASE SENSOR[0] 16.0\n",
      "OUTPUT TRIGGER PRE HSYNC COUNT 0.0\n",
      "MASTER PULSE MODE 1.0\n",
      "MASTER PULSE TRIGGER SOURCE 1.0\n",
      "MASTER PULSE INTERVAL 0.09999999999999999\n",
      "MASTER PULSE BURST TIMES 1.0\n",
      "SYSTEM ALIVE 2.0\n",
      "CONVERSION FACTOR COEFF 0.47000000000000003\n",
      "CONVERSION FACTOR OFFSET 100.0\n",
      "NUMBER OF VIEW 1.0\n",
      "IMAGE DETECTOR PIXEL WIDTH 6.5\n",
      "IMAGE DETECTOR PIXEL HEIGHT 6.5\n",
      "IMAGE DETECTOR PIXEL NUM HORZ 2048.0\n",
      "IMAGE DETECTOR PIXEL NUM VERT 2048.0\n",
      "TIME STAMP PRODUCER 5.0\n",
      "FRAME STAMP PRODUCER 5.0\n",
      "PROGRAM END\n"
     ]
    }
   ],
   "source": [
    "with use_dcamapi:\n",
    "    with HDCAM(i_device) as hdcam:\n",
    "        for prop_id in hdcam.dcamprop_ids():\n",
    "            name = hdcam.dcamprop_getname(prop_id)\n",
    "            value = hdcam.dcamprop_getvalue(prop_id)\n",
    "\n",
    "            print(name, value)\n"
   ]
  },
  {
   "cell_type": "code",
   "execution_count": null,
   "id": "3844da6b-11cd-4280-9332-1dc3ef5023d8",
   "metadata": {},
   "outputs": [],
   "source": []
  }
 ],
 "metadata": {
  "kernelspec": {
   "display_name": "Python [conda env:anaconda3-lfm1]",
   "language": "python",
   "name": "conda-env-anaconda3-lfm1-py"
  },
  "language_info": {
   "codemirror_mode": {
    "name": "ipython",
    "version": 3
   },
   "file_extension": ".py",
   "mimetype": "text/x-python",
   "name": "python",
   "nbconvert_exporter": "python",
   "pygments_lexer": "ipython3",
   "version": "3.12.8"
  }
 },
 "nbformat": 4,
 "nbformat_minor": 5
}
