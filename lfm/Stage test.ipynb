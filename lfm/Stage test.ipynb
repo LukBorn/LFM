{
 "cells": [
  {
   "cell_type": "code",
   "execution_count": null,
   "id": "09cad5b1-ebce-46d0-8921-05e1c12a995e",
   "metadata": {},
   "outputs": [],
   "source": [
    "#Repos/pyopm/scripts/archive/calibration_notebooks/DetermineAngle.ipynb"
   ]
  },
  {
   "cell_type": "code",
   "execution_count": 3,
   "id": "be538135-c754-44db-9962-2d8711f75e0f",
   "metadata": {},
   "outputs": [],
   "source": [
    "from stage import *\n"
   ]
  },
  {
   "cell_type": "code",
   "execution_count": 4,
   "id": "70851a30-9c0d-49ee-b391-8d87c20a4e59",
   "metadata": {},
   "outputs": [
    {
     "name": "stdout",
     "output_type": "stream",
     "text": [
      "Serial<id=0x2332c1e3790, open=True>(port='COM4', baudrate=9600, bytesize=8, parity='N', stopbits=1, timeout=30, xonxoff=False, rtscts=False, dsrdtr=False)\n",
      "StepMult is set to 25 !\n",
      "sutterMP285: get status info\n",
      "(192, 0, 2, 4, 7, 0, 99, 0, 99, 0, 20, 0, 136, 19, 1, 124, 112, 23, 16, 39, 0, 0, 0, 0, 144, 1, 144, 1, 200, 0, 11, 3)\n",
      "step_mul (usteps/um): 25\n",
      "xspeed\" [velocity] (usteps/sec): 200\n",
      "velocity scale factor (usteps/step): 10\n",
      "sutterMP285 ready\n"
     ]
    }
   ],
   "source": [
    "stage = sutterMP285(\"COM4\")"
   ]
  },
  {
   "cell_type": "code",
   "execution_count": 5,
   "id": "e6f3a987-80ac-4495-b650-ef7904136abd",
   "metadata": {},
   "outputs": [
    {
     "data": {
      "text/plain": [
       "<stage.sutterMP285 at 0x2332bd765a0>"
      ]
     },
     "execution_count": 5,
     "metadata": {},
     "output_type": "execute_result"
    }
   ],
   "source": [
    "stage"
   ]
  },
  {
   "cell_type": "code",
   "execution_count": 6,
   "id": "b7de5ef2-9fdb-40f4-9ebe-8bb10bc46cf0",
   "metadata": {},
   "outputs": [
    {
     "name": "stdout",
     "output_type": "stream",
     "text": [
      "sutterMP285 : Stage position \n",
      "X: 5002.96 um \n",
      " Y: 8281.48 um\n",
      " Z: -167240 um\n"
     ]
    }
   ],
   "source": [
    "pos = stage.getPosition()"
   ]
  },
  {
   "cell_type": "code",
   "execution_count": 7,
   "id": "fb7f8d3c-54ef-4546-878b-11f544c70b05",
   "metadata": {},
   "outputs": [
    {
     "name": "stdout",
     "output_type": "stream",
     "text": [
      "Sutter did not finish moving before timeout (30 sec).\n"
     ]
    }
   ],
   "source": [
    "posnew = (pos[0], pos[1], pos[2]+20000)\n",
    "stage.gotoPosition(posnew)"
   ]
  },
  {
   "cell_type": "markdown",
   "id": "2bbdbe3c-d7ec-47ee-a888-e22f3d6b9d54",
   "metadata": {},
   "source": [
    "#### "
   ]
  },
  {
   "cell_type": "code",
   "execution_count": null,
   "id": "49801d7b-f6c5-4468-955e-1b8a111107f4",
   "metadata": {},
   "outputs": [],
   "source": [
    "stage.timeOut = 600"
   ]
  }
 ],
 "metadata": {
  "kernelspec": {
   "display_name": "Python [conda env:anaconda3-lfm1]",
   "language": "python",
   "name": "conda-env-anaconda3-lfm1-py"
  },
  "language_info": {
   "codemirror_mode": {
    "name": "ipython",
    "version": 3
   },
   "file_extension": ".py",
   "mimetype": "text/x-python",
   "name": "python",
   "nbconvert_exporter": "python",
   "pygments_lexer": "ipython3",
   "version": "3.12.8"
  }
 },
 "nbformat": 4,
 "nbformat_minor": 5
}
