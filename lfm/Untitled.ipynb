{
 "cells": [
  {
   "cell_type": "code",
   "execution_count": 10,
   "id": "763b1b65-ecc7-47ee-b3e1-eec319d4c534",
   "metadata": {},
   "outputs": [
    {
     "data": {
      "text/plain": [
       "'C:\\\\Users\\\\jlab\\\\Repos\\\\lfm\\\\lfm'"
      ]
     },
     "execution_count": 10,
     "metadata": {},
     "output_type": "execute_result"
    }
   ],
   "source": [
    "import opm_acquire\n",
    "import os\n",
    "import h5py\n",
    "os.getcwd()"
   ]
  },
  {
   "cell_type": "code",
   "execution_count": 2,
   "id": "38967d2a-759b-4a6c-b995-0c6da5d0a5f4",
   "metadata": {},
   "outputs": [],
   "source": [
    "from opm_acquire.cams import PVCamera"
   ]
  },
  {
   "cell_type": "code",
   "execution_count": 3,
   "id": "bd001b83-6c32-4c0f-88d0-db7b889d5ba1",
   "metadata": {},
   "outputs": [],
   "source": [
    "cam = PVCamera()"
   ]
  },
  {
   "cell_type": "code",
   "execution_count": 18,
   "id": "a246bc7a-3747-4f90-9a8a-1e612bd3a1cd",
   "metadata": {},
   "outputs": [
    {
     "data": {
      "text/plain": [
       "(3200, 3200)"
      ]
     },
     "execution_count": 18,
     "metadata": {},
     "output_type": "execute_result"
    }
   ],
   "source": [
    "cam.sensor_shape"
   ]
  },
  {
   "cell_type": "code",
   "execution_count": 6,
   "id": "5cb5c7e0-733b-4189-b8ea-53951ff5af9e",
   "metadata": {},
   "outputs": [
    {
     "data": {
      "text/plain": [
       "(3200, 3200)"
      ]
     },
     "execution_count": 6,
     "metadata": {},
     "output_type": "execute_result"
    }
   ],
   "source": [
    "cam.frame_shape"
   ]
  },
  {
   "cell_type": "code",
   "execution_count": 7,
   "id": "2f67b82d-8b9b-4c19-a7cc-704dc53d77dc",
   "metadata": {},
   "outputs": [
    {
     "data": {
      "text/plain": [
       "{'y_size': 3200,\n",
       " 'x_size': 3200,\n",
       " 'y_offset': 0,\n",
       " 'x_offset': 0,\n",
       " 'y_bin': 1,\n",
       " 'x_bin': 1}"
      ]
     },
     "execution_count": 7,
     "metadata": {},
     "output_type": "execute_result"
    }
   ],
   "source": [
    "cam.roi"
   ]
  },
  {
   "cell_type": "code",
   "execution_count": 8,
   "id": "868dfcc9-6283-4c53-ad28-4d67847941a3",
   "metadata": {},
   "outputs": [],
   "source": [
    "cam.set_roi(y_size = 1600, y_offset=1600, y_bin =4,x_size = 1600, x_offset=800, x_bin =2,) "
   ]
  },
  {
   "cell_type": "code",
   "execution_count": 9,
   "id": "69959410-bdc9-4622-aa90-ce0d6707cd8c",
   "metadata": {},
   "outputs": [
    {
     "data": {
      "text/plain": [
       "{'y_size': 1600,\n",
       " 'x_size': 1600,\n",
       " 'y_offset': 1600,\n",
       " 'x_offset': 800,\n",
       " 'y_bin': 4,\n",
       " 'x_bin': 2}"
      ]
     },
     "execution_count": 9,
     "metadata": {},
     "output_type": "execute_result"
    }
   ],
   "source": [
    "cam.roi"
   ]
  },
  {
   "cell_type": "code",
   "execution_count": 10,
   "id": "295935c9-1c2a-4ec6-9624-c70150804d30",
   "metadata": {},
   "outputs": [
    {
     "data": {
      "text/plain": [
       "(400, 800)"
      ]
     },
     "execution_count": 10,
     "metadata": {},
     "output_type": "execute_result"
    }
   ],
   "source": [
    "cam.frame_shape"
   ]
  },
  {
   "cell_type": "code",
   "execution_count": 11,
   "id": "28c3060b-57bd-43fa-89a0-9328e7f0b4f9",
   "metadata": {},
   "outputs": [
    {
     "data": {
      "text/plain": [
       "'uint8'"
      ]
     },
     "execution_count": 11,
     "metadata": {},
     "output_type": "execute_result"
    }
   ],
   "source": [
    "cam.frame_dtype"
   ]
  },
  {
   "cell_type": "code",
   "execution_count": 12,
   "id": "0abd5c43-801b-463f-9180-f24ba0e9af22",
   "metadata": {},
   "outputs": [
    {
     "ename": "AttributeError",
     "evalue": "can't set attribute",
     "output_type": "error",
     "traceback": [
      "\u001b[1;31m---------------------------------------------------------------------------\u001b[0m",
      "\u001b[1;31mAttributeError\u001b[0m                            Traceback (most recent call last)",
      "Cell \u001b[1;32mIn[12], line 1\u001b[0m\n\u001b[1;32m----> 1\u001b[0m \u001b[43mcam\u001b[49m\u001b[38;5;241;43m.\u001b[39;49m\u001b[43mframe_dtype\u001b[49m \u001b[38;5;241m=\u001b[39m \u001b[38;5;124m\"\u001b[39m\u001b[38;5;124muint16\u001b[39m\u001b[38;5;124m\"\u001b[39m\n",
      "\u001b[1;31mAttributeError\u001b[0m: can't set attribute"
     ]
    }
   ],
   "source": [
    "cam.frame_dtype = \"uint16\""
   ]
  },
  {
   "cell_type": "code",
   "execution_count": 14,
   "id": "dc0832e8-1998-43c3-9eb6-de07d48e83ca",
   "metadata": {},
   "outputs": [],
   "source": [
    "del cam"
   ]
  },
  {
   "cell_type": "code",
   "execution_count": 4,
   "id": "4755c8dc-273d-4f72-966b-2788eb6d1dad",
   "metadata": {},
   "outputs": [],
   "source": [
    "cam.set_trigger(False)"
   ]
  },
  {
   "cell_type": "code",
   "execution_count": 12,
   "id": "5a77c8ae-66c2-4251-9dba-89687cc619f1",
   "metadata": {},
   "outputs": [
    {
     "ename": "RuntimeError",
     "evalue": "Driver device IOCTL failed (PL_ERR_DDI_DEVICE_IOCTL_FAILED). IOCTL PD_RECEIVE_IMAGE_DATA failed, Error 234 (More data is available. )",
     "output_type": "error",
     "traceback": [
      "\u001b[1;31m---------------------------------------------------------------------------\u001b[0m",
      "\u001b[1;31mRuntimeError\u001b[0m                              Traceback (most recent call last)",
      "Cell \u001b[1;32mIn[12], line 8\u001b[0m\n\u001b[0;32m      3\u001b[0m         \u001b[38;5;66;03m#fh5 = h5py.File(fn, \"w\")\u001b[39;00m\n\u001b[0;32m      4\u001b[0m \n\u001b[0;32m      5\u001b[0m \u001b[38;5;66;03m# collect background frame\u001b[39;00m\n\u001b[0;32m      7\u001b[0m cam\u001b[38;5;241m.\u001b[39mset_trigger(\u001b[38;5;28;01mFalse\u001b[39;00m)\n\u001b[1;32m----> 8\u001b[0m bg_im \u001b[38;5;241m=\u001b[39m \u001b[43mcam\u001b[49m\u001b[38;5;241;43m.\u001b[39;49m\u001b[43macquire_stack\u001b[49m\u001b[43m(\u001b[49m\u001b[38;5;241;43m100\u001b[39;49m\u001b[43m)\u001b[49m[\u001b[38;5;241m0\u001b[39m]\u001b[38;5;241m.\u001b[39mmean(\u001b[38;5;241m0\u001b[39m, dtype\u001b[38;5;241m=\u001b[39m\u001b[38;5;124m'\u001b[39m\u001b[38;5;124mfloat32\u001b[39m\u001b[38;5;124m'\u001b[39m)\n\u001b[0;32m      9\u001b[0m \u001b[38;5;28;01mwith\u001b[39;00m h5py\u001b[38;5;241m.\u001b[39mFile(fn, \u001b[38;5;124m'\u001b[39m\u001b[38;5;124mw\u001b[39m\u001b[38;5;124m'\u001b[39m) \u001b[38;5;28;01mas\u001b[39;00m fh5:\n\u001b[0;32m     10\u001b[0m     fh5\u001b[38;5;241m.\u001b[39mcreate_dataset(\u001b[38;5;124m\"\u001b[39m\u001b[38;5;124mbg\u001b[39m\u001b[38;5;124m\"\u001b[39m, data\u001b[38;5;241m=\u001b[39mbg_im)\n",
      "File \u001b[1;32mc:\\users\\jlab\\repos\\pyopm\\opm_acquire\\cams.py:167\u001b[0m, in \u001b[0;36mCameraBase.acquire_stack\u001b[1;34m(self, num_frames)\u001b[0m\n\u001b[0;32m    164\u001b[0m     timestamps[i_frame] \u001b[38;5;241m=\u001b[39m timestamp\n\u001b[0;32m    165\u001b[0m     frame_counts[i_frame] \u001b[38;5;241m=\u001b[39m frame_count\n\u001b[1;32m--> 167\u001b[0m \u001b[38;5;28;43mself\u001b[39;49m\u001b[38;5;241;43m.\u001b[39;49m\u001b[43mstream\u001b[49m\u001b[43m(\u001b[49m\u001b[43mnum_frames\u001b[49m\u001b[43m,\u001b[49m\u001b[43m \u001b[49m\u001b[43mcallback\u001b[49m\u001b[38;5;241;43m=\u001b[39;49m\u001b[43mcallback\u001b[49m\u001b[43m)\u001b[49m\n\u001b[0;32m    168\u001b[0m \u001b[38;5;28;01mreturn\u001b[39;00m im_stack, timestamps, frame_counts\n",
      "File \u001b[1;32mc:\\users\\jlab\\repos\\pyopm\\opm_acquire\\cams.py:125\u001b[0m, in \u001b[0;36mCameraBase.stream\u001b[1;34m(self, num_frames, callback, interrupt, stream_to_disk_path, fifo, already_armed)\u001b[0m\n\u001b[0;32m    114\u001b[0m \u001b[38;5;250m\u001b[39m\u001b[38;5;124;03m'''Loop through frames.\u001b[39;00m\n\u001b[0;32m    115\u001b[0m \n\u001b[0;32m    116\u001b[0m \u001b[38;5;124;03mArgs:\u001b[39;00m\n\u001b[1;32m   (...)\u001b[0m\n\u001b[0;32m    122\u001b[0m \u001b[38;5;124;03m    already_armed: True if camera is already armed\u001b[39;00m\n\u001b[0;32m    123\u001b[0m \u001b[38;5;124;03m'''\u001b[39;00m\n\u001b[0;32m    124\u001b[0m \u001b[38;5;28;01mif\u001b[39;00m \u001b[38;5;129;01mnot\u001b[39;00m already_armed:\n\u001b[1;32m--> 125\u001b[0m     \u001b[38;5;28;43mself\u001b[39;49m\u001b[38;5;241;43m.\u001b[39;49m\u001b[43marm\u001b[49m\u001b[43m(\u001b[49m\u001b[43mstream_to_disk_path\u001b[49m\u001b[38;5;241;43m=\u001b[39;49m\u001b[43mstream_to_disk_path\u001b[49m\u001b[43m,\u001b[49m\u001b[43m \u001b[49m\u001b[43mfifo\u001b[49m\u001b[38;5;241;43m=\u001b[39;49m\u001b[43mfifo\u001b[49m\u001b[43m)\u001b[49m\n\u001b[0;32m    127\u001b[0m last_frame \u001b[38;5;241m=\u001b[39m \u001b[38;5;241m-\u001b[39m\u001b[38;5;241m1\u001b[39m\n\u001b[0;32m    128\u001b[0m \u001b[38;5;28;01mfor\u001b[39;00m i_frame \u001b[38;5;129;01min\u001b[39;00m tqdm(\u001b[38;5;28mrange\u001b[39m(num_frames)):\n",
      "File \u001b[1;32mc:\\users\\jlab\\repos\\pyopm\\opm_acquire\\cams.py:283\u001b[0m, in \u001b[0;36mPVCamera.arm\u001b[1;34m(self, stream_to_disk_path, fifo)\u001b[0m\n\u001b[0;32m    281\u001b[0m \u001b[38;5;250m\u001b[39m\u001b[38;5;124;03m'''Arm camera'''\u001b[39;00m\n\u001b[0;32m    282\u001b[0m \u001b[38;5;28mself\u001b[39m\u001b[38;5;241m.\u001b[39m_last_frame \u001b[38;5;241m=\u001b[39m \u001b[38;5;28;01mNone\u001b[39;00m\n\u001b[1;32m--> 283\u001b[0m \u001b[38;5;28;43mself\u001b[39;49m\u001b[38;5;241;43m.\u001b[39;49m\u001b[43mcam\u001b[49m\u001b[38;5;241;43m.\u001b[39;49m\u001b[43mstart_live\u001b[49m\u001b[43m(\u001b[49m\u001b[43mbuffer_frame_count\u001b[49m\u001b[38;5;241;43m=\u001b[39;49m\u001b[38;5;28;43mself\u001b[39;49m\u001b[38;5;241;43m.\u001b[39;49m\u001b[43m_buffer_frames\u001b[49m\u001b[43m,\u001b[49m\u001b[43m \u001b[49m\u001b[43mstream_to_disk_path\u001b[49m\u001b[38;5;241;43m=\u001b[39;49m\u001b[43mstream_to_disk_path\u001b[49m\u001b[43m)\u001b[49m\n\u001b[0;32m    284\u001b[0m \u001b[38;5;28mself\u001b[39m\u001b[38;5;241m.\u001b[39m_fifo \u001b[38;5;241m=\u001b[39m fifo\n",
      "File \u001b[1;32mc:\\users\\jlab\\repos\\pyvcam\\src\\pyvcam\\camera.py:561\u001b[0m, in \u001b[0;36mCamera.start_live\u001b[1;34m(self, exp_time, buffer_frame_count, stream_to_disk_path)\u001b[0m\n\u001b[0;32m    558\u001b[0m         \u001b[38;5;28;01mraise\u001b[39;00m \u001b[38;5;167;01mValueError\u001b[39;00m(\u001b[38;5;124m'\u001b[39m\u001b[38;5;124mInvalid directory for stream to disk: \u001b[39m\u001b[38;5;124m'\u001b[39m \u001b[38;5;241m+\u001b[39m directory)\n\u001b[0;32m    560\u001b[0m \u001b[38;5;28mself\u001b[39m\u001b[38;5;241m.\u001b[39m__acquisition_mode \u001b[38;5;241m=\u001b[39m \u001b[38;5;124m'\u001b[39m\u001b[38;5;124mLive\u001b[39m\u001b[38;5;124m'\u001b[39m\n\u001b[1;32m--> 561\u001b[0m \u001b[38;5;28mself\u001b[39m\u001b[38;5;241m.\u001b[39m__exposure_bytes \u001b[38;5;241m=\u001b[39m \u001b[43mpvc\u001b[49m\u001b[38;5;241;43m.\u001b[39;49m\u001b[43mstart_live\u001b[49m\u001b[43m(\u001b[49m\u001b[38;5;28;43mself\u001b[39;49m\u001b[38;5;241;43m.\u001b[39;49m\u001b[43m__handle\u001b[49m\u001b[43m,\u001b[49m\u001b[43m \u001b[49m\u001b[38;5;28;43mself\u001b[39;49m\u001b[38;5;241;43m.\u001b[39;49m\u001b[43m__rois\u001b[49m\u001b[43m,\u001b[49m\u001b[43m \u001b[49m\u001b[43mexp_time\u001b[49m\u001b[43m,\u001b[49m\u001b[43m \u001b[49m\u001b[38;5;28;43mself\u001b[39;49m\u001b[38;5;241;43m.\u001b[39;49m\u001b[43m__mode\u001b[49m\u001b[43m,\u001b[49m\u001b[43m \u001b[49m\u001b[43mbuffer_frame_count\u001b[49m\u001b[43m,\u001b[49m\u001b[43m \u001b[49m\u001b[43mstream_to_disk_path\u001b[49m\u001b[43m)\u001b[49m\n",
      "\u001b[1;31mRuntimeError\u001b[0m: Driver device IOCTL failed (PL_ERR_DDI_DEVICE_IOCTL_FAILED). IOCTL PD_RECEIVE_IMAGE_DATA failed, Error 234 (More data is available. )"
     ]
    }
   ],
   "source": [
    "p_target = os.getcwd()\n",
    "fn = os.path.join(p_target, \"test_background.h5\")\n",
    "        #fh5 = h5py.File(fn, \"w\")\n",
    "\n",
    "# collect background frame\n",
    "\n",
    "cam.set_trigger(False)\n",
    "bg_im = cam.acquire_stack(100)[0].mean(0, dtype='float32')\n",
    "with h5py.File(fn, 'w') as fh5:\n",
    "    fh5.create_dataset(\"bg\", data=bg_im)"
   ]
  },
  {
   "cell_type": "code",
   "execution_count": 21,
   "id": "72c54a7a-ad91-4405-b472-0793bb6cfb4b",
   "metadata": {},
   "outputs": [
    {
     "ename": "RuntimeError",
     "evalue": "Driver device IOCTL failed (PL_ERR_DDI_DEVICE_IOCTL_FAILED). IOCTL PD_RECEIVE_IMAGE_DATA failed, Error 234 (More data is available. )",
     "output_type": "error",
     "traceback": [
      "\u001b[1;31m---------------------------------------------------------------------------\u001b[0m",
      "\u001b[1;31mRuntimeError\u001b[0m                              Traceback (most recent call last)",
      "Cell \u001b[1;32mIn[21], line 1\u001b[0m\n\u001b[1;32m----> 1\u001b[0m \u001b[43mcam\u001b[49m\u001b[38;5;241;43m.\u001b[39;49m\u001b[43marm\u001b[49m\u001b[43m(\u001b[49m\u001b[43m)\u001b[49m\n",
      "File \u001b[1;32mc:\\users\\jlab\\repos\\pyopm\\opm_acquire\\cams.py:283\u001b[0m, in \u001b[0;36mPVCamera.arm\u001b[1;34m(self, stream_to_disk_path, fifo)\u001b[0m\n\u001b[0;32m    281\u001b[0m \u001b[38;5;250m\u001b[39m\u001b[38;5;124;03m'''Arm camera'''\u001b[39;00m\n\u001b[0;32m    282\u001b[0m \u001b[38;5;28mself\u001b[39m\u001b[38;5;241m.\u001b[39m_last_frame \u001b[38;5;241m=\u001b[39m \u001b[38;5;28;01mNone\u001b[39;00m\n\u001b[1;32m--> 283\u001b[0m \u001b[38;5;28;43mself\u001b[39;49m\u001b[38;5;241;43m.\u001b[39;49m\u001b[43mcam\u001b[49m\u001b[38;5;241;43m.\u001b[39;49m\u001b[43mstart_live\u001b[49m\u001b[43m(\u001b[49m\u001b[43mbuffer_frame_count\u001b[49m\u001b[38;5;241;43m=\u001b[39;49m\u001b[38;5;28;43mself\u001b[39;49m\u001b[38;5;241;43m.\u001b[39;49m\u001b[43m_buffer_frames\u001b[49m\u001b[43m,\u001b[49m\u001b[43m \u001b[49m\u001b[43mstream_to_disk_path\u001b[49m\u001b[38;5;241;43m=\u001b[39;49m\u001b[43mstream_to_disk_path\u001b[49m\u001b[43m)\u001b[49m\n\u001b[0;32m    284\u001b[0m \u001b[38;5;28mself\u001b[39m\u001b[38;5;241m.\u001b[39m_fifo \u001b[38;5;241m=\u001b[39m fifo\n",
      "File \u001b[1;32mc:\\users\\jlab\\repos\\pyvcam\\src\\pyvcam\\camera.py:561\u001b[0m, in \u001b[0;36mCamera.start_live\u001b[1;34m(self, exp_time, buffer_frame_count, stream_to_disk_path)\u001b[0m\n\u001b[0;32m    558\u001b[0m         \u001b[38;5;28;01mraise\u001b[39;00m \u001b[38;5;167;01mValueError\u001b[39;00m(\u001b[38;5;124m'\u001b[39m\u001b[38;5;124mInvalid directory for stream to disk: \u001b[39m\u001b[38;5;124m'\u001b[39m \u001b[38;5;241m+\u001b[39m directory)\n\u001b[0;32m    560\u001b[0m \u001b[38;5;28mself\u001b[39m\u001b[38;5;241m.\u001b[39m__acquisition_mode \u001b[38;5;241m=\u001b[39m \u001b[38;5;124m'\u001b[39m\u001b[38;5;124mLive\u001b[39m\u001b[38;5;124m'\u001b[39m\n\u001b[1;32m--> 561\u001b[0m \u001b[38;5;28mself\u001b[39m\u001b[38;5;241m.\u001b[39m__exposure_bytes \u001b[38;5;241m=\u001b[39m \u001b[43mpvc\u001b[49m\u001b[38;5;241;43m.\u001b[39;49m\u001b[43mstart_live\u001b[49m\u001b[43m(\u001b[49m\u001b[38;5;28;43mself\u001b[39;49m\u001b[38;5;241;43m.\u001b[39;49m\u001b[43m__handle\u001b[49m\u001b[43m,\u001b[49m\u001b[43m \u001b[49m\u001b[38;5;28;43mself\u001b[39;49m\u001b[38;5;241;43m.\u001b[39;49m\u001b[43m__rois\u001b[49m\u001b[43m,\u001b[49m\u001b[43m \u001b[49m\u001b[43mexp_time\u001b[49m\u001b[43m,\u001b[49m\u001b[43m \u001b[49m\u001b[38;5;28;43mself\u001b[39;49m\u001b[38;5;241;43m.\u001b[39;49m\u001b[43m__mode\u001b[49m\u001b[43m,\u001b[49m\u001b[43m \u001b[49m\u001b[43mbuffer_frame_count\u001b[49m\u001b[43m,\u001b[49m\u001b[43m \u001b[49m\u001b[43mstream_to_disk_path\u001b[49m\u001b[43m)\u001b[49m\n",
      "\u001b[1;31mRuntimeError\u001b[0m: Driver device IOCTL failed (PL_ERR_DDI_DEVICE_IOCTL_FAILED). IOCTL PD_RECEIVE_IMAGE_DATA failed, Error 234 (More data is available. )"
     ]
    }
   ],
   "source": [
    "cam.arm()"
   ]
  },
  {
   "cell_type": "code",
   "execution_count": 24,
   "id": "a04c1fce-20af-4866-9eff-18c6dd4e51d2",
   "metadata": {},
   "outputs": [
    {
     "ename": "RuntimeError",
     "evalue": "Driver device IOCTL failed (PL_ERR_DDI_DEVICE_IOCTL_FAILED). IOCTL PD_RECEIVE_IMAGE_DATA failed, Error 234 (More data is available. )",
     "output_type": "error",
     "traceback": [
      "\u001b[1;31m---------------------------------------------------------------------------\u001b[0m",
      "\u001b[1;31mRuntimeError\u001b[0m                              Traceback (most recent call last)",
      "Cell \u001b[1;32mIn[24], line 1\u001b[0m\n\u001b[1;32m----> 1\u001b[0m \u001b[43mcam\u001b[49m\u001b[38;5;241;43m.\u001b[39;49m\u001b[43mpreview\u001b[49m\u001b[43m(\u001b[49m\u001b[43mfifo\u001b[49m\u001b[38;5;241;43m=\u001b[39;49m\u001b[38;5;28;43;01mFalse\u001b[39;49;00m\u001b[43m)\u001b[49m\n",
      "File \u001b[1;32mc:\\users\\jlab\\repos\\pyopm\\opm_acquire\\cams.py:193\u001b[0m, in \u001b[0;36mCameraBase.preview\u001b[1;34m(self, window_shape, filter_fcn, fifo)\u001b[0m\n\u001b[0;32m    190\u001b[0m     \u001b[38;5;66;03m#cv2.setWindowProperty('preview', cv2.WND_PROP_TOPMOST, 1)\u001b[39;00m\n\u001b[0;32m    192\u001b[0m interrupt \u001b[38;5;241m=\u001b[39m \u001b[38;5;28;01mlambda\u001b[39;00m: (cv2\u001b[38;5;241m.\u001b[39mgetWindowProperty(\u001b[38;5;124m'\u001b[39m\u001b[38;5;124mpreview\u001b[39m\u001b[38;5;124m'\u001b[39m, cv2\u001b[38;5;241m.\u001b[39mWND_PROP_VISIBLE) \u001b[38;5;241m<\u001b[39m \u001b[38;5;241m1\u001b[39m)\n\u001b[1;32m--> 193\u001b[0m \u001b[38;5;28;43mself\u001b[39;49m\u001b[38;5;241;43m.\u001b[39;49m\u001b[43mstream\u001b[49m\u001b[43m(\u001b[49m\u001b[38;5;28;43mint\u001b[39;49m\u001b[43m(\u001b[49m\u001b[38;5;241;43m1e9\u001b[39;49m\u001b[43m)\u001b[49m\u001b[43m,\u001b[49m\u001b[43m \u001b[49m\u001b[43mcallback\u001b[49m\u001b[38;5;241;43m=\u001b[39;49m\u001b[43mpreview_callback\u001b[49m\u001b[43m,\u001b[49m\u001b[43m \u001b[49m\u001b[43minterrupt\u001b[49m\u001b[38;5;241;43m=\u001b[39;49m\u001b[43minterrupt\u001b[49m\u001b[43m,\u001b[49m\u001b[43m \u001b[49m\u001b[43mfifo\u001b[49m\u001b[38;5;241;43m=\u001b[39;49m\u001b[43mfifo\u001b[49m\u001b[43m)\u001b[49m\n\u001b[0;32m    194\u001b[0m cv2\u001b[38;5;241m.\u001b[39mdestroyAllWindows()\n",
      "File \u001b[1;32mc:\\users\\jlab\\repos\\pyopm\\opm_acquire\\cams.py:125\u001b[0m, in \u001b[0;36mCameraBase.stream\u001b[1;34m(self, num_frames, callback, interrupt, stream_to_disk_path, fifo, already_armed)\u001b[0m\n\u001b[0;32m    114\u001b[0m \u001b[38;5;250m\u001b[39m\u001b[38;5;124;03m'''Loop through frames.\u001b[39;00m\n\u001b[0;32m    115\u001b[0m \n\u001b[0;32m    116\u001b[0m \u001b[38;5;124;03mArgs:\u001b[39;00m\n\u001b[1;32m   (...)\u001b[0m\n\u001b[0;32m    122\u001b[0m \u001b[38;5;124;03m    already_armed: True if camera is already armed\u001b[39;00m\n\u001b[0;32m    123\u001b[0m \u001b[38;5;124;03m'''\u001b[39;00m\n\u001b[0;32m    124\u001b[0m \u001b[38;5;28;01mif\u001b[39;00m \u001b[38;5;129;01mnot\u001b[39;00m already_armed:\n\u001b[1;32m--> 125\u001b[0m     \u001b[38;5;28;43mself\u001b[39;49m\u001b[38;5;241;43m.\u001b[39;49m\u001b[43marm\u001b[49m\u001b[43m(\u001b[49m\u001b[43mstream_to_disk_path\u001b[49m\u001b[38;5;241;43m=\u001b[39;49m\u001b[43mstream_to_disk_path\u001b[49m\u001b[43m,\u001b[49m\u001b[43m \u001b[49m\u001b[43mfifo\u001b[49m\u001b[38;5;241;43m=\u001b[39;49m\u001b[43mfifo\u001b[49m\u001b[43m)\u001b[49m\n\u001b[0;32m    127\u001b[0m last_frame \u001b[38;5;241m=\u001b[39m \u001b[38;5;241m-\u001b[39m\u001b[38;5;241m1\u001b[39m\n\u001b[0;32m    128\u001b[0m \u001b[38;5;28;01mfor\u001b[39;00m i_frame \u001b[38;5;129;01min\u001b[39;00m tqdm(\u001b[38;5;28mrange\u001b[39m(num_frames)):\n",
      "File \u001b[1;32mc:\\users\\jlab\\repos\\pyopm\\opm_acquire\\cams.py:283\u001b[0m, in \u001b[0;36mPVCamera.arm\u001b[1;34m(self, stream_to_disk_path, fifo)\u001b[0m\n\u001b[0;32m    281\u001b[0m \u001b[38;5;250m\u001b[39m\u001b[38;5;124;03m'''Arm camera'''\u001b[39;00m\n\u001b[0;32m    282\u001b[0m \u001b[38;5;28mself\u001b[39m\u001b[38;5;241m.\u001b[39m_last_frame \u001b[38;5;241m=\u001b[39m \u001b[38;5;28;01mNone\u001b[39;00m\n\u001b[1;32m--> 283\u001b[0m \u001b[38;5;28;43mself\u001b[39;49m\u001b[38;5;241;43m.\u001b[39;49m\u001b[43mcam\u001b[49m\u001b[38;5;241;43m.\u001b[39;49m\u001b[43mstart_live\u001b[49m\u001b[43m(\u001b[49m\u001b[43mbuffer_frame_count\u001b[49m\u001b[38;5;241;43m=\u001b[39;49m\u001b[38;5;28;43mself\u001b[39;49m\u001b[38;5;241;43m.\u001b[39;49m\u001b[43m_buffer_frames\u001b[49m\u001b[43m,\u001b[49m\u001b[43m \u001b[49m\u001b[43mstream_to_disk_path\u001b[49m\u001b[38;5;241;43m=\u001b[39;49m\u001b[43mstream_to_disk_path\u001b[49m\u001b[43m)\u001b[49m\n\u001b[0;32m    284\u001b[0m \u001b[38;5;28mself\u001b[39m\u001b[38;5;241m.\u001b[39m_fifo \u001b[38;5;241m=\u001b[39m fifo\n",
      "File \u001b[1;32mc:\\users\\jlab\\repos\\pyvcam\\src\\pyvcam\\camera.py:561\u001b[0m, in \u001b[0;36mCamera.start_live\u001b[1;34m(self, exp_time, buffer_frame_count, stream_to_disk_path)\u001b[0m\n\u001b[0;32m    558\u001b[0m         \u001b[38;5;28;01mraise\u001b[39;00m \u001b[38;5;167;01mValueError\u001b[39;00m(\u001b[38;5;124m'\u001b[39m\u001b[38;5;124mInvalid directory for stream to disk: \u001b[39m\u001b[38;5;124m'\u001b[39m \u001b[38;5;241m+\u001b[39m directory)\n\u001b[0;32m    560\u001b[0m \u001b[38;5;28mself\u001b[39m\u001b[38;5;241m.\u001b[39m__acquisition_mode \u001b[38;5;241m=\u001b[39m \u001b[38;5;124m'\u001b[39m\u001b[38;5;124mLive\u001b[39m\u001b[38;5;124m'\u001b[39m\n\u001b[1;32m--> 561\u001b[0m \u001b[38;5;28mself\u001b[39m\u001b[38;5;241m.\u001b[39m__exposure_bytes \u001b[38;5;241m=\u001b[39m \u001b[43mpvc\u001b[49m\u001b[38;5;241;43m.\u001b[39;49m\u001b[43mstart_live\u001b[49m\u001b[43m(\u001b[49m\u001b[38;5;28;43mself\u001b[39;49m\u001b[38;5;241;43m.\u001b[39;49m\u001b[43m__handle\u001b[49m\u001b[43m,\u001b[49m\u001b[43m \u001b[49m\u001b[38;5;28;43mself\u001b[39;49m\u001b[38;5;241;43m.\u001b[39;49m\u001b[43m__rois\u001b[49m\u001b[43m,\u001b[49m\u001b[43m \u001b[49m\u001b[43mexp_time\u001b[49m\u001b[43m,\u001b[49m\u001b[43m \u001b[49m\u001b[38;5;28;43mself\u001b[39;49m\u001b[38;5;241;43m.\u001b[39;49m\u001b[43m__mode\u001b[49m\u001b[43m,\u001b[49m\u001b[43m \u001b[49m\u001b[43mbuffer_frame_count\u001b[49m\u001b[43m,\u001b[49m\u001b[43m \u001b[49m\u001b[43mstream_to_disk_path\u001b[49m\u001b[43m)\u001b[49m\n",
      "\u001b[1;31mRuntimeError\u001b[0m: Driver device IOCTL failed (PL_ERR_DDI_DEVICE_IOCTL_FAILED). IOCTL PD_RECEIVE_IMAGE_DATA failed, Error 234 (More data is available. )"
     ]
    }
   ],
   "source": [
    "cam.preview(fifo=False)"
   ]
  },
  {
   "cell_type": "code",
   "execution_count": 27,
   "id": "4eb5544b-5cd4-4eaa-9c2f-e0fe00302d9c",
   "metadata": {},
   "outputs": [
    {
     "ename": "NameError",
     "evalue": "name 'cam' is not defined",
     "output_type": "error",
     "traceback": [
      "\u001b[1;31m---------------------------------------------------------------------------\u001b[0m",
      "\u001b[1;31mNameError\u001b[0m                                 Traceback (most recent call last)",
      "Cell \u001b[1;32mIn[27], line 1\u001b[0m\n\u001b[1;32m----> 1\u001b[0m \u001b[38;5;28;01mdel\u001b[39;00m cam\n",
      "\u001b[1;31mNameError\u001b[0m: name 'cam' is not defined"
     ]
    }
   ],
   "source": [
    "del cam"
   ]
  },
  {
   "cell_type": "code",
   "execution_count": 13,
   "id": "a620d122-82d3-4aaa-8a5b-dd9fbcb25268",
   "metadata": {},
   "outputs": [],
   "source": [
    "cam.disarm()"
   ]
  },
  {
   "cell_type": "code",
   "execution_count": 15,
   "id": "429e56ba-c79b-4ae5-a46c-5d3558369d42",
   "metadata": {},
   "outputs": [
    {
     "ename": "AttributeError",
     "evalue": "'PVCamera' object has no attribute 'close'",
     "output_type": "error",
     "traceback": [
      "\u001b[1;31m---------------------------------------------------------------------------\u001b[0m",
      "\u001b[1;31mAttributeError\u001b[0m                            Traceback (most recent call last)",
      "Cell \u001b[1;32mIn[15], line 1\u001b[0m\n\u001b[1;32m----> 1\u001b[0m \u001b[43mcam\u001b[49m\u001b[38;5;241;43m.\u001b[39;49m\u001b[43mclose\u001b[49m()\n",
      "\u001b[1;31mAttributeError\u001b[0m: 'PVCamera' object has no attribute 'close'"
     ]
    }
   ],
   "source": [
    "cam.close()"
   ]
  },
  {
   "cell_type": "code",
   "execution_count": null,
   "id": "0d7ffcf6-ae8b-4756-b338-7171068d678d",
   "metadata": {},
   "outputs": [],
   "source": []
  }
 ],
 "metadata": {
  "kernelspec": {
   "display_name": "Python [conda env:anaconda3-opm_acquire]",
   "language": "python",
   "name": "conda-env-anaconda3-opm_acquire-py"
  },
  "language_info": {
   "codemirror_mode": {
    "name": "ipython",
    "version": 3
   },
   "file_extension": ".py",
   "mimetype": "text/x-python",
   "name": "python",
   "nbconvert_exporter": "python",
   "pygments_lexer": "ipython3",
   "version": "3.8.18"
  }
 },
 "nbformat": 4,
 "nbformat_minor": 5
}
