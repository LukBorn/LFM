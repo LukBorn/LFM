{
 "cells": [
  {
   "cell_type": "code",
   "id": "763b1b65-ecc7-47ee-b3e1-eec319d4c534",
   "metadata": {
    "ExecuteTime": {
     "end_time": "2025-04-07T16:47:46.018366Z",
     "start_time": "2025-04-07T16:47:45.862261Z"
    }
   },
   "source": [
    "import opm_acquire\n",
    "import os\n",
    "import h5py\n",
    "os.getcwd()"
   ],
   "outputs": [
    {
     "data": {
      "text/plain": [
       "'C:\\\\Users\\\\jlab\\\\Repos\\\\lfm\\\\lfm'"
      ]
     },
     "execution_count": 1,
     "metadata": {},
     "output_type": "execute_result"
    }
   ],
   "execution_count": 1
  },
  {
   "cell_type": "code",
   "execution_count": 5,
   "id": "030a97b8-1290-4254-bcf5-34574777aa44",
   "metadata": {},
   "outputs": [],
   "source": [
    "del cam"
   ]
  },
  {
   "cell_type": "code",
   "id": "38967d2a-759b-4a6c-b995-0c6da5d0a5f4",
   "metadata": {
    "ExecuteTime": {
     "end_time": "2025-04-07T16:47:49.229567Z",
     "start_time": "2025-04-07T16:47:49.131764Z"
    }
   },
   "source": [
    "from opm_acquire.cams import PVCamera"
   ],
   "outputs": [],
   "execution_count": 2
  },
  {
   "cell_type": "code",
   "id": "bd001b83-6c32-4c0f-88d0-db7b889d5ba1",
   "metadata": {
    "ExecuteTime": {
     "end_time": "2025-04-07T16:47:51.253338Z",
     "start_time": "2025-04-07T16:47:51.001585Z"
    }
   },
   "source": [
    "cam = PVCamera()"
   ],
   "outputs": [
    {
     "ename": "ModuleNotFoundError",
     "evalue": "No module named 'pyvcam'",
     "output_type": "error",
     "traceback": [
      "\u001B[1;31m---------------------------------------------------------------------------\u001B[0m",
      "\u001B[1;31mModuleNotFoundError\u001B[0m                       Traceback (most recent call last)",
      "Cell \u001B[1;32mIn[3], line 1\u001B[0m\n\u001B[1;32m----> 1\u001B[0m cam \u001B[38;5;241m=\u001B[39m \u001B[43mPVCamera\u001B[49m\u001B[43m(\u001B[49m\u001B[43m)\u001B[49m\n",
      "File \u001B[1;32mc:\\users\\jlab\\repos\\pyopm\\opm_acquire\\cams.py:221\u001B[0m, in \u001B[0;36mPVCamera.__init__\u001B[1;34m(self, conf)\u001B[0m\n\u001B[0;32m    220\u001B[0m \u001B[38;5;28;01mdef\u001B[39;00m\u001B[38;5;250m \u001B[39m\u001B[38;5;21m__init__\u001B[39m(\u001B[38;5;28mself\u001B[39m, conf\u001B[38;5;241m=\u001B[39m\u001B[38;5;28;01mNone\u001B[39;00m):\n\u001B[1;32m--> 221\u001B[0m     \u001B[38;5;28;01mfrom\u001B[39;00m\u001B[38;5;250m \u001B[39m\u001B[38;5;21;01mpyvcam\u001B[39;00m\u001B[38;5;250m \u001B[39m\u001B[38;5;28;01mimport\u001B[39;00m pvc, constants\n\u001B[0;32m    222\u001B[0m     \u001B[38;5;28;01mfrom\u001B[39;00m\u001B[38;5;250m \u001B[39m\u001B[38;5;21;01mpyvcam\u001B[39;00m\u001B[38;5;21;01m.\u001B[39;00m\u001B[38;5;21;01mcamera\u001B[39;00m\u001B[38;5;250m \u001B[39m\u001B[38;5;28;01mimport\u001B[39;00m Camera\n\u001B[0;32m    223\u001B[0m     \u001B[38;5;28;01mtry\u001B[39;00m:\n",
      "\u001B[1;31mModuleNotFoundError\u001B[0m: No module named 'pyvcam'"
     ]
    }
   ],
   "execution_count": 3
  },
  {
   "cell_type": "code",
   "execution_count": 4,
   "id": "e2052272-0522-461d-8208-78cb436da82a",
   "metadata": {},
   "outputs": [],
   "source": [
    "cam.set_trigger(False)"
   ]
  },
  {
   "cell_type": "code",
   "execution_count": 6,
   "id": "407f343e-f81f-44bd-9c25-b924fe2b0139",
   "metadata": {},
   "outputs": [],
   "source": [
    "cam._fifo=False"
   ]
  },
  {
   "cell_type": "code",
   "execution_count": 6,
   "id": "5ba505db-917d-4f7c-89e5-db1141ebbf8a",
   "metadata": {},
   "outputs": [
    {
     "ename": "NameError",
     "evalue": "name 'self' is not defined",
     "output_type": "error",
     "traceback": [
      "\u001B[1;31m---------------------------------------------------------------------------\u001B[0m",
      "\u001B[1;31mNameError\u001B[0m                                 Traceback (most recent call last)",
      "Cell \u001B[1;32mIn[6], line 1\u001B[0m\n\u001B[1;32m----> 1\u001B[0m a,b,c \u001B[38;5;241m=\u001B[39m cam\u001B[38;5;241m.\u001B[39mcam\u001B[38;5;241m.\u001B[39mpoll_frame(copyData \u001B[38;5;241m=\u001B[39m \u001B[38;5;28;01mFalse\u001B[39;00m, oldestFrame\u001B[38;5;241m=\u001B[39m\u001B[38;5;28;43mself\u001B[39;49m\u001B[38;5;241m.\u001B[39m_fifo, timeout_ms\u001B[38;5;241m=\u001B[39m\u001B[38;5;241m2000\u001B[39m)\n",
      "\u001B[1;31mNameError\u001B[0m: name 'self' is not defined"
     ]
    }
   ],
   "source": [
    "a,b,c = cam.cam.poll_frame(copyData = False, oldestFrame=cam._fifo, timeout_ms=2000)"
   ]
  },
  {
   "cell_type": "code",
   "execution_count": 6,
   "id": "57472ca5-d86e-47e3-9d48-ef89d60d53d9",
   "metadata": {},
   "outputs": [
    {
     "ename": "RuntimeError",
     "evalue": "Driver device IOCTL failed (PL_ERR_DDI_DEVICE_IOCTL_FAILED). IOCTL PD_RECEIVE_IMAGE_DATA failed, Error 234 (More data is available. )",
     "output_type": "error",
     "traceback": [
      "\u001B[1;31m---------------------------------------------------------------------------\u001B[0m",
      "\u001B[1;31mRuntimeError\u001B[0m                              Traceback (most recent call last)",
      "Cell \u001B[1;32mIn[6], line 1\u001B[0m\n\u001B[1;32m----> 1\u001B[0m stack \u001B[38;5;241m=\u001B[39m \u001B[43mcam\u001B[49m\u001B[38;5;241;43m.\u001B[39;49m\u001B[43macquire_stack\u001B[49m\u001B[43m(\u001B[49m\u001B[38;5;241;43m10\u001B[39;49m\u001B[43m)\u001B[49m\n",
      "File \u001B[1;32mc:\\users\\jlab\\repos\\pyopm\\opm_acquire\\cams.py:167\u001B[0m, in \u001B[0;36mCameraBase.acquire_stack\u001B[1;34m(self, num_frames)\u001B[0m\n\u001B[0;32m    164\u001B[0m     timestamps[i_frame] \u001B[38;5;241m=\u001B[39m timestamp\n\u001B[0;32m    165\u001B[0m     frame_counts[i_frame] \u001B[38;5;241m=\u001B[39m frame_count\n\u001B[1;32m--> 167\u001B[0m \u001B[38;5;28;43mself\u001B[39;49m\u001B[38;5;241;43m.\u001B[39;49m\u001B[43mstream\u001B[49m\u001B[43m(\u001B[49m\u001B[43mnum_frames\u001B[49m\u001B[43m,\u001B[49m\u001B[43m \u001B[49m\u001B[43mcallback\u001B[49m\u001B[38;5;241;43m=\u001B[39;49m\u001B[43mcallback\u001B[49m\u001B[43m)\u001B[49m\n\u001B[0;32m    168\u001B[0m \u001B[38;5;28;01mreturn\u001B[39;00m im_stack, timestamps, frame_counts\n",
      "File \u001B[1;32mc:\\users\\jlab\\repos\\pyopm\\opm_acquire\\cams.py:125\u001B[0m, in \u001B[0;36mCameraBase.stream\u001B[1;34m(self, num_frames, callback, interrupt, stream_to_disk_path, fifo, already_armed)\u001B[0m\n\u001B[0;32m    114\u001B[0m \u001B[38;5;250m\u001B[39m\u001B[38;5;124;03m'''Loop through frames.\u001B[39;00m\n\u001B[0;32m    115\u001B[0m \n\u001B[0;32m    116\u001B[0m \u001B[38;5;124;03mArgs:\u001B[39;00m\n\u001B[1;32m   (...)\u001B[0m\n\u001B[0;32m    122\u001B[0m \u001B[38;5;124;03m    already_armed: True if camera is already armed\u001B[39;00m\n\u001B[0;32m    123\u001B[0m \u001B[38;5;124;03m'''\u001B[39;00m\n\u001B[0;32m    124\u001B[0m \u001B[38;5;28;01mif\u001B[39;00m \u001B[38;5;129;01mnot\u001B[39;00m already_armed:\n\u001B[1;32m--> 125\u001B[0m     \u001B[38;5;28;43mself\u001B[39;49m\u001B[38;5;241;43m.\u001B[39;49m\u001B[43marm\u001B[49m\u001B[43m(\u001B[49m\u001B[43mstream_to_disk_path\u001B[49m\u001B[38;5;241;43m=\u001B[39;49m\u001B[43mstream_to_disk_path\u001B[49m\u001B[43m,\u001B[49m\u001B[43m \u001B[49m\u001B[43mfifo\u001B[49m\u001B[38;5;241;43m=\u001B[39;49m\u001B[43mfifo\u001B[49m\u001B[43m)\u001B[49m\n\u001B[0;32m    127\u001B[0m last_frame \u001B[38;5;241m=\u001B[39m \u001B[38;5;241m-\u001B[39m\u001B[38;5;241m1\u001B[39m\n\u001B[0;32m    128\u001B[0m \u001B[38;5;28;01mfor\u001B[39;00m i_frame \u001B[38;5;129;01min\u001B[39;00m tqdm(\u001B[38;5;28mrange\u001B[39m(num_frames)):\n",
      "File \u001B[1;32mc:\\users\\jlab\\repos\\pyopm\\opm_acquire\\cams.py:283\u001B[0m, in \u001B[0;36mPVCamera.arm\u001B[1;34m(self, stream_to_disk_path, fifo)\u001B[0m\n\u001B[0;32m    281\u001B[0m \u001B[38;5;250m\u001B[39m\u001B[38;5;124;03m'''Arm camera'''\u001B[39;00m\n\u001B[0;32m    282\u001B[0m \u001B[38;5;28mself\u001B[39m\u001B[38;5;241m.\u001B[39m_last_frame \u001B[38;5;241m=\u001B[39m \u001B[38;5;28;01mNone\u001B[39;00m\n\u001B[1;32m--> 283\u001B[0m \u001B[38;5;28;43mself\u001B[39;49m\u001B[38;5;241;43m.\u001B[39;49m\u001B[43mcam\u001B[49m\u001B[38;5;241;43m.\u001B[39;49m\u001B[43mstart_live\u001B[49m\u001B[43m(\u001B[49m\u001B[43mbuffer_frame_count\u001B[49m\u001B[38;5;241;43m=\u001B[39;49m\u001B[38;5;28;43mself\u001B[39;49m\u001B[38;5;241;43m.\u001B[39;49m\u001B[43m_buffer_frames\u001B[49m\u001B[43m,\u001B[49m\u001B[43m \u001B[49m\u001B[43mstream_to_disk_path\u001B[49m\u001B[38;5;241;43m=\u001B[39;49m\u001B[43mstream_to_disk_path\u001B[49m\u001B[43m)\u001B[49m\n\u001B[0;32m    284\u001B[0m \u001B[38;5;28mself\u001B[39m\u001B[38;5;241m.\u001B[39m_fifo \u001B[38;5;241m=\u001B[39m fifo\n",
      "File \u001B[1;32mc:\\users\\jlab\\repos\\pyvcam\\src\\pyvcam\\camera.py:561\u001B[0m, in \u001B[0;36mCamera.start_live\u001B[1;34m(self, exp_time, buffer_frame_count, stream_to_disk_path)\u001B[0m\n\u001B[0;32m    558\u001B[0m         \u001B[38;5;28;01mraise\u001B[39;00m \u001B[38;5;167;01mValueError\u001B[39;00m(\u001B[38;5;124m'\u001B[39m\u001B[38;5;124mInvalid directory for stream to disk: \u001B[39m\u001B[38;5;124m'\u001B[39m \u001B[38;5;241m+\u001B[39m directory)\n\u001B[0;32m    560\u001B[0m \u001B[38;5;28mself\u001B[39m\u001B[38;5;241m.\u001B[39m__acquisition_mode \u001B[38;5;241m=\u001B[39m \u001B[38;5;124m'\u001B[39m\u001B[38;5;124mLive\u001B[39m\u001B[38;5;124m'\u001B[39m\n\u001B[1;32m--> 561\u001B[0m \u001B[38;5;28mself\u001B[39m\u001B[38;5;241m.\u001B[39m__exposure_bytes \u001B[38;5;241m=\u001B[39m \u001B[43mpvc\u001B[49m\u001B[38;5;241;43m.\u001B[39;49m\u001B[43mstart_live\u001B[49m\u001B[43m(\u001B[49m\u001B[38;5;28;43mself\u001B[39;49m\u001B[38;5;241;43m.\u001B[39;49m\u001B[43m__handle\u001B[49m\u001B[43m,\u001B[49m\u001B[43m \u001B[49m\u001B[38;5;28;43mself\u001B[39;49m\u001B[38;5;241;43m.\u001B[39;49m\u001B[43m__rois\u001B[49m\u001B[43m,\u001B[49m\u001B[43m \u001B[49m\u001B[43mexp_time\u001B[49m\u001B[43m,\u001B[49m\u001B[43m \u001B[49m\u001B[38;5;28;43mself\u001B[39;49m\u001B[38;5;241;43m.\u001B[39;49m\u001B[43m__mode\u001B[49m\u001B[43m,\u001B[49m\u001B[43m \u001B[49m\u001B[43mbuffer_frame_count\u001B[49m\u001B[43m,\u001B[49m\u001B[43m \u001B[49m\u001B[43mstream_to_disk_path\u001B[49m\u001B[43m)\u001B[49m\n",
      "\u001B[1;31mRuntimeError\u001B[0m: Driver device IOCTL failed (PL_ERR_DDI_DEVICE_IOCTL_FAILED). IOCTL PD_RECEIVE_IMAGE_DATA failed, Error 234 (More data is available. )"
     ]
    }
   ],
   "source": [
    "stack = cam.acquire_stack(10)"
   ]
  },
  {
   "cell_type": "code",
   "execution_count": 18,
   "id": "a246bc7a-3747-4f90-9a8a-1e612bd3a1cd",
   "metadata": {},
   "outputs": [
    {
     "data": {
      "text/plain": [
       "(3200, 3200)"
      ]
     },
     "execution_count": 18,
     "metadata": {},
     "output_type": "execute_result"
    }
   ],
   "source": [
    "cam.sensor_shape"
   ]
  },
  {
   "cell_type": "code",
   "execution_count": 6,
   "id": "5cb5c7e0-733b-4189-b8ea-53951ff5af9e",
   "metadata": {},
   "outputs": [
    {
     "data": {
      "text/plain": [
       "(3200, 3200)"
      ]
     },
     "execution_count": 6,
     "metadata": {},
     "output_type": "execute_result"
    }
   ],
   "source": [
    "cam.frame_shape"
   ]
  },
  {
   "cell_type": "code",
   "execution_count": 7,
   "id": "2f67b82d-8b9b-4c19-a7cc-704dc53d77dc",
   "metadata": {},
   "outputs": [
    {
     "data": {
      "text/plain": [
       "{'y_size': 3200,\n",
       " 'x_size': 3200,\n",
       " 'y_offset': 0,\n",
       " 'x_offset': 0,\n",
       " 'y_bin': 1,\n",
       " 'x_bin': 1}"
      ]
     },
     "execution_count": 7,
     "metadata": {},
     "output_type": "execute_result"
    }
   ],
   "source": [
    "cam.roi"
   ]
  },
  {
   "cell_type": "code",
   "execution_count": 8,
   "id": "868dfcc9-6283-4c53-ad28-4d67847941a3",
   "metadata": {},
   "outputs": [],
   "source": [
    "cam.set_roi(y_size = 1600, y_offset=1600, y_bin =4,x_size = 1600, x_offset=800, x_bin =2,) "
   ]
  },
  {
   "cell_type": "code",
   "execution_count": 9,
   "id": "69959410-bdc9-4622-aa90-ce0d6707cd8c",
   "metadata": {},
   "outputs": [
    {
     "data": {
      "text/plain": [
       "{'y_size': 1600,\n",
       " 'x_size': 1600,\n",
       " 'y_offset': 1600,\n",
       " 'x_offset': 800,\n",
       " 'y_bin': 4,\n",
       " 'x_bin': 2}"
      ]
     },
     "execution_count": 9,
     "metadata": {},
     "output_type": "execute_result"
    }
   ],
   "source": [
    "cam.roi"
   ]
  },
  {
   "cell_type": "code",
   "execution_count": 10,
   "id": "295935c9-1c2a-4ec6-9624-c70150804d30",
   "metadata": {},
   "outputs": [
    {
     "data": {
      "text/plain": [
       "(400, 800)"
      ]
     },
     "execution_count": 10,
     "metadata": {},
     "output_type": "execute_result"
    }
   ],
   "source": [
    "cam.frame_shape"
   ]
  },
  {
   "cell_type": "code",
   "execution_count": 11,
   "id": "28c3060b-57bd-43fa-89a0-9328e7f0b4f9",
   "metadata": {},
   "outputs": [
    {
     "data": {
      "text/plain": [
       "'uint8'"
      ]
     },
     "execution_count": 11,
     "metadata": {},
     "output_type": "execute_result"
    }
   ],
   "source": [
    "cam.frame_dtype"
   ]
  },
  {
   "cell_type": "code",
   "execution_count": 12,
   "id": "0abd5c43-801b-463f-9180-f24ba0e9af22",
   "metadata": {},
   "outputs": [
    {
     "ename": "AttributeError",
     "evalue": "can't set attribute",
     "output_type": "error",
     "traceback": [
      "\u001B[1;31m---------------------------------------------------------------------------\u001B[0m",
      "\u001B[1;31mAttributeError\u001B[0m                            Traceback (most recent call last)",
      "Cell \u001B[1;32mIn[12], line 1\u001B[0m\n\u001B[1;32m----> 1\u001B[0m \u001B[43mcam\u001B[49m\u001B[38;5;241;43m.\u001B[39;49m\u001B[43mframe_dtype\u001B[49m \u001B[38;5;241m=\u001B[39m \u001B[38;5;124m\"\u001B[39m\u001B[38;5;124muint16\u001B[39m\u001B[38;5;124m\"\u001B[39m\n",
      "\u001B[1;31mAttributeError\u001B[0m: can't set attribute"
     ]
    }
   ],
   "source": [
    "cam.frame_dtype = \"uint16\""
   ]
  },
  {
   "cell_type": "code",
   "execution_count": 14,
   "id": "dc0832e8-1998-43c3-9eb6-de07d48e83ca",
   "metadata": {},
   "outputs": [],
   "source": [
    "del cam"
   ]
  },
  {
   "cell_type": "code",
   "execution_count": 4,
   "id": "4755c8dc-273d-4f72-966b-2788eb6d1dad",
   "metadata": {},
   "outputs": [],
   "source": [
    "cam.set_trigger(False)"
   ]
  },
  {
   "cell_type": "code",
   "execution_count": 12,
   "id": "5a77c8ae-66c2-4251-9dba-89687cc619f1",
   "metadata": {},
   "outputs": [
    {
     "ename": "RuntimeError",
     "evalue": "Driver device IOCTL failed (PL_ERR_DDI_DEVICE_IOCTL_FAILED). IOCTL PD_RECEIVE_IMAGE_DATA failed, Error 234 (More data is available. )",
     "output_type": "error",
     "traceback": [
      "\u001B[1;31m---------------------------------------------------------------------------\u001B[0m",
      "\u001B[1;31mRuntimeError\u001B[0m                              Traceback (most recent call last)",
      "Cell \u001B[1;32mIn[12], line 8\u001B[0m\n\u001B[0;32m      3\u001B[0m         \u001B[38;5;66;03m#fh5 = h5py.File(fn, \"w\")\u001B[39;00m\n\u001B[0;32m      4\u001B[0m \n\u001B[0;32m      5\u001B[0m \u001B[38;5;66;03m# collect background frame\u001B[39;00m\n\u001B[0;32m      7\u001B[0m cam\u001B[38;5;241m.\u001B[39mset_trigger(\u001B[38;5;28;01mFalse\u001B[39;00m)\n\u001B[1;32m----> 8\u001B[0m bg_im \u001B[38;5;241m=\u001B[39m \u001B[43mcam\u001B[49m\u001B[38;5;241;43m.\u001B[39;49m\u001B[43macquire_stack\u001B[49m\u001B[43m(\u001B[49m\u001B[38;5;241;43m100\u001B[39;49m\u001B[43m)\u001B[49m[\u001B[38;5;241m0\u001B[39m]\u001B[38;5;241m.\u001B[39mmean(\u001B[38;5;241m0\u001B[39m, dtype\u001B[38;5;241m=\u001B[39m\u001B[38;5;124m'\u001B[39m\u001B[38;5;124mfloat32\u001B[39m\u001B[38;5;124m'\u001B[39m)\n\u001B[0;32m      9\u001B[0m \u001B[38;5;28;01mwith\u001B[39;00m h5py\u001B[38;5;241m.\u001B[39mFile(fn, \u001B[38;5;124m'\u001B[39m\u001B[38;5;124mw\u001B[39m\u001B[38;5;124m'\u001B[39m) \u001B[38;5;28;01mas\u001B[39;00m fh5:\n\u001B[0;32m     10\u001B[0m     fh5\u001B[38;5;241m.\u001B[39mcreate_dataset(\u001B[38;5;124m\"\u001B[39m\u001B[38;5;124mbg\u001B[39m\u001B[38;5;124m\"\u001B[39m, data\u001B[38;5;241m=\u001B[39mbg_im)\n",
      "File \u001B[1;32mc:\\users\\jlab\\repos\\pyopm\\opm_acquire\\cams.py:167\u001B[0m, in \u001B[0;36mCameraBase.acquire_stack\u001B[1;34m(self, num_frames)\u001B[0m\n\u001B[0;32m    164\u001B[0m     timestamps[i_frame] \u001B[38;5;241m=\u001B[39m timestamp\n\u001B[0;32m    165\u001B[0m     frame_counts[i_frame] \u001B[38;5;241m=\u001B[39m frame_count\n\u001B[1;32m--> 167\u001B[0m \u001B[38;5;28;43mself\u001B[39;49m\u001B[38;5;241;43m.\u001B[39;49m\u001B[43mstream\u001B[49m\u001B[43m(\u001B[49m\u001B[43mnum_frames\u001B[49m\u001B[43m,\u001B[49m\u001B[43m \u001B[49m\u001B[43mcallback\u001B[49m\u001B[38;5;241;43m=\u001B[39;49m\u001B[43mcallback\u001B[49m\u001B[43m)\u001B[49m\n\u001B[0;32m    168\u001B[0m \u001B[38;5;28;01mreturn\u001B[39;00m im_stack, timestamps, frame_counts\n",
      "File \u001B[1;32mc:\\users\\jlab\\repos\\pyopm\\opm_acquire\\cams.py:125\u001B[0m, in \u001B[0;36mCameraBase.stream\u001B[1;34m(self, num_frames, callback, interrupt, stream_to_disk_path, fifo, already_armed)\u001B[0m\n\u001B[0;32m    114\u001B[0m \u001B[38;5;250m\u001B[39m\u001B[38;5;124;03m'''Loop through frames.\u001B[39;00m\n\u001B[0;32m    115\u001B[0m \n\u001B[0;32m    116\u001B[0m \u001B[38;5;124;03mArgs:\u001B[39;00m\n\u001B[1;32m   (...)\u001B[0m\n\u001B[0;32m    122\u001B[0m \u001B[38;5;124;03m    already_armed: True if camera is already armed\u001B[39;00m\n\u001B[0;32m    123\u001B[0m \u001B[38;5;124;03m'''\u001B[39;00m\n\u001B[0;32m    124\u001B[0m \u001B[38;5;28;01mif\u001B[39;00m \u001B[38;5;129;01mnot\u001B[39;00m already_armed:\n\u001B[1;32m--> 125\u001B[0m     \u001B[38;5;28;43mself\u001B[39;49m\u001B[38;5;241;43m.\u001B[39;49m\u001B[43marm\u001B[49m\u001B[43m(\u001B[49m\u001B[43mstream_to_disk_path\u001B[49m\u001B[38;5;241;43m=\u001B[39;49m\u001B[43mstream_to_disk_path\u001B[49m\u001B[43m,\u001B[49m\u001B[43m \u001B[49m\u001B[43mfifo\u001B[49m\u001B[38;5;241;43m=\u001B[39;49m\u001B[43mfifo\u001B[49m\u001B[43m)\u001B[49m\n\u001B[0;32m    127\u001B[0m last_frame \u001B[38;5;241m=\u001B[39m \u001B[38;5;241m-\u001B[39m\u001B[38;5;241m1\u001B[39m\n\u001B[0;32m    128\u001B[0m \u001B[38;5;28;01mfor\u001B[39;00m i_frame \u001B[38;5;129;01min\u001B[39;00m tqdm(\u001B[38;5;28mrange\u001B[39m(num_frames)):\n",
      "File \u001B[1;32mc:\\users\\jlab\\repos\\pyopm\\opm_acquire\\cams.py:283\u001B[0m, in \u001B[0;36mPVCamera.arm\u001B[1;34m(self, stream_to_disk_path, fifo)\u001B[0m\n\u001B[0;32m    281\u001B[0m \u001B[38;5;250m\u001B[39m\u001B[38;5;124;03m'''Arm camera'''\u001B[39;00m\n\u001B[0;32m    282\u001B[0m \u001B[38;5;28mself\u001B[39m\u001B[38;5;241m.\u001B[39m_last_frame \u001B[38;5;241m=\u001B[39m \u001B[38;5;28;01mNone\u001B[39;00m\n\u001B[1;32m--> 283\u001B[0m \u001B[38;5;28;43mself\u001B[39;49m\u001B[38;5;241;43m.\u001B[39;49m\u001B[43mcam\u001B[49m\u001B[38;5;241;43m.\u001B[39;49m\u001B[43mstart_live\u001B[49m\u001B[43m(\u001B[49m\u001B[43mbuffer_frame_count\u001B[49m\u001B[38;5;241;43m=\u001B[39;49m\u001B[38;5;28;43mself\u001B[39;49m\u001B[38;5;241;43m.\u001B[39;49m\u001B[43m_buffer_frames\u001B[49m\u001B[43m,\u001B[49m\u001B[43m \u001B[49m\u001B[43mstream_to_disk_path\u001B[49m\u001B[38;5;241;43m=\u001B[39;49m\u001B[43mstream_to_disk_path\u001B[49m\u001B[43m)\u001B[49m\n\u001B[0;32m    284\u001B[0m \u001B[38;5;28mself\u001B[39m\u001B[38;5;241m.\u001B[39m_fifo \u001B[38;5;241m=\u001B[39m fifo\n",
      "File \u001B[1;32mc:\\users\\jlab\\repos\\pyvcam\\src\\pyvcam\\camera.py:561\u001B[0m, in \u001B[0;36mCamera.start_live\u001B[1;34m(self, exp_time, buffer_frame_count, stream_to_disk_path)\u001B[0m\n\u001B[0;32m    558\u001B[0m         \u001B[38;5;28;01mraise\u001B[39;00m \u001B[38;5;167;01mValueError\u001B[39;00m(\u001B[38;5;124m'\u001B[39m\u001B[38;5;124mInvalid directory for stream to disk: \u001B[39m\u001B[38;5;124m'\u001B[39m \u001B[38;5;241m+\u001B[39m directory)\n\u001B[0;32m    560\u001B[0m \u001B[38;5;28mself\u001B[39m\u001B[38;5;241m.\u001B[39m__acquisition_mode \u001B[38;5;241m=\u001B[39m \u001B[38;5;124m'\u001B[39m\u001B[38;5;124mLive\u001B[39m\u001B[38;5;124m'\u001B[39m\n\u001B[1;32m--> 561\u001B[0m \u001B[38;5;28mself\u001B[39m\u001B[38;5;241m.\u001B[39m__exposure_bytes \u001B[38;5;241m=\u001B[39m \u001B[43mpvc\u001B[49m\u001B[38;5;241;43m.\u001B[39;49m\u001B[43mstart_live\u001B[49m\u001B[43m(\u001B[49m\u001B[38;5;28;43mself\u001B[39;49m\u001B[38;5;241;43m.\u001B[39;49m\u001B[43m__handle\u001B[49m\u001B[43m,\u001B[49m\u001B[43m \u001B[49m\u001B[38;5;28;43mself\u001B[39;49m\u001B[38;5;241;43m.\u001B[39;49m\u001B[43m__rois\u001B[49m\u001B[43m,\u001B[49m\u001B[43m \u001B[49m\u001B[43mexp_time\u001B[49m\u001B[43m,\u001B[49m\u001B[43m \u001B[49m\u001B[38;5;28;43mself\u001B[39;49m\u001B[38;5;241;43m.\u001B[39;49m\u001B[43m__mode\u001B[49m\u001B[43m,\u001B[49m\u001B[43m \u001B[49m\u001B[43mbuffer_frame_count\u001B[49m\u001B[43m,\u001B[49m\u001B[43m \u001B[49m\u001B[43mstream_to_disk_path\u001B[49m\u001B[43m)\u001B[49m\n",
      "\u001B[1;31mRuntimeError\u001B[0m: Driver device IOCTL failed (PL_ERR_DDI_DEVICE_IOCTL_FAILED). IOCTL PD_RECEIVE_IMAGE_DATA failed, Error 234 (More data is available. )"
     ]
    }
   ],
   "source": [
    "p_target = os.getcwd()\n",
    "fn = os.path.join(p_target, \"test_background.h5\")\n",
    "        #fh5 = h5py.File(fn, \"w\")\n",
    "\n",
    "# collect background frame\n",
    "\n",
    "cam.set_trigger(False)\n",
    "bg_im = cam.acquire_stack(100)[0].mean(0, dtype='float32')\n",
    "with h5py.File(fn, 'w') as fh5:\n",
    "    fh5.create_dataset(\"bg\", data=bg_im)"
   ]
  },
  {
   "cell_type": "code",
   "execution_count": 4,
   "id": "72c54a7a-ad91-4405-b472-0793bb6cfb4b",
   "metadata": {},
   "outputs": [
    {
     "ename": "AttributeError",
     "evalue": "'PVCamera' object has no attribute '_fifo'",
     "output_type": "error",
     "traceback": [
      "\u001B[1;31m---------------------------------------------------------------------------\u001B[0m",
      "\u001B[1;31mAttributeError\u001B[0m                            Traceback (most recent call last)",
      "Cell \u001B[1;32mIn[4], line 1\u001B[0m\n\u001B[1;32m----> 1\u001B[0m \u001B[43mcam\u001B[49m\u001B[38;5;241;43m.\u001B[39;49m\u001B[43mpoll_frame\u001B[49m\u001B[43m(\u001B[49m\u001B[43m)\u001B[49m\n",
      "File \u001B[1;32mc:\\users\\jlab\\repos\\pyopm\\opm_acquire\\cams.py:292\u001B[0m, in \u001B[0;36mPVCamera.poll_frame\u001B[1;34m(self, copy)\u001B[0m\n\u001B[0;32m    290\u001B[0m \u001B[38;5;28;01mdef\u001B[39;00m \u001B[38;5;21mpoll_frame\u001B[39m(\u001B[38;5;28mself\u001B[39m, copy\u001B[38;5;241m=\u001B[39m\u001B[38;5;28;01mFalse\u001B[39;00m):\n\u001B[0;32m    291\u001B[0m \u001B[38;5;250m    \u001B[39m\u001B[38;5;124;03m'''Get frame as numpy array. Return im, timestamp, frame_count'''\u001B[39;00m\n\u001B[1;32m--> 292\u001B[0m     d, fps, frame_count \u001B[38;5;241m=\u001B[39m \u001B[38;5;28mself\u001B[39m\u001B[38;5;241m.\u001B[39mcam\u001B[38;5;241m.\u001B[39mpoll_frame(copyData\u001B[38;5;241m=\u001B[39m\u001B[38;5;28;01mFalse\u001B[39;00m, oldestFrame\u001B[38;5;241m=\u001B[39m\u001B[38;5;28;43mself\u001B[39;49m\u001B[38;5;241;43m.\u001B[39;49m\u001B[43m_fifo\u001B[49m, timeout_ms\u001B[38;5;241m=\u001B[39m\u001B[38;5;241m2000\u001B[39m)\n\u001B[0;32m    293\u001B[0m     \u001B[38;5;28;01mreturn\u001B[39;00m d[\u001B[38;5;124m'\u001B[39m\u001B[38;5;124mpixel_data\u001B[39m\u001B[38;5;124m'\u001B[39m], time\u001B[38;5;241m.\u001B[39mtime(), frame_count\n",
      "\u001B[1;31mAttributeError\u001B[0m: 'PVCamera' object has no attribute '_fifo'"
     ]
    }
   ],
   "source": [
    "cam.poll_frame()"
   ]
  },
  {
   "cell_type": "code",
   "execution_count": 5,
   "id": "a04c1fce-20af-4866-9eff-18c6dd4e51d2",
   "metadata": {},
   "outputs": [
    {
     "ename": "RuntimeError",
     "evalue": "Driver device IOCTL failed (PL_ERR_DDI_DEVICE_IOCTL_FAILED). IOCTL PD_RECEIVE_IMAGE_DATA failed, Error 234 (More data is available. )",
     "output_type": "error",
     "traceback": [
      "\u001B[1;31m---------------------------------------------------------------------------\u001B[0m",
      "\u001B[1;31mRuntimeError\u001B[0m                              Traceback (most recent call last)",
      "Cell \u001B[1;32mIn[5], line 1\u001B[0m\n\u001B[1;32m----> 1\u001B[0m \u001B[43mcam\u001B[49m\u001B[38;5;241;43m.\u001B[39;49m\u001B[43mpreview\u001B[49m\u001B[43m(\u001B[49m\u001B[43mfifo\u001B[49m\u001B[38;5;241;43m=\u001B[39;49m\u001B[38;5;28;43;01mFalse\u001B[39;49;00m\u001B[43m)\u001B[49m\n",
      "File \u001B[1;32mc:\\users\\jlab\\repos\\pyopm\\opm_acquire\\cams.py:193\u001B[0m, in \u001B[0;36mCameraBase.preview\u001B[1;34m(self, window_shape, filter_fcn, fifo)\u001B[0m\n\u001B[0;32m    190\u001B[0m     \u001B[38;5;66;03m#cv2.setWindowProperty('preview', cv2.WND_PROP_TOPMOST, 1)\u001B[39;00m\n\u001B[0;32m    192\u001B[0m interrupt \u001B[38;5;241m=\u001B[39m \u001B[38;5;28;01mlambda\u001B[39;00m: (cv2\u001B[38;5;241m.\u001B[39mgetWindowProperty(\u001B[38;5;124m'\u001B[39m\u001B[38;5;124mpreview\u001B[39m\u001B[38;5;124m'\u001B[39m, cv2\u001B[38;5;241m.\u001B[39mWND_PROP_VISIBLE) \u001B[38;5;241m<\u001B[39m \u001B[38;5;241m1\u001B[39m)\n\u001B[1;32m--> 193\u001B[0m \u001B[38;5;28;43mself\u001B[39;49m\u001B[38;5;241;43m.\u001B[39;49m\u001B[43mstream\u001B[49m\u001B[43m(\u001B[49m\u001B[38;5;28;43mint\u001B[39;49m\u001B[43m(\u001B[49m\u001B[38;5;241;43m1e9\u001B[39;49m\u001B[43m)\u001B[49m\u001B[43m,\u001B[49m\u001B[43m \u001B[49m\u001B[43mcallback\u001B[49m\u001B[38;5;241;43m=\u001B[39;49m\u001B[43mpreview_callback\u001B[49m\u001B[43m,\u001B[49m\u001B[43m \u001B[49m\u001B[43minterrupt\u001B[49m\u001B[38;5;241;43m=\u001B[39;49m\u001B[43minterrupt\u001B[49m\u001B[43m,\u001B[49m\u001B[43m \u001B[49m\u001B[43mfifo\u001B[49m\u001B[38;5;241;43m=\u001B[39;49m\u001B[43mfifo\u001B[49m\u001B[43m)\u001B[49m\n\u001B[0;32m    194\u001B[0m cv2\u001B[38;5;241m.\u001B[39mdestroyAllWindows()\n",
      "File \u001B[1;32mc:\\users\\jlab\\repos\\pyopm\\opm_acquire\\cams.py:125\u001B[0m, in \u001B[0;36mCameraBase.stream\u001B[1;34m(self, num_frames, callback, interrupt, stream_to_disk_path, fifo, already_armed)\u001B[0m\n\u001B[0;32m    114\u001B[0m \u001B[38;5;250m\u001B[39m\u001B[38;5;124;03m'''Loop through frames.\u001B[39;00m\n\u001B[0;32m    115\u001B[0m \n\u001B[0;32m    116\u001B[0m \u001B[38;5;124;03mArgs:\u001B[39;00m\n\u001B[1;32m   (...)\u001B[0m\n\u001B[0;32m    122\u001B[0m \u001B[38;5;124;03m    already_armed: True if camera is already armed\u001B[39;00m\n\u001B[0;32m    123\u001B[0m \u001B[38;5;124;03m'''\u001B[39;00m\n\u001B[0;32m    124\u001B[0m \u001B[38;5;28;01mif\u001B[39;00m \u001B[38;5;129;01mnot\u001B[39;00m already_armed:\n\u001B[1;32m--> 125\u001B[0m     \u001B[38;5;28;43mself\u001B[39;49m\u001B[38;5;241;43m.\u001B[39;49m\u001B[43marm\u001B[49m\u001B[43m(\u001B[49m\u001B[43mstream_to_disk_path\u001B[49m\u001B[38;5;241;43m=\u001B[39;49m\u001B[43mstream_to_disk_path\u001B[49m\u001B[43m,\u001B[49m\u001B[43m \u001B[49m\u001B[43mfifo\u001B[49m\u001B[38;5;241;43m=\u001B[39;49m\u001B[43mfifo\u001B[49m\u001B[43m)\u001B[49m\n\u001B[0;32m    127\u001B[0m last_frame \u001B[38;5;241m=\u001B[39m \u001B[38;5;241m-\u001B[39m\u001B[38;5;241m1\u001B[39m\n\u001B[0;32m    128\u001B[0m \u001B[38;5;28;01mfor\u001B[39;00m i_frame \u001B[38;5;129;01min\u001B[39;00m tqdm(\u001B[38;5;28mrange\u001B[39m(num_frames)):\n",
      "File \u001B[1;32mc:\\users\\jlab\\repos\\pyopm\\opm_acquire\\cams.py:283\u001B[0m, in \u001B[0;36mPVCamera.arm\u001B[1;34m(self, stream_to_disk_path, fifo)\u001B[0m\n\u001B[0;32m    281\u001B[0m \u001B[38;5;250m\u001B[39m\u001B[38;5;124;03m'''Arm camera'''\u001B[39;00m\n\u001B[0;32m    282\u001B[0m \u001B[38;5;28mself\u001B[39m\u001B[38;5;241m.\u001B[39m_last_frame \u001B[38;5;241m=\u001B[39m \u001B[38;5;28;01mNone\u001B[39;00m\n\u001B[1;32m--> 283\u001B[0m \u001B[38;5;28;43mself\u001B[39;49m\u001B[38;5;241;43m.\u001B[39;49m\u001B[43mcam\u001B[49m\u001B[38;5;241;43m.\u001B[39;49m\u001B[43mstart_live\u001B[49m\u001B[43m(\u001B[49m\u001B[43mbuffer_frame_count\u001B[49m\u001B[38;5;241;43m=\u001B[39;49m\u001B[38;5;28;43mself\u001B[39;49m\u001B[38;5;241;43m.\u001B[39;49m\u001B[43m_buffer_frames\u001B[49m\u001B[43m,\u001B[49m\u001B[43m \u001B[49m\u001B[43mstream_to_disk_path\u001B[49m\u001B[38;5;241;43m=\u001B[39;49m\u001B[43mstream_to_disk_path\u001B[49m\u001B[43m)\u001B[49m\n\u001B[0;32m    284\u001B[0m \u001B[38;5;28mself\u001B[39m\u001B[38;5;241m.\u001B[39m_fifo \u001B[38;5;241m=\u001B[39m fifo\n",
      "File \u001B[1;32mc:\\users\\jlab\\repos\\pyvcam\\src\\pyvcam\\camera.py:561\u001B[0m, in \u001B[0;36mCamera.start_live\u001B[1;34m(self, exp_time, buffer_frame_count, stream_to_disk_path)\u001B[0m\n\u001B[0;32m    558\u001B[0m         \u001B[38;5;28;01mraise\u001B[39;00m \u001B[38;5;167;01mValueError\u001B[39;00m(\u001B[38;5;124m'\u001B[39m\u001B[38;5;124mInvalid directory for stream to disk: \u001B[39m\u001B[38;5;124m'\u001B[39m \u001B[38;5;241m+\u001B[39m directory)\n\u001B[0;32m    560\u001B[0m \u001B[38;5;28mself\u001B[39m\u001B[38;5;241m.\u001B[39m__acquisition_mode \u001B[38;5;241m=\u001B[39m \u001B[38;5;124m'\u001B[39m\u001B[38;5;124mLive\u001B[39m\u001B[38;5;124m'\u001B[39m\n\u001B[1;32m--> 561\u001B[0m \u001B[38;5;28mself\u001B[39m\u001B[38;5;241m.\u001B[39m__exposure_bytes \u001B[38;5;241m=\u001B[39m \u001B[43mpvc\u001B[49m\u001B[38;5;241;43m.\u001B[39;49m\u001B[43mstart_live\u001B[49m\u001B[43m(\u001B[49m\u001B[38;5;28;43mself\u001B[39;49m\u001B[38;5;241;43m.\u001B[39;49m\u001B[43m__handle\u001B[49m\u001B[43m,\u001B[49m\u001B[43m \u001B[49m\u001B[38;5;28;43mself\u001B[39;49m\u001B[38;5;241;43m.\u001B[39;49m\u001B[43m__rois\u001B[49m\u001B[43m,\u001B[49m\u001B[43m \u001B[49m\u001B[43mexp_time\u001B[49m\u001B[43m,\u001B[49m\u001B[43m \u001B[49m\u001B[38;5;28;43mself\u001B[39;49m\u001B[38;5;241;43m.\u001B[39;49m\u001B[43m__mode\u001B[49m\u001B[43m,\u001B[49m\u001B[43m \u001B[49m\u001B[43mbuffer_frame_count\u001B[49m\u001B[43m,\u001B[49m\u001B[43m \u001B[49m\u001B[43mstream_to_disk_path\u001B[49m\u001B[43m)\u001B[49m\n",
      "\u001B[1;31mRuntimeError\u001B[0m: Driver device IOCTL failed (PL_ERR_DDI_DEVICE_IOCTL_FAILED). IOCTL PD_RECEIVE_IMAGE_DATA failed, Error 234 (More data is available. )"
     ]
    }
   ],
   "source": [
    "cam.preview(fifo=False)"
   ]
  },
  {
   "cell_type": "code",
   "execution_count": 6,
   "id": "4eb5544b-5cd4-4eaa-9c2f-e0fe00302d9c",
   "metadata": {},
   "outputs": [],
   "source": [
    "del cam"
   ]
  },
  {
   "cell_type": "code",
   "execution_count": 13,
   "id": "a620d122-82d3-4aaa-8a5b-dd9fbcb25268",
   "metadata": {},
   "outputs": [],
   "source": [
    "cam.disarm()"
   ]
  },
  {
   "cell_type": "code",
   "execution_count": 15,
   "id": "429e56ba-c79b-4ae5-a46c-5d3558369d42",
   "metadata": {},
   "outputs": [
    {
     "ename": "AttributeError",
     "evalue": "'PVCamera' object has no attribute 'close'",
     "output_type": "error",
     "traceback": [
      "\u001B[1;31m---------------------------------------------------------------------------\u001B[0m",
      "\u001B[1;31mAttributeError\u001B[0m                            Traceback (most recent call last)",
      "Cell \u001B[1;32mIn[15], line 1\u001B[0m\n\u001B[1;32m----> 1\u001B[0m \u001B[43mcam\u001B[49m\u001B[38;5;241;43m.\u001B[39;49m\u001B[43mclose\u001B[49m()\n",
      "\u001B[1;31mAttributeError\u001B[0m: 'PVCamera' object has no attribute 'close'"
     ]
    }
   ],
   "source": [
    "cam.close()"
   ]
  },
  {
   "cell_type": "code",
   "execution_count": null,
   "id": "0d7ffcf6-ae8b-4756-b338-7171068d678d",
   "metadata": {},
   "outputs": [],
   "source": []
  }
 ],
 "metadata": {
  "kernelspec": {
   "display_name": "Python 3 (ipykernel)",
   "language": "python",
   "name": "python3"
  },
  "language_info": {
   "codemirror_mode": {
    "name": "ipython",
    "version": 3
   },
   "file_extension": ".py",
   "mimetype": "text/x-python",
   "name": "python",
   "nbconvert_exporter": "python",
   "pygments_lexer": "ipython3",
   "version": "3.8.18"
  }
 },
 "nbformat": 4,
 "nbformat_minor": 5
}
