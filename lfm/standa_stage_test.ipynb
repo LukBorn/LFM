{
 "cells": [
  {
   "cell_type": "markdown",
   "id": "4edef1ef13e3a241",
   "metadata": {},
   "source": [
    "Testing the standa stage"
   ]
  },
  {
   "cell_type": "code",
   "execution_count": 1,
   "id": "a9ab612ad6783ae2",
   "metadata": {
    "ExecuteTime": {
     "end_time": "2025-03-28T16:06:58.585972Z",
     "start_time": "2025-03-28T16:06:53.523425Z"
    }
   },
   "outputs": [
    {
     "name": "stdout",
     "output_type": "stream",
     "text": [
      "Found 3 real device(s):\n",
      "  {'uri': 'xi-com:\\\\\\\\.\\\\COM6', 'device_serial': 3085, 'Manufacturer': 'XIMC', 'ManufacturerId': 'SM', 'ProductDescription': 'XISM-USB', 'Major': 2, 'Minor': 2, 'Release': 3, 'ControllerName': 'Axis 2', 'CtrlFlags': 0, 'PositionerName': ''}\n",
      "  {'uri': 'xi-com:\\\\\\\\.\\\\COM5', 'device_serial': 6883, 'Manufacturer': 'XIMC', 'ManufacturerId': 'SM', 'ProductDescription': 'XISM-USB', 'Major': 2, 'Minor': 2, 'Release': 4, 'ControllerName': 'Axis 3', 'CtrlFlags': 0, 'PositionerName': ''}\n",
      "  {'uri': 'xi-com:\\\\\\\\.\\\\COM7', 'device_serial': 716, 'Manufacturer': 'XIMC', 'ManufacturerId': 'SM', 'ProductDescription': 'XISM-USB', 'Major': 4, 'Minor': 104, 'Release': 46177, 'ControllerName': 'Axis 1', 'CtrlFlags': 0, 'PositionerName': ''}\n"
     ]
    }
   ],
   "source": [
    "from stage import StandaStage, get_connected_axes\n",
    "uris = get_connected_axes()\n",
    "stage = StandaStage(uris)"
   ]
  },
  {
   "cell_type": "code",
   "execution_count": 2,
   "id": "ff6c144eee5f119b",
   "metadata": {
    "ExecuteTime": {
     "end_time": "2025-03-28T16:06:58.719821Z",
     "start_time": "2025-03-28T16:06:58.700879Z"
    }
   },
   "outputs": [
    {
     "name": "stdout",
     "output_type": "stream",
     "text": [
      "Current Position: ['0.0 mm', '0.0 mm', '0.0 mm'] (x,y,z)\n"
     ]
    },
    {
     "data": {
      "text/plain": [
       "[0.0, 0.0, 0.0]"
      ]
     },
     "execution_count": 2,
     "metadata": {},
     "output_type": "execute_result"
    }
   ],
   "source": [
    "stage.get_position()"
   ]
  },
  {
   "cell_type": "code",
   "execution_count": 3,
   "id": "cf3d9c5a6f235fef",
   "metadata": {
    "ExecuteTime": {
     "end_time": "2025-03-28T16:07:05.043475Z",
     "start_time": "2025-03-28T16:06:58.823093Z"
    }
   },
   "outputs": [
    {
     "name": "stdout",
     "output_type": "stream",
     "text": [
      "Finished moving axis 0 after 4669.11 ms\n",
      "Current Position: ['10.0 mm', '0.0 mm', '0.0 mm'] (x,y,z)\n",
      "Finished moving axis 1 after 4663.29 ms\n",
      "Current Position: ['10.0 mm', '10.0 mm', '0.0 mm'] (x,y,z)\n",
      "Finished moving axis 2 after 2663.84 ms\n",
      "Current Position: ['10.0 mm', '10.0 mm', '10.0 mm'] (x,y,z)\n"
     ]
    }
   ],
   "source": [
    "stage.move_to((10,10,10))"
   ]
  },
  {
   "cell_type": "code",
   "execution_count": 15,
   "id": "8a237da6e9cfb603",
   "metadata": {
    "ExecuteTime": {
     "end_time": "2025-03-28T16:07:05.070211Z",
     "start_time": "2025-03-28T16:07:05.060476Z"
    }
   },
   "outputs": [
    {
     "name": "stdout",
     "output_type": "stream",
     "text": [
      "Setting origin...\n",
      "Current Position: ['-40.914180755615234 mm', '18.589736938476562 mm', '0.018730469048023224 mm'] (x,y,z)\n"
     ]
    }
   ],
   "source": [
    "stage.set_origin()"
   ]
  },
  {
   "cell_type": "code",
   "execution_count": 10,
   "id": "70caf911c6db2de4",
   "metadata": {
    "ExecuteTime": {
     "end_time": "2025-03-28T16:07:05.937559Z",
     "start_time": "2025-03-28T16:07:05.182136Z"
    },
    "collapsed": true,
    "jupyter": {
     "outputs_hidden": true
    },
    "tags": []
   },
   "outputs": [
    {
     "ename": "ValueError",
     "evalue": "MoveFlags = 0xcc cannot be decomposed into libximc.highlevel.MoveFlags' flags!",
     "output_type": "error",
     "traceback": [
      "\u001B[1;31m---------------------------------------------------------------------------\u001B[0m",
      "\u001B[1;31mValueError\u001B[0m                                Traceback (most recent call last)",
      "File \u001B[1;32m~\\anaconda3\\envs\\lfm1\\Lib\\site-packages\\libximc\\highlevel\\_structure_types.py:681\u001B[0m, in \u001B[0;36mmove_settings_calb_t.MoveFlags\u001B[1;34m(self, val)\u001B[0m\n\u001B[0;32m    680\u001B[0m \u001B[38;5;28;01mtry\u001B[39;00m:\n\u001B[1;32m--> 681\u001B[0m     \u001B[38;5;28mself\u001B[39m\u001B[38;5;241m.\u001B[39m_MoveFlags \u001B[38;5;241m=\u001B[39m \u001B[43mflag_enumerations\u001B[49m\u001B[38;5;241;43m.\u001B[39;49m\u001B[43mMoveFlags\u001B[49m\u001B[43m(\u001B[49m\u001B[43mval\u001B[49m\u001B[43m)\u001B[49m\n\u001B[0;32m    682\u001B[0m \u001B[38;5;28;01mexcept\u001B[39;00m \u001B[38;5;167;01mException\u001B[39;00m:\n",
      "File \u001B[1;32m~\\anaconda3\\envs\\lfm1\\Lib\\enum.py:751\u001B[0m, in \u001B[0;36mEnumType.__call__\u001B[1;34m(cls, value, names, module, qualname, type, start, boundary, *values)\u001B[0m\n\u001B[0;32m    750\u001B[0m         value \u001B[38;5;241m=\u001B[39m (value, names) \u001B[38;5;241m+\u001B[39m values\n\u001B[1;32m--> 751\u001B[0m     \u001B[38;5;28;01mreturn\u001B[39;00m \u001B[38;5;28;43mcls\u001B[39;49m\u001B[38;5;241;43m.\u001B[39;49m\u001B[38;5;21;43m__new__\u001B[39;49m\u001B[43m(\u001B[49m\u001B[38;5;28;43mcls\u001B[39;49m\u001B[43m,\u001B[49m\u001B[43m \u001B[49m\u001B[43mvalue\u001B[49m\u001B[43m)\u001B[49m\n\u001B[0;32m    752\u001B[0m \u001B[38;5;66;03m# otherwise, functional API: we're creating a new Enum type\u001B[39;00m\n",
      "File \u001B[1;32m~\\anaconda3\\envs\\lfm1\\Lib\\enum.py:1173\u001B[0m, in \u001B[0;36mEnum.__new__\u001B[1;34m(cls, value)\u001B[0m\n\u001B[0;32m   1172\u001B[0m             exc\u001B[38;5;241m.\u001B[39m__context__ \u001B[38;5;241m=\u001B[39m ve_exc\n\u001B[1;32m-> 1173\u001B[0m         \u001B[38;5;28;01mraise\u001B[39;00m exc\n\u001B[0;32m   1174\u001B[0m \u001B[38;5;28;01mfinally\u001B[39;00m:\n\u001B[0;32m   1175\u001B[0m     \u001B[38;5;66;03m# ensure all variables that could hold an exception are destroyed\u001B[39;00m\n",
      "File \u001B[1;32m~\\anaconda3\\envs\\lfm1\\Lib\\enum.py:1150\u001B[0m, in \u001B[0;36mEnum.__new__\u001B[1;34m(cls, value)\u001B[0m\n\u001B[0;32m   1149\u001B[0m     exc \u001B[38;5;241m=\u001B[39m \u001B[38;5;28;01mNone\u001B[39;00m\n\u001B[1;32m-> 1150\u001B[0m     result \u001B[38;5;241m=\u001B[39m \u001B[38;5;28;43mcls\u001B[39;49m\u001B[38;5;241;43m.\u001B[39;49m\u001B[43m_missing_\u001B[49m\u001B[43m(\u001B[49m\u001B[43mvalue\u001B[49m\u001B[43m)\u001B[49m\n\u001B[0;32m   1151\u001B[0m \u001B[38;5;28;01mexcept\u001B[39;00m \u001B[38;5;167;01mException\u001B[39;00m \u001B[38;5;28;01mas\u001B[39;00m e:\n",
      "File \u001B[1;32m~\\anaconda3\\envs\\lfm1\\Lib\\enum.py:1433\u001B[0m, in \u001B[0;36mFlag._missing_\u001B[1;34m(cls, value)\u001B[0m\n\u001B[0;32m   1432\u001B[0m     max_bits \u001B[38;5;241m=\u001B[39m \u001B[38;5;28mmax\u001B[39m(value\u001B[38;5;241m.\u001B[39mbit_length(), flag_mask\u001B[38;5;241m.\u001B[39mbit_length())\n\u001B[1;32m-> 1433\u001B[0m     \u001B[38;5;28;01mraise\u001B[39;00m \u001B[38;5;167;01mValueError\u001B[39;00m(\n\u001B[0;32m   1434\u001B[0m             \u001B[38;5;124m\"\u001B[39m\u001B[38;5;132;01m%r\u001B[39;00m\u001B[38;5;124m invalid value \u001B[39m\u001B[38;5;132;01m%r\u001B[39;00m\u001B[38;5;130;01m\\n\u001B[39;00m\u001B[38;5;124m    given \u001B[39m\u001B[38;5;132;01m%s\u001B[39;00m\u001B[38;5;130;01m\\n\u001B[39;00m\u001B[38;5;124m  allowed \u001B[39m\u001B[38;5;132;01m%s\u001B[39;00m\u001B[38;5;124m\"\u001B[39m \u001B[38;5;241m%\u001B[39m (\n\u001B[0;32m   1435\u001B[0m                 \u001B[38;5;28mcls\u001B[39m, value, \u001B[38;5;28mbin\u001B[39m(value, max_bits), \u001B[38;5;28mbin\u001B[39m(flag_mask, max_bits),\n\u001B[0;32m   1436\u001B[0m                 ))\n\u001B[0;32m   1437\u001B[0m \u001B[38;5;28;01melif\u001B[39;00m \u001B[38;5;28mcls\u001B[39m\u001B[38;5;241m.\u001B[39m_boundary_ \u001B[38;5;129;01mis\u001B[39;00m CONFORM:\n",
      "\u001B[1;31mValueError\u001B[0m: <flag 'MoveFlags'> invalid value 204\n    given 0b0 11001100\n  allowed 0b0 00000001",
      "\nDuring handling of the above exception, another exception occurred:\n",
      "\u001B[1;31mValueError\u001B[0m                                Traceback (most recent call last)",
      "Cell \u001B[1;32mIn[10], line 1\u001B[0m\n\u001B[1;32m----> 1\u001B[0m \u001B[43mstage\u001B[49m\u001B[38;5;241;43m.\u001B[39;49m\u001B[43mget_velocity\u001B[49m\u001B[43m(\u001B[49m\u001B[43m)\u001B[49m\n",
      "File \u001B[1;32m~\\Repos\\lfm\\lfm\\standa_stage.py:113\u001B[0m, in \u001B[0;36mStandaStage.get_velocity\u001B[1;34m(self)\u001B[0m\n\u001B[0;32m    112\u001B[0m \u001B[38;5;28;01mdef\u001B[39;00m\u001B[38;5;250m \u001B[39m\u001B[38;5;21mget_velocity\u001B[39m(\u001B[38;5;28mself\u001B[39m):\n\u001B[1;32m--> 113\u001B[0m     vel \u001B[38;5;241m=\u001B[39m [\u001B[43maxis\u001B[49m\u001B[38;5;241;43m.\u001B[39;49m\u001B[43mget_move_settings_calb\u001B[49m\u001B[43m(\u001B[49m\u001B[43m)\u001B[49m\u001B[38;5;241m.\u001B[39mSpeed \u001B[38;5;28;01mfor\u001B[39;00m axis \u001B[38;5;129;01min\u001B[39;00m \u001B[38;5;28mself\u001B[39m\u001B[38;5;241m.\u001B[39maxes]\n\u001B[0;32m    114\u001B[0m     \u001B[38;5;28;01mif\u001B[39;00m \u001B[38;5;28mself\u001B[39m\u001B[38;5;241m.\u001B[39mverbose:\n\u001B[0;32m    115\u001B[0m         \u001B[38;5;28mprint\u001B[39m(\u001B[38;5;124mf\u001B[39m\u001B[38;5;124m'\u001B[39m\u001B[38;5;124mCurrent Velocity: \u001B[39m\u001B[38;5;132;01m{\u001B[39;00m[\u001B[38;5;124mf\u001B[39m\u001B[38;5;124m\"\u001B[39m\u001B[38;5;132;01m{\u001B[39;00mv\u001B[38;5;132;01m}\u001B[39;00m\u001B[38;5;124m mm/s\u001B[39m\u001B[38;5;124m\"\u001B[39m\u001B[38;5;250m \u001B[39m\u001B[38;5;28;01mfor\u001B[39;00m\u001B[38;5;250m \u001B[39mi,v\u001B[38;5;250m \u001B[39m\u001B[38;5;129;01min\u001B[39;00m\u001B[38;5;250m \u001B[39mvel]\u001B[38;5;132;01m}\u001B[39;00m\u001B[38;5;124m (xyz)\u001B[39m\u001B[38;5;124m'\u001B[39m)\n",
      "File \u001B[1;32m~\\anaconda3\\envs\\lfm1\\Lib\\site-packages\\libximc\\highlevel\\_highlevel.py:352\u001B[0m, in \u001B[0;36mAxis.get_move_settings_calb\u001B[1;34m(self)\u001B[0m\n\u001B[0;32m    350\u001B[0m move_settings \u001B[38;5;241m=\u001B[39m ll\u001B[38;5;241m.\u001B[39mmove_settings_calb_t()\n\u001B[0;32m    351\u001B[0m _check_result(lib\u001B[38;5;241m.\u001B[39mget_move_settings_calb(\u001B[38;5;28mself\u001B[39m\u001B[38;5;241m.\u001B[39m_device_id, byref(move_settings), byref(\u001B[38;5;28mself\u001B[39m\u001B[38;5;241m.\u001B[39m_calib)))\n\u001B[1;32m--> 352\u001B[0m \u001B[38;5;28;01mreturn\u001B[39;00m \u001B[43mmove_settings_calb_t\u001B[49m\u001B[43m(\u001B[49m\u001B[43mmove_settings\u001B[49m\u001B[38;5;241;43m.\u001B[39;49m\u001B[43mSpeed\u001B[49m\u001B[43m,\u001B[49m\n\u001B[0;32m    353\u001B[0m \u001B[43m                            \u001B[49m\u001B[43mmove_settings\u001B[49m\u001B[38;5;241;43m.\u001B[39;49m\u001B[43mAccel\u001B[49m\u001B[43m,\u001B[49m\n\u001B[0;32m    354\u001B[0m \u001B[43m                            \u001B[49m\u001B[43mmove_settings\u001B[49m\u001B[38;5;241;43m.\u001B[39;49m\u001B[43mDecel\u001B[49m\u001B[43m,\u001B[49m\n\u001B[0;32m    355\u001B[0m \u001B[43m                            \u001B[49m\u001B[43mmove_settings\u001B[49m\u001B[38;5;241;43m.\u001B[39;49m\u001B[43mAntiplaySpeed\u001B[49m\u001B[43m,\u001B[49m\n\u001B[0;32m    356\u001B[0m \u001B[43m                            \u001B[49m\u001B[43mmove_settings\u001B[49m\u001B[38;5;241;43m.\u001B[39;49m\u001B[43mMoveFlags\u001B[49m\u001B[43m)\u001B[49m\n",
      "File \u001B[1;32m~\\anaconda3\\envs\\lfm1\\Lib\\site-packages\\libximc\\highlevel\\_structure_types.py:631\u001B[0m, in \u001B[0;36mmove_settings_calb_t.__init__\u001B[1;34m(self, Speed, Accel, Decel, AntiplaySpeed, MoveFlags)\u001B[0m\n\u001B[0;32m    629\u001B[0m \u001B[38;5;28mself\u001B[39m\u001B[38;5;241m.\u001B[39mDecel \u001B[38;5;241m=\u001B[39m Decel\n\u001B[0;32m    630\u001B[0m \u001B[38;5;28mself\u001B[39m\u001B[38;5;241m.\u001B[39mAntiplaySpeed \u001B[38;5;241m=\u001B[39m AntiplaySpeed\n\u001B[1;32m--> 631\u001B[0m \u001B[38;5;28;43mself\u001B[39;49m\u001B[38;5;241;43m.\u001B[39;49m\u001B[43mMoveFlags\u001B[49m \u001B[38;5;241m=\u001B[39m MoveFlags\n",
      "File \u001B[1;32m~\\anaconda3\\envs\\lfm1\\Lib\\site-packages\\libximc\\highlevel\\_structure_types.py:683\u001B[0m, in \u001B[0;36mmove_settings_calb_t.MoveFlags\u001B[1;34m(self, val)\u001B[0m\n\u001B[0;32m    681\u001B[0m     \u001B[38;5;28mself\u001B[39m\u001B[38;5;241m.\u001B[39m_MoveFlags \u001B[38;5;241m=\u001B[39m flag_enumerations\u001B[38;5;241m.\u001B[39mMoveFlags(val)\n\u001B[0;32m    682\u001B[0m \u001B[38;5;28;01mexcept\u001B[39;00m \u001B[38;5;167;01mException\u001B[39;00m:\n\u001B[1;32m--> 683\u001B[0m     \u001B[38;5;28;01mraise\u001B[39;00m \u001B[38;5;167;01mValueError\u001B[39;00m(\u001B[38;5;124m\"\u001B[39m\u001B[38;5;124mMoveFlags = \u001B[39m\u001B[38;5;132;01m{}\u001B[39;00m\u001B[38;5;124m cannot be decomposed into \u001B[39m\u001B[38;5;132;01m{}\u001B[39;00m\u001B[38;5;124m.MoveFlags\u001B[39m\u001B[38;5;124m'\u001B[39m\u001B[38;5;124m flags!\u001B[39m\u001B[38;5;124m\"\u001B[39m\n\u001B[0;32m    684\u001B[0m                      \u001B[38;5;241m.\u001B[39mformat(\u001B[38;5;28mhex\u001B[39m(val), __package__))\n",
      "\u001B[1;31mValueError\u001B[0m: MoveFlags = 0xcc cannot be decomposed into libximc.highlevel.MoveFlags' flags!"
     ]
    }
   ],
   "source": [
    "stage.get_velocity()"
   ]
  },
  {
   "cell_type": "code",
   "execution_count": 11,
   "id": "6bfd190817a6bec3",
   "metadata": {
    "collapsed": true,
    "jupyter": {
     "outputs_hidden": true
    },
    "tags": []
   },
   "outputs": [
    {
     "ename": "ValueError",
     "evalue": "MoveFlags = 0xcc cannot be decomposed into libximc.highlevel.MoveFlags' flags!",
     "output_type": "error",
     "traceback": [
      "\u001B[1;31m---------------------------------------------------------------------------\u001B[0m",
      "\u001B[1;31mValueError\u001B[0m                                Traceback (most recent call last)",
      "File \u001B[1;32m~\\anaconda3\\envs\\lfm1\\Lib\\site-packages\\libximc\\highlevel\\_structure_types.py:681\u001B[0m, in \u001B[0;36mmove_settings_calb_t.MoveFlags\u001B[1;34m(self, val)\u001B[0m\n\u001B[0;32m    680\u001B[0m \u001B[38;5;28;01mtry\u001B[39;00m:\n\u001B[1;32m--> 681\u001B[0m     \u001B[38;5;28mself\u001B[39m\u001B[38;5;241m.\u001B[39m_MoveFlags \u001B[38;5;241m=\u001B[39m \u001B[43mflag_enumerations\u001B[49m\u001B[38;5;241;43m.\u001B[39;49m\u001B[43mMoveFlags\u001B[49m\u001B[43m(\u001B[49m\u001B[43mval\u001B[49m\u001B[43m)\u001B[49m\n\u001B[0;32m    682\u001B[0m \u001B[38;5;28;01mexcept\u001B[39;00m \u001B[38;5;167;01mException\u001B[39;00m:\n",
      "File \u001B[1;32m~\\anaconda3\\envs\\lfm1\\Lib\\enum.py:751\u001B[0m, in \u001B[0;36mEnumType.__call__\u001B[1;34m(cls, value, names, module, qualname, type, start, boundary, *values)\u001B[0m\n\u001B[0;32m    750\u001B[0m         value \u001B[38;5;241m=\u001B[39m (value, names) \u001B[38;5;241m+\u001B[39m values\n\u001B[1;32m--> 751\u001B[0m     \u001B[38;5;28;01mreturn\u001B[39;00m \u001B[38;5;28;43mcls\u001B[39;49m\u001B[38;5;241;43m.\u001B[39;49m\u001B[38;5;21;43m__new__\u001B[39;49m\u001B[43m(\u001B[49m\u001B[38;5;28;43mcls\u001B[39;49m\u001B[43m,\u001B[49m\u001B[43m \u001B[49m\u001B[43mvalue\u001B[49m\u001B[43m)\u001B[49m\n\u001B[0;32m    752\u001B[0m \u001B[38;5;66;03m# otherwise, functional API: we're creating a new Enum type\u001B[39;00m\n",
      "File \u001B[1;32m~\\anaconda3\\envs\\lfm1\\Lib\\enum.py:1173\u001B[0m, in \u001B[0;36mEnum.__new__\u001B[1;34m(cls, value)\u001B[0m\n\u001B[0;32m   1172\u001B[0m             exc\u001B[38;5;241m.\u001B[39m__context__ \u001B[38;5;241m=\u001B[39m ve_exc\n\u001B[1;32m-> 1173\u001B[0m         \u001B[38;5;28;01mraise\u001B[39;00m exc\n\u001B[0;32m   1174\u001B[0m \u001B[38;5;28;01mfinally\u001B[39;00m:\n\u001B[0;32m   1175\u001B[0m     \u001B[38;5;66;03m# ensure all variables that could hold an exception are destroyed\u001B[39;00m\n",
      "File \u001B[1;32m~\\anaconda3\\envs\\lfm1\\Lib\\enum.py:1150\u001B[0m, in \u001B[0;36mEnum.__new__\u001B[1;34m(cls, value)\u001B[0m\n\u001B[0;32m   1149\u001B[0m     exc \u001B[38;5;241m=\u001B[39m \u001B[38;5;28;01mNone\u001B[39;00m\n\u001B[1;32m-> 1150\u001B[0m     result \u001B[38;5;241m=\u001B[39m \u001B[38;5;28;43mcls\u001B[39;49m\u001B[38;5;241;43m.\u001B[39;49m\u001B[43m_missing_\u001B[49m\u001B[43m(\u001B[49m\u001B[43mvalue\u001B[49m\u001B[43m)\u001B[49m\n\u001B[0;32m   1151\u001B[0m \u001B[38;5;28;01mexcept\u001B[39;00m \u001B[38;5;167;01mException\u001B[39;00m \u001B[38;5;28;01mas\u001B[39;00m e:\n",
      "File \u001B[1;32m~\\anaconda3\\envs\\lfm1\\Lib\\enum.py:1433\u001B[0m, in \u001B[0;36mFlag._missing_\u001B[1;34m(cls, value)\u001B[0m\n\u001B[0;32m   1432\u001B[0m     max_bits \u001B[38;5;241m=\u001B[39m \u001B[38;5;28mmax\u001B[39m(value\u001B[38;5;241m.\u001B[39mbit_length(), flag_mask\u001B[38;5;241m.\u001B[39mbit_length())\n\u001B[1;32m-> 1433\u001B[0m     \u001B[38;5;28;01mraise\u001B[39;00m \u001B[38;5;167;01mValueError\u001B[39;00m(\n\u001B[0;32m   1434\u001B[0m             \u001B[38;5;124m\"\u001B[39m\u001B[38;5;132;01m%r\u001B[39;00m\u001B[38;5;124m invalid value \u001B[39m\u001B[38;5;132;01m%r\u001B[39;00m\u001B[38;5;130;01m\\n\u001B[39;00m\u001B[38;5;124m    given \u001B[39m\u001B[38;5;132;01m%s\u001B[39;00m\u001B[38;5;130;01m\\n\u001B[39;00m\u001B[38;5;124m  allowed \u001B[39m\u001B[38;5;132;01m%s\u001B[39;00m\u001B[38;5;124m\"\u001B[39m \u001B[38;5;241m%\u001B[39m (\n\u001B[0;32m   1435\u001B[0m                 \u001B[38;5;28mcls\u001B[39m, value, \u001B[38;5;28mbin\u001B[39m(value, max_bits), \u001B[38;5;28mbin\u001B[39m(flag_mask, max_bits),\n\u001B[0;32m   1436\u001B[0m                 ))\n\u001B[0;32m   1437\u001B[0m \u001B[38;5;28;01melif\u001B[39;00m \u001B[38;5;28mcls\u001B[39m\u001B[38;5;241m.\u001B[39m_boundary_ \u001B[38;5;129;01mis\u001B[39;00m CONFORM:\n",
      "\u001B[1;31mValueError\u001B[0m: <flag 'MoveFlags'> invalid value 204\n    given 0b0 11001100\n  allowed 0b0 00000001",
      "\nDuring handling of the above exception, another exception occurred:\n",
      "\u001B[1;31mValueError\u001B[0m                                Traceback (most recent call last)",
      "Cell \u001B[1;32mIn[11], line 1\u001B[0m\n\u001B[1;32m----> 1\u001B[0m \u001B[43mstage\u001B[49m\u001B[38;5;241;43m.\u001B[39;49m\u001B[43madjust_velocity\u001B[49m\u001B[43m(\u001B[49m\u001B[43m(\u001B[49m\u001B[38;5;241;43m4\u001B[39;49m\u001B[38;5;241;43m/\u001B[39;49m\u001B[38;5;241;43m10\u001B[39;49m\u001B[43m,\u001B[49m\u001B[38;5;241;43m4\u001B[39;49m\u001B[38;5;241;43m/\u001B[39;49m\u001B[38;5;241;43m10\u001B[39;49m\u001B[43m,\u001B[49m\u001B[38;5;241;43m2\u001B[39;49m\u001B[38;5;241;43m/\u001B[39;49m\u001B[38;5;241;43m10\u001B[39;49m\u001B[43m)\u001B[49m\u001B[43m)\u001B[49m\n",
      "File \u001B[1;32m~\\Repos\\lfm\\lfm\\standa_stage.py:129\u001B[0m, in \u001B[0;36mStandaStage.adjust_velocity\u001B[1;34m(self, velocity_factors)\u001B[0m\n\u001B[0;32m    127\u001B[0m \u001B[38;5;28;01mdef\u001B[39;00m\u001B[38;5;250m \u001B[39m\u001B[38;5;21madjust_velocity\u001B[39m(\u001B[38;5;28mself\u001B[39m, velocity_factors):\n\u001B[0;32m    128\u001B[0m     \u001B[38;5;28;01massert\u001B[39;00m \u001B[38;5;28mlen\u001B[39m(velocity_factors) \u001B[38;5;241m==\u001B[39m \u001B[38;5;28mlen\u001B[39m(\u001B[38;5;28mself\u001B[39m\u001B[38;5;241m.\u001B[39maxes), \u001B[38;5;124m\"\u001B[39m\u001B[38;5;124minput must have same shape as .axes\u001B[39m\u001B[38;5;124m\"\u001B[39m\n\u001B[1;32m--> 129\u001B[0m     vel \u001B[38;5;241m=\u001B[39m \u001B[38;5;28;43mself\u001B[39;49m\u001B[38;5;241;43m.\u001B[39;49m\u001B[43mget_velocity\u001B[49m\u001B[43m(\u001B[49m\u001B[43m)\u001B[49m\n\u001B[0;32m    130\u001B[0m     new_vel \u001B[38;5;241m=\u001B[39m [vel[i] \u001B[38;5;241m*\u001B[39m velocity_factors[i] \u001B[38;5;28;01mfor\u001B[39;00m i \u001B[38;5;129;01min\u001B[39;00m \u001B[38;5;28mrange\u001B[39m(\u001B[38;5;28mlen\u001B[39m(vel))]\n\u001B[0;32m    131\u001B[0m     \u001B[38;5;28mself\u001B[39m\u001B[38;5;241m.\u001B[39mset_velocity(new_vel)\n",
      "File \u001B[1;32m~\\Repos\\lfm\\lfm\\standa_stage.py:113\u001B[0m, in \u001B[0;36mStandaStage.get_velocity\u001B[1;34m(self)\u001B[0m\n\u001B[0;32m    112\u001B[0m \u001B[38;5;28;01mdef\u001B[39;00m\u001B[38;5;250m \u001B[39m\u001B[38;5;21mget_velocity\u001B[39m(\u001B[38;5;28mself\u001B[39m):\n\u001B[1;32m--> 113\u001B[0m     vel \u001B[38;5;241m=\u001B[39m [\u001B[43maxis\u001B[49m\u001B[38;5;241;43m.\u001B[39;49m\u001B[43mget_move_settings_calb\u001B[49m\u001B[43m(\u001B[49m\u001B[43m)\u001B[49m\u001B[38;5;241m.\u001B[39mSpeed \u001B[38;5;28;01mfor\u001B[39;00m axis \u001B[38;5;129;01min\u001B[39;00m \u001B[38;5;28mself\u001B[39m\u001B[38;5;241m.\u001B[39maxes]\n\u001B[0;32m    114\u001B[0m     \u001B[38;5;28;01mif\u001B[39;00m \u001B[38;5;28mself\u001B[39m\u001B[38;5;241m.\u001B[39mverbose:\n\u001B[0;32m    115\u001B[0m         \u001B[38;5;28mprint\u001B[39m(\u001B[38;5;124mf\u001B[39m\u001B[38;5;124m'\u001B[39m\u001B[38;5;124mCurrent Velocity: \u001B[39m\u001B[38;5;132;01m{\u001B[39;00m[\u001B[38;5;124mf\u001B[39m\u001B[38;5;124m\"\u001B[39m\u001B[38;5;132;01m{\u001B[39;00mv\u001B[38;5;132;01m}\u001B[39;00m\u001B[38;5;124m mm/s\u001B[39m\u001B[38;5;124m\"\u001B[39m\u001B[38;5;250m \u001B[39m\u001B[38;5;28;01mfor\u001B[39;00m\u001B[38;5;250m \u001B[39mi,v\u001B[38;5;250m \u001B[39m\u001B[38;5;129;01min\u001B[39;00m\u001B[38;5;250m \u001B[39mvel]\u001B[38;5;132;01m}\u001B[39;00m\u001B[38;5;124m (xyz)\u001B[39m\u001B[38;5;124m'\u001B[39m)\n",
      "File \u001B[1;32m~\\anaconda3\\envs\\lfm1\\Lib\\site-packages\\libximc\\highlevel\\_highlevel.py:352\u001B[0m, in \u001B[0;36mAxis.get_move_settings_calb\u001B[1;34m(self)\u001B[0m\n\u001B[0;32m    350\u001B[0m move_settings \u001B[38;5;241m=\u001B[39m ll\u001B[38;5;241m.\u001B[39mmove_settings_calb_t()\n\u001B[0;32m    351\u001B[0m _check_result(lib\u001B[38;5;241m.\u001B[39mget_move_settings_calb(\u001B[38;5;28mself\u001B[39m\u001B[38;5;241m.\u001B[39m_device_id, byref(move_settings), byref(\u001B[38;5;28mself\u001B[39m\u001B[38;5;241m.\u001B[39m_calib)))\n\u001B[1;32m--> 352\u001B[0m \u001B[38;5;28;01mreturn\u001B[39;00m \u001B[43mmove_settings_calb_t\u001B[49m\u001B[43m(\u001B[49m\u001B[43mmove_settings\u001B[49m\u001B[38;5;241;43m.\u001B[39;49m\u001B[43mSpeed\u001B[49m\u001B[43m,\u001B[49m\n\u001B[0;32m    353\u001B[0m \u001B[43m                            \u001B[49m\u001B[43mmove_settings\u001B[49m\u001B[38;5;241;43m.\u001B[39;49m\u001B[43mAccel\u001B[49m\u001B[43m,\u001B[49m\n\u001B[0;32m    354\u001B[0m \u001B[43m                            \u001B[49m\u001B[43mmove_settings\u001B[49m\u001B[38;5;241;43m.\u001B[39;49m\u001B[43mDecel\u001B[49m\u001B[43m,\u001B[49m\n\u001B[0;32m    355\u001B[0m \u001B[43m                            \u001B[49m\u001B[43mmove_settings\u001B[49m\u001B[38;5;241;43m.\u001B[39;49m\u001B[43mAntiplaySpeed\u001B[49m\u001B[43m,\u001B[49m\n\u001B[0;32m    356\u001B[0m \u001B[43m                            \u001B[49m\u001B[43mmove_settings\u001B[49m\u001B[38;5;241;43m.\u001B[39;49m\u001B[43mMoveFlags\u001B[49m\u001B[43m)\u001B[49m\n",
      "File \u001B[1;32m~\\anaconda3\\envs\\lfm1\\Lib\\site-packages\\libximc\\highlevel\\_structure_types.py:631\u001B[0m, in \u001B[0;36mmove_settings_calb_t.__init__\u001B[1;34m(self, Speed, Accel, Decel, AntiplaySpeed, MoveFlags)\u001B[0m\n\u001B[0;32m    629\u001B[0m \u001B[38;5;28mself\u001B[39m\u001B[38;5;241m.\u001B[39mDecel \u001B[38;5;241m=\u001B[39m Decel\n\u001B[0;32m    630\u001B[0m \u001B[38;5;28mself\u001B[39m\u001B[38;5;241m.\u001B[39mAntiplaySpeed \u001B[38;5;241m=\u001B[39m AntiplaySpeed\n\u001B[1;32m--> 631\u001B[0m \u001B[38;5;28;43mself\u001B[39;49m\u001B[38;5;241;43m.\u001B[39;49m\u001B[43mMoveFlags\u001B[49m \u001B[38;5;241m=\u001B[39m MoveFlags\n",
      "File \u001B[1;32m~\\anaconda3\\envs\\lfm1\\Lib\\site-packages\\libximc\\highlevel\\_structure_types.py:683\u001B[0m, in \u001B[0;36mmove_settings_calb_t.MoveFlags\u001B[1;34m(self, val)\u001B[0m\n\u001B[0;32m    681\u001B[0m     \u001B[38;5;28mself\u001B[39m\u001B[38;5;241m.\u001B[39m_MoveFlags \u001B[38;5;241m=\u001B[39m flag_enumerations\u001B[38;5;241m.\u001B[39mMoveFlags(val)\n\u001B[0;32m    682\u001B[0m \u001B[38;5;28;01mexcept\u001B[39;00m \u001B[38;5;167;01mException\u001B[39;00m:\n\u001B[1;32m--> 683\u001B[0m     \u001B[38;5;28;01mraise\u001B[39;00m \u001B[38;5;167;01mValueError\u001B[39;00m(\u001B[38;5;124m\"\u001B[39m\u001B[38;5;124mMoveFlags = \u001B[39m\u001B[38;5;132;01m{}\u001B[39;00m\u001B[38;5;124m cannot be decomposed into \u001B[39m\u001B[38;5;132;01m{}\u001B[39;00m\u001B[38;5;124m.MoveFlags\u001B[39m\u001B[38;5;124m'\u001B[39m\u001B[38;5;124m flags!\u001B[39m\u001B[38;5;124m\"\u001B[39m\n\u001B[0;32m    684\u001B[0m                      \u001B[38;5;241m.\u001B[39mformat(\u001B[38;5;28mhex\u001B[39m(val), __package__))\n",
      "\u001B[1;31mValueError\u001B[0m: MoveFlags = 0xcc cannot be decomposed into libximc.highlevel.MoveFlags' flags!"
     ]
    }
   ],
   "source": [
    "stage.adjust_velocity((4/10,4/10,2/10))"
   ]
  },
  {
   "cell_type": "code",
   "execution_count": 4,
   "id": "9ddb0d0a3fedca3a",
   "metadata": {},
   "outputs": [
    {
     "name": "stdout",
     "output_type": "stream",
     "text": [
      "Finished moving axis0 after 4514.70 ms\n",
      "Current Position: ['0.0 mm', '10.0 mm', '10.0 mm'] (x,y,z)\n",
      "Finished moving axis1 after 4515.33 ms\n",
      "Current Position: ['0.0 mm', '0.0 mm', '10.0 mm'] (x,y,z)\n",
      "Finished moving axis2 after 2514.50 ms\n",
      "Current Position: ['0.0 mm', '0.0 mm', '0.0 mm'] (x,y,z)\n"
     ]
    }
   ],
   "source": [
    "stage.move((-10,-10,-10))"
   ]
  },
  {
   "cell_type": "code",
   "execution_count": 12,
   "id": "b5b7311494e01ace",
   "metadata": {},
   "outputs": [],
   "source": [
    "stage.close()"
   ]
  },
  {
   "cell_type": "code",
   "execution_count": 6,
   "id": "289a9e20070a5070",
   "metadata": {},
   "outputs": [
    {
     "name": "stdout",
     "output_type": "stream",
     "text": [
      "Finished moving axis0 after 171.69 ms\n",
      "Current Position: ['0.0 mm', '0.0 mm', '10.0 mm'] (x,y,z)\n",
      "Finished moving axis1 after 173.70 ms\n",
      "Current Position: ['0.0 mm', '0.0 mm', '10.0 mm'] (x,y,z)\n",
      "Finished moving axis2 after 2517.50 ms\n",
      "Current Position: ['0.0 mm', '0.0 mm', '0.0 mm'] (x,y,z)\n"
     ]
    }
   ],
   "source": [
    "stage.move((0,0,-10))"
   ]
  },
  {
   "cell_type": "code",
   "execution_count": null,
   "id": "adf4de22-d43e-4d93-9230-35fd6be9d14f",
   "metadata": {},
   "outputs": [],
   "source": []
  }
 ],
 "metadata": {
  "kernelspec": {
   "display_name": "Python [conda env:anaconda3-lfm1]",
   "language": "python",
   "name": "conda-env-anaconda3-lfm1-py"
  },
  "language_info": {
   "codemirror_mode": {
    "name": "ipython",
    "version": 3
   },
   "file_extension": ".py",
   "mimetype": "text/x-python",
   "name": "python",
   "nbconvert_exporter": "python",
   "pygments_lexer": "ipython3",
   "version": "3.12.8"
  }
 },
 "nbformat": 4,
 "nbformat_minor": 5
}
