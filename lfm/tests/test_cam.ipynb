{
 "cells": [
  {
   "cell_type": "code",
   "id": "7f517e7a-db94-4535-a562-4ec13fb1e1b2",
   "metadata": {
    "ExecuteTime": {
     "end_time": "2025-05-12T13:28:07.504758Z",
     "start_time": "2025-05-12T13:28:07.333721Z"
    }
   },
   "source": [
    "from pyDCAM import DCAMIDPROP\n",
    "from lfm.cams import DCamera\n",
    "import time\n",
    "import tqdm\n",
    "\n",
    "import yaml\n",
    "import numpy as np\n",
    "import matplotlib.pyplot as plt\n",
    "from lfm.control_lfm import get_full_waveforms, get_preview_callback\n",
    "from lfm.stage import StandaStage, get_connected_axes\n",
    "from lfm.daq import unifiedDAO\n",
    "from nidaqmx.utils import flatten_channel_string, unflatten_channel_string\n",
    "import pyqtgraph as pg\n",
    "def point(dao):\n",
    "    chans = unflatten_channel_string(dao.ao_chans)\n",
    "    dao.queue_data(np.zeros((len(chans), 2)), finite=True, chunked=False)\n",
    "    dao.task_ao.start()\n",
    "    dao.task_ao.wait_until_done()\n",
    "    dao.close()\n"
   ],
   "outputs": [],
   "execution_count": 3
  },
  {
   "cell_type": "code",
   "id": "fcc12aee-64bd-4f7b-b59f-a7de2cbb9c7f",
   "metadata": {
    "ExecuteTime": {
     "end_time": "2025-05-12T13:29:10.075792Z",
     "start_time": "2025-05-12T13:29:01.017142Z"
    }
   },
   "source": [
    "with open(r\"../config/gui_lfm_defaults.yml\", \"r\") as file:\n",
    "        conf = yaml.safe_load(file)\n",
    "led_full, trigger_full, led_single, trigger_single= get_full_waveforms(conf, fps=conf[\"acquisition\"][\"fps\"])\n",
    "\n",
    "dao = unifiedDAO(50000, ao_chans=\"Dev1/ao2\", do_port=\"port0/line0\", shutter_line=\"PFI0\")\n",
    "# with dao.queue_data(led_single, trigger_single, finite=False, chunked=False):\n",
    "point(dao)\n",
    "cam = DCamera()\n",
    "cam.frame_dtype = \"uint8\"\n",
    "stage = StandaStage(uris=get_connected_axes(),\n",
    "                                     overshoot=0.001,\n",
    "                                     verbose=1)"
   ],
   "outputs": [
    {
     "name": "stdout",
     "output_type": "stream",
     "text": [
      "Found 3 real device(s):\n",
      "  {'uri': 'xi-com:\\\\\\\\.\\\\COM6', 'device_serial': 3085, 'Manufacturer': 'XIMC', 'ManufacturerId': 'SM', 'ProductDescription': 'XISM-USB', 'Major': 2, 'Minor': 2, 'Release': 3, 'ControllerName': 'Axis 2', 'CtrlFlags': 0, 'PositionerName': ''}\n",
      "  {'uri': 'xi-com:\\\\\\\\.\\\\COM5', 'device_serial': 6883, 'Manufacturer': 'XIMC', 'ManufacturerId': 'SM', 'ProductDescription': 'XISM-USB', 'Major': 2, 'Minor': 2, 'Release': 4, 'ControllerName': 'Axis 3', 'CtrlFlags': 0, 'PositionerName': ''}\n",
      "  {'uri': 'xi-com:\\\\\\\\.\\\\COM7', 'device_serial': 716, 'Manufacturer': 'XIMC', 'ManufacturerId': 'SM', 'ProductDescription': 'XISM-USB', 'Major': 4, 'Minor': 104, 'Release': 46177, 'ControllerName': 'Axis 1', 'CtrlFlags': 0, 'PositionerName': ''}\n"
     ]
    }
   ],
   "execution_count": 7
  },
  {
   "cell_type": "code",
   "execution_count": 3,
   "id": "e539225e049b24e3",
   "metadata": {
    "ExecuteTime": {
     "end_time": "2025-04-12T12:36:24.974156Z",
     "start_time": "2025-04-12T12:36:18.997267Z"
    }
   },
   "outputs": [
    {
     "data": {
      "application/vnd.jupyter.widget-view+json": {
       "model_id": "cb184eb8c1e54df7b8f351cae0f622bd",
       "version_major": 2,
       "version_minor": 0
      },
      "text/plain": [
       "  0%|          | 0/1000000000 [00:00<?, ?it/s]"
      ]
     },
     "metadata": {},
     "output_type": "display_data"
    },
    {
     "name": "stderr",
     "output_type": "stream",
     "text": [
      "C:\\Users\\jlab\\anaconda3\\envs\\lfm1\\Lib\\site-packages\\nidaqmx\\task.py:456: ResourceWarning: Attempted to close NI-DAQmx task of name \"_unnamedTask<3>\" but task was already closed.\n",
      "  warnings.warn(\n"
     ]
    }
   ],
   "source": [
    "with open(r\"/lfm/config/gui_lfm_defaults.yml\", \"r\") as file:\n",
    "        conf = yaml.safe_load(file)\n",
    "ft = 1000/conf[\"camera\"][\"preview_fps\"]\n",
    "_, _, led_single, trigger_single, ft = get_full_waveforms(conf,ft=ft)\n",
    "cam.exposure_time = ft\n",
    "\n",
    "cam.set_trigger(external=1, each_frame=1)\n",
    "filter_fcn = lambda im: ((im - im.min()) * (255 / (im.max() - im.min()))).astype(im.dtype)\n",
    "\n",
    "with dao.queue_data(led_single, trigger_single, finite=True, chunked=False):\n",
    "   cam.preview(filter_fcn=filter_fcn)\n",
    "\n",
    "point(dao)"
   ]
  },
  {
   "metadata": {
    "ExecuteTime": {
     "end_time": "2025-05-12T13:30:10.286459Z",
     "start_time": "2025-05-12T13:30:10.282006Z"
    }
   },
   "cell_type": "code",
   "source": "1/cam.exposure_time\n",
   "id": "f05412727f40a5cc",
   "outputs": [
    {
     "data": {
      "text/plain": [
       "100.02286236854137"
      ]
     },
     "execution_count": 10,
     "metadata": {},
     "output_type": "execute_result"
    }
   ],
   "execution_count": 10
  },
  {
   "metadata": {
    "ExecuteTime": {
     "end_time": "2025-05-12T13:52:37.824698Z",
     "start_time": "2025-05-12T13:52:37.800049Z"
    }
   },
   "cell_type": "code",
   "source": [
    "from control_lfm import get_full_waveforms\n",
    "_,_,ao_single, do_single = get_full_waveforms(conf, fps= int(1/cam.exposure_time))\n",
    "plt.plot(ao_single)\n",
    "plt.plot(do_single)\n",
    "\n"
   ],
   "id": "3ff700c7e8040c60",
   "outputs": [
    {
     "ename": "ModuleNotFoundError",
     "evalue": "No module named 'control_lfm'",
     "output_type": "error",
     "traceback": [
      "\u001B[1;31m---------------------------------------------------------------------------\u001B[0m",
      "\u001B[1;31mModuleNotFoundError\u001B[0m                       Traceback (most recent call last)",
      "Cell \u001B[1;32mIn[2], line 1\u001B[0m\n\u001B[1;32m----> 1\u001B[0m \u001B[38;5;28;01mfrom\u001B[39;00m\u001B[38;5;250m \u001B[39m\u001B[38;5;21;01mcontrol_lfm\u001B[39;00m\u001B[38;5;250m \u001B[39m\u001B[38;5;28;01mimport\u001B[39;00m get_full_waveforms\n\u001B[0;32m      2\u001B[0m _,_,ao_single, do_single \u001B[38;5;241m=\u001B[39m get_full_waveforms(conf, fps\u001B[38;5;241m=\u001B[39m \u001B[38;5;28mint\u001B[39m(\u001B[38;5;241m1\u001B[39m\u001B[38;5;241m/\u001B[39mcam\u001B[38;5;241m.\u001B[39mexposure_time))\n\u001B[0;32m      3\u001B[0m plt\u001B[38;5;241m.\u001B[39mplot(ao_single)\n",
      "\u001B[1;31mModuleNotFoundError\u001B[0m: No module named 'control_lfm'"
     ]
    }
   ],
   "execution_count": 2
  },
  {
   "metadata": {
    "ExecuteTime": {
     "end_time": "2025-05-12T13:16:48.324587Z",
     "start_time": "2025-05-12T13:16:48.320425Z"
    }
   },
   "cell_type": "code",
   "source": "1/0.5",
   "id": "3db361a7cd06db69",
   "outputs": [
    {
     "data": {
      "text/plain": [
       "2.0"
      ]
     },
     "execution_count": 7,
     "metadata": {},
     "output_type": "execute_result"
    }
   ],
   "execution_count": 7
  },
  {
   "metadata": {},
   "cell_type": "code",
   "outputs": [],
   "execution_count": null,
   "source": "",
   "id": "79fbd53e9e064068"
  },
  {
   "cell_type": "code",
   "execution_count": 4,
   "id": "ace3195219d42724",
   "metadata": {
    "ExecuteTime": {
     "end_time": "2025-04-12T12:37:45.359688Z",
     "start_time": "2025-04-12T12:36:44.251758Z"
    }
   },
   "outputs": [
    {
     "data": {
      "application/vnd.jupyter.widget-view+json": {
       "model_id": "dbdd0b4597cb48eaa6760273bb46dffd",
       "version_major": 2,
       "version_minor": 0
      },
      "text/plain": [
       "  0%|          | 0/100 [00:00<?, ?it/s]"
      ]
     },
     "metadata": {},
     "output_type": "display_data"
    },
    {
     "data": {
      "application/vnd.jupyter.widget-view+json": {
       "model_id": "0e31b6e511ae4753b668f0ecdb09f7c1",
       "version_major": 2,
       "version_minor": 0
      },
      "text/plain": [
       "  0%|          | 0/100 [00:00<?, ?it/s]"
      ]
     },
     "metadata": {},
     "output_type": "display_data"
    },
    {
     "data": {
      "application/vnd.jupyter.widget-view+json": {
       "model_id": "bdde52cbb1ef423182c72115a632ccd4",
       "version_major": 2,
       "version_minor": 0
      },
      "text/plain": [
       "  0%|          | 0/100 [00:00<?, ?it/s]"
      ]
     },
     "metadata": {},
     "output_type": "display_data"
    },
    {
     "name": "stdout",
     "output_type": "stream",
     "text": [
      "Done\n"
     ]
    },
    {
     "name": "stderr",
     "output_type": "stream",
     "text": [
      "C:\\Users\\jlab\\anaconda3\\envs\\lfm1\\Lib\\site-packages\\nidaqmx\\task.py:456: ResourceWarning: Attempted to close NI-DAQmx task of name \"_unnamedTask<6>\" but task was already closed.\n",
      "  warnings.warn(\n"
     ]
    }
   ],
   "source": [
    "cam.set_trigger(external=1, each_frame=1)\n",
    "with dao.queue_data(led_single, trigger_single, finite=True, chunked=False):\n",
    "   im_stack,_,_ = cam.acquire_stack(100)\n",
    "   im_stack1,_,_ = cam.acquire_stack(100)\n",
    "   im_stack2,_,_ = cam.acquire_stack(100)\n",
    "   print(\"Done\")\n",
    "\n",
    "point(dao)\n"
   ]
  },
  {
   "cell_type": "code",
   "execution_count": 5,
   "id": "18e6bd8a39345d26",
   "metadata": {
    "ExecuteTime": {
     "end_time": "2025-04-12T12:38:06.916945Z",
     "start_time": "2025-04-12T12:37:46.564408Z"
    }
   },
   "outputs": [
    {
     "data": {
      "application/vnd.jupyter.widget-view+json": {
       "model_id": "b350bc04245f43e386b8f6cc596f3822",
       "version_major": 2,
       "version_minor": 0
      },
      "text/plain": [
       "  0%|          | 0/100 [00:00<?, ?it/s]"
      ]
     },
     "metadata": {},
     "output_type": "display_data"
    }
   ],
   "source": [
    "im_stack,_,_ = cam.acquire_stack(100)"
   ]
  },
  {
   "cell_type": "code",
   "execution_count": null,
   "id": "d27afa36eb51802d",
   "metadata": {
    "ExecuteTime": {
     "end_time": "2025-04-12T11:59:08.060411200Z",
     "start_time": "2025-04-10T13:56:47.206460Z"
    }
   },
   "outputs": [],
   "source": [
    "import pyqtgraph as pg\n",
    "imv = pg.ImageView()\n",
    "pg.Qt.QtWidgets.QApplication.processEvents(pg.Qt.QtCore.QEventLoop.ProcessEventsFlag.AllEvents, 100)\n",
    "imv.show()\n",
    "imv.setImage(np.random.randint(0, 255, size=(100, 100), dtype=np.uint8))\n",
    "pg.Qt.QtWidgets.QApplication.processEvents()\n",
    "\n"
   ]
  },
  {
   "cell_type": "code",
   "execution_count": 1,
   "id": "70d070124f4592f8",
   "metadata": {
    "ExecuteTime": {
     "end_time": "2025-04-12T11:59:08.061410600Z",
     "start_time": "2025-04-10T11:11:27.970689Z"
    }
   },
   "outputs": [
    {
     "ename": "NameError",
     "evalue": "name 'get_preview_callback' is not defined",
     "output_type": "error",
     "traceback": [
      "\u001B[1;31m---------------------------------------------------------------------------\u001B[0m",
      "\u001B[1;31mNameError\u001B[0m                                 Traceback (most recent call last)",
      "Cell \u001B[1;32mIn[1], line 1\u001B[0m\n\u001B[1;32m----> 1\u001B[0m preview_callback, imv \u001B[38;5;241m=\u001B[39m \u001B[43mget_preview_callback\u001B[49m(cam\u001B[38;5;241m.\u001B[39mframe_shape, refresh_every\u001B[38;5;241m=\u001B[39m\u001B[38;5;241m5\u001B[39m)\n\u001B[0;32m      2\u001B[0m pg\u001B[38;5;241m.\u001B[39mQt\u001B[38;5;241m.\u001B[39mQtWidgets\u001B[38;5;241m.\u001B[39mQApplication\u001B[38;5;241m.\u001B[39mprocessEvents(pg\u001B[38;5;241m.\u001B[39mQt\u001B[38;5;241m.\u001B[39mQtCore\u001B[38;5;241m.\u001B[39mQEventLoop\u001B[38;5;241m.\u001B[39mProcessEventsFlag\u001B[38;5;241m.\u001B[39mAllEvents, \u001B[38;5;241m100\u001B[39m)\n\u001B[0;32m      3\u001B[0m interrupt \u001B[38;5;241m=\u001B[39m \u001B[38;5;28;01mlambda\u001B[39;00m: \u001B[38;5;129;01mnot\u001B[39;00m imv\u001B[38;5;241m.\u001B[39misVisible()\n",
      "\u001B[1;31mNameError\u001B[0m: name 'get_preview_callback' is not defined"
     ]
    }
   ],
   "source": [
    "preview_callback, imv = get_preview_callback(cam.frame_shape, refresh_every=5)\n",
    "pg.Qt.QtWidgets.QApplication.processEvents(pg.Qt.QtCore.QEventLoop.ProcessEventsFlag.AllEvents, 100)\n",
    "interrupt = lambda: not imv.isVisible()\n",
    "cam.exposure_time = 1/conf['camera']['preview_fps']\n",
    "conf['camera']['preview_fps'] = int(1/cam.exposure_time)+1  # mismatch from when setting it\n",
    "_, _, ao_single, do_single, ft = get_full_waveforms(conf, preview=True)\n",
    "\n",
    "cam.set_trigger(external=True, each_frame=True)\n",
    "cam.arm()\n",
    "\n",
    "with dao.queue_data(ao_single, do_single, finite=False, chunked=False):\n",
    "    cam.stream(num_frames=int(1e9), interrupt=interrupt, already_armed=True)\n",
    "point(dao)\n"
   ]
  },
  {
   "cell_type": "code",
   "execution_count": null,
   "id": "2245186ce471780e",
   "metadata": {},
   "outputs": [],
   "source": []
  },
  {
   "cell_type": "code",
   "execution_count": 1,
   "id": "1ef74157167677a0",
   "metadata": {
    "ExecuteTime": {
     "end_time": "2025-04-12T12:41:16.766351Z",
     "start_time": "2025-04-12T12:41:16.757771Z"
    }
   },
   "outputs": [
    {
     "data": {
      "text/plain": [
       "25.0"
      ]
     },
     "execution_count": 1,
     "metadata": {},
     "output_type": "execute_result"
    }
   ],
   "source": ""
  },
  {
   "cell_type": "code",
   "execution_count": 5,
   "id": "7b499ef62a72a520",
   "metadata": {
    "ExecuteTime": {
     "end_time": "2025-04-12T11:59:08.069574500Z",
     "start_time": "2025-04-08T14:15:37.382633Z"
    }
   },
   "outputs": [],
   "source": ""
  },
  {
   "cell_type": "code",
   "execution_count": 13,
   "id": "c5c8694545f1d9d4",
   "metadata": {
    "ExecuteTime": {
     "end_time": "2025-04-12T11:59:08.070575100Z",
     "start_time": "2025-04-07T16:42:29.214314Z"
    }
   },
   "outputs": [
    {
     "data": {
      "text/plain": [
       "[<matplotlib.lines.Line2D at 0x25810507980>]"
      ]
     },
     "execution_count": 13,
     "metadata": {},
     "output_type": "execute_result"
    },
    {
     "data": {
      "image/png": "[encoded data removed]",
      "text/plain": [
       "<Figure size 640x480 with 1 Axes>"
      ]
     },
     "metadata": {},
     "output_type": "display_data"
    }
   ],
   "source": [
    "plt.plot([timestamps[i]-timestamps[i-1]-cam.exposure_time for i in range(timestamps.shape[0]-1)][1:])"
   ]
  },
  {
   "cell_type": "code",
   "execution_count": null,
   "id": "43501275c002b751",
   "metadata": {},
   "outputs": [],
   "source": [
    "plt.imshow()"
   ]
  },
  {
   "cell_type": "code",
   "execution_count": 39,
   "id": "475ea240d6387605",
   "metadata": {
    "ExecuteTime": {
     "end_time": "2025-04-12T11:59:08.071574200Z",
     "start_time": "2025-04-07T16:17:18.898919Z"
    }
   },
   "outputs": [],
   "source": [
    "import numpy as np\n",
    "import cv2\n",
    "import time\n",
    "\n",
    "# Example stack\n",
    "stack = im_stack  # shape: (T, H, W)\n",
    "num_frames = stack.shape[0]\n",
    "\n",
    "def play_cv_video(stack, delay=50):\n",
    "    i = 0\n",
    "    paused = False\n",
    "    while True:\n",
    "        frame = stack[i % num_frames]\n",
    "        cv2.imshow(\"Video\", frame)\n",
    "        key = cv2.waitKey(delay)\n",
    "\n",
    "        if key == ord('q'):\n",
    "            break\n",
    "        elif key == ord(' '):\n",
    "            paused = not paused\n",
    "        elif key == ord('d'):\n",
    "            i += 1\n",
    "        elif key == ord('a'):\n",
    "            i -= 1\n",
    "\n",
    "        if not paused:\n",
    "            i += 1\n",
    "\n",
    "    cv2.destroyAllWindows()\n",
    "\n",
    "# Run\n",
    "play_cv_video(stack)\n"
   ]
  },
  {
   "cell_type": "code",
   "execution_count": 11,
   "id": "4254b1b1ee37410",
   "metadata": {
    "ExecuteTime": {
     "end_time": "2025-04-12T11:59:08.072575600Z",
     "start_time": "2025-04-07T15:42:12.774005Z"
    },
    "collapsed": true,
    "jupyter": {
     "outputs_hidden": true
    },
    "tags": []
   },
   "outputs": [
    {
     "name": "stderr",
     "output_type": "stream",
     "text": [
      "(0, 1744040532.9680476)\n",
      "(1, 1744040532.992011)\n",
      "(2, 1744040533.0170488)\n",
      "(3, 1744040533.0430107)\n",
      "(4, 1744040533.0690084)\n",
      "(5, 1744040533.0930073)\n",
      "(6, 1744040533.11705)\n",
      "(7, 1744040533.1430492)\n",
      "(8, 1744040533.1680484)\n",
      "(9, 1744040533.193009)\n",
      "(10, 1744040533.2180474)\n",
      "(11, 1744040533.2430115)\n",
      "(12, 1744040533.2680073)\n",
      "(13, 1744040533.293048)\n",
      "(14, 1744040533.3180494)\n",
      "(15, 1744040533.3420103)\n",
      "(16, 1744040533.3680484)\n",
      "(17, 1744040533.393052)\n",
      "(18, 1744040533.4180543)\n",
      "(19, 1744040533.4430935)\n",
      "(20, 1744040533.467096)\n",
      "(21, 1744040533.4940517)\n",
      "(22, 1744040533.5181675)\n",
      "(23, 1744040533.5431652)\n",
      "(24, 1744040533.5671659)\n",
      "(25, 1744040533.5933442)\n",
      "(26, 1744040533.6183462)\n",
      "(27, 1744040533.642351)\n",
      "(28, 1744040533.6683073)\n",
      "(29, 1744040533.692373)\n",
      "(30, 1744040533.718392)\n",
      "(31, 1744040533.742423)\n",
      "(32, 1744040533.7674685)\n",
      "(33, 1744040533.7924898)\n",
      "(34, 1744040533.8174648)\n",
      "(35, 1744040533.8434634)\n",
      "(36, 1744040533.8675833)\n",
      "(37, 1744040533.892534)\n",
      "(38, 1744040533.9175785)\n",
      "(39, 1744040533.9429157)\n",
      "(40, 1744040533.9678936)\n",
      "(41, 1744040533.9928968)\n",
      "(42, 1744040534.0168984)\n",
      "(43, 1744040534.0428944)\n",
      "(44, 1744040534.0688972)\n",
      "(45, 1744040534.0928957)\n",
      "(46, 1744040534.1198738)\n",
      "(47, 1744040534.1428757)\n",
      "(48, 1744040534.1669166)\n",
      "(49, 1744040534.1930919)\n",
      "(50, 1744040534.2172334)\n",
      "(51, 1744040534.243317)\n",
      "(52, 1744040534.2683177)\n",
      "(53, 1744040534.2933207)\n",
      "(54, 1744040534.3183217)\n",
      "(55, 1744040534.3422754)\n",
      "(56, 1744040534.367715)\n",
      "(57, 1744040534.392913)\n",
      "(58, 1744040534.4169176)\n",
      "(59, 1744040534.4429128)\n",
      "(60, 1744040534.4689128)\n",
      "(61, 1744040534.4939852)\n",
      "(62, 1744040534.5179873)\n",
      "(63, 1744040534.5429883)\n",
      "(64, 1744040534.5672512)\n",
      "(65, 1744040534.592252)\n",
      "(66, 1744040534.6172493)\n",
      "(67, 1744040534.6422093)\n",
      "(68, 1744040534.6673844)\n",
      "(69, 1744040534.6926093)\n",
      "(70, 1744040534.718649)\n",
      "(71, 1744040534.7428503)\n",
      "(72, 1744040534.7668498)\n",
      "(73, 1744040534.792855)\n",
      "(74, 1744040534.8189683)\n",
      "(75, 1744040534.8420637)\n",
      "(76, 1744040534.8672414)\n",
      "(77, 1744040534.8923974)\n",
      "(78, 1744040534.9174535)\n",
      "(79, 1744040534.942526)\n",
      "(80, 1744040534.967525)\n",
      "(81, 1744040534.9934835)\n",
      "(82, 1744040535.0174866)\n",
      "(83, 1744040535.0425289)\n",
      "(84, 1744040535.0676756)\n",
      "(85, 1744040535.0926428)\n",
      "(86, 1744040535.1176357)\n",
      "(87, 1744040535.1426728)\n",
      "(88, 1744040535.1666741)\n",
      "(89, 1744040535.1936746)\n",
      "(90, 1744040535.2166781)\n",
      "(91, 1744040535.242674)\n",
      "(92, 1744040535.2676814)\n",
      "(93, 1744040535.2917018)\n",
      "(94, 1744040535.3166766)\n",
      "(95, 1744040535.3426845)\n",
      "(96, 1744040535.367676)\n",
      "(97, 1744040535.39269)\n",
      "(98, 1744040535.4178293)\n",
      "(99, 1744040535.4428291)\n",
      "(0, 1744040535.4678311)\n",
      "(1, 1744040535.4917912)\n",
      "(2, 1744040535.5178344)\n",
      "(3, 1744040535.5417907)\n",
      "(4, 1744040535.567958)\n",
      "(5, 1744040535.5929592)\n",
      "(6, 1744040535.616957)\n",
      "(7, 1744040535.6449678)\n",
      "(8, 1744040535.6670353)\n",
      "(9, 1744040535.6921713)\n",
      "(10, 1744040535.717247)\n",
      "(11, 1744040535.7423272)\n",
      "(12, 1744040535.76633)\n",
      "(13, 1744040535.793521)\n",
      "(14, 1744040535.8175156)\n",
      "(15, 1744040535.8445778)\n",
      "(16, 1744040535.8676617)\n",
      "(17, 1744040535.8926647)\n",
      "(18, 1744040535.9176633)\n",
      "(19, 1744040535.9426649)\n",
      "(20, 1744040535.966868)\n",
      "(21, 1744040535.9918244)\n",
      "(22, 1744040536.016865)\n",
      "(23, 1744040536.041827)\n",
      "(24, 1744040536.067051)\n",
      "(25, 1744040536.092045)\n",
      "(26, 1744040536.117147)\n",
      "(27, 1744040536.1423202)\n",
      "(28, 1744040536.16739)\n",
      "(29, 1744040536.1916316)\n",
      "(30, 1744040536.2166505)\n",
      "(31, 1744040536.2416463)\n",
      "(32, 1744040536.2666535)\n",
      "(33, 1744040536.291657)\n",
      "(34, 1744040536.3166707)\n",
      "(35, 1744040536.3416517)\n",
      "(36, 1744040536.3677819)\n",
      "(37, 1744040536.3917437)\n",
      "(38, 1744040536.4177861)\n",
      "(39, 1744040536.4428144)\n",
      "(40, 1744040536.4669764)\n",
      "(41, 1744040536.4930484)\n",
      "(42, 1744040536.517049)\n",
      "(43, 1744040536.542007)\n",
      "(44, 1744040536.5670435)\n",
      "(45, 1744040536.5920134)\n",
      "(46, 1744040536.6160889)\n",
      "(47, 1744040536.6420486)\n",
      "(48, 1744040536.6672215)\n",
      "(49, 1744040536.6922984)\n",
      "(50, 1744040536.717376)\n",
      "(51, 1744040536.7415867)\n",
      "(52, 1744040536.7695744)\n",
      "(53, 1744040536.791574)\n",
      "(54, 1744040536.816618)\n",
      "(55, 1744040536.8415742)\n",
      "(56, 1744040536.8666167)\n",
      "(57, 1744040536.8916728)\n",
      "(58, 1744040536.9166696)\n",
      "(59, 1744040536.9418902)\n",
      "(60, 1744040536.9669337)\n",
      "(61, 1744040536.9918914)\n",
      "(62, 1744040537.01693)\n",
      "(63, 1744040537.0418918)\n",
      "(64, 1744040537.0669332)\n",
      "(65, 1744040537.0918918)\n",
      "(66, 1744040537.1169488)\n",
      "(67, 1744040537.1420472)\n",
      "(68, 1744040537.1670864)\n",
      "(69, 1744040537.1921334)\n",
      "(70, 1744040537.2162511)\n",
      "(71, 1744040537.2422113)\n",
      "(72, 1744040537.2672107)\n",
      "(73, 1744040537.2932541)\n",
      "(74, 1744040537.317254)\n",
      "(75, 1744040537.3425708)\n",
      "(76, 1744040537.366689)\n",
      "(77, 1744040537.3917496)\n",
      "(78, 1744040537.4167898)\n",
      "(79, 1744040537.441874)\n",
      "(80, 1744040537.4679158)\n",
      "(81, 1744040537.492064)\n",
      "(82, 1744040537.5161633)\n",
      "(83, 1744040537.5414362)\n",
      "(84, 1744040537.5684407)\n",
      "(85, 1744040537.5914369)\n",
      "(86, 1744040537.6165154)\n",
      "(87, 1744040537.6417177)\n",
      "(88, 1744040537.666913)\n",
      "(89, 1744040537.69219)\n",
      "(90, 1744040537.717231)\n",
      "(91, 1744040537.7421906)\n",
      "(92, 1744040537.7672338)\n",
      "(93, 1744040537.7921906)\n",
      "(94, 1744040537.8164916)\n",
      "(95, 1744040537.8407083)\n",
      "(96, 1744040537.8668072)\n",
      "(97, 1744040537.8918145)\n",
      "(98, 1744040537.916928)\n"
     ]
    },
    {
     "data": {
      "image/png": "[encoded data removed]",
      "text/plain": [
       "<Figure size 640x480 with 1 Axes>"
      ]
     },
     "metadata": {},
     "output_type": "display_data"
    }
   ],
   "source": [
    "import time\n",
    "import matplotlib.pyplot as plt\n",
    "cam._buffer_frames=100\n",
    "cam.arm()\n",
    "start_time = time.time()\n",
    "elapsed_time = 0\n",
    "results = []\n",
    "\n",
    "while elapsed_time < 5:\n",
    "    frame_data, timestamp, frame_count = cam.poll_frame()\n",
    "    current_time = time.time() - start_time\n",
    "    results.append((current_time, timestamp, frame_count))\n",
    "    elapsed_time = current_time\n",
    "\n",
    "\n",
    "\n",
    "cam.disarm()\n",
    "\n",
    "times, transfer1, transfer2 = zip(*results)\n",
    "\n",
    "plt.plot(times, transfer1, label=\"timestamp\")\n",
    "# plt.plot(times, transfer2, label=\"Transfer Info 2\")\n",
    "plt.xlabel(\"Time (s)\")\n",
    "plt.ylabel(\"Transfer Values\")\n",
    "plt.legend()\n",
    "plt.show()"
   ]
  },
  {
   "cell_type": "code",
   "execution_count": 11,
   "id": "78fc1fbe78d29b5c",
   "metadata": {
    "ExecuteTime": {
     "end_time": "2025-04-12T11:59:08.077620Z",
     "start_time": "2025-04-03T14:01:55.993909Z"
    }
   },
   "outputs": [],
   "source": [
    "del results"
   ]
  },
  {
   "cell_type": "code",
   "execution_count": 9,
   "id": "fa30291b1c9fb03d",
   "metadata": {
    "ExecuteTime": {
     "end_time": "2025-04-12T11:59:08.078574600Z",
     "start_time": "2025-04-03T14:00:30.646398Z"
    }
   },
   "outputs": [
    {
     "data": {
      "text/plain": [
       "(190, 447)"
      ]
     },
     "execution_count": 9,
     "metadata": {},
     "output_type": "execute_result"
    }
   ],
   "source": [
    "cam.hdcam.dcamcap_transferinfo()"
   ]
  },
  {
   "cell_type": "code",
   "execution_count": 5,
   "id": "3031d7dbada8bef0",
   "metadata": {
    "ExecuteTime": {
     "end_time": "2025-04-12T11:59:08.078574600Z",
     "start_time": "2025-04-07T15:28:59.363930Z"
    }
   },
   "outputs": [],
   "source": [
    "cam.disarm()"
   ]
  },
  {
   "cell_type": "code",
   "execution_count": 8,
   "id": "f2a55a620b5eb25d",
   "metadata": {
    "ExecuteTime": {
     "end_time": "2025-04-12T11:59:08.079575100Z",
     "start_time": "2025-04-03T13:34:53.200332Z"
    }
   },
   "outputs": [],
   "source": [
    "cam.set_trigger(False)"
   ]
  },
  {
   "cell_type": "code",
   "execution_count": 9,
   "id": "bdc8e598-8f0c-4f0e-bf8e-cebbf805ea15",
   "metadata": {
    "ExecuteTime": {
     "end_time": "2025-04-12T11:59:08.079575100Z",
     "start_time": "2025-04-03T13:34:54.853189Z"
    },
    "collapsed": true,
    "jupyter": {
     "outputs_hidden": true
    },
    "tags": []
   },
   "outputs": [
    {
     "name": "stderr",
     "output_type": "stream",
     "text": [
      "  0%|          | 0/100 [00:00<?, ?it/s]No frames captured\n",
      "  0%|          | 0/100 [00:00<?, ?it/s]\n"
     ]
    },
    {
     "ename": "DCAMError",
     "evalue": "DCAMERR_BUSY",
     "output_type": "error",
     "traceback": [
      "\u001B[1;31m---------------------------------------------------------------------------\u001B[0m",
      "\u001B[1;31mDCAMError\u001B[0m                                 Traceback (most recent call last)",
      "Cell \u001B[1;32mIn[9], line 8\u001B[0m\n\u001B[0;32m      6\u001B[0m \u001B[38;5;28;01mfor\u001B[39;00m i_frame \u001B[38;5;129;01min\u001B[39;00m tqdm\u001B[38;5;241m.\u001B[39mtqdm(\u001B[38;5;28mrange\u001B[39m(num_frames)):\n\u001B[0;32m      7\u001B[0m     \u001B[38;5;28;01mtry\u001B[39;00m:\n\u001B[1;32m----> 8\u001B[0m         im, timestamp, frame_count \u001B[38;5;241m=\u001B[39m \u001B[43mcam\u001B[49m\u001B[38;5;241;43m.\u001B[39;49m\u001B[43mpoll_frame\u001B[49m\u001B[43m(\u001B[49m\u001B[43mcopy\u001B[49m\u001B[38;5;241;43m=\u001B[39;49m\u001B[38;5;28;43;01mFalse\u001B[39;49;00m\u001B[43m)\u001B[49m\n\u001B[0;32m      9\u001B[0m     \u001B[38;5;28;01mexcept\u001B[39;00m \u001B[38;5;167;01mRuntimeError\u001B[39;00m \u001B[38;5;28;01mas\u001B[39;00m e:\n\u001B[0;32m     10\u001B[0m         \u001B[38;5;28mprint\u001B[39m(\u001B[38;5;124mf\u001B[39m\u001B[38;5;124m'\u001B[39m\u001B[38;5;124mTimeout for frame \u001B[39m\u001B[38;5;132;01m{\u001B[39;00mi_frame\u001B[38;5;132;01m}\u001B[39;00m\u001B[38;5;124m - stopping acquisition. Last frame (camera index): \u001B[39m\u001B[38;5;132;01m{\u001B[39;00mlast_frame\u001B[38;5;132;01m}\u001B[39;00m\u001B[38;5;124m'\u001B[39m)\n",
      "File \u001B[1;32m~\\Repos\\lfm\\lfm\\cams.py:707\u001B[0m, in \u001B[0;36mDCamera.poll_frame\u001B[1;34m(self, copy)\u001B[0m\n\u001B[0;32m    705\u001B[0m \u001B[38;5;28;01mif\u001B[39;00m frame_index \u001B[38;5;241m<\u001B[39m \u001B[38;5;241m0\u001B[39m:\n\u001B[0;32m    706\u001B[0m     logger\u001B[38;5;241m.\u001B[39mwarning(\u001B[38;5;124m'\u001B[39m\u001B[38;5;124mNo frames captured\u001B[39m\u001B[38;5;124m'\u001B[39m)\n\u001B[1;32m--> 707\u001B[0m frame_data \u001B[38;5;241m=\u001B[39m \u001B[38;5;28;43mself\u001B[39;49m\u001B[38;5;241;43m.\u001B[39;49m\u001B[43mhdcam\u001B[49m\u001B[38;5;241;43m.\u001B[39;49m\u001B[43mdcambuf_copyframe\u001B[49m\u001B[43m(\u001B[49m\u001B[43mframe_index\u001B[49m\u001B[43m)\u001B[49m\n\u001B[0;32m    708\u001B[0m \u001B[38;5;28;01mif\u001B[39;00m copy:\n\u001B[0;32m    709\u001B[0m     frame_data \u001B[38;5;241m=\u001B[39m np\u001B[38;5;241m.\u001B[39mcopy(frame_data)\n",
      "File \u001B[1;32m~\\Desktop\\dcam\\pydcam\\pyDCAM\\dcamapi.py:369\u001B[0m, in \u001B[0;36mHDCAM.dcambuf_copyframe\u001B[1;34m(self, iFrame)\u001B[0m\n\u001B[0;32m    366\u001B[0m img \u001B[38;5;241m=\u001B[39m np\u001B[38;5;241m.\u001B[39mempty(shape\u001B[38;5;241m=\u001B[39m(frame\u001B[38;5;241m.\u001B[39mheight, frame\u001B[38;5;241m.\u001B[39mwidth), dtype\u001B[38;5;241m=\u001B[39m_pixel_type_to_numpy[pixel_type])\n\u001B[0;32m    367\u001B[0m frame\u001B[38;5;241m.\u001B[39mbuf \u001B[38;5;241m=\u001B[39m img\u001B[38;5;241m.\u001B[39mctypes\u001B[38;5;241m.\u001B[39mdata\n\u001B[1;32m--> 369\u001B[0m \u001B[43mcheck_status\u001B[49m\u001B[43m(\u001B[49m\n\u001B[0;32m    370\u001B[0m \u001B[43m    \u001B[49m\u001B[43mdcamapi\u001B[49m\u001B[38;5;241;43m.\u001B[39;49m\u001B[43mdcambuf_copyframe\u001B[49m\u001B[43m(\u001B[49m\u001B[38;5;28;43mself\u001B[39;49m\u001B[38;5;241;43m.\u001B[39;49m\u001B[43mhdcam\u001B[49m\u001B[43m,\u001B[49m\u001B[43m \u001B[49m\u001B[43mctypes\u001B[49m\u001B[38;5;241;43m.\u001B[39;49m\u001B[43mbyref\u001B[49m\u001B[43m(\u001B[49m\u001B[43mframe\u001B[49m\u001B[43m)\u001B[49m\u001B[43m)\u001B[49m\n\u001B[0;32m    371\u001B[0m \u001B[43m\u001B[49m\u001B[43m)\u001B[49m\n\u001B[0;32m    373\u001B[0m \u001B[38;5;28;01mreturn\u001B[39;00m img\n",
      "File \u001B[1;32m~\\Desktop\\dcam\\pydcam\\pyDCAM\\dcamapi.py:42\u001B[0m, in \u001B[0;36mcheck_status\u001B[1;34m(dcamerr)\u001B[0m\n\u001B[0;32m     40\u001B[0m \u001B[38;5;28;01mdef\u001B[39;00m\u001B[38;5;250m \u001B[39m\u001B[38;5;21mcheck_status\u001B[39m(dcamerr):\n\u001B[0;32m     41\u001B[0m     \u001B[38;5;28;01mif\u001B[39;00m \u001B[38;5;129;01mnot\u001B[39;00m dcamerr \u001B[38;5;241m==\u001B[39m DCAMERR\u001B[38;5;241m.\u001B[39mDCAMERR_SUCCESS:\n\u001B[1;32m---> 42\u001B[0m         \u001B[38;5;28;01mraise\u001B[39;00m DCAMError(dcamerr)\n",
      "\u001B[1;31mDCAMError\u001B[0m: DCAMERR_BUSY"
     ]
    }
   ],
   "source": [
    "num_frames = 100\n",
    "cam.arm()\n",
    "last_frame = -1\n",
    "callback = None\n",
    "fifo=False\n",
    "for i_frame in tqdm.tqdm(range(num_frames)):\n",
    "    try:\n",
    "        im, timestamp, frame_count = cam.poll_frame(copy=False)\n",
    "    except RuntimeError as e:\n",
    "        print(f'Timeout for frame {i_frame} - stopping acquisition. Last frame (camera index): {last_frame}')\n",
    "        break\n",
    "    if i_frame == 0:\n",
    "        first_frame = frame_count\n",
    "    frame_count -= first_frame\n",
    "    print(f'frame: {frame_count}')\n",
    "    if fifo and frame_count - last_frame > 1:\n",
    "        print(f'{frame_count-last_frame-1} frames dropped. Current frame: {frame_count} (actual); {i_frame} (desired)')\n",
    "    if callback is not None:\n",
    "        callback(im, i_frame, timestamp, frame_count)\n",
    "    last_frame = frame_count\n",
    "cam.disarm()"
   ]
  },
  {
   "cell_type": "code",
   "execution_count": 4,
   "id": "c3e294dd-7dd7-4cac-88f8-d282b159c1d4",
   "metadata": {
    "ExecuteTime": {
     "end_time": "2025-04-12T11:59:08.080575Z",
     "start_time": "2025-04-03T13:34:12.123759Z"
    },
    "tags": []
   },
   "outputs": [
    {
     "name": "stderr",
     "output_type": "stream",
     "text": [
      "No frames captured\n"
     ]
    },
    {
     "ename": "DCAMError",
     "evalue": "DCAMERR_NOTREADY",
     "output_type": "error",
     "traceback": [
      "\u001B[1;31m---------------------------------------------------------------------------\u001B[0m",
      "\u001B[1;31mDCAMError\u001B[0m                                 Traceback (most recent call last)",
      "Cell \u001B[1;32mIn[4], line 1\u001B[0m\n\u001B[1;32m----> 1\u001B[0m \u001B[43mcam\u001B[49m\u001B[38;5;241;43m.\u001B[39;49m\u001B[43mpoll_frame\u001B[49m\u001B[43m(\u001B[49m\u001B[43m)\u001B[49m\n",
      "File \u001B[1;32m~\\Repos\\lfm\\lfm\\cams.py:707\u001B[0m, in \u001B[0;36mDCamera.poll_frame\u001B[1;34m(self, copy)\u001B[0m\n\u001B[0;32m    705\u001B[0m \u001B[38;5;28;01mif\u001B[39;00m frame_index \u001B[38;5;241m<\u001B[39m \u001B[38;5;241m0\u001B[39m:\n\u001B[0;32m    706\u001B[0m     logger\u001B[38;5;241m.\u001B[39mwarning(\u001B[38;5;124m'\u001B[39m\u001B[38;5;124mNo frames captured\u001B[39m\u001B[38;5;124m'\u001B[39m)\n\u001B[1;32m--> 707\u001B[0m frame_data \u001B[38;5;241m=\u001B[39m \u001B[38;5;28;43mself\u001B[39;49m\u001B[38;5;241;43m.\u001B[39;49m\u001B[43mhdcam\u001B[49m\u001B[38;5;241;43m.\u001B[39;49m\u001B[43mdcambuf_copyframe\u001B[49m\u001B[43m(\u001B[49m\u001B[43mframe_index\u001B[49m\u001B[43m)\u001B[49m\n\u001B[0;32m    708\u001B[0m \u001B[38;5;28;01mif\u001B[39;00m copy:\n\u001B[0;32m    709\u001B[0m     frame_data \u001B[38;5;241m=\u001B[39m np\u001B[38;5;241m.\u001B[39mcopy(frame_data)\n",
      "File \u001B[1;32m~\\Desktop\\dcam\\pydcam\\pyDCAM\\dcamapi.py:369\u001B[0m, in \u001B[0;36mHDCAM.dcambuf_copyframe\u001B[1;34m(self, iFrame)\u001B[0m\n\u001B[0;32m    366\u001B[0m img \u001B[38;5;241m=\u001B[39m np\u001B[38;5;241m.\u001B[39mempty(shape\u001B[38;5;241m=\u001B[39m(frame\u001B[38;5;241m.\u001B[39mheight, frame\u001B[38;5;241m.\u001B[39mwidth), dtype\u001B[38;5;241m=\u001B[39m_pixel_type_to_numpy[pixel_type])\n\u001B[0;32m    367\u001B[0m frame\u001B[38;5;241m.\u001B[39mbuf \u001B[38;5;241m=\u001B[39m img\u001B[38;5;241m.\u001B[39mctypes\u001B[38;5;241m.\u001B[39mdata\n\u001B[1;32m--> 369\u001B[0m \u001B[43mcheck_status\u001B[49m\u001B[43m(\u001B[49m\n\u001B[0;32m    370\u001B[0m \u001B[43m    \u001B[49m\u001B[43mdcamapi\u001B[49m\u001B[38;5;241;43m.\u001B[39;49m\u001B[43mdcambuf_copyframe\u001B[49m\u001B[43m(\u001B[49m\u001B[38;5;28;43mself\u001B[39;49m\u001B[38;5;241;43m.\u001B[39;49m\u001B[43mhdcam\u001B[49m\u001B[43m,\u001B[49m\u001B[43m \u001B[49m\u001B[43mctypes\u001B[49m\u001B[38;5;241;43m.\u001B[39;49m\u001B[43mbyref\u001B[49m\u001B[43m(\u001B[49m\u001B[43mframe\u001B[49m\u001B[43m)\u001B[49m\u001B[43m)\u001B[49m\n\u001B[0;32m    371\u001B[0m \u001B[43m\u001B[49m\u001B[43m)\u001B[49m\n\u001B[0;32m    373\u001B[0m \u001B[38;5;28;01mreturn\u001B[39;00m img\n",
      "File \u001B[1;32m~\\Desktop\\dcam\\pydcam\\pyDCAM\\dcamapi.py:42\u001B[0m, in \u001B[0;36mcheck_status\u001B[1;34m(dcamerr)\u001B[0m\n\u001B[0;32m     40\u001B[0m \u001B[38;5;28;01mdef\u001B[39;00m\u001B[38;5;250m \u001B[39m\u001B[38;5;21mcheck_status\u001B[39m(dcamerr):\n\u001B[0;32m     41\u001B[0m     \u001B[38;5;28;01mif\u001B[39;00m \u001B[38;5;129;01mnot\u001B[39;00m dcamerr \u001B[38;5;241m==\u001B[39m DCAMERR\u001B[38;5;241m.\u001B[39mDCAMERR_SUCCESS:\n\u001B[1;32m---> 42\u001B[0m         \u001B[38;5;28;01mraise\u001B[39;00m DCAMError(dcamerr)\n",
      "\u001B[1;31mDCAMError\u001B[0m: DCAMERR_NOTREADY"
     ]
    }
   ],
   "source": [
    "cam.poll_frame()"
   ]
  },
  {
   "cell_type": "code",
   "execution_count": 11,
   "id": "9815bcca-d336-4c86-9a54-72d144a3b79a",
   "metadata": {
    "ExecuteTime": {
     "end_time": "2025-04-12T11:59:08.081575100Z",
     "start_time": "2025-04-03T13:58:54.014510Z"
    }
   },
   "outputs": [],
   "source": [
    "cam.disarm()"
   ]
  },
  {
   "cell_type": "code",
   "execution_count": 12,
   "id": "760814ee-95f4-4113-8fd9-d232f48bb0be",
   "metadata": {
    "ExecuteTime": {
     "end_time": "2025-04-12T11:59:08.081575100Z",
     "start_time": "2025-04-03T13:58:54.517874Z"
    }
   },
   "outputs": [],
   "source": [
    "cam.close()"
   ]
  },
  {
   "cell_type": "code",
   "execution_count": 3,
   "id": "bbc44aba-1b90-4346-8329-ae2a8b5c5baa",
   "metadata": {},
   "outputs": [
    {
     "data": {
      "text/plain": [
       "{'y_size': 2048,\n",
       " 'x_size': 2048,\n",
       " 'y_offset': 0,\n",
       " 'x_offset': 0,\n",
       " 'y_bin': 1,\n",
       " 'x_bin': 1}"
      ]
     },
     "execution_count": 3,
     "metadata": {},
     "output_type": "execute_result"
    }
   ],
   "source": [
    "cam.roi"
   ]
  },
  {
   "cell_type": "code",
   "execution_count": 16,
   "id": "e249c276-24bd-4269-9a8e-d696f9b8f6e4",
   "metadata": {},
   "outputs": [
    {
     "data": {
      "text/plain": [
       "[2048, 2048]"
      ]
     },
     "execution_count": 16,
     "metadata": {},
     "output_type": "execute_result"
    }
   ],
   "source": [
    "cam.sensor_shape"
   ]
  },
  {
   "cell_type": "code",
   "execution_count": 13,
   "id": "538ca48f-e60e-4105-b3e9-c6dd088d075c",
   "metadata": {},
   "outputs": [],
   "source": [
    "cam.set_roi(y_size=1024,y_offset=24,x_bin=2,y_bin=2)"
   ]
  },
  {
   "cell_type": "code",
   "execution_count": 4,
   "id": "45fbaa38-70ed-4838-b179-5e500cfb3d60",
   "metadata": {
    "ExecuteTime": {
     "end_time": "2025-04-12T11:59:08.086616600Z",
     "start_time": "2025-04-09T10:53:26.646475Z"
    }
   },
   "outputs": [],
   "source": [
    "\n"
   ]
  },
  {
   "cell_type": "code",
   "execution_count": 1,
   "id": "eff6870e-ad4b-4683-b9ef-f9dbcd39d4e0",
   "metadata": {
    "ExecuteTime": {
     "end_time": "2025-04-12T11:59:08.086616600Z",
     "start_time": "2025-04-09T10:52:26.881513Z"
    }
   },
   "outputs": [
    {
     "ename": "SyntaxError",
     "evalue": "invalid syntax (cams.py, line 642)",
     "output_type": "error",
     "traceback": [
      "Traceback \u001B[1;36m(most recent call last)\u001B[0m:\n",
      "\u001B[0m  File \u001B[0;32m~\\anaconda3\\envs\\opm_acquire\\lib\\site-packages\\IPython\\core\\interactiveshell.py:3508\u001B[0m in \u001B[0;35mrun_code\u001B[0m\n    exec(code_obj, self.user_global_ns, self.user_ns)\u001B[0m\n",
      "\u001B[0m  Cell \u001B[0;32mIn[1], line 2\u001B[0m\n    from control_lfm import get_full_waveforms\u001B[0m\n",
      "\u001B[1;36m  File \u001B[1;32m~\\Repos\\lfm\\lfm\\control_lfm.py:114\u001B[1;36m\n\u001B[1;33m    from cams import DCamera as Camera\u001B[1;36m\n",
      "\u001B[1;36m  File \u001B[1;32m~\\Repos\\lfm\\lfm\\cams.py:642\u001B[1;36m\u001B[0m\n\u001B[1;33m    match bin:\u001B[0m\n\u001B[1;37m          ^\u001B[0m\n\u001B[1;31mSyntaxError\u001B[0m\u001B[1;31m:\u001B[0m invalid syntax\n"
     ]
    }
   ],
   "source": []
  },
  {
   "cell_type": "code",
   "execution_count": 11,
   "id": "a8c46734a5190388",
   "metadata": {
    "ExecuteTime": {
     "end_time": "2025-04-12T11:59:08.087590700Z",
     "start_time": "2025-04-09T10:48:21.999776Z"
    }
   },
   "outputs": [
    {
     "data": {
      "text/plain": [
       "1"
      ]
     },
     "execution_count": 11,
     "metadata": {},
     "output_type": "execute_result"
    }
   ],
   "source": []
  },
  {
   "cell_type": "code",
   "execution_count": 4,
   "id": "2abe422f-c287-4b6b-b76f-e1c6f66b61cc",
   "metadata": {
    "ExecuteTime": {
     "end_time": "2025-04-12T11:59:08.087590700Z",
     "start_time": "2025-04-09T10:31:03.162911Z"
    }
   },
   "outputs": [
    {
     "ename": "NameError",
     "evalue": "name 'trigger_single' is not defined",
     "output_type": "error",
     "traceback": [
      "\u001B[1;31m---------------------------------------------------------------------------\u001B[0m",
      "\u001B[1;31mNameError\u001B[0m                                 Traceback (most recent call last)",
      "Cell \u001B[1;32mIn[4], line 1\u001B[0m\n\u001B[1;32m----> 1\u001B[0m \u001B[43mtrigger_single\u001B[49m\u001B[38;5;241m.\u001B[39mastype(\u001B[38;5;28mbool\u001B[39m)\n",
      "\u001B[1;31mNameError\u001B[0m: name 'trigger_single' is not defined"
     ]
    }
   ],
   "source": [
    "trigger_single.astype(bool)"
   ]
  },
  {
   "cell_type": "code",
   "execution_count": 7,
   "id": "1316b8545037dc1c",
   "metadata": {
    "ExecuteTime": {
     "end_time": "2025-04-12T11:59:08.087590700Z",
     "start_time": "2025-04-08T17:22:40.736033Z"
    }
   },
   "outputs": [],
   "source": [
    "ramp_samples = int(conf['acquisition']['ramp_seconds'])\n",
    "\n",
    "ramp = (1 - np.exp(-2 * np.linspace(0, 1, ramp_samples)))*conf['acquisition']['led_percent']*0.01*conf[\"hardware\"][\"led_control_v\"]\n"
   ]
  },
  {
   "cell_type": "code",
   "execution_count": 9,
   "id": "101ea151fc745fb4",
   "metadata": {
    "ExecuteTime": {
     "end_time": "2025-04-12T11:59:08.088574200Z",
     "start_time": "2025-04-08T17:22:42.763072Z"
    }
   },
   "outputs": [
    {
     "data": {
      "text/plain": [
       "array([[50., 50., 50., ..., 50., 50., 50.]])"
      ]
     },
     "execution_count": 9,
     "metadata": {},
     "output_type": "execute_result"
    }
   ],
   "source": [
    "led_single"
   ]
  },
  {
   "cell_type": "code",
   "execution_count": 40,
   "id": "0e12bda1-669e-4437-baaf-4a5519160f6d",
   "metadata": {
    "ExecuteTime": {
     "end_time": "2025-04-12T11:59:08.094575300Z",
     "start_time": "2025-04-08T17:44:48.478627Z"
    }
   },
   "outputs": [
    {
     "data": {
      "text/plain": [
       "array([-2000,  2000])"
      ]
     },
     "execution_count": 40,
     "metadata": {},
     "output_type": "execute_result"
    }
   ],
   "source": [
    "slices = (slice(None), slice(248000, 252000))\n",
    "slices = list(slices)\n",
    "ramp_idx = slices[1].start -len(ramp),slices[1].stop-len(ramp)\n",
    "ramp_idx"
   ]
  },
  {
   "cell_type": "code",
   "execution_count": 1,
   "id": "a037bf19-ffef-429b-9403-626a3094deaa",
   "metadata": {
    "ExecuteTime": {
     "end_time": "2025-04-12T11:59:08.095582200Z",
     "start_time": "2025-04-09T12:55:05.931141Z"
    }
   },
   "outputs": [],
   "source": [
    "import yaml\n",
    "from control import get_full_waveforms\n",
    "with open(r\"/lfm/config/gui_defaults.yml\", \"r\") as file:\n",
    "        conf = yaml.safe_load(file)\n",
    "ao_full, do_full, ao_single, do_single, ft = get_full_waveforms(conf)"
   ]
  },
  {
   "cell_type": "code",
   "execution_count": 12,
   "id": "0877319c-9cc7-4dad-b8ef-c82cdcdbc0a8",
   "metadata": {
    "ExecuteTime": {
     "end_time": "2025-04-12T11:59:08.096578400Z",
     "start_time": "2025-04-09T12:57:27.876954Z"
    }
   },
   "outputs": [
    {
     "data": {
      "text/plain": [
       "[<matplotlib.lines.Line2D at 0x2325798a660>]"
      ]
     },
     "execution_count": 12,
     "metadata": {},
     "output_type": "execute_result"
    },
    {
     "data": {
      "image/png": "[encoded data removed]",
      "text/plain": [
       "<Figure size 640x480 with 1 Axes>"
      ]
     },
     "metadata": {},
     "output_type": "display_data"
    }
   ],
   "source": [
    "plt.plot(do_full[0,49000:51000])"
   ]
  },
  {
   "cell_type": "code",
   "execution_count": 4,
   "id": "83ba4a452ad08d1",
   "metadata": {
    "ExecuteTime": {
     "end_time": "2025-04-12T11:59:08.096578400Z",
     "start_time": "2025-04-09T12:55:49.248760Z"
    }
   },
   "outputs": [],
   "source": [
    "import numpy as np\n",
    "import matplotlib.pyplot as plt\n"
   ]
  },
  {
   "cell_type": "code",
   "execution_count": 3,
   "id": "733a7813c3a932c",
   "metadata": {
    "ExecuteTime": {
     "end_time": "2025-04-12T11:59:08.096578400Z",
     "start_time": "2025-04-09T10:29:51.790605Z"
    }
   },
   "outputs": [
    {
     "data": {
      "text/plain": [
       "80.0"
      ]
     },
     "execution_count": 3,
     "metadata": {},
     "output_type": "execute_result"
    }
   ],
   "source": [
    "1/(1/80)"
   ]
  },
  {
   "cell_type": "code",
   "execution_count": null,
   "id": "b4f813509dd9f12d",
   "metadata": {},
   "outputs": [],
   "source": []
  }
 ],
 "metadata": {
  "kernelspec": {
   "display_name": "Python 3 (ipykernel)",
   "language": "python",
   "name": "python3"
  },
  "language_info": {
   "codemirror_mode": {
    "name": "ipython",
    "version": 3
   },
   "file_extension": ".py",
   "mimetype": "text/x-python",
   "name": "python",
   "nbconvert_exporter": "python",
   "pygments_lexer": "ipython3",
   "version": "3.10.4"
  }
 },
 "nbformat": 4,
 "nbformat_minor": 5
}
