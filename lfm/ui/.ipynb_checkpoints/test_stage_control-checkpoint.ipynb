{
 "cells": [
  {
   "cell_type": "code",
   "execution_count": 1,
   "id": "82c216174f48401c",
   "metadata": {
    "ExecuteTime": {
     "end_time": "2025-05-12T09:41:27.028252Z",
     "start_time": "2025-05-12T09:41:27.023352Z"
    }
   },
   "outputs": [],
   "source": [
    "import os\n",
    "os.environ[\"QT_API\"] = \"pyqt5\"\n",
    "%gui qt5"
   ]
  },
  {
   "cell_type": "code",
   "execution_count": 5,
   "id": "initial_id",
   "metadata": {
    "ExecuteTime": {
     "end_time": "2025-05-12T09:41:28.243324Z",
     "start_time": "2025-05-12T09:41:28.223818Z"
    },
    "tags": []
   },
   "outputs": [],
   "source": [
    "from PyQt5 import QtWidgets\n",
    "\n",
    "from stage_controls import StageControlWindow\n",
    "stage_control = StageControlWindow()"
   ]
  },
  {
   "cell_type": "code",
   "execution_count": 6,
   "id": "e7973bd1fdfe2297",
   "metadata": {
    "ExecuteTime": {
     "end_time": "2025-05-12T08:54:03.287221Z",
     "start_time": "2025-05-12T08:54:03.042032Z"
    }
   },
   "outputs": [
    {
     "data": {
      "text/plain": [
       "0.01"
      ]
     },
     "execution_count": 6,
     "metadata": {},
     "output_type": "execute_result"
    }
   ],
   "source": [
    "stage_control.ui.get_xmm()"
   ]
  },
  {
   "cell_type": "code",
   "execution_count": null,
   "id": "f298b18cb3c2cc8d",
   "metadata": {
    "ExecuteTime": {
     "end_time": "2025-05-12T09:32:49.972919300Z",
     "start_time": "2025-05-12T09:30:23.029124Z"
    }
   },
   "outputs": [],
   "source": []
  },
  {
   "cell_type": "code",
   "execution_count": null,
   "id": "8bf6fb997bf5c7a7",
   "metadata": {
    "ExecuteTime": {
     "end_time": "2025-05-12T09:30:04.499735800Z",
     "start_time": "2025-05-12T09:28:50.303990Z"
    }
   },
   "outputs": [],
   "source": []
  },
  {
   "cell_type": "code",
   "execution_count": null,
   "id": "214c5c72c592eb7f",
   "metadata": {},
   "outputs": [],
   "source": []
  }
 ],
 "metadata": {
  "kernelspec": {
   "display_name": "Python [conda env:anaconda3-lfm1]",
   "language": "python",
   "name": "conda-env-anaconda3-lfm1-py"
  },
  "language_info": {
   "codemirror_mode": {
    "name": "ipython",
    "version": 3
   },
   "file_extension": ".py",
   "mimetype": "text/x-python",
   "name": "python",
   "nbconvert_exporter": "python",
   "pygments_lexer": "ipython3",
   "version": "3.12.8"
  }
 },
 "nbformat": 4,
 "nbformat_minor": 5
}
